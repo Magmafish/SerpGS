{
 "cells": [
  {
   "attachments": {},
   "cell_type": "markdown",
   "metadata": {},
   "source": [
    "### Purpose:\n",
    "The purpose of this notebook is to clean and re-integrate the reacquired content and then scan it with the readibility API"
   ]
  },
  {
   "cell_type": "markdown",
   "metadata": {},
   "source": [
    "### Dependancies:"
   ]
  },
  {
   "cell_type": "code",
   "execution_count": 208,
   "metadata": {},
   "outputs": [],
   "source": [
    "import pandas as pd\n",
    "import requests\n",
    "from bs4 import BeautifulSoup\n",
    "import re\n",
    "import os\n",
    "import csv\n",
    "import json\n",
    "import time\n",
    "from IPython.display import clear_output\n",
    "from urllib3.exceptions import NewConnectionError, MaxRetryError\n",
    "from socket import gaierror\n",
    "import json\n",
    "import string"
   ]
  },
  {
   "cell_type": "markdown",
   "metadata": {},
   "source": [
    "### Functions:"
   ]
  },
  {
   "cell_type": "code",
   "execution_count": 209,
   "metadata": {},
   "outputs": [],
   "source": [
    "def clean_text(text: str) -> str:\n",
    "    \"\"\"\n",
    "    Clean up text by replacing tabs and newlines with spaces, and replacing multiple spaces with single spaces.\n",
    "\n",
    "    Parameters:\n",
    "    text (str): The text to clean up.\n",
    "\n",
    "    Returns:\n",
    "    str: The cleaned up text.\n",
    "    \"\"\"\n",
    "    # Replace all tabs with a space\n",
    "    text = re.sub(\"\\t\", \" \", text)\n",
    "\n",
    "    # Replace all newlines with a space\n",
    "    text = re.sub(\"\\n\", \" \", text)\n",
    "\n",
    "    # Replace all double spaces with a single space\n",
    "    text = re.sub(\"  +\", \" \", text)\n",
    "\n",
    "    text = text.strip()\n",
    "    return text"
   ]
  },
  {
   "cell_type": "code",
   "execution_count": 210,
   "metadata": {},
   "outputs": [],
   "source": [
    "def load_csv(filepath: str) -> dict:\n",
    "    \"\"\"\n",
    "    Load a CSV file and return a dictionary with the link as the key and the cleaned text as the value.\n",
    "\n",
    "    Parameters:\n",
    "    filepath (str): The path to the CSV file to load.\n",
    "\n",
    "    Returns:\n",
    "    dict: A dictionary with the link as the key and the cleaned text as the value.\n",
    "    \"\"\"\n",
    "    # Increase the field size limit to the maximum possible value\n",
    "    csv.field_size_limit(2**31-1)\n",
    "\n",
    "    data = {}\n",
    "    with open(filepath, encoding=\"utf-8\") as f:\n",
    "        reader = csv.DictReader(f)\n",
    "        for row in reader:\n",
    "            link = row[\"Link\"]\n",
    "            text = row[\"Text\"]\n",
    "            cleaned_text = clean_text(text)\n",
    "            data[link] = cleaned_text\n",
    "    return data"
   ]
  },
  {
   "cell_type": "code",
   "execution_count": 211,
   "metadata": {},
   "outputs": [],
   "source": [
    "def load_all_csvs(directory: str) -> dict:\n",
    "    \"\"\"\n",
    "    Load all CSV files in a directory and return a dictionary with the link as the key and the cleaned text as the value.\n",
    "\n",
    "    Parameters:\n",
    "    directory (str): The path to the directory containing the CSV files to load.\n",
    "\n",
    "    Returns:\n",
    "    dict: A dictionary with the link as the key and the cleaned text as the value for all CSV files in the directory.\n",
    "    \"\"\"\n",
    "    data = {}\n",
    "    for filename in os.listdir(directory):\n",
    "        if filename.endswith(\".csv\"):\n",
    "            filepath = os.path.join(directory, filename)\n",
    "            csv_data = load_csv(filepath)\n",
    "            data.update(csv_data)\n",
    "    return data"
   ]
  },
  {
   "cell_type": "code",
   "execution_count": 212,
   "metadata": {},
   "outputs": [],
   "source": [
    "def evaluate_readability(text: str, url: str = \"https://staging-originalityai-originstg.kinsta.cloud/tool-readability/src/API/TextHighlighter-api.php\") -> requests.Response:\n",
    "    \"\"\"\n",
    "    Evaluate the readability of a given text using an API endpoint.\n",
    "\n",
    "    Parameters:\n",
    "    text (str): The text to evaluate.\n",
    "    url (str): The URL of the API endpoint to use. Defaults to \"https://staging-originalityai-originstg.kinsta.cloud/tool-readability/src/API/TextHighlighter-api.php\".\n",
    "\n",
    "    Returns:\n",
    "    requests.Response: The response from the API endpoint.\n",
    "    \"\"\"\n",
    "    payload = json.dumps({\"text\": text})\n",
    "    response = requests.request(\"POST\", url=url, data=payload)\n",
    "    \n",
    "    #clear_output(wait=True)\n",
    "    print(f\"Request sent to {url}\")\n",
    "    if response.status_code == 200:\n",
    "        print(f\"Response successfully received\")\n",
    "    else:\n",
    "       print(f\"Error response received\") \n",
    "    print(f\"Response code: {response.status_code}\")\n",
    "    return response"
   ]
  },
  {
   "cell_type": "code",
   "execution_count": 213,
   "metadata": {},
   "outputs": [],
   "source": [
    "def evaluate_all(data: dict, directory: str) -> None:\n",
    "    \"\"\"\n",
    "    Evaluate the readability of all texts in a dictionary and save the results to JSON files.\n",
    "\n",
    "    Parameters:\n",
    "    data (dict): The dictionary containing the text data to evaluate.\n",
    "    directory (str): The directory to save the JSON files to.\n",
    "\n",
    "    Returns:\n",
    "    None\n",
    "    \"\"\"\n",
    "    # create directory if it doesn't exist\n",
    "    if not os.path.exists(directory):\n",
    "        os.makedirs(directory)\n",
    "\n",
    "    for i, (link, text) in enumerate(data.items()):\n",
    "\n",
    "        clear_output(wait=True)\n",
    "        print(f\"Evaluating record {i}/{len(data)}\")\n",
    "\n",
    "        # check if record has already been saved\n",
    "        filename = str(i).zfill(5) + \".json\"\n",
    "        filepath = os.path.join(directory, filename)\n",
    "        if os.path.exists(filepath):\n",
    "            print(f\"Record {i}/{len(data)} already saved, skipping\")\n",
    "            time.sleep(0.020)\n",
    "            continue\n",
    "\n",
    "        # evaluate readability of text, retrying if there is a connection error\n",
    "        retries = 0\n",
    "        while True:\n",
    "            try:\n",
    "                response = evaluate_readability(text)\n",
    "                break\n",
    "            except (NewConnectionError, MaxRetryError, gaierror) as e:\n",
    "                retries += 1\n",
    "                print(f\"Connection error: {e}. Retrying in 1 minute...\")\n",
    "                time.sleep(60)\n",
    "                if retries >= 3:\n",
    "                    print(f\"Max retries exceeded, skipping record {i}/{len(data)}\")\n",
    "                    break\n",
    "\n",
    "        if retries < 3:\n",
    "            # convert response to json\n",
    "            json_data = json.loads(response.text)\n",
    "\n",
    "            # save record to file\n",
    "            with open(filepath, \"w\") as f:\n",
    "                json.dump({\"link\": link, \"json_data\": json_data}, f)\n",
    "\n",
    "            # print message indicating file has been saved\n",
    "            print(f\"Saved {filepath}\")\n",
    "\n",
    "            # delay to avoid overloading server\n",
    "            time.sleep(4.2)"
   ]
  },
  {
   "cell_type": "code",
   "execution_count": 214,
   "metadata": {},
   "outputs": [],
   "source": [
    "def flatten_dict(d):\n",
    "    \"\"\"\n",
    "    Recursively flattens a dictionary with nested keys.\n",
    "    \"\"\"\n",
    "    items = {}\n",
    "    for key, value in d.items():\n",
    "        #try:\n",
    "        #if isinstance(value, dict):\n",
    "        if type(value) == dict:\n",
    "            flattened = flatten_dict(value)\n",
    "            for subkey, subvalue in flattened.items():\n",
    "                items[subkey] = subvalue\n",
    "        else:\n",
    "            items[key] = value\n",
    "        #except:\n",
    "        #    print(\"somthing bad happened\")\n",
    "    \n",
    "    new_dict = {k: v for k, v in items.items()}\n",
    "    return new_dict"
   ]
  },
  {
   "cell_type": "code",
   "execution_count": 215,
   "metadata": {},
   "outputs": [],
   "source": [
    "# def get_json_data(directory):\n",
    "#     \"\"\"\n",
    "#     Recursively flattens all dictionaries in a given directory.\n",
    "#     \"\"\"\n",
    "#     flattened_list = []\n",
    "#     for filename in os.listdir(directory):\n",
    "#         filepath = os.path.join(directory, filename)\n",
    "#         with open(filepath, \"r\") as f:\n",
    "#             d = json.load(f)\n",
    "#             flattened = flatten_dict(d)\n",
    "#             flattened_list.append(flattened)\n",
    "#     return flattened_list"
   ]
  },
  {
   "cell_type": "code",
   "execution_count": 216,
   "metadata": {},
   "outputs": [],
   "source": [
    "def get_json_data(directory):\n",
    "    \"\"\"\n",
    "    Recursively flattens all dictionaries in a given directory.\n",
    "    \"\"\"\n",
    "    flattened_list = []\n",
    "    for filename in os.listdir(directory):\n",
    "        filepath = os.path.join(directory, filename)\n",
    "        with open(filepath, \"r\") as f:\n",
    "            try:\n",
    "                d = json.load(f)\n",
    "                flattened = flatten_dict(d)\n",
    "                flattened_list.append(flattened)\n",
    "            except json.JSONDecodeError:\n",
    "                # Skip over any files that contain invalid JSON data\n",
    "                print(f\"Skipping file {filename}: invalid JSON data\")\n",
    "                pass\n",
    "    return flattened_list"
   ]
  },
  {
   "cell_type": "markdown",
   "metadata": {},
   "source": [
    "### Code Execution:"
   ]
  },
  {
   "cell_type": "code",
   "execution_count": 217,
   "metadata": {},
   "outputs": [],
   "source": [
    "#done\n",
    "\n",
    "data = load_all_csvs(\"data/responses\")\n",
    "directory = \"data/json\"\n",
    "#evaluate_all(data, directory) # WARNING THIS WILL TAKE HOURS TO RUN"
   ]
  },
  {
   "cell_type": "code",
   "execution_count": 218,
   "metadata": {},
   "outputs": [],
   "source": [
    "x = get_json_data(directory)"
   ]
  },
  {
   "cell_type": "code",
   "execution_count": 219,
   "metadata": {},
   "outputs": [
    {
     "data": {
      "text/plain": [
       "13588"
      ]
     },
     "execution_count": 219,
     "metadata": {},
     "output_type": "execute_result"
    }
   ],
   "source": [
    "len(x)"
   ]
  },
  {
   "cell_type": "code",
   "execution_count": 220,
   "metadata": {},
   "outputs": [],
   "source": [
    "with open(\"data/json/00000.json\", \"r\") as f:\n",
    "    d = json.load(f)"
   ]
  },
  {
   "cell_type": "code",
   "execution_count": 221,
   "metadata": {},
   "outputs": [
    {
     "data": {
      "text/plain": [
       "{'link': 'https://www.tooldiscounter.com/brand/sk-hand-tool',\n",
       " 'json_data': {'text': \"Shop SK Hand Tool products | ToolDiscounter In order to benefit from the full functionality of this site, please enable JavaScript in your web browser. Toggle navigation (0) Login Order Lookup Categories Abrasives Air Compressor Air Conditioning Air Line Products Air Tools / Accessories Alignment Battery Body Shop Tools Brake Tools Chemicals Cleaning Compression / Press Test Connecting Rod Construction Tools Contractor Supplies Cooling System Cordless Tools Cylinder Block Cylinder Head Tools Diesel System Drilling/Tapping/Cutting Electric Tools Electrical Electronic Testing Engine Tools Exhaust Extraction Fuel System Tools Furniture Hand Tools Hose Hydraulics Impact Sockets Inspection/Leak Detection Instructional Lifting Equipment Lights / Cables / Cords Lubrication / Hose Reels Measuring Tools & Sensors Measuring, Precision Mechanics Tools Motorcycle Tools Office Supplies Press, Hydraulic Pullers Safety Shop Equipment Suspension Tachometers & Gauges Tire / Wheel Tool Storage Transmission / drivetrain Tools Welding / Plasma Cutter Manufacturers Cyber Deals Weekly Specials Monthly Flyer Categories Abrasives Air Compressor Air Conditioning Air Line Products Air Tools / Accessories Alignment Battery Body Shop Tools Brake Tools Chemicals Cleaning Compression / Press Test Connecting Rod Construction Tools Contractor Supplies Cooling System Cordless Tools Cylinder Block Cylinder Head Tools Diesel System Drilling/Tapping/Cutting Electric Tools Electrical Electronic Testing Engine Tools Exhaust Extraction Fuel System Tools Furniture Hand Tools Hose Hydraulics Impact Sockets Inspection/Leak Detection Instructional Lifting Equipment Lights / Cables / Cords Lubrication / Hose Reels Measuring Tools & Sensors Measuring, Precision Mechanics Tools Motorcycle Tools Office Supplies Press, Hydraulic Pullers Safety Shop Equipment Suspension Tachometers & Gauges Tire / Wheel Tool Storage Transmission / drivetrain Tools Welding / Plasma Cutter Manufacturers Cyber Deals Weekly Specials Monthly Flyer Login Cart (0) Order Lookup Home > SK Hand Tool SK Hand Tool S-K Tools includes socket sets, ratchets, extensions, G-Pro wrenches, combination wrenches, screwdrivers, hammers, punches & chisels, pliers and tool storage 1 - 20 of 265 results(s) Browse by In Stock (16) Browse by Category Browse by Category Hand Tools (242) Impact Sockets (22) Mechanics Tools (1) Filter Sort by: In Stock In StockList Price (Low-High)List Price (High-Low)Our Part No. (A-Z)Our Part No. (Z-A)Product Name (A-Z)Product Name (Z-A) Per Page: (20) 20 40 60 ‹12345› 18 Pc 12 Point Fractional & Metric Combinationination Wrench Manufacturer: SK Hand Tool Manufacturer Part No.: 87018 Our Part No.: SKT87018 Free Ground Shipping $360.62 In Stock 1 1 remaining in stock Remaining Quantity: Ships in 1-2 days Add to Cart Combinationination Wrench Set, 23 Pc, 12 Point, 8 Thru 32mm Manufacturer: SK Hand Tool Manufacturer Part No.: 86225 Our Part No.: SKT86225 Free Ground Shipping $741.87 In Stock 2 2 remaining in stock Remaining Quantity: Ships in 1-2 days Add to Cart Wrench Set, Combination, 19 Piece, Metric Manufacturer: SK Hand Tool Manufacturer Part No.: 86037 Our Part No.: SKT86037 Free Ground Shipping $508.33 In Stock 1 1 remaining in stock Remaining Quantity: Ships in 1-2 days Add to Cart Wrench Set, Combination, 13 Piece, Long Pattern, 12 Point, F Manufacturer: SK Hand Tool Manufacturer Part No.: 86017 Our Part No.: SKT86017 Free Ground Shipping $301.86 In Stock 1 1 remaining in stock Remaining Quantity: Ships in 1-2 days Add to Cart Ratchet, 3/8 Drive, Stubby FleX-Head Manufacturer: SK Hand Tool Manufacturer Part No.: 45178 Our Part No.: SKT45178 $79.00 In Stock 1 1 remaining in stock Remaining Quantity: Ships in 1-2 days Add to Cart Extension, 12 Inch, 3/8 Drive Manufacturer: SK Hand Tool Manufacturer Part No.: 45162 Our Part No.: SKT45162 $21.91 In Stock 1 1 remaining in stock Remaining Quantity: Ships in 1-2 days Add to Cart Extension, 8 Inch, 3/8 Inch Drive Manufacturer: SK Hand Tool Manufacturer Part No.: 45156 Our Part No.: SKT45156 $19.31 In Stock 1 1 remaining in stock Remaining Quantity: Ships in 1-2 days Add to Cart 3/8 Inch Drive Spark Plug Sockets 5/8 Inches Manufacturer: SK Hand Tool Manufacturer Part No.: 4480 Our Part No.: SKT4480 $34.38 In Stock 1 1 remaining in stock Remaining Quantity: Ships in 1-2 days Add to Cart Socket Set, 1/2 Inch, 12 Point, 16 Piece, Fractional Manufacturer: SK Hand Tool Manufacturer Part No.: 4116 Our Part No.: SKT4116 Free Ground Shipping $333.56 In Stock 1 1 remaining in stock Remaining Quantity: Ships in 1-2 days Add to Cart Ratchet, 1/4 Drive Manufacturer: SK Hand Tool Manufacturer Part No.: 40970 Our Part No.: SKT40970 $52.67 In Stock 1 1 remaining in stock Remaining Quantity: Ships in 1-2 days Add to Cart 1/2 Inch Drive 6 Point Socket, 23 mm Manufacturer: SK Hand Tool Manufacturer Part No.: 40023 Our Part No.: SKT40023 $21.94 In Stock 1 1 remaining in stock Remaining Quantity: Ships in 1-2 days Add to Cart 1/2 Inch Drive 6 Point Socket, 20 mm Manufacturer: SK Hand Tool Manufacturer Part No.: 40020 Our Part No.: SKT40020 $21.94 In Stock 1 1 remaining in stock Remaining Quantity: Ships in 1-2 days Add to Cart 3/8 Dr 8 Pc Metric Long Ball Hex Bit Socket Set Manufacturer: SK Hand Tool Manufacturer Part No.: 19748 Our Part No.: SKT19748 $179.90 In Stock 1 1 remaining in stock Remaining Quantity: Ships in 1-2 days Add to Cart 5 Pc General Purpose Pliers Set Manufacturer: SK Hand Tool Manufacturer Part No.: 17835 Our Part No.: SKT17835 Free Ground Shipping $137.45 In Stock 1 1 remaining in stock Remaining Quantity: Ships in 1-2 days Add to Cart Socket Set, 1/4 Drive, Metric Manufacturer: SK Hand Tool Manufacturer Part No.: 1313 Our Part No.: SKT1313 $87.11 In Stock 1 1 remaining in stock Remaining Quantity: Ships in 1-2 days Add to Cart 13 Pc Deep Metric Sockets Manufacturer: SK Hand Tool Manufacturer Part No.: 1312 Our Part No.: SKT1312 $147.03 In Stock 1 1 remaining in stock Remaining Quantity: Ships in 1-2 days Add to Cart Master Set, Automotive, 277 Piece Manufacturer: SK Hand Tool Manufacturer Part No.: VTS03289 Our Part No.: SKTVTS03289 Free Ground Shipping $4,189.13 0 Ships in 5-8 weeks Add to Cart 62 Pc 1/4 And 3/8 In Dr Std/Deep Metric Socket Set Manufacturer: SK Hand Tool Manufacturer Part No.: 94562 Our Part No.: SKT94562 Free Ground Shipping $416.40 0 Ships in 5-8 weeks Add to Cart 3/8 Inch 48 Pc Socket Set Frac/ Metric Std/ Deep Manufacturer: SK Hand Tool Manufacturer Part No.: 94549 Our Part No.: SKT94549 Free Ground Shipping $333.92 0 Ships in 5-8 weeks Add to Cart 47 Pc 3/8 In Dr 12 Point Std/Deep/Fractl/Metric Socket Set Manufacturer: SK Hand Tool Manufacturer Part No.: 94547-12 Our Part No.: SKT94547-12 Free Ground Shipping $353.25 0 Ships in 5-8 weeks Add to Cart ‹12345› × Request Approximate Shipping Date Model Qty Email * Deliver To Country * Select CountryUnited StatesCanada Delivery To Province/State * Select a State/ProvinceAlabamaAlaskaArizonaArkansasCaliforniaColoradoConnecticutDelawareDistrict of ColumbiaFloridaGeorgiaHawaiiIdahoIllinoisIndianaIowaKansasKentuckyLouisianaMaineMarylandMassachusettsMichiganMinnesotaMississippiMissouriMontanaNebraskaNevadaNew HampshireNew JerseyNew MexicoNew YorkNorth CarolinaNorth DakotaOhioOklahomaOregonPennsylvaniaPuerto RicoRhode IslandSouth CarolinaSouth DakotaTennesseeTexasUtahVermontVirginiaWashingtonWest VirginiaWisconsinWyoming Already placed an order for this item? Review the expected ship date using our online order lookup. Close Send Request Thank you! We’ve received your request. One of our customer service representatives will reach out to you shortly. Close Something went wrong Please try again × Filters ToolDiscounter.com Tools you need at prices you'll love! 4280 Centerville Road Vadnais Heights, MN 55127-7813 Toll Free: 877 663-8665 Telephone: 651 429-0325 Fax: 651 407-8771 Pre-Purchase Email info@tooldiscounter.com General information Sales assistance Common carrier freight pricing requests To obtain information for products not shown Post-Purchase Email support@tooldiscounter.com Include order number with all inquiries. Billing inquiries Shipping date inquiries Customer Service Contact Us Our Company Disclaimers Government Purchase Information Prop 65 Warning Returns Shipping Add to Cart Payment Purchase Order Search Engine Secure Transactions Product Demonstrations Raytek IR Temperature Weekly Specials © ToolDiscounter.com 2023 × Just Added to Your Cart Max quantity is 999999999. Your cart item has been updated Manufacturer: Manufacturer Part No.: Our Part No.: Customer Model No.: Loading... Weekly Special Cyber Deal Featured Product Qty.: 12 item(s) in your cart. Subtotal: 560,253 Add to reach minimum order. Continue Shopping View Cart Processing... × Error Adding Item to Your Cart Something went wrong Please try again. Continue Shopping View Cart & Checkout × Error with your shopping list! Something went wrong Please try again. Continue Shopping View Shopping Lists × Error Saving your Cart! Something went wrong Please try again. Ok Your session has expired due to inactivity. Please login again or continue as a guest. Login Continue as Guest × Recommended Similar Model(s) Model: Your Model No.: Mfr. Model No.: Remaining Quantity: View Cart\",\n",
       "  'smogScore': 12,\n",
       "  'colemanScore': 12,\n",
       "  'automatedReadabilityScore': 10.9,\n",
       "  'daleScore': 6.5,\n",
       "  'powersSumnerKearlScore': 14.5,\n",
       "  'forcastScore': 14.2,\n",
       "  'spacheScore': 5,\n",
       "  'gunningFogScore': 9.3,\n",
       "  'fleschGrade': 10.3,\n",
       "  'fleschScore': 56.2}}"
      ]
     },
     "execution_count": 221,
     "metadata": {},
     "output_type": "execute_result"
    }
   ],
   "source": [
    "d"
   ]
  },
  {
   "cell_type": "code",
   "execution_count": 222,
   "metadata": {},
   "outputs": [
    {
     "name": "stdout",
     "output_type": "stream",
     "text": [
      "{'link': 'https://www.tooldiscounter.com/brand/sk-hand-tool', 'json_data': {'text': \"Shop SK Hand Tool products | ToolDiscounter In order to benefit from the full functionality of this site, please enable JavaScript in your web browser. Toggle navigation (0) Login Order Lookup Categories Abrasives Air Compressor Air Conditioning Air Line Products Air Tools / Accessories Alignment Battery Body Shop Tools Brake Tools Chemicals Cleaning Compression / Press Test Connecting Rod Construction Tools Contractor Supplies Cooling System Cordless Tools Cylinder Block Cylinder Head Tools Diesel System Drilling/Tapping/Cutting Electric Tools Electrical Electronic Testing Engine Tools Exhaust Extraction Fuel System Tools Furniture Hand Tools Hose Hydraulics Impact Sockets Inspection/Leak Detection Instructional Lifting Equipment Lights / Cables / Cords Lubrication / Hose Reels Measuring Tools & Sensors Measuring, Precision Mechanics Tools Motorcycle Tools Office Supplies Press, Hydraulic Pullers Safety Shop Equipment Suspension Tachometers & Gauges Tire / Wheel Tool Storage Transmission / drivetrain Tools Welding / Plasma Cutter Manufacturers Cyber Deals Weekly Specials Monthly Flyer Categories Abrasives Air Compressor Air Conditioning Air Line Products Air Tools / Accessories Alignment Battery Body Shop Tools Brake Tools Chemicals Cleaning Compression / Press Test Connecting Rod Construction Tools Contractor Supplies Cooling System Cordless Tools Cylinder Block Cylinder Head Tools Diesel System Drilling/Tapping/Cutting Electric Tools Electrical Electronic Testing Engine Tools Exhaust Extraction Fuel System Tools Furniture Hand Tools Hose Hydraulics Impact Sockets Inspection/Leak Detection Instructional Lifting Equipment Lights / Cables / Cords Lubrication / Hose Reels Measuring Tools & Sensors Measuring, Precision Mechanics Tools Motorcycle Tools Office Supplies Press, Hydraulic Pullers Safety Shop Equipment Suspension Tachometers & Gauges Tire / Wheel Tool Storage Transmission / drivetrain Tools Welding / Plasma Cutter Manufacturers Cyber Deals Weekly Specials Monthly Flyer Login Cart (0) Order Lookup Home > SK Hand Tool SK Hand Tool S-K Tools includes socket sets, ratchets, extensions, G-Pro wrenches, combination wrenches, screwdrivers, hammers, punches & chisels, pliers and tool storage 1 - 20 of 265 results(s) Browse by In Stock (16) Browse by Category Browse by Category Hand Tools (242) Impact Sockets (22) Mechanics Tools (1) Filter Sort by: In Stock In StockList Price (Low-High)List Price (High-Low)Our Part No. (A-Z)Our Part No. (Z-A)Product Name (A-Z)Product Name (Z-A) Per Page: (20) 20 40 60 ‹12345› 18 Pc 12 Point Fractional & Metric Combinationination Wrench Manufacturer: SK Hand Tool Manufacturer Part No.: 87018 Our Part No.: SKT87018 Free Ground Shipping $360.62 In Stock 1 1 remaining in stock Remaining Quantity: Ships in 1-2 days Add to Cart Combinationination Wrench Set, 23 Pc, 12 Point, 8 Thru 32mm Manufacturer: SK Hand Tool Manufacturer Part No.: 86225 Our Part No.: SKT86225 Free Ground Shipping $741.87 In Stock 2 2 remaining in stock Remaining Quantity: Ships in 1-2 days Add to Cart Wrench Set, Combination, 19 Piece, Metric Manufacturer: SK Hand Tool Manufacturer Part No.: 86037 Our Part No.: SKT86037 Free Ground Shipping $508.33 In Stock 1 1 remaining in stock Remaining Quantity: Ships in 1-2 days Add to Cart Wrench Set, Combination, 13 Piece, Long Pattern, 12 Point, F Manufacturer: SK Hand Tool Manufacturer Part No.: 86017 Our Part No.: SKT86017 Free Ground Shipping $301.86 In Stock 1 1 remaining in stock Remaining Quantity: Ships in 1-2 days Add to Cart Ratchet, 3/8 Drive, Stubby FleX-Head Manufacturer: SK Hand Tool Manufacturer Part No.: 45178 Our Part No.: SKT45178 $79.00 In Stock 1 1 remaining in stock Remaining Quantity: Ships in 1-2 days Add to Cart Extension, 12 Inch, 3/8 Drive Manufacturer: SK Hand Tool Manufacturer Part No.: 45162 Our Part No.: SKT45162 $21.91 In Stock 1 1 remaining in stock Remaining Quantity: Ships in 1-2 days Add to Cart Extension, 8 Inch, 3/8 Inch Drive Manufacturer: SK Hand Tool Manufacturer Part No.: 45156 Our Part No.: SKT45156 $19.31 In Stock 1 1 remaining in stock Remaining Quantity: Ships in 1-2 days Add to Cart 3/8 Inch Drive Spark Plug Sockets 5/8 Inches Manufacturer: SK Hand Tool Manufacturer Part No.: 4480 Our Part No.: SKT4480 $34.38 In Stock 1 1 remaining in stock Remaining Quantity: Ships in 1-2 days Add to Cart Socket Set, 1/2 Inch, 12 Point, 16 Piece, Fractional Manufacturer: SK Hand Tool Manufacturer Part No.: 4116 Our Part No.: SKT4116 Free Ground Shipping $333.56 In Stock 1 1 remaining in stock Remaining Quantity: Ships in 1-2 days Add to Cart Ratchet, 1/4 Drive Manufacturer: SK Hand Tool Manufacturer Part No.: 40970 Our Part No.: SKT40970 $52.67 In Stock 1 1 remaining in stock Remaining Quantity: Ships in 1-2 days Add to Cart 1/2 Inch Drive 6 Point Socket, 23 mm Manufacturer: SK Hand Tool Manufacturer Part No.: 40023 Our Part No.: SKT40023 $21.94 In Stock 1 1 remaining in stock Remaining Quantity: Ships in 1-2 days Add to Cart 1/2 Inch Drive 6 Point Socket, 20 mm Manufacturer: SK Hand Tool Manufacturer Part No.: 40020 Our Part No.: SKT40020 $21.94 In Stock 1 1 remaining in stock Remaining Quantity: Ships in 1-2 days Add to Cart 3/8 Dr 8 Pc Metric Long Ball Hex Bit Socket Set Manufacturer: SK Hand Tool Manufacturer Part No.: 19748 Our Part No.: SKT19748 $179.90 In Stock 1 1 remaining in stock Remaining Quantity: Ships in 1-2 days Add to Cart 5 Pc General Purpose Pliers Set Manufacturer: SK Hand Tool Manufacturer Part No.: 17835 Our Part No.: SKT17835 Free Ground Shipping $137.45 In Stock 1 1 remaining in stock Remaining Quantity: Ships in 1-2 days Add to Cart Socket Set, 1/4 Drive, Metric Manufacturer: SK Hand Tool Manufacturer Part No.: 1313 Our Part No.: SKT1313 $87.11 In Stock 1 1 remaining in stock Remaining Quantity: Ships in 1-2 days Add to Cart 13 Pc Deep Metric Sockets Manufacturer: SK Hand Tool Manufacturer Part No.: 1312 Our Part No.: SKT1312 $147.03 In Stock 1 1 remaining in stock Remaining Quantity: Ships in 1-2 days Add to Cart Master Set, Automotive, 277 Piece Manufacturer: SK Hand Tool Manufacturer Part No.: VTS03289 Our Part No.: SKTVTS03289 Free Ground Shipping $4,189.13 0 Ships in 5-8 weeks Add to Cart 62 Pc 1/4 And 3/8 In Dr Std/Deep Metric Socket Set Manufacturer: SK Hand Tool Manufacturer Part No.: 94562 Our Part No.: SKT94562 Free Ground Shipping $416.40 0 Ships in 5-8 weeks Add to Cart 3/8 Inch 48 Pc Socket Set Frac/ Metric Std/ Deep Manufacturer: SK Hand Tool Manufacturer Part No.: 94549 Our Part No.: SKT94549 Free Ground Shipping $333.92 0 Ships in 5-8 weeks Add to Cart 47 Pc 3/8 In Dr 12 Point Std/Deep/Fractl/Metric Socket Set Manufacturer: SK Hand Tool Manufacturer Part No.: 94547-12 Our Part No.: SKT94547-12 Free Ground Shipping $353.25 0 Ships in 5-8 weeks Add to Cart ‹12345› × Request Approximate Shipping Date Model Qty Email * Deliver To Country * Select CountryUnited StatesCanada Delivery To Province/State * Select a State/ProvinceAlabamaAlaskaArizonaArkansasCaliforniaColoradoConnecticutDelawareDistrict of ColumbiaFloridaGeorgiaHawaiiIdahoIllinoisIndianaIowaKansasKentuckyLouisianaMaineMarylandMassachusettsMichiganMinnesotaMississippiMissouriMontanaNebraskaNevadaNew HampshireNew JerseyNew MexicoNew YorkNorth CarolinaNorth DakotaOhioOklahomaOregonPennsylvaniaPuerto RicoRhode IslandSouth CarolinaSouth DakotaTennesseeTexasUtahVermontVirginiaWashingtonWest VirginiaWisconsinWyoming Already placed an order for this item? Review the expected ship date using our online order lookup. Close Send Request Thank you! We’ve received your request. One of our customer service representatives will reach out to you shortly. Close Something went wrong Please try again × Filters ToolDiscounter.com Tools you need at prices you'll love! 4280 Centerville Road Vadnais Heights, MN 55127-7813 Toll Free: 877 663-8665 Telephone: 651 429-0325 Fax: 651 407-8771 Pre-Purchase Email info@tooldiscounter.com General information Sales assistance Common carrier freight pricing requests To obtain information for products not shown Post-Purchase Email support@tooldiscounter.com Include order number with all inquiries. Billing inquiries Shipping date inquiries Customer Service Contact Us Our Company Disclaimers Government Purchase Information Prop 65 Warning Returns Shipping Add to Cart Payment Purchase Order Search Engine Secure Transactions Product Demonstrations Raytek IR Temperature Weekly Specials © ToolDiscounter.com 2023 × Just Added to Your Cart Max quantity is 999999999. Your cart item has been updated Manufacturer: Manufacturer Part No.: Our Part No.: Customer Model No.: Loading... Weekly Special Cyber Deal Featured Product Qty.: 12 item(s) in your cart. Subtotal: 560,253 Add to reach minimum order. Continue Shopping View Cart Processing... × Error Adding Item to Your Cart Something went wrong Please try again. Continue Shopping View Cart & Checkout × Error with your shopping list! Something went wrong Please try again. Continue Shopping View Shopping Lists × Error Saving your Cart! Something went wrong Please try again. Ok Your session has expired due to inactivity. Please login again or continue as a guest. Login Continue as Guest × Recommended Similar Model(s) Model: Your Model No.: Mfr. Model No.: Remaining Quantity: View Cart\", 'smogScore': 12, 'colemanScore': 12, 'automatedReadabilityScore': 10.9, 'daleScore': 6.5, 'powersSumnerKearlScore': 14.5, 'forcastScore': 14.2, 'spacheScore': 5, 'gunningFogScore': 9.3, 'fleschGrade': 10.3, 'fleschScore': 56.2}}\n"
     ]
    }
   ],
   "source": [
    "# Open the file and load the contents as a dictionary\n",
    "with open(\"data/json/00000.json\", \"r\") as f:\n",
    "    data = json.load(f)\n",
    "\n",
    "# Print the contents of the dictionary\n",
    "print(data)"
   ]
  },
  {
   "cell_type": "code",
   "execution_count": 223,
   "metadata": {},
   "outputs": [
    {
     "data": {
      "text/plain": [
       "{'link': 'https://www.tooldiscounter.com/brand/sk-hand-tool',\n",
       " 'json_data': {'text': \"Shop SK Hand Tool products | ToolDiscounter In order to benefit from the full functionality of this site, please enable JavaScript in your web browser. Toggle navigation (0) Login Order Lookup Categories Abrasives Air Compressor Air Conditioning Air Line Products Air Tools / Accessories Alignment Battery Body Shop Tools Brake Tools Chemicals Cleaning Compression / Press Test Connecting Rod Construction Tools Contractor Supplies Cooling System Cordless Tools Cylinder Block Cylinder Head Tools Diesel System Drilling/Tapping/Cutting Electric Tools Electrical Electronic Testing Engine Tools Exhaust Extraction Fuel System Tools Furniture Hand Tools Hose Hydraulics Impact Sockets Inspection/Leak Detection Instructional Lifting Equipment Lights / Cables / Cords Lubrication / Hose Reels Measuring Tools & Sensors Measuring, Precision Mechanics Tools Motorcycle Tools Office Supplies Press, Hydraulic Pullers Safety Shop Equipment Suspension Tachometers & Gauges Tire / Wheel Tool Storage Transmission / drivetrain Tools Welding / Plasma Cutter Manufacturers Cyber Deals Weekly Specials Monthly Flyer Categories Abrasives Air Compressor Air Conditioning Air Line Products Air Tools / Accessories Alignment Battery Body Shop Tools Brake Tools Chemicals Cleaning Compression / Press Test Connecting Rod Construction Tools Contractor Supplies Cooling System Cordless Tools Cylinder Block Cylinder Head Tools Diesel System Drilling/Tapping/Cutting Electric Tools Electrical Electronic Testing Engine Tools Exhaust Extraction Fuel System Tools Furniture Hand Tools Hose Hydraulics Impact Sockets Inspection/Leak Detection Instructional Lifting Equipment Lights / Cables / Cords Lubrication / Hose Reels Measuring Tools & Sensors Measuring, Precision Mechanics Tools Motorcycle Tools Office Supplies Press, Hydraulic Pullers Safety Shop Equipment Suspension Tachometers & Gauges Tire / Wheel Tool Storage Transmission / drivetrain Tools Welding / Plasma Cutter Manufacturers Cyber Deals Weekly Specials Monthly Flyer Login Cart (0) Order Lookup Home > SK Hand Tool SK Hand Tool S-K Tools includes socket sets, ratchets, extensions, G-Pro wrenches, combination wrenches, screwdrivers, hammers, punches & chisels, pliers and tool storage 1 - 20 of 265 results(s) Browse by In Stock (16) Browse by Category Browse by Category Hand Tools (242) Impact Sockets (22) Mechanics Tools (1) Filter Sort by: In Stock In StockList Price (Low-High)List Price (High-Low)Our Part No. (A-Z)Our Part No. (Z-A)Product Name (A-Z)Product Name (Z-A) Per Page: (20) 20 40 60 ‹12345› 18 Pc 12 Point Fractional & Metric Combinationination Wrench Manufacturer: SK Hand Tool Manufacturer Part No.: 87018 Our Part No.: SKT87018 Free Ground Shipping $360.62 In Stock 1 1 remaining in stock Remaining Quantity: Ships in 1-2 days Add to Cart Combinationination Wrench Set, 23 Pc, 12 Point, 8 Thru 32mm Manufacturer: SK Hand Tool Manufacturer Part No.: 86225 Our Part No.: SKT86225 Free Ground Shipping $741.87 In Stock 2 2 remaining in stock Remaining Quantity: Ships in 1-2 days Add to Cart Wrench Set, Combination, 19 Piece, Metric Manufacturer: SK Hand Tool Manufacturer Part No.: 86037 Our Part No.: SKT86037 Free Ground Shipping $508.33 In Stock 1 1 remaining in stock Remaining Quantity: Ships in 1-2 days Add to Cart Wrench Set, Combination, 13 Piece, Long Pattern, 12 Point, F Manufacturer: SK Hand Tool Manufacturer Part No.: 86017 Our Part No.: SKT86017 Free Ground Shipping $301.86 In Stock 1 1 remaining in stock Remaining Quantity: Ships in 1-2 days Add to Cart Ratchet, 3/8 Drive, Stubby FleX-Head Manufacturer: SK Hand Tool Manufacturer Part No.: 45178 Our Part No.: SKT45178 $79.00 In Stock 1 1 remaining in stock Remaining Quantity: Ships in 1-2 days Add to Cart Extension, 12 Inch, 3/8 Drive Manufacturer: SK Hand Tool Manufacturer Part No.: 45162 Our Part No.: SKT45162 $21.91 In Stock 1 1 remaining in stock Remaining Quantity: Ships in 1-2 days Add to Cart Extension, 8 Inch, 3/8 Inch Drive Manufacturer: SK Hand Tool Manufacturer Part No.: 45156 Our Part No.: SKT45156 $19.31 In Stock 1 1 remaining in stock Remaining Quantity: Ships in 1-2 days Add to Cart 3/8 Inch Drive Spark Plug Sockets 5/8 Inches Manufacturer: SK Hand Tool Manufacturer Part No.: 4480 Our Part No.: SKT4480 $34.38 In Stock 1 1 remaining in stock Remaining Quantity: Ships in 1-2 days Add to Cart Socket Set, 1/2 Inch, 12 Point, 16 Piece, Fractional Manufacturer: SK Hand Tool Manufacturer Part No.: 4116 Our Part No.: SKT4116 Free Ground Shipping $333.56 In Stock 1 1 remaining in stock Remaining Quantity: Ships in 1-2 days Add to Cart Ratchet, 1/4 Drive Manufacturer: SK Hand Tool Manufacturer Part No.: 40970 Our Part No.: SKT40970 $52.67 In Stock 1 1 remaining in stock Remaining Quantity: Ships in 1-2 days Add to Cart 1/2 Inch Drive 6 Point Socket, 23 mm Manufacturer: SK Hand Tool Manufacturer Part No.: 40023 Our Part No.: SKT40023 $21.94 In Stock 1 1 remaining in stock Remaining Quantity: Ships in 1-2 days Add to Cart 1/2 Inch Drive 6 Point Socket, 20 mm Manufacturer: SK Hand Tool Manufacturer Part No.: 40020 Our Part No.: SKT40020 $21.94 In Stock 1 1 remaining in stock Remaining Quantity: Ships in 1-2 days Add to Cart 3/8 Dr 8 Pc Metric Long Ball Hex Bit Socket Set Manufacturer: SK Hand Tool Manufacturer Part No.: 19748 Our Part No.: SKT19748 $179.90 In Stock 1 1 remaining in stock Remaining Quantity: Ships in 1-2 days Add to Cart 5 Pc General Purpose Pliers Set Manufacturer: SK Hand Tool Manufacturer Part No.: 17835 Our Part No.: SKT17835 Free Ground Shipping $137.45 In Stock 1 1 remaining in stock Remaining Quantity: Ships in 1-2 days Add to Cart Socket Set, 1/4 Drive, Metric Manufacturer: SK Hand Tool Manufacturer Part No.: 1313 Our Part No.: SKT1313 $87.11 In Stock 1 1 remaining in stock Remaining Quantity: Ships in 1-2 days Add to Cart 13 Pc Deep Metric Sockets Manufacturer: SK Hand Tool Manufacturer Part No.: 1312 Our Part No.: SKT1312 $147.03 In Stock 1 1 remaining in stock Remaining Quantity: Ships in 1-2 days Add to Cart Master Set, Automotive, 277 Piece Manufacturer: SK Hand Tool Manufacturer Part No.: VTS03289 Our Part No.: SKTVTS03289 Free Ground Shipping $4,189.13 0 Ships in 5-8 weeks Add to Cart 62 Pc 1/4 And 3/8 In Dr Std/Deep Metric Socket Set Manufacturer: SK Hand Tool Manufacturer Part No.: 94562 Our Part No.: SKT94562 Free Ground Shipping $416.40 0 Ships in 5-8 weeks Add to Cart 3/8 Inch 48 Pc Socket Set Frac/ Metric Std/ Deep Manufacturer: SK Hand Tool Manufacturer Part No.: 94549 Our Part No.: SKT94549 Free Ground Shipping $333.92 0 Ships in 5-8 weeks Add to Cart 47 Pc 3/8 In Dr 12 Point Std/Deep/Fractl/Metric Socket Set Manufacturer: SK Hand Tool Manufacturer Part No.: 94547-12 Our Part No.: SKT94547-12 Free Ground Shipping $353.25 0 Ships in 5-8 weeks Add to Cart ‹12345› × Request Approximate Shipping Date Model Qty Email * Deliver To Country * Select CountryUnited StatesCanada Delivery To Province/State * Select a State/ProvinceAlabamaAlaskaArizonaArkansasCaliforniaColoradoConnecticutDelawareDistrict of ColumbiaFloridaGeorgiaHawaiiIdahoIllinoisIndianaIowaKansasKentuckyLouisianaMaineMarylandMassachusettsMichiganMinnesotaMississippiMissouriMontanaNebraskaNevadaNew HampshireNew JerseyNew MexicoNew YorkNorth CarolinaNorth DakotaOhioOklahomaOregonPennsylvaniaPuerto RicoRhode IslandSouth CarolinaSouth DakotaTennesseeTexasUtahVermontVirginiaWashingtonWest VirginiaWisconsinWyoming Already placed an order for this item? Review the expected ship date using our online order lookup. Close Send Request Thank you! We’ve received your request. One of our customer service representatives will reach out to you shortly. Close Something went wrong Please try again × Filters ToolDiscounter.com Tools you need at prices you'll love! 4280 Centerville Road Vadnais Heights, MN 55127-7813 Toll Free: 877 663-8665 Telephone: 651 429-0325 Fax: 651 407-8771 Pre-Purchase Email info@tooldiscounter.com General information Sales assistance Common carrier freight pricing requests To obtain information for products not shown Post-Purchase Email support@tooldiscounter.com Include order number with all inquiries. Billing inquiries Shipping date inquiries Customer Service Contact Us Our Company Disclaimers Government Purchase Information Prop 65 Warning Returns Shipping Add to Cart Payment Purchase Order Search Engine Secure Transactions Product Demonstrations Raytek IR Temperature Weekly Specials © ToolDiscounter.com 2023 × Just Added to Your Cart Max quantity is 999999999. Your cart item has been updated Manufacturer: Manufacturer Part No.: Our Part No.: Customer Model No.: Loading... Weekly Special Cyber Deal Featured Product Qty.: 12 item(s) in your cart. Subtotal: 560,253 Add to reach minimum order. Continue Shopping View Cart Processing... × Error Adding Item to Your Cart Something went wrong Please try again. Continue Shopping View Cart & Checkout × Error with your shopping list! Something went wrong Please try again. Continue Shopping View Shopping Lists × Error Saving your Cart! Something went wrong Please try again. Ok Your session has expired due to inactivity. Please login again or continue as a guest. Login Continue as Guest × Recommended Similar Model(s) Model: Your Model No.: Mfr. Model No.: Remaining Quantity: View Cart\",\n",
       "  'smogScore': 12,\n",
       "  'colemanScore': 12,\n",
       "  'automatedReadabilityScore': 10.9,\n",
       "  'daleScore': 6.5,\n",
       "  'powersSumnerKearlScore': 14.5,\n",
       "  'forcastScore': 14.2,\n",
       "  'spacheScore': 5,\n",
       "  'gunningFogScore': 9.3,\n",
       "  'fleschGrade': 10.3,\n",
       "  'fleschScore': 56.2}}"
      ]
     },
     "execution_count": 223,
     "metadata": {},
     "output_type": "execute_result"
    }
   ],
   "source": [
    "data"
   ]
  },
  {
   "cell_type": "code",
   "execution_count": 224,
   "metadata": {},
   "outputs": [],
   "source": [
    "data = {\"link\": \"https://www.livescience.com/what-are-muscle-knots\", \"json_data\": {\"text\": \"Muscle\", \"smogScore\": 12, \"colemanScore\": 11.8, \"automatedReadabilityScore\": 11.8, \"daleScore\": 6.3, \"powersSumnerKearlScore\": 8.8, \"forcastScore\": 10.7, \"spacheScore\": 5, \"gunningFogScore\": 13, \"fleschGrade\": 11.1, \"fleschScore\": 55}}"
   ]
  },
  {
   "cell_type": "code",
   "execution_count": 225,
   "metadata": {},
   "outputs": [
    {
     "data": {
      "text/plain": [
       "('link',\n",
       " 'smogScore',\n",
       " 'colemanScore',\n",
       " 'automatedReadabilityScore',\n",
       " 'daleScore',\n",
       " 'powersSumnerKearlScore',\n",
       " 'forcastScore',\n",
       " 'spacheScore',\n",
       " 'gunningFogScore',\n",
       " 'fleschGrade',\n",
       " 'fleschScore')"
      ]
     },
     "execution_count": 225,
     "metadata": {},
     "output_type": "execute_result"
    }
   ],
   "source": [
    "\"link\", \"smogScore\", \"colemanScore\", \"automatedReadabilityScore\", \"daleScore\", \"powersSumnerKearlScore\", \"forcastScore\", \"spacheScore\", \"gunningFogScore\", \"fleschGrade\", \"fleschScore\""
   ]
  },
  {
   "cell_type": "code",
   "execution_count": null,
   "metadata": {},
   "outputs": [],
   "source": []
  },
  {
   "cell_type": "code",
   "execution_count": null,
   "metadata": {},
   "outputs": [],
   "source": []
  },
  {
   "cell_type": "code",
   "execution_count": null,
   "metadata": {},
   "outputs": [],
   "source": []
  },
  {
   "cell_type": "code",
   "execution_count": null,
   "metadata": {},
   "outputs": [],
   "source": []
  }
 ],
 "metadata": {
  "kernelspec": {
   "display_name": "soup",
   "language": "python",
   "name": "python3"
  },
  "language_info": {
   "codemirror_mode": {
    "name": "ipython",
    "version": 3
   },
   "file_extension": ".py",
   "mimetype": "text/x-python",
   "name": "python",
   "nbconvert_exporter": "python",
   "pygments_lexer": "ipython3",
   "version": "3.11.2"
  },
  "orig_nbformat": 4
 },
 "nbformat": 4,
 "nbformat_minor": 2
}
