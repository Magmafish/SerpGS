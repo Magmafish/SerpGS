{
 "cells": [
  {
   "attachments": {},
   "cell_type": "markdown",
   "metadata": {},
   "source": [
    "### Purpose:\n",
    "The purpose of this notebook is to clean and re-integrate the reacquired content and then scan it with the readibility API"
   ]
  },
  {
   "cell_type": "markdown",
   "metadata": {},
   "source": [
    "### Dependancies:"
   ]
  },
  {
   "cell_type": "code",
   "execution_count": 37,
   "metadata": {},
   "outputs": [],
   "source": [
    "import pandas as pd\n",
    "import requests\n",
    "from bs4 import BeautifulSoup\n",
    "import re\n",
    "import os\n",
    "import csv"
   ]
  },
  {
   "cell_type": "markdown",
   "metadata": {},
   "source": [
    "### Functions:"
   ]
  },
  {
   "cell_type": "code",
   "execution_count": 38,
   "metadata": {},
   "outputs": [],
   "source": [
    "def clean_text(text: str) -> str:\n",
    "    \"\"\"\n",
    "    Clean up text by replacing tabs and newlines with spaces, and replacing multiple spaces with single spaces.\n",
    "\n",
    "    Parameters:\n",
    "    text (str): The text to clean up.\n",
    "\n",
    "    Returns:\n",
    "    str: The cleaned up text.\n",
    "    \"\"\"\n",
    "    # Replace all tabs with a space\n",
    "    text = re.sub(\"\\t\", \" \", text)\n",
    "\n",
    "    # Replace all newlines with a space\n",
    "    text = re.sub(\"\\n\", \" \", text)\n",
    "\n",
    "    # Replace all double spaces with a single space\n",
    "    text = re.sub(\"  +\", \" \", text)\n",
    "\n",
    "    return text"
   ]
  },
  {
   "cell_type": "code",
   "execution_count": 39,
   "metadata": {},
   "outputs": [],
   "source": [
    "def load_csv(filepath: str) -> dict:\n",
    "    \"\"\"\n",
    "    Load a CSV file and return a dictionary with the link as the key and the cleaned text as the value.\n",
    "\n",
    "    Parameters:\n",
    "    filepath (str): The path to the CSV file to load.\n",
    "\n",
    "    Returns:\n",
    "    dict: A dictionary with the link as the key and the cleaned text as the value.\n",
    "    \"\"\"\n",
    "    # Increase the field size limit to the maximum possible value\n",
    "    csv.field_size_limit(2**31-1)\n",
    "\n",
    "    data = {}\n",
    "    with open(filepath, encoding=\"utf-8\") as f:\n",
    "        reader = csv.DictReader(f)\n",
    "        for row in reader:\n",
    "            link = row[\"Link\"]\n",
    "            text = row[\"Text\"]\n",
    "            cleaned_text = clean_text(text)\n",
    "            data[link] = cleaned_text\n",
    "    return data"
   ]
  },
  {
   "cell_type": "code",
   "execution_count": 40,
   "metadata": {},
   "outputs": [],
   "source": [
    "def load_all_csvs(directory: str) -> dict:\n",
    "    \"\"\"\n",
    "    Load all CSV files in a directory and return a dictionary with the link as the key and the cleaned text as the value.\n",
    "\n",
    "    Parameters:\n",
    "    directory (str): The path to the directory containing the CSV files to load.\n",
    "\n",
    "    Returns:\n",
    "    dict: A dictionary with the link as the key and the cleaned text as the value for all CSV files in the directory.\n",
    "    \"\"\"\n",
    "    data = {}\n",
    "    for filename in os.listdir(directory):\n",
    "        if filename.endswith(\".csv\"):\n",
    "            filepath = os.path.join(directory, filename)\n",
    "            csv_data = load_csv(filepath)\n",
    "            data.update(csv_data)\n",
    "    return data"
   ]
  },
  {
   "cell_type": "code",
   "execution_count": 41,
   "metadata": {},
   "outputs": [],
   "source": [
    "x = load_all_csvs('data/responses')"
   ]
  },
  {
   "cell_type": "code",
   "execution_count": 42,
   "metadata": {},
   "outputs": [
    {
     "data": {
      "text/plain": [
       "2508"
      ]
     },
     "execution_count": 42,
     "metadata": {},
     "output_type": "execute_result"
    }
   ],
   "source": [
    "len(x)"
   ]
  },
  {
   "cell_type": "code",
   "execution_count": 43,
   "metadata": {},
   "outputs": [
    {
     "name": "stdout",
     "output_type": "stream",
     "text": [
      "{'https://www.familyhandyman.com/project/how-to-finish-concrete/': \" How to Finish Concrete (DIY) | Family Handyman Share Save Saved Share on Facebook Save on Pinterest Tweet this Email Next Project Skip to main content Watch TV Pro New Homeowners Projects DIY University *NEW* Shopping Subscribe Outdoor Kitchen Kits Home Skills Concreting How to Finish Concrete Family HandymanUpdated: Sep. 02, 2021 Techniques for making a smooth, durable finish on a concrete surface. Family Handyman Next Project Time A full day Complexity Intermediate Cost $51–100 Introduction In this article, we'll show you the tools and techniques you need to get a smooth, durable finish on concrete. We'll also tell you how to know when the concrete is ready for each phase of the finishing process. Whether you're pouring a small slap of concrete, like a pad for your garbage can, or a large slab for a patio, these DIY steps will guide you through the process. Tools Required broomDarbyEdgerGrooverMagnesium floatRubber glovesSafety glassesscreedSteel trowel Finishing concrete Close-up: Darby Family Handyman A darby flattens the wet concrete. Close up: Edging tool Family Handyman An edging tool gives the concrete a round edge. Close-up: Groover Family Handyman A groover makes joints in the concrete to control cracking. Close-up: Magnesium concrete hand float Family Handyman A float compacts the concrete surface, giving it a smooth look.\\xa0Putting a smooth, durable finish on concrete is a skill you can only master with the proper set of tools and practice. We’ll show you the tools and how to use them for each step of the concrete finishing process. And equally important, we’ll help you determine when the concrete is ready for the next finishing step. But you really can’t practice these techniques except on real concrete. So it’s smart to start with a small project like this garbage can pad. When you get the hang of it, you can move up to a larger slab. But keep in mind that finishing larger slabs (more than about 100 sq. ft.) is trickier because the concrete may set up too fast. In this article, we’ll show you how to level the concrete in the forms, round over the edges and make a progressively smoother finish. But we won’t show how to build forms or fill them with concrete. Each step in the process requires a different tool. You can make the screed (Photo 1) and darby (Photo 2) from scraps of wood. The rest you’ll have to rent or buy. You’ll need a magnesium float ($15 to $25), an edger ($5 to $20), a grooving tool ($10 to $30) and a steel trowel ($8 to $40). Pros buy expensive top-quality tools that will stand up to the rigors of daily use, but less expensive versions are available at home centers and hardware stores and will work fine for occasional home use. Concrete is a blend of Portland cement, sand, aggregate (gravel) and water that harden when mixed. While there are additives that can slow down or speed up the process, and special bagged mixes that set fast, in general, the speed of the process largely depends on the temperature and humidity. Hot, dry weather accelerates the hardening process, sometimes so much that it’s nearly impossible to complete all the finishing steps in time. Work while your project is in shade if possible. On cool days, you may spend a lot of time waiting for the concrete to reach the next stage. That’s why we can’t give you exact waiting times. But we’ll show you how to tell when the concrete is ready for each finishing step. Video: How to Pour a Concrete Slab ⓘ Read Next Everything to Know About House Mice Pouring Concrete Patio: A First Timer’s Guide Drilling Concrete and Installing Fasteners Sign Up For Our Newsletter Complete DIY projects like a pro! Sign up for our newsletter! Sign Up Project step-by-step (8) Step 1Screed and darby the concrete right away Screed the concrete Family Handyman Push or pull the screed board across the forms with a back-and-forth sawing motion. Shove concrete into low spots in front of the screed board. Repeat to remove excess concrete. Form and Pour a Concrete Slab Step 2 Darby the concrete Family Handyman Sweep the darby across the concrete in overlapping arcs to flatten the surface, push down lumps and fill voids. Lift the leading edge slightly but keep the darby level with the surface. Make two passes. How to Pour a Concrete Slab Successfully: 31 Tips Sign Up For Our Newsletter Complete DIY projects like a pro! Sign up for our newsletter! Sign up Do It Right, Do It Yourself! Step 3 Wait for the surface water to disappear Family Handyman Water will appear on the surface. Wait until this “bleed” water and sheen disappear entirely before edging, jointing or floating the concrete.\\xa0Screeding levels the concrete with the top of the forms and begins the process of forcing the larger aggregate below the surface. Use any 2×4 that overlaps the forms by at least 6 in., but make sure it’s straight (Photo 1). Follow screeding immediately with the darby (Photo 2). Your goal is to level out marks and fill small holes left by screeding. In the process, you’ll force larger aggregate down, leaving a slurry of cement and sand to fill the surface. The darby should be large enough to reach a little more than halfway across the slab. Make a darby by screwing a handle (we cut a 2×4 with a jigsaw to make a handle) onto a straight piece of 1×4. Longer darbies may require two handles for better control. If you can’t reach the entire slab from the edges with a darby, rent a bull float and handle to use instead. Two passes over the surface with the darby are enough. Overworking the concrete will draw too much cement and fine sand to the top and create a weak surface. Drilling Concrete and Installing Fasteners Step 4 Edge, groove and float the slab when the sheen is gone Edge the concrete Family Handyman Work the edging tool back and forth, using the edge of the form as a guide. Lift the leading edge slightly. Use long strokes, working the aggregate back until you have smooth, round edges. Step 5 Create grooves in the concrete Family Handyman Set a straight board along predetermined marks for control joints. Run the groover back and forth against the straightedge until the bed of the tool is riding on the concrete surface.\\xa0After smoothing the slab with the darby, water will “bleed” out of the concrete and sit on the surface (Photo 3). This is temporary. It’ll soon reabsorb into the concrete. However, it’s critical to wait until it disappears. Working the concrete before the surface “bleed” water disappears will weaken the surface of the slab when it dries. When all traces of the water are gone and the concrete starts to harden, you can resume finishing activities. Test by pressing your gloved thumb onto the surface near the perimeter. The concrete is ready when pressing hard only leaves a 1/4-in. deep impression. Start by running the edger around the perimeter to round and compact the corner (Photo 4). Sometimes it’s a little tough at first as you push larger aggregate back into the concrete and round over the edge. If the edger is leaving a path deeper than about 1/8 in., wait for the concrete to set a little longer and apply less downward pressure. Next divide the slab into equal parts with a straightedge and groover (Photo 5). Sidewalks and small slabs need grooves about every 4 ft. Add grooves every 10 or 12 ft. on driveways and garage slabs. Dividing slabs with grooves looks nice, but the real reason is to control cracking. Drying and soil movement cause concrete to crack. The groove creates a weakened spot for the crack to form where it won’t be seen. To be effective, the groove must be at least one-fourth the depth of the slab. Step 6 Float and trowel the surface to smooth and compact it Float the concrete Family Handyman Lift the leading edge slightly while you sweep the magnesium concrete hand float over the concrete in large arcs to compact the surface. Blend in the marks left by the edges of the edger and groover. How to Remove and Replace a Small Concrete Entry Pad Step 7 Trowel the surface Family Handyman Smooth the surface with a steel trowel after it’s partially hardened. Hold the trowel almost flat and swing it in large overlapping arcs while applying pressure.\\xa0Float the concrete when you’re done grooving and edging (Photo 6). Floating removes the marks left by edging and brings the surface one step closer to a final finish. You may have to bear down on the float if the concrete is starting to harden. You’ll be surprised that with enough scrubbing you’ll be able to bring a slurry to the surface of even a fairly hard slab. If you’re happy with the look of your floated slab, you don’t need to do any more finishing. Repeat the edging and grooving steps after floating and after troweling to refine the groove and edges. For a decorative border effect similar to what’s shown in the inset to Photo 4, run the edger around each section of slab after a final broom finish. In Photo 7, we show how to put an even, smooth finish on the slab with a steel trowel. Troweling is one of the trickier steps in concrete finishing. You’ll have to practice to develop a feel for it. For a really smooth finish, repeat the troweling step two or three times, letting the concrete harden a bit between each pass. At first, hold the trowel almost flat, elevating the leading edge just enough to avoid gouging the surface. On each successive pass, lift the leading edge of the trowel a little more. If you want a rougher, non-slip surface, you can skip this step and do a broom finish (Photo 8). Also, if you order air-entrained concrete delivered, don’t trowel the surface. How to Properly Mix Concrete Step 8 Broom finish for better footing Create a non-slip surface Family Handyman Drag a broom across the concrete after floating it with the magnesium float to create a non-slip surface. Adjust the downward pressure to create the desired amount of texture.\\xa0Dragging a broom across partially hardened concrete leaves a rough texture that gives better traction in slippery conditions (Photo 8). Special concrete brooms are available, but a regular push broom will work too. Remember to wash off the bristles as soon as you finish brooming concrete. As with all the other finishing steps, the key to a successful broom finish is to wait until the concrete surface is just right. If concrete starts to pile up in front of the bristles as you drag the broom across, resmooth the broomed area with a float or trowel and then wait a little longer before trying again. When you’re done finishing the concrete, cover it with plastic or keep it moist by sprinkling it several times a day for about a week. This slows the curing process and results in a stronger, more durable slab. CAUTION! It might be hard to believe that concrete can be dangerous. But the strong alkalinity of cement can cause chemical burns just like a strong acid. By the time you realize you’re being burned, you may already have skin damage. That’s why it’s essential to prevent prolonged skin exposure to wet concrete. And why you should be extra careful to keep wet concrete from getting in your eyes. Wear rubber gloves, a long-sleeve shirt, long pants and safety glasses. Wear rubber boots if you’ll be wading in concrete. Rinse wet concrete from your skin immediately and remove clothes that have become saturated with concrete. Originally Published: September 24, 2019 Similar Projects How to Move Large Rocks: Tips for Hauling Heavy Stones and Concrete BlockHow to Form and Pour a Concrete SlabHow to Cast Concrete FountainsHow to Build a Stone Path and StepsFountain: How to Build a Concrete FountainHow to Build a Concrete Retaining WallGarage Floor Resurfacing: Fix a Pitted Garage FloorHow to Remove Paint from Concrete and Other StainsHow to Build and Pour Your Own Modern Concrete PatioEpoxy Garage Flooring TipsHow to Build a Deck Over a Concrete PatioHow to Build a Hammock AwningHow to Install Pavers Over a Concrete PatioHow to Build a Table with a Concrete TopLaminate Repair Tips: Reglue Loose LaminateRenew Your Concrete Patio: How to Stain ConcreteHow to Choose and Use Concrete Fasteners, Masonry ScrewsBuild a Flagstone and Stone Block PatioHow to Install Cement Board for Tile ProjectsPatio Tiles: How to Build a Patio With Ceramic Tile About Us Magazine Skills Pro House Outdoors Trends Our Brands Reader’s Digest Taste of Home Birds & Blooms The Healthy Subscribe Give a Gift Advertise with Us Customer Care Content Submission Contact Us Privacy Policy Your CA Privacy Rights Do not Sell or Share My Personal Information Terms of Use Accessibility Statement About Ads Affiliate Program Cookie Settings © 2023 Home Service Publications, Inc. Sign Up For Our Newsletter Enter email address Sign Up Do it right, do it yourself! Search terms We are no longer supporting IE (Internet Explorer) as we strive to provide site experiences for browsers that support new web standards and security practices. We recommend our users to update the browser. Google Chrome Apple Safari Mozilla Firefox Microsoft Edge DIY Skills & TechniquesMore Items Carpentry Concreting Drywalling Electrical Flooring Landscaping Masonry Painting Plumbing Roofing Tiling Woodworking ProMore Items Gear & Apparel Industry News Pro Tips Stuff We Love Tools & Equipment Trades ALL PRO Garage & WorkshopMore Items Automotive Garage Power Equipment Tools & Supplies Utility Trailers Woodworking Home InspirationMore Items Cleaning Decor Energy Saving Pets Safety Saving Money Storage & Organization HouseMore Items Appliances Fixtures Parts of House Rooms Systems ALL HOUSE OutdoorsMore Items Camping Deck & Patio Garden Grilling Landscaping Lawn Shed Yard & Garden Structures ALL OUTDOORS Pest ControlMore Items Ants Cockroaches Flies Mice Spiders Stinging Pests ALL PEST CONTROL ProductsMore Items Stuff We Love ALL PRODUCTS Technology & InnovationMore Items Home Security Smart Home Videos Shopping Newsletters Magazine Subscription Shop DIY Books Buy Project Plans DIY University Follow UsMore Items Facebook Pinterest Instagram Twitter \"}\n"
     ]
    }
   ],
   "source": [
    "filepath = \"data/responses/00001.csv\"\n",
    "data = load_csv(filepath)\n",
    "print(data)"
   ]
  },
  {
   "cell_type": "code",
   "execution_count": null,
   "metadata": {},
   "outputs": [],
   "source": []
  }
 ],
 "metadata": {
  "kernelspec": {
   "display_name": "soup",
   "language": "python",
   "name": "python3"
  },
  "language_info": {
   "codemirror_mode": {
    "name": "ipython",
    "version": 3
   },
   "file_extension": ".py",
   "mimetype": "text/x-python",
   "name": "python",
   "nbconvert_exporter": "python",
   "pygments_lexer": "ipython3",
   "version": "3.11.2"
  },
  "orig_nbformat": 4
 },
 "nbformat": 4,
 "nbformat_minor": 2
}
