{
 "cells": [
  {
   "attachments": {},
   "cell_type": "markdown",
   "metadata": {},
   "source": [
    "### Purpose:\n",
    "The purpose of this notebook is to clean and re-integrate the reacquired content and then scan it with the readibility API"
   ]
  },
  {
   "cell_type": "markdown",
   "metadata": {},
   "source": [
    "### Dependancies:"
   ]
  },
  {
   "cell_type": "code",
   "execution_count": 15,
   "metadata": {},
   "outputs": [],
   "source": [
    "import pandas as pd\n",
    "import requests\n",
    "from bs4 import BeautifulSoup\n",
    "import re\n",
    "import os\n",
    "import csv\n",
    "import json\n",
    "import time\n",
    "from IPython.display import clear_output\n",
    "from urllib3.exceptions import NewConnectionError, MaxRetryError\n",
    "from socket import gaierror"
   ]
  },
  {
   "cell_type": "markdown",
   "metadata": {},
   "source": [
    "### Functions:"
   ]
  },
  {
   "cell_type": "code",
   "execution_count": 16,
   "metadata": {},
   "outputs": [],
   "source": [
    "def clean_text(text: str) -> str:\n",
    "    \"\"\"\n",
    "    Clean up text by replacing tabs and newlines with spaces, and replacing multiple spaces with single spaces.\n",
    "\n",
    "    Parameters:\n",
    "    text (str): The text to clean up.\n",
    "\n",
    "    Returns:\n",
    "    str: The cleaned up text.\n",
    "    \"\"\"\n",
    "    # Replace all tabs with a space\n",
    "    text = re.sub(\"\\t\", \" \", text)\n",
    "\n",
    "    # Replace all newlines with a space\n",
    "    text = re.sub(\"\\n\", \" \", text)\n",
    "\n",
    "    # Replace all double spaces with a single space\n",
    "    text = re.sub(\"  +\", \" \", text)\n",
    "\n",
    "    text = text.strip()\n",
    "    return text"
   ]
  },
  {
   "cell_type": "code",
   "execution_count": 17,
   "metadata": {},
   "outputs": [],
   "source": [
    "def load_csv(filepath: str) -> dict:\n",
    "    \"\"\"\n",
    "    Load a CSV file and return a dictionary with the link as the key and the cleaned text as the value.\n",
    "\n",
    "    Parameters:\n",
    "    filepath (str): The path to the CSV file to load.\n",
    "\n",
    "    Returns:\n",
    "    dict: A dictionary with the link as the key and the cleaned text as the value.\n",
    "    \"\"\"\n",
    "    # Increase the field size limit to the maximum possible value\n",
    "    csv.field_size_limit(2**31-1)\n",
    "\n",
    "    data = {}\n",
    "    with open(filepath, encoding=\"utf-8\") as f:\n",
    "        reader = csv.DictReader(f)\n",
    "        for row in reader:\n",
    "            link = row[\"Link\"]\n",
    "            text = row[\"Text\"]\n",
    "            cleaned_text = clean_text(text)\n",
    "            data[link] = cleaned_text\n",
    "    return data"
   ]
  },
  {
   "cell_type": "code",
   "execution_count": 18,
   "metadata": {},
   "outputs": [],
   "source": [
    "def load_all_csvs(directory: str) -> dict:\n",
    "    \"\"\"\n",
    "    Load all CSV files in a directory and return a dictionary with the link as the key and the cleaned text as the value.\n",
    "\n",
    "    Parameters:\n",
    "    directory (str): The path to the directory containing the CSV files to load.\n",
    "\n",
    "    Returns:\n",
    "    dict: A dictionary with the link as the key and the cleaned text as the value for all CSV files in the directory.\n",
    "    \"\"\"\n",
    "    data = {}\n",
    "    for filename in os.listdir(directory):\n",
    "        if filename.endswith(\".csv\"):\n",
    "            filepath = os.path.join(directory, filename)\n",
    "            csv_data = load_csv(filepath)\n",
    "            data.update(csv_data)\n",
    "    return data"
   ]
  },
  {
   "cell_type": "code",
   "execution_count": 19,
   "metadata": {},
   "outputs": [],
   "source": [
    "def evaluate_readability(text: str, url: str = \"https://staging-originalityai-originstg.kinsta.cloud/tool-readability/src/API/TextHighlighter-api.php\") -> requests.Response:\n",
    "    \"\"\"\n",
    "    Evaluate the readability of a given text using an API endpoint.\n",
    "\n",
    "    Parameters:\n",
    "    text (str): The text to evaluate.\n",
    "    url (str): The URL of the API endpoint to use. Defaults to \"https://staging-originalityai-originstg.kinsta.cloud/tool-readability/src/API/TextHighlighter-api.php\".\n",
    "\n",
    "    Returns:\n",
    "    requests.Response: The response from the API endpoint.\n",
    "    \"\"\"\n",
    "    payload = json.dumps({\"text\": text})\n",
    "    response = requests.request(\"POST\", url=url, data=payload)\n",
    "    \n",
    "    #clear_output(wait=True)\n",
    "    print(f\"Request sent to {url}\")\n",
    "    if response.status_code == 200:\n",
    "        print(f\"Response successfully received\")\n",
    "    else:\n",
    "       print(f\"Error response received\") \n",
    "    print(f\"Response code: {response.status_code}\")\n",
    "    return response"
   ]
  },
  {
   "cell_type": "code",
   "execution_count": 21,
   "metadata": {},
   "outputs": [],
   "source": [
    "def evaluate_all(data: dict, directory: str) -> None:\n",
    "    \"\"\"\n",
    "    Evaluate the readability of all texts in a dictionary and save the results to JSON files.\n",
    "\n",
    "    Parameters:\n",
    "    data (dict): The dictionary containing the text data to evaluate.\n",
    "    directory (str): The directory to save the JSON files to.\n",
    "\n",
    "    Returns:\n",
    "    None\n",
    "    \"\"\"\n",
    "    # create directory if it doesn't exist\n",
    "    if not os.path.exists(directory):\n",
    "        os.makedirs(directory)\n",
    "\n",
    "    for i, (link, text) in enumerate(data.items()):\n",
    "\n",
    "        clear_output(wait=True)\n",
    "        print(f\"Evaluating record {i}/{len(data)}\")\n",
    "\n",
    "        # check if record has already been saved\n",
    "        filename = str(i).zfill(5) + \".json\"\n",
    "        filepath = os.path.join(directory, filename)\n",
    "        if os.path.exists(filepath):\n",
    "            print(f\"Record {i}/{len(data)} already saved, skipping\")\n",
    "            time.sleep(0.020)\n",
    "            continue\n",
    "\n",
    "        # evaluate readability of text, retrying if there is a connection error\n",
    "        retries = 0\n",
    "        while True:\n",
    "            try:\n",
    "                response = evaluate_readability(text)\n",
    "                break\n",
    "            except (NewConnectionError, MaxRetryError, gaierror) as e:\n",
    "                retries += 1\n",
    "                print(f\"Connection error: {e}. Retrying in 1 minute...\")\n",
    "                time.sleep(60)\n",
    "                if retries >= 3:\n",
    "                    print(f\"Max retries exceeded, skipping record {i}/{len(data)}\")\n",
    "                    break\n",
    "\n",
    "        if retries < 3:\n",
    "            # convert response to json\n",
    "            json_data = json.loads(response.text)\n",
    "\n",
    "            # save record to file\n",
    "            with open(filepath, \"w\") as f:\n",
    "                json.dump({\"link\": link, \"json_data\": json_data}, f)\n",
    "\n",
    "            # print message indicating file has been saved\n",
    "            print(f\"Saved {filepath}\")\n",
    "\n",
    "            # delay to avoid overloading server\n",
    "            time.sleep(4.2)"
   ]
  },
  {
   "cell_type": "markdown",
   "metadata": {},
   "source": [
    "### Code Execution:"
   ]
  },
  {
   "cell_type": "code",
   "execution_count": 22,
   "metadata": {},
   "outputs": [
    {
     "name": "stdout",
     "output_type": "stream",
     "text": [
      "Evaluating record 9470/13588\n",
      "Request sent to https://staging-originalityai-originstg.kinsta.cloud/tool-readability/src/API/TextHighlighter-api.php\n",
      "Response successfully received\n",
      "Response code: 200\n",
      "Saved data/json/09470.json\n"
     ]
    }
   ],
   "source": [
    "data = load_all_csvs(\"data/responses\")\n",
    "directory = \"data/json\"\n",
    "evaluate_all(data, directory)"
   ]
  },
  {
   "cell_type": "code",
   "execution_count": null,
   "metadata": {},
   "outputs": [],
   "source": []
  }
 ],
 "metadata": {
  "kernelspec": {
   "display_name": "soup",
   "language": "python",
   "name": "python3"
  },
  "language_info": {
   "codemirror_mode": {
    "name": "ipython",
    "version": 3
   },
   "file_extension": ".py",
   "mimetype": "text/x-python",
   "name": "python",
   "nbconvert_exporter": "python",
   "pygments_lexer": "ipython3",
   "version": "3.11.2"
  },
  "orig_nbformat": 4
 },
 "nbformat": 4,
 "nbformat_minor": 2
}
