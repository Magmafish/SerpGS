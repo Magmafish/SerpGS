{
 "cells": [
  {
   "cell_type": "code",
   "execution_count": 1,
   "metadata": {},
   "outputs": [],
   "source": [
    "import requests\n",
    "import pandas as pd"
   ]
  },
  {
   "cell_type": "code",
   "execution_count": 2,
   "metadata": {},
   "outputs": [],
   "source": [
    "pd.set_option('display.max_rows', 10)\n",
    "pd.set_option('display.max_columns', 100)"
   ]
  },
  {
   "cell_type": "code",
   "execution_count": 3,
   "metadata": {},
   "outputs": [],
   "source": [
    "# FETCH API_KEY FROM FILE\n",
    "\n",
    "def load_api_key(key_name=\"oai_key.txt\", path=\"secret/\"):\n",
    "    global api_key\n",
    "    api_key_path = path + key_name\n",
    "    with open(api_key_path, \"r\") as file:\n",
    "        api_key = file.read()\n",
    "    print(f'api_key loaded as global varible (is type {type(api_key).__name__} and {len(api_key)} characters long)')"
   ]
  },
  {
   "cell_type": "code",
   "execution_count": 4,
   "metadata": {},
   "outputs": [
    {
     "name": "stdout",
     "output_type": "stream",
     "text": [
      "api_key loaded as global varible (is type str and 32 characters long)\n"
     ]
    }
   ],
   "source": [
    "# THIS NEED TO BE HERE OR FUNCTIONS WILL ERROR EVEN BEFORE CALLED\n",
    "\n",
    "load_api_key()"
   ]
  },
  {
   "cell_type": "code",
   "execution_count": 5,
   "metadata": {},
   "outputs": [],
   "source": [
    "# GET O.AI BALANCE\n",
    "\n",
    "def get_balance(api_key=api_key):\n",
    "    headers={'X-OAI-API-KEY': api_key}\n",
    "    response_1 = requests.get('https://api.originality.ai/api/v1/account/credits/balance',headers=headers)\n",
    "    return(response_1)"
   ]
  },
  {
   "cell_type": "code",
   "execution_count": 10,
   "metadata": {},
   "outputs": [],
   "source": [
    "# POST CONTENT SCAN\n",
    "def content_scan(content):\n",
    "    headers={'X-OAI-API-KEY': api_key}\n",
    "    params={\n",
    "    \"content\": content\n",
    "    }\n",
    "\n",
    "    response = requests.post('https://api.originality.ai/api/v1/scan/ai',headers=headers, params=params)\n",
    "    return(response)"
   ]
  },
  {
   "cell_type": "code",
   "execution_count": 11,
   "metadata": {},
   "outputs": [],
   "source": [
    "content =\"\"\"The majority of spiders cannot harm anyone and it is very uncommon for people to be bitten by them. To avoid any unnecessary encounters, there are a few things that you can do to ensure you keep spiders away from your home.\n",
    "\n",
    "They are unpleasant to look at and their webs can cause a mess if they infest your home or business. From Common House Spiders to Black Widows, we can give you more information about these creatures to help you get over your fears.\n",
    "\n",
    "Do you think you have spiders?\n",
    "Don't waste time, book a treatment now with one of our experts\n",
    "\n",
    "Black Widow Spider\n",
    "(Lactrodectus hesperus)\n",
    "\n",
    "Black Widow Spiders\n",
    "Appearance\n",
    "Color: typically black, underneath side has 2 reddish triangular markings usually joined to form a reddish hour glass-shaped figure on females.\n",
    "Females are overall length of 1 1/2- 1 3/8” long\n",
    "Males are about half the size of females.\n",
    "Life cycle and habits of the black widow spider\n",
    "Dealing with spider infestations\n",
    "Spiders are certainly a nuisance and Ehrlich’s spider treatments can get rid of these critters.\n",
    "\n",
    "Our highly trained specialists can provide interior and exterior treatments to places including spider harborage spots. They can remove those pesky spider webs too, which could make your property look cleaner and more inviting.\n",
    "\n",
    "Brown Recluse Spider\n",
    "(Loxosceles reclusa)\n",
    "\n",
    "brown recluse spider\n",
    "Appearance\n",
    "1/4 to 3/4 inch long.\n",
    "Brown or deep yellow color.\n",
    "Long, thin, brown legs covered with fine hairs.\n",
    "Six eyes, arranged in pairs in a semicircle.\n",
    "Often called ‘fiddleback’ or ‘violin’ spiders because of the violin-shaped marking on the top surface which points from the head area toward the abdomen.\n",
    "Life cycle and habits of the brown recluse spider\n",
    "Common House Spider\n",
    "common house spider\n",
    "Appearance\n",
    "Adult – body length excluding legs 1/4\" – 3/8\". Yellow brown body with faint markings. Abdomen pale gray brown with short hairs.\n",
    "The domestic or common house spider is the most commonly seen spider in North America.\n",
    "Most often encountered indoors, the house spider is a nuisance pest because of its webs more than the spider itself.\n",
    "Several species of the house spider exist, but the common house spider is the most recognized.\n",
    "Life cycle and habits of the common house spider\n",
    "Common house spider control\n",
    "Controlling house spiders is as simple as keeping a clean home and taking measures to make your home environment less attractive to spiders:\n",
    "\n",
    "Patch up cracks and holes leading from the outside in to prevent spiders from finding their way inside the home.\n",
    "Clean up after meals. Food crumbs will attract other pests like ants, which, in turn, will attract spiders.\n",
    "Sweep and vacuum behind and beneath sofas, chairs, and nightstands.\n",
    "Pick up clutter. Old newspapers and piles of dirty clothes are ideal hiding places for spider species that thrive in darkness.\n",
    "Spiders don’t like peppermint oil or vinegar. Spray windowsills and entryways with a solution of 1/2 cup white vinegar, 1 1/2 cups water, and 20 drops of peppermint essential oil\n",
    "Cellar Spider (Daddy Long Legs)\n",
    "(Pholcus Phalangioides)\n",
    "\n",
    "daddy longlegs\n",
    "Appearance\n",
    "2-8mm long\n",
    "Characterized by having very long legs. Typically pale yellow to brown or gray in color.\n",
    "Typically have eight eyes (some species have six eyes).\n",
    "Life cycle and habits of the cellar spider\n",
    "Garden Orb-Weaving Spider\n",
    "(Eriophora spp)\n",
    "\n",
    "garden orb weaver\n",
    "Appearance\n",
    "The commonly seen Garden Orb Weavers are 1-2.5cm in length. Most are stout , reddish – brown or gray spiders with a leaf shaped pattern on their triangular abdomens.\n",
    "Orb weavers vary in color, but many of them have brightly colored bodies as well as hairy legs.\n",
    "The easiest way to identify an orb-weaver is through its web, which resembles the typical circular spider web depicted in popular culture.\n",
    "Life cycle and habits of the garden orb-weaving spider\n",
    "Huntsman Spider\n",
    "(Delena spp, Holconia spp, Neosparassus spp, Olios spp)\n",
    "\n",
    "huntsman spider\n",
    "Appearance\n",
    "Come in a variety of colors and patterns but are mostly brown, black and gray (there are over 100 species of Huntsman spiders).\n",
    "Some species are very large reaching over 160mm in leg span.\n",
    "The two back pairs of legs are shorter than the ones at the front and the legs fan out sideways enabling them to walk forwards and sideways often giving them a crab-like appearance.\n",
    "Life cycle and habits of the huntsman spider\n",
    "Scorpions (1100 Species)\n",
    "(Scorpions)\n",
    "\n",
    "scorpion\n",
    "Appearance\n",
    "Adult -1/2\" – 8\". Color varies with species, from yellow to black. Easily distinguished by their pincers and a long, segmented tail bearing a stinger. They have four pairs of legs.\n",
    "Abdomen is segmented\n",
    "Life cycle and habits of scorpions\n",
    "Yellow Garden Spider\n",
    "(Argiope aurantia)\n",
    "\n",
    "yellow garden spider\n",
    "Appearance\n",
    "Yellow garden spiders have black legs. Females range from 0.7 to 1.1 inch and males range from 0.2 to 0.3 inch.\n",
    "Life cycle and habits of the yellow garden spider\n",
    "Tarantulas\n",
    "(Genus Aphonopelma)\n",
    "\n",
    "tarantula\n",
    "Appearance\n",
    "Adult body length excluding legs – 1\"- 5\". Most tarantulas have black or brown hairy bodies and legs but some species exhibit striking colors.\n",
    "Life cycle and habits of tarantulas\n",
    "Wolf Spider\n",
    "(Trochosa ruricola)\n",
    "\n",
    "wolf spider\n",
    "Appearance\n",
    "Adult female: 5/16\"; male - 1/4\". They have eight eyes that are in three rows and are generally brown to gray in color.\n",
    "Wolf spiders can have hairs.\n",
    "Life cycle and habits of the wolf spider\n",
    "Yellow Sac Spider\n",
    "(Cheiracanthium)\n",
    "\n",
    "Cheiracanthium sp.\n",
    "Appearance\n",
    "Pale in color, abdomen can be yellow or beige with a faint dark stripe running lengthwise.\n",
    "1/4 to 3/8 inches long\n",
    "4 pairs of legs, the 1st pair longer than the 4th.\n",
    "Eight similarly-sized dark eyes arranged in two horizontal rows.\n",
    "Life cycle and habits of the yellow sac spider\n",
    "Yellow sac spider habitats and behaviors\n",
    "Sometimes referred to as a “yellow sac spider”, these spiders are often pale yellow in color and have even been known to have a hint or tinge of green. Similar to most spiders, sac spiders prefer to stay away from human contact and typically only find their way indoors by accident. The sac spider is commonly found in homes and is often mistaken for the brown recluse because it is similar in shape, but the sac spider lacks the “fiddle” pattern of the brown recluse. For the most part, sac spiders prefer to feed on a variety of types of spiders along with other garden insects.\n",
    "\n",
    "Outdoors, sac spiders can be seen in gardens, under vegetation, bark, in rolled leaves, and organic debris. Sac spiders are often shipped in agricultural products such as grapes and can make their way into homes on produce. It is common to see these spiders inside a home during the fall as they begin to seek warmth from the dropping temperatures outdoors. They can easily climb slick surfaces and will construct silk, sac-like retreats wherever walls meet other walls or ceilings.\n",
    "\n",
    "Sac spiders are hunting spiders that use their silk sac only for their retreat or for their egg capsules. They are nocturnal, hunting at night for other insects. The bite of a common sac spider can be misdiagnosed as a brown recluse spider bite. Injuries develop in a similar manner but are much less severe. Although the bite of a yellow sac spider can be painful, it is not medically significant except for allergic individuals. Reactions, such as swelling, slow healing, and ulcerated sores around the bite site, are similar enough to be confusing. If you suspect that you have been bitten by a spider, seek medical attention if symptoms persist or intensify.\"\"\""
   ]
  },
  {
   "cell_type": "code",
   "execution_count": 13,
   "metadata": {},
   "outputs": [],
   "source": [
    "response = content_scan(content)"
   ]
  },
  {
   "cell_type": "code",
   "execution_count": 14,
   "metadata": {},
   "outputs": [
    {
     "data": {
      "text/plain": [
       "{'success': True,\n",
       " 'score': {'original': 0.9937858581542969, 'ai': 0.006214137431622173},\n",
       " 'credits_used': 12,\n",
       " 'credits': 151729,\n",
       " 'content': 'The majority of spiders cannot harm anyone and it is very uncommon for people to be bitten by them. To avoid any unnecessary encounters, there are a few things that you can do to ensure you keep spiders away from your home.\\n\\nThey are unpleasant to look at and their webs can cause a mess if they infest your home or business. From Common House Spiders to Black Widows, we can give you more information about these creatures to help you get over your fears.\\n\\nDo you think you have spiders?\\nDon\\'t waste time, book a treatment now with one of our experts\\n\\nBlack Widow Spider\\n(Lactrodectus hesperus)\\n\\nBlack Widow Spiders\\nAppearance\\nColor: typically black, underneath side has 2 reddish triangular markings usually joined to form a reddish hour glass-shaped figure on females.\\nFemales are overall length of 1 1/2- 1 3/8” long\\nMales are about half the size of females.\\nLife cycle and habits of the black widow spider\\nDealing with spider infestations\\nSpiders are certainly a nuisance and Ehrlich’s spider treatments can get rid of these critters.\\n\\nOur highly trained specialists can provide interior and exterior treatments to places including spider harborage spots. They can remove those pesky spider webs too, which could make your property look cleaner and more inviting.\\n\\nBrown Recluse Spider\\n(Loxosceles reclusa)\\n\\nbrown recluse spider\\nAppearance\\n1/4 to 3/4 inch long.\\nBrown or deep yellow color.\\nLong, thin, brown legs covered with fine hairs.\\nSix eyes, arranged in pairs in a semicircle.\\nOften called ‘fiddleback’ or ‘violin’ spiders because of the violin-shaped marking on the top surface which points from the head area toward the abdomen.\\nLife cycle and habits of the brown recluse spider\\nCommon House Spider\\ncommon house spider\\nAppearance\\nAdult – body length excluding legs 1/4\" – 3/8\". Yellow brown body with faint markings. Abdomen pale gray brown with short hairs.\\nThe domestic or common house spider is the most commonly seen spider in North America.\\nMost often encountered indoors, the house spider is a nuisance pest because of its webs more than the spider itself.\\nSeveral species of the house spider exist, but the common house spider is the most recognized.\\nLife cycle and habits of the common house spider\\nCommon house spider control\\nControlling house spiders is as simple as keeping a clean home and taking measures to make your home environment less attractive to spiders:\\n\\nPatch up cracks and holes leading from the outside in to prevent spiders from finding their way inside the home.\\nClean up after meals. Food crumbs will attract other pests like ants, which, in turn, will attract spiders.\\nSweep and vacuum behind and beneath sofas, chairs, and nightstands.\\nPick up clutter. Old newspapers and piles of dirty clothes are ideal hiding places for spider species that thrive in darkness.\\nSpiders don’t like peppermint oil or vinegar. Spray windowsills and entryways with a solution of 1/2 cup white vinegar, 1 1/2 cups water, and 20 drops of peppermint essential oil\\nCellar Spider (Daddy Long Legs)\\n(Pholcus Phalangioides)\\n\\ndaddy longlegs\\nAppearance\\n2-8mm long\\nCharacterized by having very long legs. Typically pale yellow to brown or gray in color.\\nTypically have eight eyes (some species have six eyes).\\nLife cycle and habits of the cellar spider\\nGarden Orb-Weaving Spider\\n(Eriophora spp)\\n\\ngarden orb weaver\\nAppearance\\nThe commonly seen Garden Orb Weavers are 1-2.5cm in length. Most are stout , reddish – brown or gray spiders with a leaf shaped pattern on their triangular abdomens.\\nOrb weavers vary in color, but many of them have brightly colored bodies as well as hairy legs.\\nThe easiest way to identify an orb-weaver is through its web, which resembles the typical circular spider web depicted in popular culture.\\nLife cycle and habits of the garden orb-weaving spider\\nHuntsman Spider\\n(Delena spp, Holconia spp, Neosparassus spp, Olios spp)\\n\\nhuntsman spider\\nAppearance\\nCome in a variety of colors and patterns but are mostly brown, black and gray (there are over 100 species of Huntsman spiders).\\nSome species are very large reaching over 160mm in leg span.\\nThe two back pairs of legs are shorter than the ones at the front and the legs fan out sideways enabling them to walk forwards and sideways often giving them a crab-like appearance.\\nLife cycle and habits of the huntsman spider\\nScorpions (1100 Species)\\n(Scorpions)\\n\\nscorpion\\nAppearance\\nAdult -1/2\" – 8\". Color varies with species, from yellow to black. Easily distinguished by their pincers and a long, segmented tail bearing a stinger. They have four pairs of legs.\\nAbdomen is segmented\\nLife cycle and habits of scorpions\\nYellow Garden Spider\\n(Argiope aurantia)\\n\\nyellow garden spider\\nAppearance\\nYellow garden spiders have black legs. Females range from 0.7 to 1.1 inch and males range from 0.2 to 0.3 inch.\\nLife cycle and habits of the yellow garden spider\\nTarantulas\\n(Genus Aphonopelma)\\n\\ntarantula\\nAppearance\\nAdult body length excluding legs – 1\"- 5\". Most tarantulas have black or brown hairy bodies and legs but some species exhibit striking colors.\\nLife cycle and habits of tarantulas\\nWolf Spider\\n(Trochosa ruricola)\\n\\nwolf spider\\nAppearance\\nAdult female: 5/16\"; male - 1/4\". They have eight eyes that are in three rows and are generally brown to gray in color.\\nWolf spiders can have hairs.\\nLife cycle and habits of the wolf spider\\nYellow Sac Spider\\n(Cheiracanthium)\\n\\nCheiracanthium sp.\\nAppearance\\nPale in color, abdomen can be yellow or beige with a faint dark stripe running lengthwise.\\n1/4 to 3/8 inches long\\n4 pairs of legs, the 1st pair longer than the 4th.\\nEight similarly-sized dark eyes arranged in two horizontal rows.\\nLife cycle and habits of the yellow sac spider\\nYellow sac spider habitats and behaviors\\nSometimes referred to as a “yellow sac spider”, these spiders are often pale yellow in color and have even been known to have a hint or tinge of green. Similar to most spiders, sac spiders prefer to stay away from human contact and typically only find their way indoors by accident. The sac spider is commonly found in homes and is often mistaken for the brown recluse because it is similar in shape, but the sac spider lacks the “fiddle” pattern of the brown recluse. For the most part, sac spiders prefer to feed on a variety of types of spiders along with other garden insects.\\n\\nOutdoors, sac spiders can be seen in gardens, under vegetation, bark, in rolled leaves, and organic debris. Sac spiders are often shipped in agricultural products such as grapes and can make their way into homes on produce. It is common to see these spiders inside a home during the fall as they begin to seek warmth from the dropping temperatures outdoors. They can easily climb slick surfaces and will construct silk, sac-like retreats wherever walls meet other walls or ceilings.\\n\\nSac spiders are hunting spiders that use their silk sac only for their retreat or for their egg capsules. They are nocturnal, hunting at night for other insects. The bite of a common sac spider can be misdiagnosed as a brown recluse spider bite. Injuries develop in a similar manner but are much less severe. Although the bite of a yellow sac spider can be painful, it is not medically significant except for allergic individuals. Reactions, such as swelling, slow healing, and ulcerated sores around the bite site, are similar enough to be confusing. If you suspect that you have been bitten by a spider, seek medical attention if symptoms persist or intensify.'}"
      ]
     },
     "execution_count": 14,
     "metadata": {},
     "output_type": "execute_result"
    }
   ],
   "source": [
    "response.json()"
   ]
  },
  {
   "cell_type": "code",
   "execution_count": null,
   "metadata": {},
   "outputs": [],
   "source": []
  }
 ],
 "metadata": {
  "kernelspec": {
   "display_name": "base",
   "language": "python",
   "name": "python3"
  },
  "language_info": {
   "codemirror_mode": {
    "name": "ipython",
    "version": 3
   },
   "file_extension": ".py",
   "mimetype": "text/x-python",
   "name": "python",
   "nbconvert_exporter": "python",
   "pygments_lexer": "ipython3",
   "version": "3.10.9"
  },
  "orig_nbformat": 4,
  "vscode": {
   "interpreter": {
    "hash": "b9d0320435b592720051846a30c3c35a68bf649ab9728fd60bade915b8884093"
   }
  }
 },
 "nbformat": 4,
 "nbformat_minor": 2
}
