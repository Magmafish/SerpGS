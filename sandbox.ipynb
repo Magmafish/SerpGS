{
 "cells": [
  {
   "cell_type": "code",
   "execution_count": 1,
   "metadata": {},
   "outputs": [],
   "source": [
    "import pandas as pd\n",
    "import numpy as np\n",
    "import os\n",
    "from typing import List, Dict, Optional\n",
    "import inspect"
   ]
  },
  {
   "cell_type": "code",
   "execution_count": 3,
   "metadata": {},
   "outputs": [
    {
     "data": {
      "text/html": [
       "<div>\n",
       "<style scoped>\n",
       "    .dataframe tbody tr th:only-of-type {\n",
       "        vertical-align: middle;\n",
       "    }\n",
       "\n",
       "    .dataframe tbody tr th {\n",
       "        vertical-align: top;\n",
       "    }\n",
       "\n",
       "    .dataframe thead th {\n",
       "        text-align: right;\n",
       "    }\n",
       "</style>\n",
       "<table border=\"1\" class=\"dataframe\">\n",
       "  <thead>\n",
       "    <tr style=\"text-align: right;\">\n",
       "      <th></th>\n",
       "      <th>kw</th>\n",
       "      <th>rank</th>\n",
       "      <th>link</th>\n",
       "      <th>success</th>\n",
       "      <th>word_count</th>\n",
       "      <th>percent_human</th>\n",
       "      <th>percent_ai</th>\n",
       "    </tr>\n",
       "  </thead>\n",
       "  <tbody>\n",
       "    <tr>\n",
       "      <th>0</th>\n",
       "      <td>how to finish concrete</td>\n",
       "      <td>1</td>\n",
       "      <td>https://www.familyhandyman.com/project/how-to-...</td>\n",
       "      <td>True</td>\n",
       "      <td>1689.0</td>\n",
       "      <td>99.926081</td>\n",
       "      <td>0.073917</td>\n",
       "    </tr>\n",
       "  </tbody>\n",
       "</table>\n",
       "</div>"
      ],
      "text/plain": [
       "                       kw  rank  \\\n",
       "0  how to finish concrete     1   \n",
       "\n",
       "                                                link  success  word_count  \\\n",
       "0  https://www.familyhandyman.com/project/how-to-...     True      1689.0   \n",
       "\n",
       "   percent_human  percent_ai  \n",
       "0      99.926081    0.073917  "
      ]
     },
     "execution_count": 3,
     "metadata": {},
     "output_type": "execute_result"
    }
   ],
   "source": [
    "data = pd.read_csv('data/data_clean.old.csv')\n",
    "data.head(1)"
   ]
  },
  {
   "cell_type": "code",
   "execution_count": 5,
   "metadata": {},
   "outputs": [
    {
     "data": {
      "text/plain": [
       "https://www.homepest.com/blog/are-wolf-spiders-poisonous                                                     4\n",
       "https://www.hitched.co.uk/wedding-planning/fun/8th-wedding-anniversary/                                      3\n",
       "https://draxe.com/recipes/almond-milk/                                                                       3\n",
       "https://www.hopkinsmedicine.org/health/wellness-and-prevention/the-dangers-of-uncontrolled-sleep-apnea       3\n",
       "https://wd40.in/tutorials/how-to-remove-rust-stains-from-clothes/                                            3\n",
       "                                                                                                            ..\n",
       "https://www.instructables.com/Build-a-Floating-Deck/                                                         1\n",
       "https://tnthomeimprovements.com/2021/07/23/what-is-a-ground-level-deck-the-benefits-and-features/            1\n",
       "https://www.heart.org/en/health-topics/high-blood-pressure/understanding-blood-pressure-readings             1\n",
       "https://www.cdc.gov/bloodpressure/about.htm                                                                  1\n",
       "https://www.livingspaces.com/departments/furniture/living-room/accent-and-sofa-chairs?design_type=Reading    1\n",
       "Name: link, Length: 14057, dtype: int64"
      ]
     },
     "execution_count": 5,
     "metadata": {},
     "output_type": "execute_result"
    }
   ],
   "source": [
    "counts = data['link'].value_counts()\n",
    "counts"
   ]
  },
  {
   "cell_type": "code",
   "execution_count": 8,
   "metadata": {},
   "outputs": [
    {
     "data": {
      "text/plain": [
       "88704"
      ]
     },
     "execution_count": 8,
     "metadata": {},
     "output_type": "execute_result"
    }
   ],
   "source": [
    "combined = pd.read_csv('data/combined.csv')\n",
    "len(combined)"
   ]
  },
  {
   "cell_type": "code",
   "execution_count": 7,
   "metadata": {},
   "outputs": [
    {
     "data": {
      "text/plain": [
       "https://www.homepest.com/blog/are-wolf-spiders-poisonous                                                     4\n",
       "https://www.hitched.co.uk/wedding-planning/fun/8th-wedding-anniversary/                                      3\n",
       "https://draxe.com/recipes/almond-milk/                                                                       3\n",
       "https://www.hopkinsmedicine.org/health/wellness-and-prevention/the-dangers-of-uncontrolled-sleep-apnea       3\n",
       "https://wd40.in/tutorials/how-to-remove-rust-stains-from-clothes/                                            3\n",
       "                                                                                                            ..\n",
       "https://www.instructables.com/Build-a-Floating-Deck/                                                         1\n",
       "https://tnthomeimprovements.com/2021/07/23/what-is-a-ground-level-deck-the-benefits-and-features/            1\n",
       "https://www.heart.org/en/health-topics/high-blood-pressure/understanding-blood-pressure-readings             1\n",
       "https://www.cdc.gov/bloodpressure/about.htm                                                                  1\n",
       "https://www.livingspaces.com/departments/furniture/living-room/accent-and-sofa-chairs?design_type=Reading    1\n",
       "Name: link, Length: 14057, dtype: int64"
      ]
     },
     "execution_count": 7,
     "metadata": {},
     "output_type": "execute_result"
    }
   ],
   "source": [
    "counts = data['link'].value_counts()\n",
    "counts"
   ]
  },
  {
   "cell_type": "code",
   "execution_count": null,
   "metadata": {},
   "outputs": [],
   "source": [
    "spider = "
   ]
  }
 ],
 "metadata": {
  "kernelspec": {
   "display_name": "stats",
   "language": "python",
   "name": "python3"
  },
  "language_info": {
   "codemirror_mode": {
    "name": "ipython",
    "version": 3
   },
   "file_extension": ".py",
   "mimetype": "text/x-python",
   "name": "python",
   "nbconvert_exporter": "python",
   "pygments_lexer": "ipython3",
   "version": "3.10.9"
  },
  "orig_nbformat": 4
 },
 "nbformat": 4,
 "nbformat_minor": 2
}
