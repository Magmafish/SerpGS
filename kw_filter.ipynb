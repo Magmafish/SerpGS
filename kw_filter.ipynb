{
 "cells": [
  {
   "cell_type": "code",
   "execution_count": 1,
   "id": "957282c5-6895-4174-ae51-d3419a158c20",
   "metadata": {},
   "outputs": [],
   "source": [
    "import pandas as pd\n",
    "from typing import List, Dict, Optional\n",
    "import inspect"
   ]
  },
  {
   "cell_type": "code",
   "execution_count": 2,
   "id": "307754d4",
   "metadata": {},
   "outputs": [],
   "source": [
    "pd.set_option('display.max_rows', 10)\n",
    "pd.set_option('display.max_columns', 100)"
   ]
  },
  {
   "attachments": {},
   "cell_type": "markdown",
   "id": "9d61e641",
   "metadata": {},
   "source": [
    "# This notebook is for cleaning the input dataset\n",
    "* Removal of non-ASCII kw\n",
    "* Removal of offencive kw and URLs\n",
    "* Dropping of columns not used"
   ]
  },
  {
   "cell_type": "code",
   "execution_count": 3,
   "id": "d34f2861",
   "metadata": {},
   "outputs": [],
   "source": [
    "def remove_non_ascii_kw(df: pd.DataFrame) -> pd.DataFrame:\n",
    "    \"\"\"\n",
    "    Removes rows from a DataFrame where the \"Keyword\" column contains non-ASCII characters.\n",
    "    \n",
    "    Args:\n",
    "        df (pandas.DataFrame): The DataFrame to process.\n",
    "    \n",
    "    Returns:\n",
    "        pandas.DataFrame: The modified DataFrame with rows removed.\n",
    "    \"\"\"\n",
    "    # Remove rows where \"Keyword\" contains non-ASCII characters\n",
    "    df_start_len = len(df)\n",
    "    df = df[df['Keyword'].apply(lambda x: all(ord(c) < 128 for c in x))]\n",
    "    \n",
    "    # Print some statistics\n",
    "    print(f\"df start length: {df_start_len}\")\n",
    "    print(f\"df final length: {len(df)}\")\n",
    "    print(f\"records removed: {df_start_len - len(df)}\")\n",
    "    \n",
    "    # Return the modified DataFrame\n",
    "    return df\n"
   ]
  },
  {
   "cell_type": "code",
   "execution_count": 4,
   "id": "d1f71948",
   "metadata": {},
   "outputs": [],
   "source": [
    "def fix_nan(df: pd.DataFrame) -> pd.DataFrame:\n",
    "    \"\"\"\n",
    "    Replaces NaN values in the \"SERP features\" and \"CPC\" columns of a pandas DataFrame with appropriate default values.\n",
    "    \n",
    "    Args:\n",
    "        df (pandas.DataFrame): The DataFrame to process.\n",
    "    \n",
    "    Returns:\n",
    "        pandas.DataFrame: The modified DataFrame with NaN values replaced.\n",
    "    \"\"\"\n",
    "    # Count NaN values in \"SERP features\" and \"CPC\" columns\n",
    "    serp_nan = df['SERP features'].isna().sum()\n",
    "    cpc_nan = df['CPC'].isna().sum()\n",
    "    \n",
    "    # Replace NaN values with appropriate default values\n",
    "    df['SERP features'] = df['SERP features'].fillna('None')\n",
    "    df['CPC'] = df['CPC'].fillna(0)\n",
    "    \n",
    "    # Print some statistics\n",
    "    print(f\"SERP features NaN records replaced with 'None': {serp_nan}\")\n",
    "    print(f\"CPC NaN records replaced with 0: {cpc_nan}\")\n",
    "    \n",
    "    # Return the modified DataFrame\n",
    "    return df"
   ]
  },
  {
   "cell_type": "code",
   "execution_count": 5,
   "id": "23d81003",
   "metadata": {},
   "outputs": [],
   "source": [
    "def remove_blocklist_kw(df: pd.DataFrame, kw_blocklist: List[str]) -> pd.DataFrame:\n",
    "    \"\"\"\n",
    "    Removes rows from a pandas DataFrame where the \"Keyword\" column contains any of the keywords in a blocklist.\n",
    "\n",
    "    Args:\n",
    "        df (pandas.DataFrame): The DataFrame to process.\n",
    "        kw_blocklist (List[str]): A list of keywords to remove from the DataFrame.\n",
    "\n",
    "    Returns:\n",
    "        pandas.DataFrame: The modified DataFrame with the specified keywords removed.\n",
    "    \"\"\"\n",
    "    # Get the length of the input DataFrame\n",
    "    df_start_len = len(df)\n",
    "\n",
    "    # Create a regular expression pattern from the blocklist\n",
    "    kw_pattern = '|'.join(kw_blocklist)\n",
    "\n",
    "    # Create a mask for rows containing keywords in the blocklist\n",
    "    kw_mask = df['Keyword'].str.contains(kw_pattern, case=False)\n",
    "\n",
    "    # Use the mask to remove the specified keywords from the DataFrame\n",
    "    df = df[~kw_mask]\n",
    "\n",
    "    # Print some statistics\n",
    "    print(f\"df start length: {df_start_len}\")\n",
    "    print(f\"df final length: {len(df)}\")\n",
    "    print(f\"records removed: {df_start_len - len(df)}\")\n",
    "\n",
    "    # Return the modified DataFrame\n",
    "    return df"
   ]
  },
  {
   "cell_type": "code",
   "execution_count": 6,
   "id": "c994b23f",
   "metadata": {},
   "outputs": [],
   "source": [
    "def remove_blocklist_url(df: pd.DataFrame, url_blocklist: List[str]) -> pd.DataFrame:\n",
    "    \"\"\"\n",
    "    Removes rows from a pandas DataFrame where the \"URL\" column contains any of the URLs in a blocklist.\n",
    "\n",
    "    Args:\n",
    "        df (pandas.DataFrame): The DataFrame to process.\n",
    "        url_blocklist (List[str]): A list of URLs to remove from the DataFrame.\n",
    "\n",
    "    Returns:\n",
    "        pandas.DataFrame: The modified DataFrame with the specified URLs removed.\n",
    "    \"\"\"\n",
    "    # Get the length of the input DataFrame\n",
    "    df_start_len = len(df)\n",
    "\n",
    "    # Create a regular expression pattern from the blocklist\n",
    "    url_pattern = '|'.join(url_blocklist)\n",
    "\n",
    "    # Create a mask for rows containing URLs in the blocklist\n",
    "    url_mask = df['url'].str.contains(url_pattern, case=False)\n",
    "\n",
    "    # Use the mask to remove the specified URLs from the DataFrame\n",
    "    df = df[~url_mask]\n",
    "\n",
    "    # Print some statistics\n",
    "    print(f\"df start length: {df_start_len}\")\n",
    "    print(f\"df final length: {len(df)}\")\n",
    "    print(f\"records removed: {df_start_len - len(df)}\")\n",
    "\n",
    "    # Return the modified DataFrame\n",
    "    return df"
   ]
  },
  {
   "cell_type": "code",
   "execution_count": 7,
   "id": "13722a84",
   "metadata": {},
   "outputs": [],
   "source": [
    "def show_df_info(df: pd.DataFrame) -> pd.DataFrame:\n",
    "    \"\"\"\n",
    "    Prints information about a DataFrame, including column names, data types, and non-null counts.\n",
    "    \n",
    "    Args:\n",
    "        df (pandas.DataFrame): The DataFrame to process.\n",
    "        \n",
    "    Returns:\n",
    "        pandas.DataFrame: A DataFrame containing the column names, data types, and non-null counts, and null counts of the input DataFrame.\n",
    "    \"\"\"\n",
    "    col_names = df.columns.to_list()\n",
    "    col_dtypes = df.dtypes.to_list()\n",
    "    non_null_counts = df.count().to_list()\n",
    "    null_counts = df.isnull().sum().to_list()\n",
    "    info_df = pd.DataFrame({'column_name': col_names, 'dtype': col_dtypes, 'non_null_count': non_null_counts, 'null_count': null_counts})\n",
    "\n",
    "    caller_frame = inspect.currentframe().f_back\n",
    "    df_name = [var_name for var_name, var_val in caller_frame.f_locals.items() if var_val is df][0]\n",
    "\n",
    "    print(f\"DataFrame '{df_name}' has {len(df)} rows and {len(df.columns)} columns.\")\n",
    "    print(\"Here is a summary of the column names, data types and null counts:\")\n",
    "    return info_df"
   ]
  },
  {
   "cell_type": "code",
   "execution_count": 8,
   "id": "9572cb53",
   "metadata": {},
   "outputs": [],
   "source": [
    "def find_duplicate_uid(df):\n",
    "    # Get a boolean Series indicating which rows have a duplicate url\n",
    "    duplicates_mask = df.duplicated(subset=['uid'], keep=False)\n",
    "    \n",
    "    # Use the boolean mask to select the rows with duplicate urls\n",
    "    duplicate_df = df[duplicates_mask]\n",
    "    \n",
    "    # Return the new DataFrame with only the duplicate rows\n",
    "    return duplicate_df"
   ]
  },
  {
   "cell_type": "code",
   "execution_count": 9,
   "id": "986db55e",
   "metadata": {},
   "outputs": [],
   "source": [
    "def check_for_duplicate_uid(df: pd.DataFrame,) -> bool:\n",
    "    test = df.duplicated(subset=['uid']).any()\n",
    "    if test is True:\n",
    "        print('*** Dataset has duplicate uid ***')\n",
    "    else:\n",
    "        print('Dataset has no duplicate uid')\n",
    "    return test"
   ]
  },
  {
   "cell_type": "code",
   "execution_count": 11,
   "id": "8cca37fd",
   "metadata": {},
   "outputs": [],
   "source": [
    "def count_unique_urls(df):\n",
    "    unique_urls = df['url'].nunique() # count unique values in url column\n",
    "    url_counts = df['url'].value_counts() # get count of each url value\n",
    "    df['url_count'] = df['url'].apply(lambda x: url_counts[x]) # create new column with counts for each record\n",
    "    return df"
   ]
  },
  {
   "cell_type": "code",
   "execution_count": 12,
   "id": "651e6bae-9ff3-4cd1-bb45-f0ee293d82cd",
   "metadata": {},
   "outputs": [],
   "source": [
    "df1 = pd.read_csv('data/webmd.csv')\n",
    "df2 = pd.read_csv('data/thespruce.csv')\n",
    "df3 = pd.read_csv('data/amazon.csv')\n",
    "df = pd.concat([df1, df2, df3])\n",
    "df = df.reset_index(drop=True)\n",
    "df = df.copy(deep=True)\n",
    "drop_columns = ['Current position', 'Current URL inside', 'Updated']\n",
    "df = df.drop(drop_columns, axis=1)\n",
    "df = df.rename(columns={'Current URL': 'url'})\n",
    "df['uid'] = df['Keyword'] + '*' + df['url']"
   ]
  },
  {
   "cell_type": "code",
   "execution_count": 13,
   "id": "abe8bd94",
   "metadata": {},
   "outputs": [
    {
     "data": {
      "text/plain": [
       "41220"
      ]
     },
     "execution_count": 13,
     "metadata": {},
     "output_type": "execute_result"
    }
   ],
   "source": [
    "len(df['url'].unique())"
   ]
  },
  {
   "cell_type": "code",
   "execution_count": 14,
   "id": "8e436fe8",
   "metadata": {},
   "outputs": [
    {
     "name": "stdout",
     "output_type": "stream",
     "text": [
      "Dataset has no duplicate uid\n"
     ]
    },
    {
     "data": {
      "text/plain": [
       "False"
      ]
     },
     "execution_count": 14,
     "metadata": {},
     "output_type": "execute_result"
    }
   ],
   "source": [
    "check_for_duplicate_uid(df)"
   ]
  },
  {
   "cell_type": "code",
   "execution_count": 15,
   "id": "1c7d4f50",
   "metadata": {},
   "outputs": [
    {
     "data": {
      "text/plain": [
       "90000"
      ]
     },
     "execution_count": 15,
     "metadata": {},
     "output_type": "execute_result"
    }
   ],
   "source": [
    "count_unique_urls(df)\n",
    "len(df)"
   ]
  },
  {
   "cell_type": "code",
   "execution_count": 34,
   "id": "168df76e",
   "metadata": {},
   "outputs": [
    {
     "data": {
      "text/html": [
       "<div>\n",
       "<style scoped>\n",
       "    .dataframe tbody tr th:only-of-type {\n",
       "        vertical-align: middle;\n",
       "    }\n",
       "\n",
       "    .dataframe tbody tr th {\n",
       "        vertical-align: top;\n",
       "    }\n",
       "\n",
       "    .dataframe thead th {\n",
       "        text-align: right;\n",
       "    }\n",
       "</style>\n",
       "<table border=\"1\" class=\"dataframe\">\n",
       "  <thead>\n",
       "    <tr style=\"text-align: right;\">\n",
       "      <th></th>\n",
       "      <th>Keyword</th>\n",
       "      <th>SERP features</th>\n",
       "      <th>Volume</th>\n",
       "      <th>KD</th>\n",
       "      <th>CPC</th>\n",
       "      <th>Traffic</th>\n",
       "      <th>url</th>\n",
       "      <th>uid</th>\n",
       "      <th>url_count</th>\n",
       "    </tr>\n",
       "  </thead>\n",
       "  <tbody>\n",
       "    <tr>\n",
       "      <th>7470</th>\n",
       "      <td>urinary tract infection treatment</td>\n",
       "      <td>Featured snippet, People also ask, Sitelinks, ...</td>\n",
       "      <td>44000</td>\n",
       "      <td>83</td>\n",
       "      <td>0.83</td>\n",
       "      <td>834</td>\n",
       "      <td>https://www.webmd.com/women/your-guide-urinary...</td>\n",
       "      <td>urinary tract infection treatment*https://www....</td>\n",
       "      <td>29</td>\n",
       "    </tr>\n",
       "    <tr>\n",
       "      <th>3583</th>\n",
       "      <td>what causes a uti in a woman</td>\n",
       "      <td>Featured snippet, People also ask, Sitelinks</td>\n",
       "      <td>21000</td>\n",
       "      <td>86</td>\n",
       "      <td>0.00</td>\n",
       "      <td>1600</td>\n",
       "      <td>https://www.webmd.com/women/your-guide-urinary...</td>\n",
       "      <td>what causes a uti in a woman*https://www.webmd...</td>\n",
       "      <td>29</td>\n",
       "    </tr>\n",
       "    <tr>\n",
       "      <th>8647</th>\n",
       "      <td>symptoms of urinary tract infection</td>\n",
       "      <td>Featured snippet, Thumbnail, People also ask, ...</td>\n",
       "      <td>11000</td>\n",
       "      <td>86</td>\n",
       "      <td>1.27</td>\n",
       "      <td>731</td>\n",
       "      <td>https://www.webmd.com/women/your-guide-urinary...</td>\n",
       "      <td>symptoms of urinary tract infection*https://ww...</td>\n",
       "      <td>29</td>\n",
       "    </tr>\n",
       "    <tr>\n",
       "      <th>17244</th>\n",
       "      <td>symptoms of uti</td>\n",
       "      <td>Featured snippet, Thumbnail, People also ask, ...</td>\n",
       "      <td>29000</td>\n",
       "      <td>86</td>\n",
       "      <td>0.69</td>\n",
       "      <td>369</td>\n",
       "      <td>https://www.webmd.com/women/your-guide-urinary...</td>\n",
       "      <td>symptoms of uti*https://www.webmd.com/women/yo...</td>\n",
       "      <td>29</td>\n",
       "    </tr>\n",
       "    <tr>\n",
       "      <th>6817</th>\n",
       "      <td>bladder infection symptoms</td>\n",
       "      <td>Featured snippet, People also ask, Sitelinks</td>\n",
       "      <td>71000</td>\n",
       "      <td>85</td>\n",
       "      <td>0.77</td>\n",
       "      <td>905</td>\n",
       "      <td>https://www.webmd.com/women/your-guide-urinary...</td>\n",
       "      <td>bladder infection symptoms*https://www.webmd.c...</td>\n",
       "      <td>29</td>\n",
       "    </tr>\n",
       "    <tr>\n",
       "      <th>...</th>\n",
       "      <td>...</td>\n",
       "      <td>...</td>\n",
       "      <td>...</td>\n",
       "      <td>...</td>\n",
       "      <td>...</td>\n",
       "      <td>...</td>\n",
       "      <td>...</td>\n",
       "      <td>...</td>\n",
       "      <td>...</td>\n",
       "    </tr>\n",
       "    <tr>\n",
       "      <th>88874</th>\n",
       "      <td>dco</td>\n",
       "      <td>Thumbnail, People also ask, Knowledge panel, S...</td>\n",
       "      <td>5600</td>\n",
       "      <td>14</td>\n",
       "      <td>8.75</td>\n",
       "      <td>1160</td>\n",
       "      <td>https://advertising.amazon.com/library/guides/...</td>\n",
       "      <td>dco*https://advertising.amazon.com/library/gui...</td>\n",
       "      <td>1</td>\n",
       "    </tr>\n",
       "    <tr>\n",
       "      <th>72415</th>\n",
       "      <td>marketing the brand</td>\n",
       "      <td>Featured snippet, People also ask, Sitelinks</td>\n",
       "      <td>5700</td>\n",
       "      <td>34</td>\n",
       "      <td>0.00</td>\n",
       "      <td>2081</td>\n",
       "      <td>https://advertising.amazon.com/library/guides/...</td>\n",
       "      <td>marketing the brand*https://advertising.amazon...</td>\n",
       "      <td>2</td>\n",
       "    </tr>\n",
       "    <tr>\n",
       "      <th>78218</th>\n",
       "      <td>brand marketing</td>\n",
       "      <td>People also ask, Sitelinks</td>\n",
       "      <td>3800</td>\n",
       "      <td>22</td>\n",
       "      <td>7.73</td>\n",
       "      <td>1606</td>\n",
       "      <td>https://advertising.amazon.com/library/guides/...</td>\n",
       "      <td>brand marketing*https://advertising.amazon.com...</td>\n",
       "      <td>2</td>\n",
       "    </tr>\n",
       "    <tr>\n",
       "      <th>74935</th>\n",
       "      <td>monadesa</td>\n",
       "      <td>Sitelinks, Image pack</td>\n",
       "      <td>34000</td>\n",
       "      <td>0</td>\n",
       "      <td>0.00</td>\n",
       "      <td>1838</td>\n",
       "      <td>http://www.amazon.com/Cyril-Steffan/e/B01IBYO6...</td>\n",
       "      <td>monadesa*http://www.amazon.com/Cyril-Steffan/e...</td>\n",
       "      <td>1</td>\n",
       "    </tr>\n",
       "    <tr>\n",
       "      <th>60411</th>\n",
       "      <td>prime now</td>\n",
       "      <td>Adwords top, Sitelinks, People also ask</td>\n",
       "      <td>15000</td>\n",
       "      <td>47</td>\n",
       "      <td>0.35</td>\n",
       "      <td>12766</td>\n",
       "      <td>http://primenow.amazon.com/</td>\n",
       "      <td>prime now*http://primenow.amazon.com/</td>\n",
       "      <td>1</td>\n",
       "    </tr>\n",
       "  </tbody>\n",
       "</table>\n",
       "<p>88704 rows × 9 columns</p>\n",
       "</div>"
      ],
      "text/plain": [
       "                                   Keyword  \\\n",
       "7470     urinary tract infection treatment   \n",
       "3583          what causes a uti in a woman   \n",
       "8647   symptoms of urinary tract infection   \n",
       "17244                      symptoms of uti   \n",
       "6817            bladder infection symptoms   \n",
       "...                                    ...   \n",
       "88874                                  dco   \n",
       "72415                  marketing the brand   \n",
       "78218                      brand marketing   \n",
       "74935                             monadesa   \n",
       "60411                            prime now   \n",
       "\n",
       "                                           SERP features  Volume  KD   CPC  \\\n",
       "7470   Featured snippet, People also ask, Sitelinks, ...   44000  83  0.83   \n",
       "3583        Featured snippet, People also ask, Sitelinks   21000  86  0.00   \n",
       "8647   Featured snippet, Thumbnail, People also ask, ...   11000  86  1.27   \n",
       "17244  Featured snippet, Thumbnail, People also ask, ...   29000  86  0.69   \n",
       "6817        Featured snippet, People also ask, Sitelinks   71000  85  0.77   \n",
       "...                                                  ...     ...  ..   ...   \n",
       "88874  Thumbnail, People also ask, Knowledge panel, S...    5600  14  8.75   \n",
       "72415       Featured snippet, People also ask, Sitelinks    5700  34  0.00   \n",
       "78218                         People also ask, Sitelinks    3800  22  7.73   \n",
       "74935                              Sitelinks, Image pack   34000   0  0.00   \n",
       "60411            Adwords top, Sitelinks, People also ask   15000  47  0.35   \n",
       "\n",
       "       Traffic                                                url  \\\n",
       "7470       834  https://www.webmd.com/women/your-guide-urinary...   \n",
       "3583      1600  https://www.webmd.com/women/your-guide-urinary...   \n",
       "8647       731  https://www.webmd.com/women/your-guide-urinary...   \n",
       "17244      369  https://www.webmd.com/women/your-guide-urinary...   \n",
       "6817       905  https://www.webmd.com/women/your-guide-urinary...   \n",
       "...        ...                                                ...   \n",
       "88874     1160  https://advertising.amazon.com/library/guides/...   \n",
       "72415     2081  https://advertising.amazon.com/library/guides/...   \n",
       "78218     1606  https://advertising.amazon.com/library/guides/...   \n",
       "74935     1838  http://www.amazon.com/Cyril-Steffan/e/B01IBYO6...   \n",
       "60411    12766                        http://primenow.amazon.com/   \n",
       "\n",
       "                                                     uid  url_count  \n",
       "7470   urinary tract infection treatment*https://www....         29  \n",
       "3583   what causes a uti in a woman*https://www.webmd...         29  \n",
       "8647   symptoms of urinary tract infection*https://ww...         29  \n",
       "17244  symptoms of uti*https://www.webmd.com/women/yo...         29  \n",
       "6817   bladder infection symptoms*https://www.webmd.c...         29  \n",
       "...                                                  ...        ...  \n",
       "88874  dco*https://advertising.amazon.com/library/gui...          1  \n",
       "72415  marketing the brand*https://advertising.amazon...          2  \n",
       "78218  brand marketing*https://advertising.amazon.com...          2  \n",
       "74935  monadesa*http://www.amazon.com/Cyril-Steffan/e...          1  \n",
       "60411              prime now*http://primenow.amazon.com/          1  \n",
       "\n",
       "[88704 rows x 9 columns]"
      ]
     },
     "execution_count": 34,
     "metadata": {},
     "output_type": "execute_result"
    }
   ],
   "source": [
    "df.sort_values('url', ascending=False)"
   ]
  },
  {
   "cell_type": "code",
   "execution_count": 16,
   "id": "444720bc",
   "metadata": {},
   "outputs": [
    {
     "data": {
      "text/html": [
       "<div>\n",
       "<style scoped>\n",
       "    .dataframe tbody tr th:only-of-type {\n",
       "        vertical-align: middle;\n",
       "    }\n",
       "\n",
       "    .dataframe tbody tr th {\n",
       "        vertical-align: top;\n",
       "    }\n",
       "\n",
       "    .dataframe thead th {\n",
       "        text-align: right;\n",
       "    }\n",
       "</style>\n",
       "<table border=\"1\" class=\"dataframe\">\n",
       "  <thead>\n",
       "    <tr style=\"text-align: right;\">\n",
       "      <th></th>\n",
       "      <th>Keyword</th>\n",
       "      <th>SERP features</th>\n",
       "      <th>Volume</th>\n",
       "      <th>KD</th>\n",
       "      <th>CPC</th>\n",
       "      <th>Traffic</th>\n",
       "      <th>url</th>\n",
       "      <th>uid</th>\n",
       "      <th>url_count</th>\n",
       "    </tr>\n",
       "  </thead>\n",
       "  <tbody>\n",
       "    <tr>\n",
       "      <th>89990</th>\n",
       "      <td>did matthew perry had stroke</td>\n",
       "      <td>Featured snippet, People also ask, Image pack</td>\n",
       "      <td>3100</td>\n",
       "      <td>6</td>\n",
       "      <td>NaN</td>\n",
       "      <td>1129</td>\n",
       "      <td>https://alexaanswers.amazon.com/question/0zrQ3...</td>\n",
       "      <td>did matthew perry had stroke*https://alexaansw...</td>\n",
       "      <td>1</td>\n",
       "    </tr>\n",
       "    <tr>\n",
       "      <th>89991</th>\n",
       "      <td>jodorowsky's dune</td>\n",
       "      <td>People also ask, Knowledge panel, Videos</td>\n",
       "      <td>21000</td>\n",
       "      <td>54</td>\n",
       "      <td>0.42</td>\n",
       "      <td>1129</td>\n",
       "      <td>https://www.amazon.com/Jodorowskys-Dune-Chris-...</td>\n",
       "      <td>jodorowsky's dune*https://www.amazon.com/Jodor...</td>\n",
       "      <td>1</td>\n",
       "    </tr>\n",
       "    <tr>\n",
       "      <th>89992</th>\n",
       "      <td>avatar 4k</td>\n",
       "      <td>People also ask, Sitelinks, Video preview</td>\n",
       "      <td>3600</td>\n",
       "      <td>5</td>\n",
       "      <td>0.27</td>\n",
       "      <td>1129</td>\n",
       "      <td>https://www.amazon.com/avatar-4k-ultra-hd-blu-...</td>\n",
       "      <td>avatar 4k*https://www.amazon.com/avatar-4k-ult...</td>\n",
       "      <td>1</td>\n",
       "    </tr>\n",
       "    <tr>\n",
       "      <th>89993</th>\n",
       "      <td>napkin</td>\n",
       "      <td>Image pack, People also ask, Shopping results,...</td>\n",
       "      <td>23000</td>\n",
       "      <td>36</td>\n",
       "      <td>2.44</td>\n",
       "      <td>1128</td>\n",
       "      <td>https://www.amazon.com/napkins/s?k=napkins</td>\n",
       "      <td>napkin*https://www.amazon.com/napkins/s?k=napkins</td>\n",
       "      <td>1</td>\n",
       "    </tr>\n",
       "    <tr>\n",
       "      <th>89994</th>\n",
       "      <td>sharp portable air conditioner</td>\n",
       "      <td>People also ask, Image pack, Video preview, Si...</td>\n",
       "      <td>4200</td>\n",
       "      <td>1</td>\n",
       "      <td>0.77</td>\n",
       "      <td>1128</td>\n",
       "      <td>https://www.amazon.com/sharp-portable-air-cond...</td>\n",
       "      <td>sharp portable air conditioner*https://www.ama...</td>\n",
       "      <td>1</td>\n",
       "    </tr>\n",
       "    <tr>\n",
       "      <th>89995</th>\n",
       "      <td>replacement tent poles</td>\n",
       "      <td>People also ask, Sitelinks, Shopping results, ...</td>\n",
       "      <td>3700</td>\n",
       "      <td>11</td>\n",
       "      <td>0.46</td>\n",
       "      <td>1128</td>\n",
       "      <td>https://www.amazon.com/replacement-tent-poles-...</td>\n",
       "      <td>replacement tent poles*https://www.amazon.com/...</td>\n",
       "      <td>1</td>\n",
       "    </tr>\n",
       "    <tr>\n",
       "      <th>89996</th>\n",
       "      <td>adele 25</td>\n",
       "      <td>Videos, Knowledge panel, People also ask, Site...</td>\n",
       "      <td>17000</td>\n",
       "      <td>42</td>\n",
       "      <td>1.91</td>\n",
       "      <td>1128</td>\n",
       "      <td>https://www.amazon.com/25-Adele/dp/B00L98V4UW</td>\n",
       "      <td>adele 25*https://www.amazon.com/25-Adele/dp/B0...</td>\n",
       "      <td>1</td>\n",
       "    </tr>\n",
       "    <tr>\n",
       "      <th>89997</th>\n",
       "      <td>nd grip camera strap</td>\n",
       "      <td>Shopping results, Thumbnail, Image pack, Sitel...</td>\n",
       "      <td>3000</td>\n",
       "      <td>6</td>\n",
       "      <td>NaN</td>\n",
       "      <td>1128</td>\n",
       "      <td>https://www.amazon.com/Camera-Hand-Strap-Stabi...</td>\n",
       "      <td>nd grip camera strap*https://www.amazon.com/Ca...</td>\n",
       "      <td>3</td>\n",
       "    </tr>\n",
       "    <tr>\n",
       "      <th>89998</th>\n",
       "      <td>silk bandana</td>\n",
       "      <td>Shopping results, Thumbnail, Image pack, Peopl...</td>\n",
       "      <td>4100</td>\n",
       "      <td>6</td>\n",
       "      <td>1.12</td>\n",
       "      <td>1128</td>\n",
       "      <td>https://www.amazon.com/silk-bandana/s?k=silk+b...</td>\n",
       "      <td>silk bandana*https://www.amazon.com/silk-banda...</td>\n",
       "      <td>1</td>\n",
       "    </tr>\n",
       "    <tr>\n",
       "      <th>89999</th>\n",
       "      <td>bar furniture</td>\n",
       "      <td>Shopping results, Thumbnail, Sitelinks</td>\n",
       "      <td>7800</td>\n",
       "      <td>16</td>\n",
       "      <td>1.39</td>\n",
       "      <td>1128</td>\n",
       "      <td>https://www.amazon.com/Home-Bar-Furniture/b?ie...</td>\n",
       "      <td>bar furniture*https://www.amazon.com/Home-Bar-...</td>\n",
       "      <td>3</td>\n",
       "    </tr>\n",
       "  </tbody>\n",
       "</table>\n",
       "</div>"
      ],
      "text/plain": [
       "                              Keyword  \\\n",
       "89990    did matthew perry had stroke   \n",
       "89991               jodorowsky's dune   \n",
       "89992                       avatar 4k   \n",
       "89993                          napkin   \n",
       "89994  sharp portable air conditioner   \n",
       "89995          replacement tent poles   \n",
       "89996                        adele 25   \n",
       "89997            nd grip camera strap   \n",
       "89998                    silk bandana   \n",
       "89999                   bar furniture   \n",
       "\n",
       "                                           SERP features  Volume  KD   CPC  \\\n",
       "89990      Featured snippet, People also ask, Image pack    3100   6   NaN   \n",
       "89991           People also ask, Knowledge panel, Videos   21000  54  0.42   \n",
       "89992          People also ask, Sitelinks, Video preview    3600   5  0.27   \n",
       "89993  Image pack, People also ask, Shopping results,...   23000  36  2.44   \n",
       "89994  People also ask, Image pack, Video preview, Si...    4200   1  0.77   \n",
       "89995  People also ask, Sitelinks, Shopping results, ...    3700  11  0.46   \n",
       "89996  Videos, Knowledge panel, People also ask, Site...   17000  42  1.91   \n",
       "89997  Shopping results, Thumbnail, Image pack, Sitel...    3000   6   NaN   \n",
       "89998  Shopping results, Thumbnail, Image pack, Peopl...    4100   6  1.12   \n",
       "89999             Shopping results, Thumbnail, Sitelinks    7800  16  1.39   \n",
       "\n",
       "       Traffic                                                url  \\\n",
       "89990     1129  https://alexaanswers.amazon.com/question/0zrQ3...   \n",
       "89991     1129  https://www.amazon.com/Jodorowskys-Dune-Chris-...   \n",
       "89992     1129  https://www.amazon.com/avatar-4k-ultra-hd-blu-...   \n",
       "89993     1128         https://www.amazon.com/napkins/s?k=napkins   \n",
       "89994     1128  https://www.amazon.com/sharp-portable-air-cond...   \n",
       "89995     1128  https://www.amazon.com/replacement-tent-poles-...   \n",
       "89996     1128      https://www.amazon.com/25-Adele/dp/B00L98V4UW   \n",
       "89997     1128  https://www.amazon.com/Camera-Hand-Strap-Stabi...   \n",
       "89998     1128  https://www.amazon.com/silk-bandana/s?k=silk+b...   \n",
       "89999     1128  https://www.amazon.com/Home-Bar-Furniture/b?ie...   \n",
       "\n",
       "                                                     uid  url_count  \n",
       "89990  did matthew perry had stroke*https://alexaansw...          1  \n",
       "89991  jodorowsky's dune*https://www.amazon.com/Jodor...          1  \n",
       "89992  avatar 4k*https://www.amazon.com/avatar-4k-ult...          1  \n",
       "89993  napkin*https://www.amazon.com/napkins/s?k=napkins          1  \n",
       "89994  sharp portable air conditioner*https://www.ama...          1  \n",
       "89995  replacement tent poles*https://www.amazon.com/...          1  \n",
       "89996  adele 25*https://www.amazon.com/25-Adele/dp/B0...          1  \n",
       "89997  nd grip camera strap*https://www.amazon.com/Ca...          3  \n",
       "89998  silk bandana*https://www.amazon.com/silk-banda...          1  \n",
       "89999  bar furniture*https://www.amazon.com/Home-Bar-...          3  "
      ]
     },
     "execution_count": 16,
     "metadata": {},
     "output_type": "execute_result"
    }
   ],
   "source": [
    "df.tail(10)"
   ]
  },
  {
   "cell_type": "code",
   "execution_count": 17,
   "id": "5e5cdf16",
   "metadata": {},
   "outputs": [
    {
     "data": {
      "text/html": [
       "<div>\n",
       "<style scoped>\n",
       "    .dataframe tbody tr th:only-of-type {\n",
       "        vertical-align: middle;\n",
       "    }\n",
       "\n",
       "    .dataframe tbody tr th {\n",
       "        vertical-align: top;\n",
       "    }\n",
       "\n",
       "    .dataframe thead th {\n",
       "        text-align: right;\n",
       "    }\n",
       "</style>\n",
       "<table border=\"1\" class=\"dataframe\">\n",
       "  <thead>\n",
       "    <tr style=\"text-align: right;\">\n",
       "      <th></th>\n",
       "      <th>Keyword</th>\n",
       "      <th>SERP features</th>\n",
       "      <th>Volume</th>\n",
       "      <th>KD</th>\n",
       "      <th>CPC</th>\n",
       "      <th>Traffic</th>\n",
       "      <th>url</th>\n",
       "      <th>uid</th>\n",
       "      <th>url_count</th>\n",
       "    </tr>\n",
       "  </thead>\n",
       "  <tbody>\n",
       "    <tr>\n",
       "      <th>0</th>\n",
       "      <td>horny goat weed</td>\n",
       "      <td>Knowledge panel</td>\n",
       "      <td>76000</td>\n",
       "      <td>61</td>\n",
       "      <td>0.37</td>\n",
       "      <td>70591</td>\n",
       "      <td>https://www.webmd.com/vitamins/ai/ingredientmo...</td>\n",
       "      <td>horny goat weed*https://www.webmd.com/vitamins...</td>\n",
       "      <td>10</td>\n",
       "    </tr>\n",
       "  </tbody>\n",
       "</table>\n",
       "</div>"
      ],
      "text/plain": [
       "           Keyword    SERP features  Volume  KD   CPC  Traffic  \\\n",
       "0  horny goat weed  Knowledge panel   76000  61  0.37    70591   \n",
       "\n",
       "                                                 url  \\\n",
       "0  https://www.webmd.com/vitamins/ai/ingredientmo...   \n",
       "\n",
       "                                                 uid  url_count  \n",
       "0  horny goat weed*https://www.webmd.com/vitamins...         10  "
      ]
     },
     "execution_count": 17,
     "metadata": {},
     "output_type": "execute_result"
    }
   ],
   "source": [
    "df.head(1)"
   ]
  },
  {
   "cell_type": "code",
   "execution_count": 18,
   "id": "512e2671-89f7-47ee-888d-f27b539e2ea5",
   "metadata": {},
   "outputs": [
    {
     "name": "stdout",
     "output_type": "stream",
     "text": [
      "DataFrame 'df' has 90000 rows and 9 columns.\n",
      "Here is a summary of the column names, data types and null counts:\n"
     ]
    },
    {
     "data": {
      "text/html": [
       "<div>\n",
       "<style scoped>\n",
       "    .dataframe tbody tr th:only-of-type {\n",
       "        vertical-align: middle;\n",
       "    }\n",
       "\n",
       "    .dataframe tbody tr th {\n",
       "        vertical-align: top;\n",
       "    }\n",
       "\n",
       "    .dataframe thead th {\n",
       "        text-align: right;\n",
       "    }\n",
       "</style>\n",
       "<table border=\"1\" class=\"dataframe\">\n",
       "  <thead>\n",
       "    <tr style=\"text-align: right;\">\n",
       "      <th></th>\n",
       "      <th>column_name</th>\n",
       "      <th>dtype</th>\n",
       "      <th>non_null_count</th>\n",
       "      <th>null_count</th>\n",
       "    </tr>\n",
       "  </thead>\n",
       "  <tbody>\n",
       "    <tr>\n",
       "      <th>0</th>\n",
       "      <td>Keyword</td>\n",
       "      <td>object</td>\n",
       "      <td>90000</td>\n",
       "      <td>0</td>\n",
       "    </tr>\n",
       "    <tr>\n",
       "      <th>1</th>\n",
       "      <td>SERP features</td>\n",
       "      <td>object</td>\n",
       "      <td>89313</td>\n",
       "      <td>687</td>\n",
       "    </tr>\n",
       "    <tr>\n",
       "      <th>2</th>\n",
       "      <td>Volume</td>\n",
       "      <td>int64</td>\n",
       "      <td>90000</td>\n",
       "      <td>0</td>\n",
       "    </tr>\n",
       "    <tr>\n",
       "      <th>3</th>\n",
       "      <td>KD</td>\n",
       "      <td>int64</td>\n",
       "      <td>90000</td>\n",
       "      <td>0</td>\n",
       "    </tr>\n",
       "    <tr>\n",
       "      <th>4</th>\n",
       "      <td>CPC</td>\n",
       "      <td>float64</td>\n",
       "      <td>76574</td>\n",
       "      <td>13426</td>\n",
       "    </tr>\n",
       "    <tr>\n",
       "      <th>5</th>\n",
       "      <td>Traffic</td>\n",
       "      <td>int64</td>\n",
       "      <td>90000</td>\n",
       "      <td>0</td>\n",
       "    </tr>\n",
       "    <tr>\n",
       "      <th>6</th>\n",
       "      <td>url</td>\n",
       "      <td>object</td>\n",
       "      <td>90000</td>\n",
       "      <td>0</td>\n",
       "    </tr>\n",
       "    <tr>\n",
       "      <th>7</th>\n",
       "      <td>uid</td>\n",
       "      <td>object</td>\n",
       "      <td>90000</td>\n",
       "      <td>0</td>\n",
       "    </tr>\n",
       "    <tr>\n",
       "      <th>8</th>\n",
       "      <td>url_count</td>\n",
       "      <td>int64</td>\n",
       "      <td>90000</td>\n",
       "      <td>0</td>\n",
       "    </tr>\n",
       "  </tbody>\n",
       "</table>\n",
       "</div>"
      ],
      "text/plain": [
       "     column_name    dtype  non_null_count  null_count\n",
       "0        Keyword   object           90000           0\n",
       "1  SERP features   object           89313         687\n",
       "2         Volume    int64           90000           0\n",
       "3             KD    int64           90000           0\n",
       "4            CPC  float64           76574       13426\n",
       "5        Traffic    int64           90000           0\n",
       "6            url   object           90000           0\n",
       "7            uid   object           90000           0\n",
       "8      url_count    int64           90000           0"
      ]
     },
     "execution_count": 18,
     "metadata": {},
     "output_type": "execute_result"
    }
   ],
   "source": [
    "show_df_info(df)"
   ]
  },
  {
   "cell_type": "code",
   "execution_count": 19,
   "id": "10ceb7c1",
   "metadata": {},
   "outputs": [
    {
     "name": "stdout",
     "output_type": "stream",
     "text": [
      "df start length: 90000\n",
      "df final length: 89917\n",
      "records removed: 83\n"
     ]
    }
   ],
   "source": [
    "df = remove_non_ascii_kw(df)"
   ]
  },
  {
   "cell_type": "code",
   "execution_count": 20,
   "id": "54595db9-fe6b-4ed9-8e91-664d37768c44",
   "metadata": {},
   "outputs": [],
   "source": [
    "kw_block_list = [\"penis\", \"vagina\", \"sex\", \"slut\", \"dick\", \"fuck\", \"milf\", \"cum \", \"cunt\", \"rape\", \"porn\", \"boner\", \"cock\", \"whore\", \"bitch\", \"futa\", \"wet dreams\", \"cowgirl position\",  \"reverse cowgirl\", \"girl squirt\", \"girls squirt\", \"squirting-orgasm\", \" squirt pee\", \"girl's body\", \"dildo\", \"butt-plug\", \"good head\", \"smells bad down there\", \"xxx\", \"wormwood\", \"fetish\",  \"vibrator\", \"sandalias de mujer\"]"
   ]
  },
  {
   "cell_type": "code",
   "execution_count": 21,
   "id": "32a23abe-6771-44f5-9942-1f2eef0599f9",
   "metadata": {},
   "outputs": [
    {
     "name": "stdout",
     "output_type": "stream",
     "text": [
      "df start length: 89917\n",
      "df final length: 88842\n",
      "records removed: 1075\n"
     ]
    }
   ],
   "source": [
    "df = remove_blocklist_kw(df, kw_block_list)"
   ]
  },
  {
   "cell_type": "code",
   "execution_count": 22,
   "id": "c0e39e45-a2f2-4723-8663-cfd2278815f3",
   "metadata": {},
   "outputs": [],
   "source": [
    "url_blocklist = [\"aws.amazon\", \"www.amazon.com/kindle-dbs\", \"squirting-orgasm\"]"
   ]
  },
  {
   "cell_type": "code",
   "execution_count": 23,
   "id": "8fe32d90-588b-4599-9acd-89694e6a596e",
   "metadata": {},
   "outputs": [
    {
     "name": "stdout",
     "output_type": "stream",
     "text": [
      "df start length: 88842\n",
      "df final length: 88704\n",
      "records removed: 138\n"
     ]
    }
   ],
   "source": [
    "df = remove_blocklist_url(df, url_blocklist)"
   ]
  },
  {
   "cell_type": "code",
   "execution_count": 24,
   "id": "8516cc3d",
   "metadata": {},
   "outputs": [
    {
     "name": "stdout",
     "output_type": "stream",
     "text": [
      "SERP features NaN records replaced with 'None': 602\n",
      "CPC NaN records replaced with 0: 13180\n"
     ]
    }
   ],
   "source": [
    "df = fix_nan(df)"
   ]
  },
  {
   "cell_type": "code",
   "execution_count": 25,
   "id": "7d6fd6b6",
   "metadata": {},
   "outputs": [
    {
     "data": {
      "text/html": [
       "<div>\n",
       "<style scoped>\n",
       "    .dataframe tbody tr th:only-of-type {\n",
       "        vertical-align: middle;\n",
       "    }\n",
       "\n",
       "    .dataframe tbody tr th {\n",
       "        vertical-align: top;\n",
       "    }\n",
       "\n",
       "    .dataframe thead th {\n",
       "        text-align: right;\n",
       "    }\n",
       "</style>\n",
       "<table border=\"1\" class=\"dataframe\">\n",
       "  <thead>\n",
       "    <tr style=\"text-align: right;\">\n",
       "      <th></th>\n",
       "      <th>Keyword</th>\n",
       "      <th>SERP features</th>\n",
       "      <th>Volume</th>\n",
       "      <th>KD</th>\n",
       "      <th>CPC</th>\n",
       "      <th>Traffic</th>\n",
       "      <th>url</th>\n",
       "      <th>uid</th>\n",
       "      <th>url_count</th>\n",
       "    </tr>\n",
       "  </thead>\n",
       "  <tbody>\n",
       "    <tr>\n",
       "      <th>0</th>\n",
       "      <td>horny goat weed</td>\n",
       "      <td>Knowledge panel</td>\n",
       "      <td>76000</td>\n",
       "      <td>61</td>\n",
       "      <td>0.37</td>\n",
       "      <td>70591</td>\n",
       "      <td>https://www.webmd.com/vitamins/ai/ingredientmo...</td>\n",
       "      <td>horny goat weed*https://www.webmd.com/vitamins...</td>\n",
       "      <td>10</td>\n",
       "    </tr>\n",
       "  </tbody>\n",
       "</table>\n",
       "</div>"
      ],
      "text/plain": [
       "           Keyword    SERP features  Volume  KD   CPC  Traffic  \\\n",
       "0  horny goat weed  Knowledge panel   76000  61  0.37    70591   \n",
       "\n",
       "                                                 url  \\\n",
       "0  https://www.webmd.com/vitamins/ai/ingredientmo...   \n",
       "\n",
       "                                                 uid  url_count  \n",
       "0  horny goat weed*https://www.webmd.com/vitamins...         10  "
      ]
     },
     "execution_count": 25,
     "metadata": {},
     "output_type": "execute_result"
    }
   ],
   "source": [
    "df.head(1)"
   ]
  },
  {
   "cell_type": "code",
   "execution_count": 26,
   "id": "35d98498",
   "metadata": {},
   "outputs": [
    {
     "name": "stdout",
     "output_type": "stream",
     "text": [
      "DataFrame 'df' has 88704 rows and 9 columns.\n",
      "Here is a summary of the column names, data types and null counts:\n"
     ]
    },
    {
     "data": {
      "text/html": [
       "<div>\n",
       "<style scoped>\n",
       "    .dataframe tbody tr th:only-of-type {\n",
       "        vertical-align: middle;\n",
       "    }\n",
       "\n",
       "    .dataframe tbody tr th {\n",
       "        vertical-align: top;\n",
       "    }\n",
       "\n",
       "    .dataframe thead th {\n",
       "        text-align: right;\n",
       "    }\n",
       "</style>\n",
       "<table border=\"1\" class=\"dataframe\">\n",
       "  <thead>\n",
       "    <tr style=\"text-align: right;\">\n",
       "      <th></th>\n",
       "      <th>column_name</th>\n",
       "      <th>dtype</th>\n",
       "      <th>non_null_count</th>\n",
       "      <th>null_count</th>\n",
       "    </tr>\n",
       "  </thead>\n",
       "  <tbody>\n",
       "    <tr>\n",
       "      <th>0</th>\n",
       "      <td>Keyword</td>\n",
       "      <td>object</td>\n",
       "      <td>88704</td>\n",
       "      <td>0</td>\n",
       "    </tr>\n",
       "    <tr>\n",
       "      <th>1</th>\n",
       "      <td>SERP features</td>\n",
       "      <td>object</td>\n",
       "      <td>88704</td>\n",
       "      <td>0</td>\n",
       "    </tr>\n",
       "    <tr>\n",
       "      <th>2</th>\n",
       "      <td>Volume</td>\n",
       "      <td>int64</td>\n",
       "      <td>88704</td>\n",
       "      <td>0</td>\n",
       "    </tr>\n",
       "    <tr>\n",
       "      <th>3</th>\n",
       "      <td>KD</td>\n",
       "      <td>int64</td>\n",
       "      <td>88704</td>\n",
       "      <td>0</td>\n",
       "    </tr>\n",
       "    <tr>\n",
       "      <th>4</th>\n",
       "      <td>CPC</td>\n",
       "      <td>float64</td>\n",
       "      <td>88704</td>\n",
       "      <td>0</td>\n",
       "    </tr>\n",
       "    <tr>\n",
       "      <th>5</th>\n",
       "      <td>Traffic</td>\n",
       "      <td>int64</td>\n",
       "      <td>88704</td>\n",
       "      <td>0</td>\n",
       "    </tr>\n",
       "    <tr>\n",
       "      <th>6</th>\n",
       "      <td>url</td>\n",
       "      <td>object</td>\n",
       "      <td>88704</td>\n",
       "      <td>0</td>\n",
       "    </tr>\n",
       "    <tr>\n",
       "      <th>7</th>\n",
       "      <td>uid</td>\n",
       "      <td>object</td>\n",
       "      <td>88704</td>\n",
       "      <td>0</td>\n",
       "    </tr>\n",
       "    <tr>\n",
       "      <th>8</th>\n",
       "      <td>url_count</td>\n",
       "      <td>int64</td>\n",
       "      <td>88704</td>\n",
       "      <td>0</td>\n",
       "    </tr>\n",
       "  </tbody>\n",
       "</table>\n",
       "</div>"
      ],
      "text/plain": [
       "     column_name    dtype  non_null_count  null_count\n",
       "0        Keyword   object           88704           0\n",
       "1  SERP features   object           88704           0\n",
       "2         Volume    int64           88704           0\n",
       "3             KD    int64           88704           0\n",
       "4            CPC  float64           88704           0\n",
       "5        Traffic    int64           88704           0\n",
       "6            url   object           88704           0\n",
       "7            uid   object           88704           0\n",
       "8      url_count    int64           88704           0"
      ]
     },
     "execution_count": 26,
     "metadata": {},
     "output_type": "execute_result"
    }
   ],
   "source": [
    "show_df_info(df)"
   ]
  },
  {
   "cell_type": "code",
   "execution_count": 27,
   "id": "d5a64a23-6dcc-48e6-843e-8fd03f5d6397",
   "metadata": {},
   "outputs": [],
   "source": [
    "df.to_csv('data/combined.csv', index=False)"
   ]
  },
  {
   "cell_type": "code",
   "execution_count": 28,
   "id": "cacf27bd-eaa5-4076-97fb-3afa0d5947e4",
   "metadata": {},
   "outputs": [],
   "source": [
    "df_10_000 = df.sample(n=10000, random_state=42)"
   ]
  },
  {
   "cell_type": "code",
   "execution_count": 29,
   "id": "c3c0b2d0-37b5-464a-8bdf-0bc792bf281e",
   "metadata": {},
   "outputs": [],
   "source": [
    "df_10_000.to_csv('data/kw_10_000.csv', index=False)"
   ]
  },
  {
   "cell_type": "code",
   "execution_count": 30,
   "id": "a5d9feb4-ba07-4e32-88e6-2f9959aadac0",
   "metadata": {},
   "outputs": [],
   "source": [
    "df_1_000 = df_10_000.sample(n=1000, random_state=42)"
   ]
  },
  {
   "cell_type": "code",
   "execution_count": 31,
   "id": "2df20c2b-d448-443f-9c3a-0a450e3be283",
   "metadata": {},
   "outputs": [],
   "source": [
    "df_1_000.to_csv('data/kw_1_000.csv', index=False)"
   ]
  },
  {
   "cell_type": "code",
   "execution_count": 32,
   "id": "ff0114c5",
   "metadata": {},
   "outputs": [
    {
     "data": {
      "text/plain": [
       "966"
      ]
     },
     "execution_count": 32,
     "metadata": {},
     "output_type": "execute_result"
    }
   ],
   "source": [
    "len(df_1_000['url'].unique())"
   ]
  },
  {
   "cell_type": "code",
   "execution_count": 33,
   "id": "3baa4660",
   "metadata": {},
   "outputs": [
    {
     "data": {
      "text/plain": [
       "7989"
      ]
     },
     "execution_count": 33,
     "metadata": {},
     "output_type": "execute_result"
    }
   ],
   "source": [
    "len(df_10_000['url'].unique())"
   ]
  },
  {
   "cell_type": "code",
   "execution_count": null,
   "id": "a20a66eb",
   "metadata": {},
   "outputs": [],
   "source": []
  }
 ],
 "metadata": {
  "kernelspec": {
   "display_name": "Python 3",
   "language": "python",
   "name": "python3"
  },
  "language_info": {
   "codemirror_mode": {
    "name": "ipython",
    "version": 3
   },
   "file_extension": ".py",
   "mimetype": "text/x-python",
   "name": "python",
   "nbconvert_exporter": "python",
   "pygments_lexer": "ipython3",
   "version": "3.10.9"
  },
  "vscode": {
   "interpreter": {
    "hash": "916dbcbb3f70747c44a77c7bcd40155683ae19c65e1c03b4aa3499c5328201f1"
   }
  }
 },
 "nbformat": 4,
 "nbformat_minor": 5
}
