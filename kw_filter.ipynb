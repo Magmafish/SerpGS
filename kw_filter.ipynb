{
 "cells": [
  {
   "cell_type": "code",
   "execution_count": 1,
   "id": "957282c5-6895-4174-ae51-d3419a158c20",
   "metadata": {},
   "outputs": [],
   "source": [
    "import pandas as pd"
   ]
  },
  {
   "cell_type": "code",
   "execution_count": 2,
   "id": "651e6bae-9ff3-4cd1-bb45-f0ee293d82cd",
   "metadata": {},
   "outputs": [],
   "source": [
    "df1 = pd.read_csv('data/webmd.csv')\n",
    "df2 = pd.read_csv('data/thespruce.csv')\n",
    "df3 = pd.read_csv('data/amazon.csv')\n",
    "df = pd.concat([df1, df2, df3])\n",
    "df = df.reset_index(drop=True)\n",
    "columns_to_drop = [\"KD\", \"CPC\", \"Traffic\", \"Current position\", \"Current URL inside\", \"Updated\"]\n",
    "df = df.drop(columns_to_drop, axis=1)\n",
    "df = df.rename(columns={'Current URL': 'URL'})"
   ]
  },
  {
   "cell_type": "code",
   "execution_count": 3,
   "id": "512e2671-89f7-47ee-888d-f27b539e2ea5",
   "metadata": {},
   "outputs": [
    {
     "name": "stdout",
     "output_type": "stream",
     "text": [
      "<class 'pandas.core.frame.DataFrame'>\n",
      "RangeIndex: 90000 entries, 0 to 89999\n",
      "Data columns (total 4 columns):\n",
      " #   Column         Non-Null Count  Dtype \n",
      "---  ------         --------------  ----- \n",
      " 0   Keyword        90000 non-null  object\n",
      " 1   SERP features  89313 non-null  object\n",
      " 2   Volume         90000 non-null  int64 \n",
      " 3   URL            90000 non-null  object\n",
      "dtypes: int64(1), object(3)\n",
      "memory usage: 2.7+ MB\n"
     ]
    }
   ],
   "source": [
    "df.info()"
   ]
  },
  {
   "cell_type": "code",
   "execution_count": 4,
   "id": "f8849089-7243-4ddd-ad88-6bc590b4b7a4",
   "metadata": {},
   "outputs": [],
   "source": [
    "# remove rows  where kw contains non-ascii\n",
    "df = df[df['Keyword'].apply(lambda x: all(ord(c) < 128 for c in x))]"
   ]
  },
  {
   "cell_type": "code",
   "execution_count": 5,
   "id": "54595db9-fe6b-4ed9-8e91-664d37768c44",
   "metadata": {},
   "outputs": [],
   "source": [
    "kw_block_list = [\"penis\", \"vagina\", \"sex\", \"slut\", \"dick\", \"fuck\", \"milf\", \"cum \", \"cunt\", \"rape\", \"porn\", \"boner\", \"cock\", \"whore\", \"bitch\", \"futa\", \"wet dreams\", \"cowgirl position\",  \"reverse cowgirl\", \"girl squirt\", \"girls squirt\", \"squirting-orgasm\", \" squirt pee\", \"girl's body\", \"dildo\", \"butt-plug\", \"good head\", \"smells bad down there\", \"xxx\", \"aws.amazon\", \"amazon \", \"am,azon\",\"xxx\", \"wormwood\", \"fetish\",  \"vibrator\", \"sandalias de mujer\"]"
   ]
  },
  {
   "cell_type": "code",
   "execution_count": 6,
   "id": "c85857d7-a493-433a-a408-b4eba66d1f4f",
   "metadata": {},
   "outputs": [],
   "source": [
    "# remove blocklist kw\n",
    "def remove_kw_blocklist(df, kw_blocklist):\n",
    "    kw_pattern = '|'.join(kw_block_list)\n",
    "    kw_mask = df['Keyword'].str.contains(kw_pattern, case=False)\n",
    "    df = df[~kw_mask]\n",
    "    return(df)"
   ]
  },
  {
   "cell_type": "code",
   "execution_count": 7,
   "id": "32a23abe-6771-44f5-9942-1f2eef0599f9",
   "metadata": {},
   "outputs": [],
   "source": [
    "df = remove_kw_blocklist(df, kw_block_list)"
   ]
  },
  {
   "cell_type": "code",
   "execution_count": 8,
   "id": "c0e39e45-a2f2-4723-8663-cfd2278815f3",
   "metadata": {},
   "outputs": [],
   "source": [
    "url_block_list = [\"aws.amazon\", \"www.amazon.com/kindle-dbs\", \"squirting-orgasm\"]"
   ]
  },
  {
   "cell_type": "code",
   "execution_count": 9,
   "id": "411fab78-29fe-4ffc-9b9b-e6624883d3a3",
   "metadata": {},
   "outputs": [],
   "source": [
    "# remove blocklist urls\n",
    "\n",
    "# ****** DO THIS AFTER I HAVE TOP 20 URL LIST\n",
    "def remove_url_blocklist(df, url_blocklist):\n",
    "    url_pattern = '|'.join(url_block_list)\n",
    "    url_mask = df['URL'].str.contains(url_pattern, case=False)\n",
    "    df = df[~url_mask]\n",
    "    return(df)"
   ]
  },
  {
   "cell_type": "code",
   "execution_count": 10,
   "id": "8fe32d90-588b-4599-9acd-89694e6a596e",
   "metadata": {},
   "outputs": [
    {
     "data": {
      "text/plain": [
       "88837"
      ]
     },
     "execution_count": 10,
     "metadata": {},
     "output_type": "execute_result"
    }
   ],
   "source": [
    "len(df)"
   ]
  },
  {
   "cell_type": "code",
   "execution_count": 11,
   "id": "d5a64a23-6dcc-48e6-843e-8fd03f5d6397",
   "metadata": {},
   "outputs": [],
   "source": [
    "df.to_csv('data/combined.csv', index=False)"
   ]
  },
  {
   "cell_type": "code",
   "execution_count": 12,
   "id": "c37cc001-63d9-4366-86ab-0d6af7f5e3d5",
   "metadata": {},
   "outputs": [
    {
     "data": {
      "text/plain": [
       "Keyword            0\n",
       "SERP features    607\n",
       "Volume             0\n",
       "URL                0\n",
       "dtype: int64"
      ]
     },
     "execution_count": 12,
     "metadata": {},
     "output_type": "execute_result"
    }
   ],
   "source": [
    "df.isna().sum()"
   ]
  },
  {
   "cell_type": "code",
   "execution_count": 13,
   "id": "cacf27bd-eaa5-4076-97fb-3afa0d5947e4",
   "metadata": {},
   "outputs": [],
   "source": [
    "df_10_000 = df.sample(n=10000, random_state=42)"
   ]
  },
  {
   "cell_type": "code",
   "execution_count": 14,
   "id": "c3c0b2d0-37b5-464a-8bdf-0bc792bf281e",
   "metadata": {},
   "outputs": [],
   "source": [
    "df_10_000.to_csv('data/kw_10_000.csv', index=False)"
   ]
  },
  {
   "cell_type": "code",
   "execution_count": 15,
   "id": "a5d9feb4-ba07-4e32-88e6-2f9959aadac0",
   "metadata": {},
   "outputs": [],
   "source": [
    "df_1_000 = df_10_000.sample(n=1000, random_state=42)"
   ]
  },
  {
   "cell_type": "code",
   "execution_count": 16,
   "id": "2df20c2b-d448-443f-9c3a-0a450e3be283",
   "metadata": {},
   "outputs": [],
   "source": [
    "df_1_000.to_csv('data/kw_1_000.csv', index=False)"
   ]
  },
  {
   "cell_type": "code",
   "execution_count": null,
   "id": "8a09a262-bef3-4de5-a37a-648fc32dc136",
   "metadata": {},
   "outputs": [],
   "source": []
  }
 ],
 "metadata": {
  "kernelspec": {
   "display_name": "Python 3 (ipykernel)",
   "language": "python",
   "name": "python3"
  },
  "language_info": {
   "codemirror_mode": {
    "name": "ipython",
    "version": 3
   },
   "file_extension": ".py",
   "mimetype": "text/x-python",
   "name": "python",
   "nbconvert_exporter": "python",
   "pygments_lexer": "ipython3",
   "version": "3.10.9"
  }
 },
 "nbformat": 4,
 "nbformat_minor": 5
}
