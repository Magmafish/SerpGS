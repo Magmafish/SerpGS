{
 "cells": [
  {
   "cell_type": "code",
   "execution_count": 1,
   "id": "957282c5-6895-4174-ae51-d3419a158c20",
   "metadata": {},
   "outputs": [],
   "source": [
    "import pandas as pd\n",
    "from typing import List, Dict, Optional\n",
    "import inspect"
   ]
  },
  {
   "cell_type": "code",
   "execution_count": 2,
   "id": "307754d4",
   "metadata": {},
   "outputs": [],
   "source": [
    "pd.set_option('display.max_rows', 10)\n",
    "pd.set_option('display.max_columns', 100)"
   ]
  },
  {
   "attachments": {},
   "cell_type": "markdown",
   "id": "9d61e641",
   "metadata": {},
   "source": [
    "# This notebook is for cleaning the input dataset\n",
    "* Removal of non-ASCII kw\n",
    "* Removal of offencive kw and URLs\n",
    "* Dropping of columns not used"
   ]
  },
  {
   "cell_type": "code",
   "execution_count": 3,
   "id": "d34f2861",
   "metadata": {},
   "outputs": [],
   "source": [
    "def remove_non_ascii_kw(df: pd.DataFrame) -> pd.DataFrame:\n",
    "    \"\"\"\n",
    "    Removes rows from a DataFrame where the \"Keyword\" column contains non-ASCII characters.\n",
    "    \n",
    "    Args:\n",
    "        df (pandas.DataFrame): The DataFrame to process.\n",
    "    \n",
    "    Returns:\n",
    "        pandas.DataFrame: The modified DataFrame with rows removed.\n",
    "    \"\"\"\n",
    "    # Remove rows where \"Keyword\" contains non-ASCII characters\n",
    "    df_start_len = len(df)\n",
    "    df = df[df['kw'].apply(lambda x: all(ord(c) < 128 for c in x))]\n",
    "    \n",
    "    # Print some statistics\n",
    "    print(f\"df start length: {df_start_len}\")\n",
    "    print(f\"df final length: {len(df)}\")\n",
    "    print(f\"records removed: {df_start_len - len(df)}\")\n",
    "    \n",
    "    # Return the modified DataFrame\n",
    "    return df\n"
   ]
  },
  {
   "cell_type": "code",
   "execution_count": 4,
   "id": "d1f71948",
   "metadata": {},
   "outputs": [],
   "source": [
    "def fix_nan(df: pd.DataFrame) -> pd.DataFrame:\n",
    "    \"\"\"\n",
    "    Replaces NaN values in the \"SERP features\" and \"CPC\" columns of a pandas DataFrame with appropriate default values.\n",
    "    \n",
    "    Args:\n",
    "        df (pandas.DataFrame): The DataFrame to process.\n",
    "    \n",
    "    Returns:\n",
    "        pandas.DataFrame: The modified DataFrame with NaN values replaced.\n",
    "    \"\"\"\n",
    "    # Count NaN values in \"SERP features\" and \"CPC\" columns\n",
    "    serp_nan = df['SERP features'].isna().sum()\n",
    "    cpc_nan = df['CPC'].isna().sum()\n",
    "    \n",
    "    # Replace NaN values with appropriate default values\n",
    "    df['SERP features'] = df['SERP features'].fillna('None')\n",
    "    df['CPC'] = df['CPC'].fillna(0)\n",
    "    \n",
    "    # Print some statistics\n",
    "    print(f\"SERP features NaN records replaced with 'None': {serp_nan}\")\n",
    "    print(f\"CPC NaN records replaced with 0: {cpc_nan}\")\n",
    "    \n",
    "    # Return the modified DataFrame\n",
    "    return df"
   ]
  },
  {
   "cell_type": "code",
   "execution_count": 5,
   "id": "23d81003",
   "metadata": {},
   "outputs": [],
   "source": [
    "def remove_blocklist_kw(df: pd.DataFrame, kw_blocklist: List[str]) -> pd.DataFrame:\n",
    "    \"\"\"\n",
    "    Removes rows from a pandas DataFrame where the \"Keyword\" column contains any of the keywords in a blocklist.\n",
    "\n",
    "    Args:\n",
    "        df (pandas.DataFrame): The DataFrame to process.\n",
    "        kw_blocklist (List[str]): A list of keywords to remove from the DataFrame.\n",
    "\n",
    "    Returns:\n",
    "        pandas.DataFrame: The modified DataFrame with the specified keywords removed.\n",
    "    \"\"\"\n",
    "    # Get the length of the input DataFrame\n",
    "    df_start_len = len(df)\n",
    "\n",
    "    # Create a regular expression pattern from the blocklist\n",
    "    kw_pattern = '|'.join(kw_blocklist)\n",
    "\n",
    "    # Create a mask for rows containing keywords in the blocklist\n",
    "    kw_mask = df['kw'].str.contains(kw_pattern, case=False)\n",
    "\n",
    "    # Use the mask to remove the specified keywords from the DataFrame\n",
    "    df = df[~kw_mask]\n",
    "\n",
    "    # Print some statistics\n",
    "    print(f\"df start length: {df_start_len}\")\n",
    "    print(f\"df final length: {len(df)}\")\n",
    "    print(f\"records removed: {df_start_len - len(df)}\")\n",
    "\n",
    "    # Return the modified DataFrame\n",
    "    return df"
   ]
  },
  {
   "cell_type": "code",
   "execution_count": 6,
   "id": "c994b23f",
   "metadata": {},
   "outputs": [],
   "source": [
    "def remove_blocklist_url(df: pd.DataFrame, url_blocklist: List[str]) -> pd.DataFrame:\n",
    "    \"\"\"\n",
    "    Removes rows from a pandas DataFrame where the \"URL\" column contains any of the URLs in a blocklist.\n",
    "\n",
    "    Args:\n",
    "        df (pandas.DataFrame): The DataFrame to process.\n",
    "        url_blocklist (List[str]): A list of URLs to remove from the DataFrame.\n",
    "\n",
    "    Returns:\n",
    "        pandas.DataFrame: The modified DataFrame with the specified URLs removed.\n",
    "    \"\"\"\n",
    "    # Get the length of the input DataFrame\n",
    "    df_start_len = len(df)\n",
    "\n",
    "    # Create a regular expression pattern from the blocklist\n",
    "    url_pattern = '|'.join(url_blocklist)\n",
    "\n",
    "    # Create a mask for rows containing URLs in the blocklist\n",
    "    url_mask = df['url'].str.contains(url_pattern, case=False)\n",
    "\n",
    "    # Use the mask to remove the specified URLs from the DataFrame\n",
    "    df = df[~url_mask]\n",
    "\n",
    "    # Print some statistics\n",
    "    print(f\"df start length: {df_start_len}\")\n",
    "    print(f\"df final length: {len(df)}\")\n",
    "    print(f\"records removed: {df_start_len - len(df)}\")\n",
    "\n",
    "    # Return the modified DataFrame\n",
    "    return df"
   ]
  },
  {
   "cell_type": "code",
   "execution_count": 7,
   "id": "13722a84",
   "metadata": {},
   "outputs": [],
   "source": [
    "def show_df_info(df: pd.DataFrame) -> pd.DataFrame:\n",
    "    \"\"\"\n",
    "    Prints information about a DataFrame, including column names, data types, and non-null counts.\n",
    "    \n",
    "    Args:\n",
    "        df (pandas.DataFrame): The DataFrame to process.\n",
    "        \n",
    "    Returns:\n",
    "        pandas.DataFrame: A DataFrame containing the column names, data types, and non-null counts, and null counts of the input DataFrame.\n",
    "    \"\"\"\n",
    "    col_names = df.columns.to_list()\n",
    "    col_dtypes = df.dtypes.to_list()\n",
    "    non_null_counts = df.count().to_list()\n",
    "    null_counts = df.isnull().sum().to_list()\n",
    "    info_df = pd.DataFrame({'column_name': col_names, 'dtype': col_dtypes, 'non_null_count': non_null_counts, 'null_count': null_counts})\n",
    "\n",
    "    caller_frame = inspect.currentframe().f_back\n",
    "    df_name = [var_name for var_name, var_val in caller_frame.f_locals.items() if var_val is df][0]\n",
    "\n",
    "    print(f\"DataFrame '{df_name}' has {len(df)} rows and {len(df.columns)} columns.\")\n",
    "    print(\"Here is a summary of the column names, data types and null counts:\")\n",
    "    return info_df"
   ]
  },
  {
   "cell_type": "code",
   "execution_count": 8,
   "id": "9572cb53",
   "metadata": {},
   "outputs": [],
   "source": [
    "def find_duplicate_uid(df):\n",
    "    # Get a boolean Series indicating which rows have a duplicate url\n",
    "    duplicates_mask = df.duplicated(subset=['uid'], keep=False)\n",
    "    \n",
    "    # Use the boolean mask to select the rows with duplicate urls\n",
    "    duplicate_df = df[duplicates_mask]\n",
    "    \n",
    "    # Return the new DataFrame with only the duplicate rows\n",
    "    return duplicate_df"
   ]
  },
  {
   "cell_type": "code",
   "execution_count": 9,
   "id": "986db55e",
   "metadata": {},
   "outputs": [],
   "source": [
    "def check_for_duplicate_uid(df: pd.DataFrame,) -> bool:\n",
    "    test = df.duplicated(subset=['uid']).any()\n",
    "    if test is True:\n",
    "        print('*** Dataset has duplicate uid ***')\n",
    "    else:\n",
    "        print('Dataset has no duplicate uid')\n",
    "    return test"
   ]
  },
  {
   "cell_type": "code",
   "execution_count": 10,
   "id": "260fa096",
   "metadata": {},
   "outputs": [],
   "source": [
    "def group_by_url_count(df):\n",
    "    # Group the DataFrame by the count of each unique URL\n",
    "    grouped_df = df.groupby('url').size().reset_index(name='url_count')\n",
    "    \n",
    "    # Sort the DataFrame by 'url_count' in descending order\n",
    "    sorted_df = grouped_df.sort_values(by='url_count', ascending=False)\n",
    "    \n",
    "    # Reset the index and make 'url' the index column\n",
    "    sorted_df = sorted_df.set_index('url').reset_index()\n",
    "    \n",
    "    # Return the sorted DataFrame\n",
    "    return sorted_df"
   ]
  },
  {
   "cell_type": "code",
   "execution_count": 11,
   "id": "85c2a1d1",
   "metadata": {},
   "outputs": [],
   "source": [
    "def add_url_counts(df, url_counts):\n",
    "    # Create a dictionary that maps URLs to their counts\n",
    "    url_count_dict = dict(zip(url_counts['url'], url_counts['url_count']))\n",
    "    \n",
    "    # Map the URL counts to each URL in the DataFrame\n",
    "    df['url_count'] = df['url'].map(url_count_dict)\n",
    "    \n",
    "    return df"
   ]
  },
  {
   "cell_type": "code",
   "execution_count": 12,
   "id": "3bb768c7",
   "metadata": {},
   "outputs": [],
   "source": [
    "def group_by_kw_count(df):\n",
    "    # Group the DataFrame by the count of each unique URL\n",
    "    grouped_df = df.groupby('kw').size().reset_index(name='kw_count')\n",
    "    \n",
    "    # Sort the DataFrame by 'url_count' in descending order\n",
    "    sorted_df = grouped_df.sort_values(by='kw_count', ascending=False)\n",
    "    \n",
    "    # Reset the index and make 'url' the index column\n",
    "    sorted_df = sorted_df.set_index('kw').reset_index()\n",
    "    \n",
    "    # Return the sorted DataFrame\n",
    "    return sorted_df"
   ]
  },
  {
   "cell_type": "code",
   "execution_count": 13,
   "id": "651e6bae-9ff3-4cd1-bb45-f0ee293d82cd",
   "metadata": {},
   "outputs": [],
   "source": [
    "df1 = pd.read_csv('data/webmd.csv')\n",
    "df2 = pd.read_csv('data/thespruce.csv')\n",
    "df3 = pd.read_csv('data/amazon.csv')\n",
    "df = pd.concat([df1, df2, df3])\n",
    "df = df.reset_index(drop=True)\n",
    "df = df.copy(deep=True)\n",
    "drop_columns = ['Current position', 'Current URL inside', 'Updated']\n",
    "df = df.drop(drop_columns, axis=1)\n",
    "df = df.rename(columns={'Current URL': 'url'})\n",
    "df = df.rename(columns={'Keyword': 'kw'})\n",
    "df = df.copy(deep=True)\n",
    "df['uid'] = df['kw'] + '*' + df['url']"
   ]
  },
  {
   "cell_type": "code",
   "execution_count": 46,
   "id": "725bbfac",
   "metadata": {},
   "outputs": [
    {
     "data": {
      "text/plain": [
       "88704"
      ]
     },
     "execution_count": 46,
     "metadata": {},
     "output_type": "execute_result"
    }
   ],
   "source": [
    "len(df)"
   ]
  },
  {
   "cell_type": "code",
   "execution_count": 41,
   "id": "abe8bd94",
   "metadata": {},
   "outputs": [
    {
     "data": {
      "text/plain": [
       "40750"
      ]
     },
     "execution_count": 41,
     "metadata": {},
     "output_type": "execute_result"
    }
   ],
   "source": [
    "len(df['url'].unique())"
   ]
  },
  {
   "cell_type": "code",
   "execution_count": 49,
   "id": "9589970b",
   "metadata": {},
   "outputs": [
    {
     "data": {
      "text/plain": [
       "40750"
      ]
     },
     "execution_count": 49,
     "metadata": {},
     "output_type": "execute_result"
    }
   ],
   "source": [
    "df['url'].nunique()"
   ]
  },
  {
   "cell_type": "code",
   "execution_count": 45,
   "id": "a180201c",
   "metadata": {},
   "outputs": [
    {
     "name": "stdout",
     "output_type": "stream",
     "text": [
      "47954\n"
     ]
    }
   ],
   "source": [
    "nonunique_links = df['url'].duplicated().sum()\n",
    "print(nonunique_links)"
   ]
  },
  {
   "cell_type": "code",
   "execution_count": 43,
   "id": "89ce2b8b",
   "metadata": {},
   "outputs": [
    {
     "name": "stdout",
     "output_type": "stream",
     "text": [
      "1779\n"
     ]
    }
   ],
   "source": [
    "link_counts = df['url'].value_counts()\n",
    "total_link_count = link_counts.unique().sum()\n",
    "print(total_link_count)"
   ]
  },
  {
   "cell_type": "code",
   "execution_count": 15,
   "id": "8e436fe8",
   "metadata": {},
   "outputs": [
    {
     "name": "stdout",
     "output_type": "stream",
     "text": [
      "Dataset has no duplicate uid\n"
     ]
    },
    {
     "data": {
      "text/plain": [
       "False"
      ]
     },
     "execution_count": 15,
     "metadata": {},
     "output_type": "execute_result"
    }
   ],
   "source": [
    "check_for_duplicate_uid(df)"
   ]
  },
  {
   "cell_type": "code",
   "execution_count": 16,
   "id": "42dbdc66",
   "metadata": {},
   "outputs": [
    {
     "data": {
      "text/html": [
       "<div>\n",
       "<style scoped>\n",
       "    .dataframe tbody tr th:only-of-type {\n",
       "        vertical-align: middle;\n",
       "    }\n",
       "\n",
       "    .dataframe tbody tr th {\n",
       "        vertical-align: top;\n",
       "    }\n",
       "\n",
       "    .dataframe thead th {\n",
       "        text-align: right;\n",
       "    }\n",
       "</style>\n",
       "<table border=\"1\" class=\"dataframe\">\n",
       "  <thead>\n",
       "    <tr style=\"text-align: right;\">\n",
       "      <th></th>\n",
       "      <th>kw</th>\n",
       "      <th>SERP features</th>\n",
       "      <th>Volume</th>\n",
       "      <th>KD</th>\n",
       "      <th>CPC</th>\n",
       "      <th>Traffic</th>\n",
       "      <th>url</th>\n",
       "      <th>uid</th>\n",
       "    </tr>\n",
       "  </thead>\n",
       "  <tbody>\n",
       "    <tr>\n",
       "      <th>0</th>\n",
       "      <td>horny goat weed</td>\n",
       "      <td>Knowledge panel</td>\n",
       "      <td>76000</td>\n",
       "      <td>61</td>\n",
       "      <td>0.37</td>\n",
       "      <td>70591</td>\n",
       "      <td>https://www.webmd.com/vitamins/ai/ingredientmo...</td>\n",
       "      <td>horny goat weed*https://www.webmd.com/vitamins...</td>\n",
       "    </tr>\n",
       "  </tbody>\n",
       "</table>\n",
       "</div>"
      ],
      "text/plain": [
       "                kw    SERP features  Volume  KD   CPC  Traffic  \\\n",
       "0  horny goat weed  Knowledge panel   76000  61  0.37    70591   \n",
       "\n",
       "                                                 url  \\\n",
       "0  https://www.webmd.com/vitamins/ai/ingredientmo...   \n",
       "\n",
       "                                                 uid  \n",
       "0  horny goat weed*https://www.webmd.com/vitamins...  "
      ]
     },
     "execution_count": 16,
     "metadata": {},
     "output_type": "execute_result"
    }
   ],
   "source": [
    "df.head(1)"
   ]
  },
  {
   "cell_type": "code",
   "execution_count": 17,
   "id": "46a04030",
   "metadata": {},
   "outputs": [],
   "source": [
    "url_counts = group_by_url_count(df)"
   ]
  },
  {
   "cell_type": "code",
   "execution_count": 18,
   "id": "b6eef369",
   "metadata": {},
   "outputs": [
    {
     "data": {
      "text/html": [
       "<div>\n",
       "<style scoped>\n",
       "    .dataframe tbody tr th:only-of-type {\n",
       "        vertical-align: middle;\n",
       "    }\n",
       "\n",
       "    .dataframe tbody tr th {\n",
       "        vertical-align: top;\n",
       "    }\n",
       "\n",
       "    .dataframe thead th {\n",
       "        text-align: right;\n",
       "    }\n",
       "</style>\n",
       "<table border=\"1\" class=\"dataframe\">\n",
       "  <thead>\n",
       "    <tr style=\"text-align: right;\">\n",
       "      <th></th>\n",
       "      <th>url</th>\n",
       "      <th>url_count</th>\n",
       "    </tr>\n",
       "  </thead>\n",
       "  <tbody>\n",
       "    <tr>\n",
       "      <th>0</th>\n",
       "      <td>https://www.webmd.com/covid/coronavirus-incuba...</td>\n",
       "      <td>118</td>\n",
       "    </tr>\n",
       "    <tr>\n",
       "      <th>1</th>\n",
       "      <td>https://www.thespruce.com/budget-friendly-kids...</td>\n",
       "      <td>84</td>\n",
       "    </tr>\n",
       "    <tr>\n",
       "      <th>2</th>\n",
       "      <td>https://www.webmd.com/skin-problems-and-treatm...</td>\n",
       "      <td>79</td>\n",
       "    </tr>\n",
       "    <tr>\n",
       "      <th>3</th>\n",
       "      <td>https://www.thespruce.com/best-outdoor-solar-l...</td>\n",
       "      <td>79</td>\n",
       "    </tr>\n",
       "    <tr>\n",
       "      <th>4</th>\n",
       "      <td>https://www.webmd.com/allergies/ss/slideshow-p...</td>\n",
       "      <td>68</td>\n",
       "    </tr>\n",
       "  </tbody>\n",
       "</table>\n",
       "</div>"
      ],
      "text/plain": [
       "                                                 url  url_count\n",
       "0  https://www.webmd.com/covid/coronavirus-incuba...        118\n",
       "1  https://www.thespruce.com/budget-friendly-kids...         84\n",
       "2  https://www.webmd.com/skin-problems-and-treatm...         79\n",
       "3  https://www.thespruce.com/best-outdoor-solar-l...         79\n",
       "4  https://www.webmd.com/allergies/ss/slideshow-p...         68"
      ]
     },
     "execution_count": 18,
     "metadata": {},
     "output_type": "execute_result"
    }
   ],
   "source": [
    "url_counts.head()"
   ]
  },
  {
   "cell_type": "code",
   "execution_count": 19,
   "id": "5e7d1746",
   "metadata": {},
   "outputs": [],
   "source": [
    "df = add_url_counts(df, url_counts)"
   ]
  },
  {
   "cell_type": "code",
   "execution_count": 20,
   "id": "0c7a70b6",
   "metadata": {},
   "outputs": [
    {
     "data": {
      "text/html": [
       "<div>\n",
       "<style scoped>\n",
       "    .dataframe tbody tr th:only-of-type {\n",
       "        vertical-align: middle;\n",
       "    }\n",
       "\n",
       "    .dataframe tbody tr th {\n",
       "        vertical-align: top;\n",
       "    }\n",
       "\n",
       "    .dataframe thead th {\n",
       "        text-align: right;\n",
       "    }\n",
       "</style>\n",
       "<table border=\"1\" class=\"dataframe\">\n",
       "  <thead>\n",
       "    <tr style=\"text-align: right;\">\n",
       "      <th></th>\n",
       "      <th>kw</th>\n",
       "      <th>SERP features</th>\n",
       "      <th>Volume</th>\n",
       "      <th>KD</th>\n",
       "      <th>CPC</th>\n",
       "      <th>Traffic</th>\n",
       "      <th>url</th>\n",
       "      <th>uid</th>\n",
       "      <th>url_count</th>\n",
       "    </tr>\n",
       "  </thead>\n",
       "  <tbody>\n",
       "    <tr>\n",
       "      <th>16514</th>\n",
       "      <td>what's the incubation period for covid</td>\n",
       "      <td>Featured snippet, People also ask, Sitelinks, ...</td>\n",
       "      <td>1100</td>\n",
       "      <td>55</td>\n",
       "      <td>NaN</td>\n",
       "      <td>387</td>\n",
       "      <td>https://www.webmd.com/covid/coronavirus-incuba...</td>\n",
       "      <td>what's the incubation period for covid*https:/...</td>\n",
       "      <td>118</td>\n",
       "    </tr>\n",
       "    <tr>\n",
       "      <th>28728</th>\n",
       "      <td>contagious period covid</td>\n",
       "      <td>Featured snippet, People also ask, Sitelinks, ...</td>\n",
       "      <td>2100</td>\n",
       "      <td>51</td>\n",
       "      <td>NaN</td>\n",
       "      <td>200</td>\n",
       "      <td>https://www.webmd.com/covid/coronavirus-incuba...</td>\n",
       "      <td>contagious period covid*https://www.webmd.com/...</td>\n",
       "      <td>118</td>\n",
       "    </tr>\n",
       "  </tbody>\n",
       "</table>\n",
       "</div>"
      ],
      "text/plain": [
       "                                           kw  \\\n",
       "16514  what's the incubation period for covid   \n",
       "28728                 contagious period covid   \n",
       "\n",
       "                                           SERP features  Volume  KD  CPC  \\\n",
       "16514  Featured snippet, People also ask, Sitelinks, ...    1100  55  NaN   \n",
       "28728  Featured snippet, People also ask, Sitelinks, ...    2100  51  NaN   \n",
       "\n",
       "       Traffic                                                url  \\\n",
       "16514      387  https://www.webmd.com/covid/coronavirus-incuba...   \n",
       "28728      200  https://www.webmd.com/covid/coronavirus-incuba...   \n",
       "\n",
       "                                                     uid  url_count  \n",
       "16514  what's the incubation period for covid*https:/...        118  \n",
       "28728  contagious period covid*https://www.webmd.com/...        118  "
      ]
     },
     "execution_count": 20,
     "metadata": {},
     "output_type": "execute_result"
    }
   ],
   "source": [
    "df.sort_values(by='url_count', ascending=False).head(2)"
   ]
  },
  {
   "cell_type": "code",
   "execution_count": 21,
   "id": "512e2671-89f7-47ee-888d-f27b539e2ea5",
   "metadata": {},
   "outputs": [
    {
     "name": "stdout",
     "output_type": "stream",
     "text": [
      "DataFrame 'df' has 90000 rows and 9 columns.\n",
      "Here is a summary of the column names, data types and null counts:\n"
     ]
    },
    {
     "data": {
      "text/html": [
       "<div>\n",
       "<style scoped>\n",
       "    .dataframe tbody tr th:only-of-type {\n",
       "        vertical-align: middle;\n",
       "    }\n",
       "\n",
       "    .dataframe tbody tr th {\n",
       "        vertical-align: top;\n",
       "    }\n",
       "\n",
       "    .dataframe thead th {\n",
       "        text-align: right;\n",
       "    }\n",
       "</style>\n",
       "<table border=\"1\" class=\"dataframe\">\n",
       "  <thead>\n",
       "    <tr style=\"text-align: right;\">\n",
       "      <th></th>\n",
       "      <th>column_name</th>\n",
       "      <th>dtype</th>\n",
       "      <th>non_null_count</th>\n",
       "      <th>null_count</th>\n",
       "    </tr>\n",
       "  </thead>\n",
       "  <tbody>\n",
       "    <tr>\n",
       "      <th>0</th>\n",
       "      <td>kw</td>\n",
       "      <td>object</td>\n",
       "      <td>90000</td>\n",
       "      <td>0</td>\n",
       "    </tr>\n",
       "    <tr>\n",
       "      <th>1</th>\n",
       "      <td>SERP features</td>\n",
       "      <td>object</td>\n",
       "      <td>89313</td>\n",
       "      <td>687</td>\n",
       "    </tr>\n",
       "    <tr>\n",
       "      <th>2</th>\n",
       "      <td>Volume</td>\n",
       "      <td>int64</td>\n",
       "      <td>90000</td>\n",
       "      <td>0</td>\n",
       "    </tr>\n",
       "    <tr>\n",
       "      <th>3</th>\n",
       "      <td>KD</td>\n",
       "      <td>int64</td>\n",
       "      <td>90000</td>\n",
       "      <td>0</td>\n",
       "    </tr>\n",
       "    <tr>\n",
       "      <th>4</th>\n",
       "      <td>CPC</td>\n",
       "      <td>float64</td>\n",
       "      <td>76574</td>\n",
       "      <td>13426</td>\n",
       "    </tr>\n",
       "    <tr>\n",
       "      <th>5</th>\n",
       "      <td>Traffic</td>\n",
       "      <td>int64</td>\n",
       "      <td>90000</td>\n",
       "      <td>0</td>\n",
       "    </tr>\n",
       "    <tr>\n",
       "      <th>6</th>\n",
       "      <td>url</td>\n",
       "      <td>object</td>\n",
       "      <td>90000</td>\n",
       "      <td>0</td>\n",
       "    </tr>\n",
       "    <tr>\n",
       "      <th>7</th>\n",
       "      <td>uid</td>\n",
       "      <td>object</td>\n",
       "      <td>90000</td>\n",
       "      <td>0</td>\n",
       "    </tr>\n",
       "    <tr>\n",
       "      <th>8</th>\n",
       "      <td>url_count</td>\n",
       "      <td>int64</td>\n",
       "      <td>90000</td>\n",
       "      <td>0</td>\n",
       "    </tr>\n",
       "  </tbody>\n",
       "</table>\n",
       "</div>"
      ],
      "text/plain": [
       "     column_name    dtype  non_null_count  null_count\n",
       "0             kw   object           90000           0\n",
       "1  SERP features   object           89313         687\n",
       "2         Volume    int64           90000           0\n",
       "3             KD    int64           90000           0\n",
       "4            CPC  float64           76574       13426\n",
       "5        Traffic    int64           90000           0\n",
       "6            url   object           90000           0\n",
       "7            uid   object           90000           0\n",
       "8      url_count    int64           90000           0"
      ]
     },
     "execution_count": 21,
     "metadata": {},
     "output_type": "execute_result"
    }
   ],
   "source": [
    "show_df_info(df)"
   ]
  },
  {
   "cell_type": "code",
   "execution_count": 22,
   "id": "10ceb7c1",
   "metadata": {},
   "outputs": [
    {
     "name": "stdout",
     "output_type": "stream",
     "text": [
      "df start length: 90000\n",
      "df final length: 89917\n",
      "records removed: 83\n"
     ]
    }
   ],
   "source": [
    "df = remove_non_ascii_kw(df)"
   ]
  },
  {
   "cell_type": "code",
   "execution_count": 23,
   "id": "54595db9-fe6b-4ed9-8e91-664d37768c44",
   "metadata": {},
   "outputs": [],
   "source": [
    "kw_block_list = [\"penis\", \"vagina\", \"sex\", \"slut\", \"dick\", \"fuck\", \"milf\", \"cum \", \"cunt\", \"rape\", \"porn\", \"boner\", \"cock\", \"whore\", \"bitch\", \"futa\", \"wet dreams\", \"cowgirl position\",  \"reverse cowgirl\", \"girl squirt\", \"girls squirt\", \"squirting-orgasm\", \" squirt pee\", \"girl's body\", \"dildo\", \"butt-plug\", \"good head\", \"smells bad down there\", \"xxx\", \"wormwood\", \"fetish\",  \"vibrator\", \"sandalias de mujer\"]"
   ]
  },
  {
   "cell_type": "code",
   "execution_count": 24,
   "id": "32a23abe-6771-44f5-9942-1f2eef0599f9",
   "metadata": {},
   "outputs": [
    {
     "name": "stdout",
     "output_type": "stream",
     "text": [
      "df start length: 89917\n",
      "df final length: 88842\n",
      "records removed: 1075\n"
     ]
    }
   ],
   "source": [
    "df = remove_blocklist_kw(df, kw_block_list)"
   ]
  },
  {
   "cell_type": "code",
   "execution_count": 25,
   "id": "c0e39e45-a2f2-4723-8663-cfd2278815f3",
   "metadata": {},
   "outputs": [],
   "source": [
    "url_blocklist = [\"aws.amazon\", \"www.amazon.com/kindle-dbs\", \"squirting-orgasm\"]"
   ]
  },
  {
   "cell_type": "code",
   "execution_count": 26,
   "id": "8fe32d90-588b-4599-9acd-89694e6a596e",
   "metadata": {},
   "outputs": [
    {
     "name": "stdout",
     "output_type": "stream",
     "text": [
      "df start length: 88842\n",
      "df final length: 88704\n",
      "records removed: 138\n"
     ]
    }
   ],
   "source": [
    "df = remove_blocklist_url(df, url_blocklist)"
   ]
  },
  {
   "cell_type": "code",
   "execution_count": 27,
   "id": "8516cc3d",
   "metadata": {},
   "outputs": [
    {
     "name": "stdout",
     "output_type": "stream",
     "text": [
      "SERP features NaN records replaced with 'None': 602\n",
      "CPC NaN records replaced with 0: 13180\n"
     ]
    }
   ],
   "source": [
    "df = fix_nan(df)"
   ]
  },
  {
   "cell_type": "code",
   "execution_count": 28,
   "id": "7d6fd6b6",
   "metadata": {},
   "outputs": [
    {
     "data": {
      "text/html": [
       "<div>\n",
       "<style scoped>\n",
       "    .dataframe tbody tr th:only-of-type {\n",
       "        vertical-align: middle;\n",
       "    }\n",
       "\n",
       "    .dataframe tbody tr th {\n",
       "        vertical-align: top;\n",
       "    }\n",
       "\n",
       "    .dataframe thead th {\n",
       "        text-align: right;\n",
       "    }\n",
       "</style>\n",
       "<table border=\"1\" class=\"dataframe\">\n",
       "  <thead>\n",
       "    <tr style=\"text-align: right;\">\n",
       "      <th></th>\n",
       "      <th>kw</th>\n",
       "      <th>SERP features</th>\n",
       "      <th>Volume</th>\n",
       "      <th>KD</th>\n",
       "      <th>CPC</th>\n",
       "      <th>Traffic</th>\n",
       "      <th>url</th>\n",
       "      <th>uid</th>\n",
       "      <th>url_count</th>\n",
       "    </tr>\n",
       "  </thead>\n",
       "  <tbody>\n",
       "    <tr>\n",
       "      <th>0</th>\n",
       "      <td>horny goat weed</td>\n",
       "      <td>Knowledge panel</td>\n",
       "      <td>76000</td>\n",
       "      <td>61</td>\n",
       "      <td>0.37</td>\n",
       "      <td>70591</td>\n",
       "      <td>https://www.webmd.com/vitamins/ai/ingredientmo...</td>\n",
       "      <td>horny goat weed*https://www.webmd.com/vitamins...</td>\n",
       "      <td>10</td>\n",
       "    </tr>\n",
       "  </tbody>\n",
       "</table>\n",
       "</div>"
      ],
      "text/plain": [
       "                kw    SERP features  Volume  KD   CPC  Traffic  \\\n",
       "0  horny goat weed  Knowledge panel   76000  61  0.37    70591   \n",
       "\n",
       "                                                 url  \\\n",
       "0  https://www.webmd.com/vitamins/ai/ingredientmo...   \n",
       "\n",
       "                                                 uid  url_count  \n",
       "0  horny goat weed*https://www.webmd.com/vitamins...         10  "
      ]
     },
     "execution_count": 28,
     "metadata": {},
     "output_type": "execute_result"
    }
   ],
   "source": [
    "df.head(1)"
   ]
  },
  {
   "cell_type": "code",
   "execution_count": 29,
   "id": "35d98498",
   "metadata": {},
   "outputs": [
    {
     "name": "stdout",
     "output_type": "stream",
     "text": [
      "DataFrame 'df' has 88704 rows and 9 columns.\n",
      "Here is a summary of the column names, data types and null counts:\n"
     ]
    },
    {
     "data": {
      "text/html": [
       "<div>\n",
       "<style scoped>\n",
       "    .dataframe tbody tr th:only-of-type {\n",
       "        vertical-align: middle;\n",
       "    }\n",
       "\n",
       "    .dataframe tbody tr th {\n",
       "        vertical-align: top;\n",
       "    }\n",
       "\n",
       "    .dataframe thead th {\n",
       "        text-align: right;\n",
       "    }\n",
       "</style>\n",
       "<table border=\"1\" class=\"dataframe\">\n",
       "  <thead>\n",
       "    <tr style=\"text-align: right;\">\n",
       "      <th></th>\n",
       "      <th>column_name</th>\n",
       "      <th>dtype</th>\n",
       "      <th>non_null_count</th>\n",
       "      <th>null_count</th>\n",
       "    </tr>\n",
       "  </thead>\n",
       "  <tbody>\n",
       "    <tr>\n",
       "      <th>0</th>\n",
       "      <td>kw</td>\n",
       "      <td>object</td>\n",
       "      <td>88704</td>\n",
       "      <td>0</td>\n",
       "    </tr>\n",
       "    <tr>\n",
       "      <th>1</th>\n",
       "      <td>SERP features</td>\n",
       "      <td>object</td>\n",
       "      <td>88704</td>\n",
       "      <td>0</td>\n",
       "    </tr>\n",
       "    <tr>\n",
       "      <th>2</th>\n",
       "      <td>Volume</td>\n",
       "      <td>int64</td>\n",
       "      <td>88704</td>\n",
       "      <td>0</td>\n",
       "    </tr>\n",
       "    <tr>\n",
       "      <th>3</th>\n",
       "      <td>KD</td>\n",
       "      <td>int64</td>\n",
       "      <td>88704</td>\n",
       "      <td>0</td>\n",
       "    </tr>\n",
       "    <tr>\n",
       "      <th>4</th>\n",
       "      <td>CPC</td>\n",
       "      <td>float64</td>\n",
       "      <td>88704</td>\n",
       "      <td>0</td>\n",
       "    </tr>\n",
       "    <tr>\n",
       "      <th>5</th>\n",
       "      <td>Traffic</td>\n",
       "      <td>int64</td>\n",
       "      <td>88704</td>\n",
       "      <td>0</td>\n",
       "    </tr>\n",
       "    <tr>\n",
       "      <th>6</th>\n",
       "      <td>url</td>\n",
       "      <td>object</td>\n",
       "      <td>88704</td>\n",
       "      <td>0</td>\n",
       "    </tr>\n",
       "    <tr>\n",
       "      <th>7</th>\n",
       "      <td>uid</td>\n",
       "      <td>object</td>\n",
       "      <td>88704</td>\n",
       "      <td>0</td>\n",
       "    </tr>\n",
       "    <tr>\n",
       "      <th>8</th>\n",
       "      <td>url_count</td>\n",
       "      <td>int64</td>\n",
       "      <td>88704</td>\n",
       "      <td>0</td>\n",
       "    </tr>\n",
       "  </tbody>\n",
       "</table>\n",
       "</div>"
      ],
      "text/plain": [
       "     column_name    dtype  non_null_count  null_count\n",
       "0             kw   object           88704           0\n",
       "1  SERP features   object           88704           0\n",
       "2         Volume    int64           88704           0\n",
       "3             KD    int64           88704           0\n",
       "4            CPC  float64           88704           0\n",
       "5        Traffic    int64           88704           0\n",
       "6            url   object           88704           0\n",
       "7            uid   object           88704           0\n",
       "8      url_count    int64           88704           0"
      ]
     },
     "execution_count": 29,
     "metadata": {},
     "output_type": "execute_result"
    }
   ],
   "source": [
    "show_df_info(df)"
   ]
  },
  {
   "cell_type": "code",
   "execution_count": 30,
   "id": "d5a64a23-6dcc-48e6-843e-8fd03f5d6397",
   "metadata": {},
   "outputs": [],
   "source": [
    "df.to_csv('data/combined.csv', index=False)"
   ]
  },
  {
   "cell_type": "code",
   "execution_count": 31,
   "id": "cacf27bd-eaa5-4076-97fb-3afa0d5947e4",
   "metadata": {},
   "outputs": [],
   "source": [
    "df_10_000 = df.sample(n=10000, random_state=42)"
   ]
  },
  {
   "cell_type": "code",
   "execution_count": 32,
   "id": "c3c0b2d0-37b5-464a-8bdf-0bc792bf281e",
   "metadata": {},
   "outputs": [],
   "source": [
    "df_10_000.to_csv('data/kw_10_000.csv', index=False)"
   ]
  },
  {
   "cell_type": "code",
   "execution_count": 33,
   "id": "a5d9feb4-ba07-4e32-88e6-2f9959aadac0",
   "metadata": {},
   "outputs": [],
   "source": [
    "df_1_000 = df_10_000.sample(n=1000, random_state=42)"
   ]
  },
  {
   "cell_type": "code",
   "execution_count": 34,
   "id": "2df20c2b-d448-443f-9c3a-0a450e3be283",
   "metadata": {},
   "outputs": [],
   "source": [
    "df_1_000.to_csv('data/kw_1_000.csv', index=False)"
   ]
  },
  {
   "cell_type": "code",
   "execution_count": 35,
   "id": "ff0114c5",
   "metadata": {},
   "outputs": [
    {
     "data": {
      "text/plain": [
       "966"
      ]
     },
     "execution_count": 35,
     "metadata": {},
     "output_type": "execute_result"
    }
   ],
   "source": [
    "len(df_1_000['url'].unique())"
   ]
  },
  {
   "cell_type": "code",
   "execution_count": 36,
   "id": "3baa4660",
   "metadata": {},
   "outputs": [
    {
     "data": {
      "text/plain": [
       "7989"
      ]
     },
     "execution_count": 36,
     "metadata": {},
     "output_type": "execute_result"
    }
   ],
   "source": [
    "len(df_10_000['url'].unique())"
   ]
  },
  {
   "cell_type": "code",
   "execution_count": 52,
   "id": "8a7b63bf",
   "metadata": {},
   "outputs": [
    {
     "name": "stdout",
     "output_type": "stream",
     "text": [
      "34\n"
     ]
    }
   ],
   "source": [
    "nonunique_links = df_1_000['url'].duplicated().sum()\n",
    "print(nonunique_links)"
   ]
  },
  {
   "cell_type": "code",
   "execution_count": 55,
   "id": "5d73173a",
   "metadata": {},
   "outputs": [
    {
     "data": {
      "text/plain": [
       "966"
      ]
     },
     "execution_count": 55,
     "metadata": {},
     "output_type": "execute_result"
    }
   ],
   "source": [
    "unique_links = df_1_000['url'].nunique()\n",
    "unique_links"
   ]
  },
  {
   "cell_type": "code",
   "execution_count": null,
   "id": "99d164b6",
   "metadata": {},
   "outputs": [],
   "source": []
  }
 ],
 "metadata": {
  "kernelspec": {
   "display_name": "Python 3",
   "language": "python",
   "name": "python3"
  },
  "language_info": {
   "codemirror_mode": {
    "name": "ipython",
    "version": 3
   },
   "file_extension": ".py",
   "mimetype": "text/x-python",
   "name": "python",
   "nbconvert_exporter": "python",
   "pygments_lexer": "ipython3",
   "version": "3.10.9"
  },
  "vscode": {
   "interpreter": {
    "hash": "916dbcbb3f70747c44a77c7bcd40155683ae19c65e1c03b4aa3499c5328201f1"
   }
  }
 },
 "nbformat": 4,
 "nbformat_minor": 5
}
