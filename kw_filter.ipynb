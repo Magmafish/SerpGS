{
 "cells": [
  {
   "cell_type": "code",
   "execution_count": 1,
   "id": "957282c5-6895-4174-ae51-d3419a158c20",
   "metadata": {},
   "outputs": [],
   "source": [
    "import pandas as pd\n",
    "from typing import List, Dict, Optional\n",
    "import inspect"
   ]
  },
  {
   "attachments": {},
   "cell_type": "markdown",
   "id": "9d61e641",
   "metadata": {},
   "source": [
    "# This notebook is for cleaning the input dataset\n",
    "* Removal of non-ASCII kw\n",
    "* Removal of offencive kw and URLs\n",
    "* Dropping of columns not used"
   ]
  },
  {
   "cell_type": "code",
   "execution_count": 2,
   "id": "d34f2861",
   "metadata": {},
   "outputs": [],
   "source": [
    "def remove_non_ascii_kw(df: pd.DataFrame) -> pd.DataFrame:\n",
    "    \"\"\"\n",
    "    Removes rows from a DataFrame where the \"Keyword\" column contains non-ASCII characters.\n",
    "    \n",
    "    Args:\n",
    "        df (pandas.DataFrame): The DataFrame to process.\n",
    "    \n",
    "    Returns:\n",
    "        pandas.DataFrame: The modified DataFrame with rows removed.\n",
    "    \"\"\"\n",
    "    # Remove rows where \"Keyword\" contains non-ASCII characters\n",
    "    df_start_len = len(df)\n",
    "    df = df[df['Keyword'].apply(lambda x: all(ord(c) < 128 for c in x))]\n",
    "    \n",
    "    # Print some statistics\n",
    "    print(f\"df start length: {df_start_len}\")\n",
    "    print(f\"df final length: {len(df)}\")\n",
    "    print(f\"records removed: {df_start_len - len(df)}\")\n",
    "    \n",
    "    # Return the modified DataFrame\n",
    "    return df\n"
   ]
  },
  {
   "cell_type": "code",
   "execution_count": 3,
   "id": "d1f71948",
   "metadata": {},
   "outputs": [],
   "source": [
    "def fix_nan(df: pd.DataFrame) -> pd.DataFrame:\n",
    "    \"\"\"\n",
    "    Replaces NaN values in the \"SERP features\" and \"CPC\" columns of a pandas DataFrame with appropriate default values.\n",
    "    \n",
    "    Args:\n",
    "        df (pandas.DataFrame): The DataFrame to process.\n",
    "    \n",
    "    Returns:\n",
    "        pandas.DataFrame: The modified DataFrame with NaN values replaced.\n",
    "    \"\"\"\n",
    "    # Count NaN values in \"SERP features\" and \"CPC\" columns\n",
    "    serp_nan = df['SERP features'].isna().sum()\n",
    "    cpc_nan = df['CPC'].isna().sum()\n",
    "    \n",
    "    # Replace NaN values with appropriate default values\n",
    "    df['SERP features'] = df['SERP features'].fillna('None')\n",
    "    df['CPC'] = df['CPC'].fillna(0)\n",
    "    \n",
    "    # Print some statistics\n",
    "    print(f\"SERP features NaN records replaced with 'None': {serp_nan}\")\n",
    "    print(f\"CPC NaN records replaced with 0: {cpc_nan}\")\n",
    "    \n",
    "    # Return the modified DataFrame\n",
    "    return df"
   ]
  },
  {
   "cell_type": "code",
   "execution_count": 4,
   "id": "23d81003",
   "metadata": {},
   "outputs": [],
   "source": [
    "def remove_blocklist_kw(df: pd.DataFrame, kw_blocklist: List[str]) -> pd.DataFrame:\n",
    "    \"\"\"\n",
    "    Removes rows from a pandas DataFrame where the \"Keyword\" column contains any of the keywords in a blocklist.\n",
    "\n",
    "    Args:\n",
    "        df (pandas.DataFrame): The DataFrame to process.\n",
    "        kw_blocklist (List[str]): A list of keywords to remove from the DataFrame.\n",
    "\n",
    "    Returns:\n",
    "        pandas.DataFrame: The modified DataFrame with the specified keywords removed.\n",
    "    \"\"\"\n",
    "    # Get the length of the input DataFrame\n",
    "    df_start_len = len(df)\n",
    "\n",
    "    # Create a regular expression pattern from the blocklist\n",
    "    kw_pattern = '|'.join(kw_blocklist)\n",
    "\n",
    "    # Create a mask for rows containing keywords in the blocklist\n",
    "    kw_mask = df['Keyword'].str.contains(kw_pattern, case=False)\n",
    "\n",
    "    # Use the mask to remove the specified keywords from the DataFrame\n",
    "    df = df[~kw_mask]\n",
    "\n",
    "    # Print some statistics\n",
    "    print(f\"df start length: {df_start_len}\")\n",
    "    print(f\"df final length: {len(df)}\")\n",
    "    print(f\"records removed: {df_start_len - len(df)}\")\n",
    "\n",
    "    # Return the modified DataFrame\n",
    "    return df"
   ]
  },
  {
   "cell_type": "code",
   "execution_count": 5,
   "id": "c994b23f",
   "metadata": {},
   "outputs": [],
   "source": [
    "def remove_blocklist_url(df: pd.DataFrame, url_blocklist: List[str]) -> pd.DataFrame:\n",
    "    \"\"\"\n",
    "    Removes rows from a pandas DataFrame where the \"URL\" column contains any of the URLs in a blocklist.\n",
    "\n",
    "    Args:\n",
    "        df (pandas.DataFrame): The DataFrame to process.\n",
    "        url_blocklist (List[str]): A list of URLs to remove from the DataFrame.\n",
    "\n",
    "    Returns:\n",
    "        pandas.DataFrame: The modified DataFrame with the specified URLs removed.\n",
    "    \"\"\"\n",
    "    # Get the length of the input DataFrame\n",
    "    df_start_len = len(df)\n",
    "\n",
    "    # Create a regular expression pattern from the blocklist\n",
    "    url_pattern = '|'.join(url_blocklist)\n",
    "\n",
    "    # Create a mask for rows containing URLs in the blocklist\n",
    "    url_mask = df['URL'].str.contains(url_pattern, case=False)\n",
    "\n",
    "    # Use the mask to remove the specified URLs from the DataFrame\n",
    "    df = df[~url_mask]\n",
    "\n",
    "    # Print some statistics\n",
    "    print(f\"df start length: {df_start_len}\")\n",
    "    print(f\"df final length: {len(df)}\")\n",
    "    print(f\"records removed: {df_start_len - len(df)}\")\n",
    "\n",
    "    # Return the modified DataFrame\n",
    "    return df"
   ]
  },
  {
   "cell_type": "code",
   "execution_count": 6,
   "id": "13722a84",
   "metadata": {},
   "outputs": [],
   "source": [
    "def show_df_info(df: pd.DataFrame) -> pd.DataFrame:\n",
    "    \"\"\"\n",
    "    Prints information about a DataFrame, including column names, data types, and non-null counts.\n",
    "    \n",
    "    Args:\n",
    "        df (pandas.DataFrame): The DataFrame to process.\n",
    "        \n",
    "    Returns:\n",
    "        pandas.DataFrame: A DataFrame containing the column names, data types, and non-null counts, and null counts of the input DataFrame.\n",
    "    \"\"\"\n",
    "    col_names = df.columns.to_list()\n",
    "    col_dtypes = df.dtypes.to_list()\n",
    "    non_null_counts = df.count().to_list()\n",
    "    null_counts = df.isnull().sum().to_list()\n",
    "    info_df = pd.DataFrame({'column_name': col_names, 'dtype': col_dtypes, 'non_null_count': non_null_counts, 'null_count': null_counts})\n",
    "\n",
    "    caller_frame = inspect.currentframe().f_back\n",
    "    df_name = [var_name for var_name, var_val in caller_frame.f_locals.items() if var_val is df][0]\n",
    "\n",
    "    print(f\"DataFrame '{df_name}' has {len(df)} rows and {len(df.columns)} columns.\")\n",
    "    print(\"Here is a summary of the column names, data types and null counts:\")\n",
    "    return info_df\n"
   ]
  },
  {
   "cell_type": "code",
   "execution_count": 7,
   "id": "651e6bae-9ff3-4cd1-bb45-f0ee293d82cd",
   "metadata": {},
   "outputs": [],
   "source": [
    "df1 = pd.read_csv('data/webmd.csv')\n",
    "df2 = pd.read_csv('data/thespruce.csv')\n",
    "df3 = pd.read_csv('data/amazon.csv')\n",
    "df = pd.concat([df1, df2, df3])\n",
    "df = df.reset_index(drop=True)\n",
    "# columns_to_drop = [\"KD\", \"CPC\", \"Traffic\", \"Current position\", \"Current URL inside\", \"Updated\"]\n",
    "columns_to_drop = [\"Current position\", \"Current URL inside\", \"Updated\"]\n",
    "df = df.drop(columns_to_drop, axis=1)\n",
    "df = df.rename(columns={'Current URL': 'URL'})"
   ]
  },
  {
   "cell_type": "code",
   "execution_count": 8,
   "id": "512e2671-89f7-47ee-888d-f27b539e2ea5",
   "metadata": {},
   "outputs": [
    {
     "name": "stdout",
     "output_type": "stream",
     "text": [
      "DataFrame 'df' has 90000 rows and 7 columns.\n",
      "Here is a summary of the column names, data types and null counts:\n"
     ]
    },
    {
     "data": {
      "text/html": [
       "<div>\n",
       "<style scoped>\n",
       "    .dataframe tbody tr th:only-of-type {\n",
       "        vertical-align: middle;\n",
       "    }\n",
       "\n",
       "    .dataframe tbody tr th {\n",
       "        vertical-align: top;\n",
       "    }\n",
       "\n",
       "    .dataframe thead th {\n",
       "        text-align: right;\n",
       "    }\n",
       "</style>\n",
       "<table border=\"1\" class=\"dataframe\">\n",
       "  <thead>\n",
       "    <tr style=\"text-align: right;\">\n",
       "      <th></th>\n",
       "      <th>column_name</th>\n",
       "      <th>dtype</th>\n",
       "      <th>non_null_count</th>\n",
       "      <th>null_count</th>\n",
       "    </tr>\n",
       "  </thead>\n",
       "  <tbody>\n",
       "    <tr>\n",
       "      <th>0</th>\n",
       "      <td>Keyword</td>\n",
       "      <td>object</td>\n",
       "      <td>90000</td>\n",
       "      <td>0</td>\n",
       "    </tr>\n",
       "    <tr>\n",
       "      <th>1</th>\n",
       "      <td>SERP features</td>\n",
       "      <td>object</td>\n",
       "      <td>89313</td>\n",
       "      <td>687</td>\n",
       "    </tr>\n",
       "    <tr>\n",
       "      <th>2</th>\n",
       "      <td>Volume</td>\n",
       "      <td>int64</td>\n",
       "      <td>90000</td>\n",
       "      <td>0</td>\n",
       "    </tr>\n",
       "    <tr>\n",
       "      <th>3</th>\n",
       "      <td>KD</td>\n",
       "      <td>int64</td>\n",
       "      <td>90000</td>\n",
       "      <td>0</td>\n",
       "    </tr>\n",
       "    <tr>\n",
       "      <th>4</th>\n",
       "      <td>CPC</td>\n",
       "      <td>float64</td>\n",
       "      <td>76574</td>\n",
       "      <td>13426</td>\n",
       "    </tr>\n",
       "    <tr>\n",
       "      <th>5</th>\n",
       "      <td>Traffic</td>\n",
       "      <td>int64</td>\n",
       "      <td>90000</td>\n",
       "      <td>0</td>\n",
       "    </tr>\n",
       "    <tr>\n",
       "      <th>6</th>\n",
       "      <td>URL</td>\n",
       "      <td>object</td>\n",
       "      <td>90000</td>\n",
       "      <td>0</td>\n",
       "    </tr>\n",
       "  </tbody>\n",
       "</table>\n",
       "</div>"
      ],
      "text/plain": [
       "     column_name    dtype  non_null_count  null_count\n",
       "0        Keyword   object           90000           0\n",
       "1  SERP features   object           89313         687\n",
       "2         Volume    int64           90000           0\n",
       "3             KD    int64           90000           0\n",
       "4            CPC  float64           76574       13426\n",
       "5        Traffic    int64           90000           0\n",
       "6            URL   object           90000           0"
      ]
     },
     "execution_count": 8,
     "metadata": {},
     "output_type": "execute_result"
    }
   ],
   "source": [
    "show_df_info(df)"
   ]
  },
  {
   "cell_type": "code",
   "execution_count": 9,
   "id": "10ceb7c1",
   "metadata": {},
   "outputs": [
    {
     "name": "stdout",
     "output_type": "stream",
     "text": [
      "df start length: 90000\n",
      "df final length: 89917\n",
      "records removed: 83\n"
     ]
    }
   ],
   "source": [
    "df = remove_non_ascii_kw(df)"
   ]
  },
  {
   "cell_type": "code",
   "execution_count": 10,
   "id": "54595db9-fe6b-4ed9-8e91-664d37768c44",
   "metadata": {},
   "outputs": [],
   "source": [
    "kw_block_list = [\"penis\", \"vagina\", \"sex\", \"slut\", \"dick\", \"fuck\", \"milf\", \"cum \", \"cunt\", \"rape\", \"porn\", \"boner\", \"cock\", \"whore\", \"bitch\", \"futa\", \"wet dreams\", \"cowgirl position\",  \"reverse cowgirl\", \"girl squirt\", \"girls squirt\", \"squirting-orgasm\", \" squirt pee\", \"girl's body\", \"dildo\", \"butt-plug\", \"good head\", \"smells bad down there\", \"xxx\", \"wormwood\", \"fetish\",  \"vibrator\", \"sandalias de mujer\"]"
   ]
  },
  {
   "cell_type": "code",
   "execution_count": 11,
   "id": "32a23abe-6771-44f5-9942-1f2eef0599f9",
   "metadata": {},
   "outputs": [
    {
     "name": "stdout",
     "output_type": "stream",
     "text": [
      "df start length: 89917\n",
      "df final length: 88842\n",
      "records removed: 1075\n"
     ]
    }
   ],
   "source": [
    "df = remove_blocklist_kw(df, kw_block_list)"
   ]
  },
  {
   "cell_type": "code",
   "execution_count": 12,
   "id": "c0e39e45-a2f2-4723-8663-cfd2278815f3",
   "metadata": {},
   "outputs": [],
   "source": [
    "url_blocklist = [\"aws.amazon\", \"www.amazon.com/kindle-dbs\", \"squirting-orgasm\"]"
   ]
  },
  {
   "cell_type": "code",
   "execution_count": 13,
   "id": "8fe32d90-588b-4599-9acd-89694e6a596e",
   "metadata": {},
   "outputs": [
    {
     "name": "stdout",
     "output_type": "stream",
     "text": [
      "df start length: 88842\n",
      "df final length: 88704\n",
      "records removed: 138\n"
     ]
    }
   ],
   "source": [
    "df = remove_blocklist_url(df, url_blocklist)"
   ]
  },
  {
   "cell_type": "code",
   "execution_count": 14,
   "id": "8516cc3d",
   "metadata": {},
   "outputs": [
    {
     "name": "stdout",
     "output_type": "stream",
     "text": [
      "SERP features NaN records replaced with 'None': 602\n",
      "CPC NaN records replaced with 0: 13180\n"
     ]
    }
   ],
   "source": [
    "df = fix_nan(df)"
   ]
  },
  {
   "cell_type": "code",
   "execution_count": 15,
   "id": "35d98498",
   "metadata": {},
   "outputs": [
    {
     "name": "stdout",
     "output_type": "stream",
     "text": [
      "DataFrame 'df' has 88704 rows and 7 columns.\n",
      "Here is a summary of the column names, data types and null counts:\n"
     ]
    },
    {
     "data": {
      "text/html": [
       "<div>\n",
       "<style scoped>\n",
       "    .dataframe tbody tr th:only-of-type {\n",
       "        vertical-align: middle;\n",
       "    }\n",
       "\n",
       "    .dataframe tbody tr th {\n",
       "        vertical-align: top;\n",
       "    }\n",
       "\n",
       "    .dataframe thead th {\n",
       "        text-align: right;\n",
       "    }\n",
       "</style>\n",
       "<table border=\"1\" class=\"dataframe\">\n",
       "  <thead>\n",
       "    <tr style=\"text-align: right;\">\n",
       "      <th></th>\n",
       "      <th>column_name</th>\n",
       "      <th>dtype</th>\n",
       "      <th>non_null_count</th>\n",
       "      <th>null_count</th>\n",
       "    </tr>\n",
       "  </thead>\n",
       "  <tbody>\n",
       "    <tr>\n",
       "      <th>0</th>\n",
       "      <td>Keyword</td>\n",
       "      <td>object</td>\n",
       "      <td>88704</td>\n",
       "      <td>0</td>\n",
       "    </tr>\n",
       "    <tr>\n",
       "      <th>1</th>\n",
       "      <td>SERP features</td>\n",
       "      <td>object</td>\n",
       "      <td>88704</td>\n",
       "      <td>0</td>\n",
       "    </tr>\n",
       "    <tr>\n",
       "      <th>2</th>\n",
       "      <td>Volume</td>\n",
       "      <td>int64</td>\n",
       "      <td>88704</td>\n",
       "      <td>0</td>\n",
       "    </tr>\n",
       "    <tr>\n",
       "      <th>3</th>\n",
       "      <td>KD</td>\n",
       "      <td>int64</td>\n",
       "      <td>88704</td>\n",
       "      <td>0</td>\n",
       "    </tr>\n",
       "    <tr>\n",
       "      <th>4</th>\n",
       "      <td>CPC</td>\n",
       "      <td>float64</td>\n",
       "      <td>88704</td>\n",
       "      <td>0</td>\n",
       "    </tr>\n",
       "    <tr>\n",
       "      <th>5</th>\n",
       "      <td>Traffic</td>\n",
       "      <td>int64</td>\n",
       "      <td>88704</td>\n",
       "      <td>0</td>\n",
       "    </tr>\n",
       "    <tr>\n",
       "      <th>6</th>\n",
       "      <td>URL</td>\n",
       "      <td>object</td>\n",
       "      <td>88704</td>\n",
       "      <td>0</td>\n",
       "    </tr>\n",
       "  </tbody>\n",
       "</table>\n",
       "</div>"
      ],
      "text/plain": [
       "     column_name    dtype  non_null_count  null_count\n",
       "0        Keyword   object           88704           0\n",
       "1  SERP features   object           88704           0\n",
       "2         Volume    int64           88704           0\n",
       "3             KD    int64           88704           0\n",
       "4            CPC  float64           88704           0\n",
       "5        Traffic    int64           88704           0\n",
       "6            URL   object           88704           0"
      ]
     },
     "execution_count": 15,
     "metadata": {},
     "output_type": "execute_result"
    }
   ],
   "source": [
    "show_df_info(df)"
   ]
  },
  {
   "cell_type": "code",
   "execution_count": 16,
   "id": "d5a64a23-6dcc-48e6-843e-8fd03f5d6397",
   "metadata": {},
   "outputs": [],
   "source": [
    "df.to_csv('data/combined.csv', index=False)"
   ]
  },
  {
   "cell_type": "code",
   "execution_count": 17,
   "id": "cacf27bd-eaa5-4076-97fb-3afa0d5947e4",
   "metadata": {},
   "outputs": [],
   "source": [
    "df_10_000 = df.sample(n=10000, random_state=42)"
   ]
  },
  {
   "cell_type": "code",
   "execution_count": 18,
   "id": "c3c0b2d0-37b5-464a-8bdf-0bc792bf281e",
   "metadata": {},
   "outputs": [],
   "source": [
    "df_10_000.to_csv('data/kw_10_000.csv', index=False)"
   ]
  },
  {
   "cell_type": "code",
   "execution_count": 19,
   "id": "a5d9feb4-ba07-4e32-88e6-2f9959aadac0",
   "metadata": {},
   "outputs": [],
   "source": [
    "df_1_000 = df_10_000.sample(n=1000, random_state=42)"
   ]
  },
  {
   "cell_type": "code",
   "execution_count": 20,
   "id": "2df20c2b-d448-443f-9c3a-0a450e3be283",
   "metadata": {},
   "outputs": [],
   "source": [
    "df_1_000.to_csv('data/kw_1_000.csv', index=False)"
   ]
  },
  {
   "cell_type": "code",
   "execution_count": null,
   "id": "ff0114c5",
   "metadata": {},
   "outputs": [],
   "source": []
  }
 ],
 "metadata": {
  "kernelspec": {
   "display_name": "Python 3",
   "language": "python",
   "name": "python3"
  },
  "language_info": {
   "codemirror_mode": {
    "name": "ipython",
    "version": 3
   },
   "file_extension": ".py",
   "mimetype": "text/x-python",
   "name": "python",
   "nbconvert_exporter": "python",
   "pygments_lexer": "ipython3",
   "version": "3.10.9"
  },
  "vscode": {
   "interpreter": {
    "hash": "916dbcbb3f70747c44a77c7bcd40155683ae19c65e1c03b4aa3499c5328201f1"
   }
  }
 },
 "nbformat": 4,
 "nbformat_minor": 5
}
