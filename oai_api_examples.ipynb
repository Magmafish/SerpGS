{
 "cells": [
  {
   "cell_type": "code",
   "execution_count": 1,
   "metadata": {},
   "outputs": [],
   "source": [
    "import requests\n",
    "import json\n",
    "import pandas as pd"
   ]
  },
  {
   "cell_type": "code",
   "execution_count": 2,
   "metadata": {},
   "outputs": [],
   "source": [
    "pd.set_option('display.max_rows', 10)\n",
    "pd.set_option('display.max_columns', 100)"
   ]
  },
  {
   "cell_type": "code",
   "execution_count": 3,
   "metadata": {},
   "outputs": [
    {
     "name": "stdout",
     "output_type": "stream",
     "text": [
      "api_key is type str and is 32 characters long\n"
     ]
    }
   ],
   "source": [
    "# fetch api key from file\n",
    "\n",
    "with open('secret/oai_key.txt', 'r') as file:\n",
    "    api_key = file.read()\n",
    "print(f'api_key is type {type(api_key).__name__} and is {len(api_key)} characters long')"
   ]
  },
  {
   "cell_type": "code",
   "execution_count": 4,
   "metadata": {},
   "outputs": [],
   "source": [
    "url = 'https://api.originality.ai/api/v1'"
   ]
  },
  {
   "cell_type": "code",
   "execution_count": 5,
   "metadata": {},
   "outputs": [
    {
     "data": {
      "text/plain": [
       "{'balance': 59163}"
      ]
     },
     "execution_count": 5,
     "metadata": {},
     "output_type": "execute_result"
    }
   ],
   "source": [
    "# EXAMPLE GET BALANCE\n",
    "\n",
    "headers={'X-OAI-API-KEY': api_key}\n",
    "response_1 = requests.get(url + '/account/credits/balance',headers=headers)\n",
    "response_1.json()"
   ]
  },
  {
   "cell_type": "code",
   "execution_count": 18,
   "metadata": {},
   "outputs": [
    {
     "data": {
      "text/plain": [
       "100"
      ]
     },
     "execution_count": 18,
     "metadata": {},
     "output_type": "execute_result"
    }
   ],
   "source": [
    "# EXAMPLE GET USAGE \n",
    "\n",
    "headers={'X-OAI-API-KEY': api_key}\n",
    "response_2 = requests.get(url + '/account/credits/content_scan_usage',headers=headers)\n",
    "len(response_2.json()['usage'])\n",
    "#response_2.json()"
   ]
  },
  {
   "cell_type": "code",
   "execution_count": 7,
   "metadata": {},
   "outputs": [
    {
     "data": {
      "text/html": [
       "<div>\n",
       "<style scoped>\n",
       "    .dataframe tbody tr th:only-of-type {\n",
       "        vertical-align: middle;\n",
       "    }\n",
       "\n",
       "    .dataframe tbody tr th {\n",
       "        vertical-align: top;\n",
       "    }\n",
       "\n",
       "    .dataframe thead th {\n",
       "        text-align: right;\n",
       "    }\n",
       "</style>\n",
       "<table border=\"1\" class=\"dataframe\">\n",
       "  <thead>\n",
       "    <tr style=\"text-align: right;\">\n",
       "      <th></th>\n",
       "      <th>contentID</th>\n",
       "      <th>credits_used</th>\n",
       "      <th>date</th>\n",
       "    </tr>\n",
       "  </thead>\n",
       "  <tbody>\n",
       "    <tr>\n",
       "      <th>0</th>\n",
       "      <td>rc19xy85p3m67hun</td>\n",
       "      <td>2</td>\n",
       "      <td>2023-02-19T20:06:57.000000Z</td>\n",
       "    </tr>\n",
       "    <tr>\n",
       "      <th>1</th>\n",
       "      <td>mxnd64ap58blyicv</td>\n",
       "      <td>6</td>\n",
       "      <td>2023-02-18T19:26:13.000000Z</td>\n",
       "    </tr>\n",
       "    <tr>\n",
       "      <th>2</th>\n",
       "      <td>cvjr28sbq40wgidn</td>\n",
       "      <td>11</td>\n",
       "      <td>2023-02-18T19:18:36.000000Z</td>\n",
       "    </tr>\n",
       "    <tr>\n",
       "      <th>3</th>\n",
       "      <td>9b6sqvjc3og1zu2m</td>\n",
       "      <td>2</td>\n",
       "      <td>2023-02-18T18:27:33.000000Z</td>\n",
       "    </tr>\n",
       "    <tr>\n",
       "      <th>4</th>\n",
       "      <td>b7zyjvqdnxphi3eu</td>\n",
       "      <td>2</td>\n",
       "      <td>2023-02-18T18:26:56.000000Z</td>\n",
       "    </tr>\n",
       "    <tr>\n",
       "      <th>...</th>\n",
       "      <td>...</td>\n",
       "      <td>...</td>\n",
       "      <td>...</td>\n",
       "    </tr>\n",
       "    <tr>\n",
       "      <th>95</th>\n",
       "      <td>9gora36s0nf4d1xw</td>\n",
       "      <td>42</td>\n",
       "      <td>2023-01-27T20:51:35.000000Z</td>\n",
       "    </tr>\n",
       "    <tr>\n",
       "      <th>96</th>\n",
       "      <td>ah01rsjmnl4pg6oy</td>\n",
       "      <td>2</td>\n",
       "      <td>2023-01-27T20:47:22.000000Z</td>\n",
       "    </tr>\n",
       "    <tr>\n",
       "      <th>97</th>\n",
       "      <td>s6gjmwt295rlf7b3</td>\n",
       "      <td>2</td>\n",
       "      <td>2023-01-27T20:46:20.000000Z</td>\n",
       "    </tr>\n",
       "    <tr>\n",
       "      <th>98</th>\n",
       "      <td>xhuofwzl246dryvk</td>\n",
       "      <td>2</td>\n",
       "      <td>2023-01-27T19:16:30.000000Z</td>\n",
       "    </tr>\n",
       "    <tr>\n",
       "      <th>99</th>\n",
       "      <td>pafgewduomnjby75</td>\n",
       "      <td>6</td>\n",
       "      <td>2023-01-27T19:14:27.000000Z</td>\n",
       "    </tr>\n",
       "  </tbody>\n",
       "</table>\n",
       "<p>100 rows × 3 columns</p>\n",
       "</div>"
      ],
      "text/plain": [
       "           contentID  credits_used                         date\n",
       "0   rc19xy85p3m67hun             2  2023-02-19T20:06:57.000000Z\n",
       "1   mxnd64ap58blyicv             6  2023-02-18T19:26:13.000000Z\n",
       "2   cvjr28sbq40wgidn            11  2023-02-18T19:18:36.000000Z\n",
       "3   9b6sqvjc3og1zu2m             2  2023-02-18T18:27:33.000000Z\n",
       "4   b7zyjvqdnxphi3eu             2  2023-02-18T18:26:56.000000Z\n",
       "..               ...           ...                          ...\n",
       "95  9gora36s0nf4d1xw            42  2023-01-27T20:51:35.000000Z\n",
       "96  ah01rsjmnl4pg6oy             2  2023-01-27T20:47:22.000000Z\n",
       "97  s6gjmwt295rlf7b3             2  2023-01-27T20:46:20.000000Z\n",
       "98  xhuofwzl246dryvk             2  2023-01-27T19:16:30.000000Z\n",
       "99  pafgewduomnjby75             6  2023-01-27T19:14:27.000000Z\n",
       "\n",
       "[100 rows x 3 columns]"
      ]
     },
     "execution_count": 7,
     "metadata": {},
     "output_type": "execute_result"
    }
   ],
   "source": [
    "# EXAMPLE GET USAGE INTO DF\n",
    "\n",
    "df_usage_info = pd.json_normalize(response_2.json()['usage'])\n",
    "df_usage_info"
   ]
  },
  {
   "cell_type": "code",
   "execution_count": 8,
   "metadata": {},
   "outputs": [
    {
     "data": {
      "text/plain": [
       "{'payments': []}"
      ]
     },
     "execution_count": 8,
     "metadata": {},
     "output_type": "execute_result"
    }
   ],
   "source": [
    "# EXAMPLE GET PAYMENTS\n",
    "\n",
    "headers={'X-OAI-API-KEY': api_key}\n",
    "response_3 = requests.get(url + '/account/credits/payments',headers=headers)\n",
    "response_3.json()"
   ]
  },
  {
   "cell_type": "code",
   "execution_count": 9,
   "metadata": {},
   "outputs": [
    {
     "data": {
      "text/plain": [
       "{'success': True,\n",
       " 'score': {'original': 0.583263635635376, 'ai': 0.416736364364624},\n",
       " 'credits_used': 2,\n",
       " 'credits': 59161,\n",
       " 'content': 'Lorem ipsum dolor sit amet, consectetur adipiscing elit. Suspendisse suscipit varius nisi, non eleifend ante volutpat non. Fusce eget rutrum tellus. Duis et dolor dignissim, tincidunt odio et, cursus libero. Donec vitae nunc mollis, rutrum risus a, sodales lectus. Maecenas dapibus auctor egestas. Nunc volutpat justo purus, eu sodales neque sollicitudin id. Quisque ut scelerisque dolor. Suspendisse tincidunt viverra erat a scelerisque. Proin tempor libero sit amet sem consectetur, et elementum tortor lobortis. Ut eleifend fermentum accumsan. Pellentesque mattis nec eros in porta. Nunc aliquam ultricies est vitae euismod. Vestibulum pretium, lorem quis ornare molestie, velit risus posuere enim, sit amet fringilla lorem lectus aliquam dolor.'}"
      ]
     },
     "execution_count": 9,
     "metadata": {},
     "output_type": "execute_result"
    }
   ],
   "source": [
    "# EXAMPLE POST CONTENT SCAN\n",
    "\n",
    "headers={'X-OAI-API-KEY': api_key}\n",
    "params={\n",
    "  \"content\": \"Lorem ipsum dolor sit amet, consectetur adipiscing elit. Suspendisse suscipit varius nisi, non eleifend ante volutpat non. Fusce eget rutrum tellus. Duis et dolor dignissim, tincidunt odio et, cursus libero. Donec vitae nunc mollis, rutrum risus a, sodales lectus. Maecenas dapibus auctor egestas. Nunc volutpat justo purus, eu sodales neque sollicitudin id. Quisque ut scelerisque dolor. Suspendisse tincidunt viverra erat a scelerisque. Proin tempor libero sit amet sem consectetur, et elementum tortor lobortis. Ut eleifend fermentum accumsan. Pellentesque mattis nec eros in porta. Nunc aliquam ultricies est vitae euismod. Vestibulum pretium, lorem quis ornare molestie, velit risus posuere enim, sit amet fringilla lorem lectus aliquam dolor.\"\n",
    "}\n",
    "\n",
    "response_4 = requests.post(url + '/scan/ai',headers=headers, params=params)\n",
    "response_4.json()"
   ]
  },
  {
   "cell_type": "code",
   "execution_count": 10,
   "metadata": {},
   "outputs": [
    {
     "data": {
      "text/html": [
       "<div>\n",
       "<style scoped>\n",
       "    .dataframe tbody tr th:only-of-type {\n",
       "        vertical-align: middle;\n",
       "    }\n",
       "\n",
       "    .dataframe tbody tr th {\n",
       "        vertical-align: top;\n",
       "    }\n",
       "\n",
       "    .dataframe thead th {\n",
       "        text-align: right;\n",
       "    }\n",
       "</style>\n",
       "<table border=\"1\" class=\"dataframe\">\n",
       "  <thead>\n",
       "    <tr style=\"text-align: right;\">\n",
       "      <th></th>\n",
       "      <th>success</th>\n",
       "      <th>credits_used</th>\n",
       "      <th>credits</th>\n",
       "      <th>content</th>\n",
       "      <th>score.original</th>\n",
       "      <th>score.ai</th>\n",
       "    </tr>\n",
       "  </thead>\n",
       "  <tbody>\n",
       "    <tr>\n",
       "      <th>0</th>\n",
       "      <td>True</td>\n",
       "      <td>2</td>\n",
       "      <td>59161</td>\n",
       "      <td>Lorem ipsum dolor sit amet, consectetur adipis...</td>\n",
       "      <td>0.583264</td>\n",
       "      <td>0.416736</td>\n",
       "    </tr>\n",
       "  </tbody>\n",
       "</table>\n",
       "</div>"
      ],
      "text/plain": [
       "   success  credits_used  credits  \\\n",
       "0     True             2    59161   \n",
       "\n",
       "                                             content  score.original  score.ai  \n",
       "0  Lorem ipsum dolor sit amet, consectetur adipis...        0.583264  0.416736  "
      ]
     },
     "execution_count": 10,
     "metadata": {},
     "output_type": "execute_result"
    }
   ],
   "source": [
    "# EXAMPLE POST CONTENT SCAN INTO DF\n",
    "\n",
    "df_content_scan = pd.json_normalize(response_4.json())\n",
    "df_content_scan.head()"
   ]
  },
  {
   "cell_type": "code",
   "execution_count": 11,
   "metadata": {},
   "outputs": [
    {
     "data": {
      "text/plain": [
       "{'success': True,\n",
       " 'url': 'https://www.target.com/c/table-lamps-lighting-home-decor/-/N-56d7t',\n",
       " 'url_code': 200,\n",
       " 'credits_used': 4,\n",
       " 'credits': 59157,\n",
       " 'word_count': 303,\n",
       " 'score': {'original': 0.9989977478981018, 'ai': 0.0010022532660514116},\n",
       " 'score_breakdown': [{'original': 0.9989977478981018,\n",
       "   'ai': 0.0010022532660514116,\n",
       "   'text': ' A bedroom table lamp sets the mood for your bedroom and illuminates reading and task work. These should be 24\"–27\" tall for optimal bedtime reading. Light your living room and create an inviting atmosphere with the right table lamp. The ideal lamp size for a living room table lamp is 24\"–34\" tall. Task desk lighting can help bring specific areas into focus, while a taller lamp can brighten a larger area. Desk lamps can range in size from 12\"–30\" high. These small (less than 24\" tall) lamps soften the overall light in a room and draw attention to objects nearby. They’re perfect for entryways or living rooms. Add warmth & light to any space with a table lamp. As easy addition, lamps help set the right ambiance for every type of room. Living rooms require soft lighting to create an inviting atmosphere for your guests. Accent lamps not only brighten up the room but also double up as decor for your living room. The base and shade complement each other making them a great decor accessory. They are perfect for your entryway table or living rooms. Based on your decor style, find a variety of designs, from modern to bohemian, or go rustic with a farmhouse-inspired lamp. If you are looking to mix-n-match, pick your favorite lamp base available in a range of materials, from glass to wood and shiny metallic finishes. The size, material, and shape of the shade also determine the amount of illumination. For bedrooms, the lighting is softer to set the right mood for relaxation or light reading. A table lamp for the bedroom helps illuminate for reading and task work but is softer than a desk lamp. Task desk lamps are great for your study table or work desk as they focus light on a specific area.'}],\n",
       " 'results': {'success': True,\n",
       "  'statusCode': 200,\n",
       "  'cost': 4,\n",
       "  'wordCount': 303,\n",
       "  'totalAIResults': {'real': 0.9989977478981018,\n",
       "   'fake': 0.0010022532660514116},\n",
       "  'blocks': [{'original': 0.9989977478981018,\n",
       "    'ai': 0.0010022532660514116,\n",
       "    'text': ' A bedroom table lamp sets the mood for your bedroom and illuminates reading and task work. These should be 24\"–27\" tall for optimal bedtime reading. Light your living room and create an inviting atmosphere with the right table lamp. The ideal lamp size for a living room table lamp is 24\"–34\" tall. Task desk lighting can help bring specific areas into focus, while a taller lamp can brighten a larger area. Desk lamps can range in size from 12\"–30\" high. These small (less than 24\" tall) lamps soften the overall light in a room and draw attention to objects nearby. They’re perfect for entryways or living rooms. Add warmth & light to any space with a table lamp. As easy addition, lamps help set the right ambiance for every type of room. Living rooms require soft lighting to create an inviting atmosphere for your guests. Accent lamps not only brighten up the room but also double up as decor for your living room. The base and shade complement each other making them a great decor accessory. They are perfect for your entryway table or living rooms. Based on your decor style, find a variety of designs, from modern to bohemian, or go rustic with a farmhouse-inspired lamp. If you are looking to mix-n-match, pick your favorite lamp base available in a range of materials, from glass to wood and shiny metallic finishes. The size, material, and shape of the shade also determine the amount of illumination. For bedrooms, the lighting is softer to set the right mood for relaxation or light reading. A table lamp for the bedroom helps illuminate for reading and task work but is softer than a desk lamp. Task desk lamps are great for your study table or work desk as they focus light on a specific area.'}],\n",
       "  'results': {'pageID': 0,\n",
       "   'url': 'https://www.target.com/c/table-lamps-lighting-home-decor/-/N-56d7t',\n",
       "   'statusCode': 200,\n",
       "   'aiResults': {'real': 0.9989977478981018, 'fake': 0.0010022532660514116},\n",
       "   'wordCount': 303,\n",
       "   'aiTextBlocks': [{'text': ' A bedroom table lamp sets the mood for your bedroom and illuminates reading and task work. These should be 24\"–27\" tall for optimal bedtime reading. Light your living room and create an inviting atmosphere with the right table lamp. The ideal lamp size for a living room table lamp is 24\"–34\" tall. Task desk lighting can help bring specific areas into focus, while a taller lamp can brighten a larger area. Desk lamps can range in size from 12\"–30\" high. These small (less than 24\" tall) lamps soften the overall light in a room and draw attention to objects nearby. They’re perfect for entryways or living rooms. Add warmth & light to any space with a table lamp. As easy addition, lamps help set the right ambiance for every type of room. Living rooms require soft lighting to create an inviting atmosphere for your guests. Accent lamps not only brighten up the room but also double up as decor for your living room. The base and shade complement each other making them a great decor accessory. They are perfect for your entryway table or living rooms. Based on your decor style, find a variety of designs, from modern to bohemian, or go rustic with a farmhouse-inspired lamp. If you are looking to mix-n-match, pick your favorite lamp base available in a range of materials, from glass to wood and shiny metallic finishes. The size, material, and shape of the shade also determine the amount of illumination. For bedrooms, the lighting is softer to set the right mood for relaxation or light reading. A table lamp for the bedroom helps illuminate for reading and task work but is softer than a desk lamp. Task desk lamps are great for your study table or work desk as they focus light on a specific area.',\n",
       "     'status': 'success',\n",
       "     'result': {'fake': 0.0010022532660514116, 'real': 0.9989977478981018}}]}}}"
      ]
     },
     "execution_count": 11,
     "metadata": {},
     "output_type": "execute_result"
    }
   ],
   "source": [
    "# EXAMPLE POST URL SCAN\n",
    "\n",
    "headers={'X-OAI-API-KEY': api_key,}\n",
    "params={\"url\": \"https://www.target.com/c/table-lamps-lighting-home-decor/-/N-56d7t\"}\n",
    "response_5 = requests.post(url + \"/scan/url\",headers=headers, params=params)\n",
    "response_5.json()"
   ]
  },
  {
   "cell_type": "code",
   "execution_count": 12,
   "metadata": {},
   "outputs": [
    {
     "data": {
      "text/html": [
       "<div>\n",
       "<style scoped>\n",
       "    .dataframe tbody tr th:only-of-type {\n",
       "        vertical-align: middle;\n",
       "    }\n",
       "\n",
       "    .dataframe tbody tr th {\n",
       "        vertical-align: top;\n",
       "    }\n",
       "\n",
       "    .dataframe thead th {\n",
       "        text-align: right;\n",
       "    }\n",
       "</style>\n",
       "<table border=\"1\" class=\"dataframe\">\n",
       "  <thead>\n",
       "    <tr style=\"text-align: right;\">\n",
       "      <th></th>\n",
       "      <th>success</th>\n",
       "      <th>url</th>\n",
       "      <th>url_code</th>\n",
       "      <th>credits_used</th>\n",
       "      <th>credits</th>\n",
       "      <th>word_count</th>\n",
       "      <th>score_breakdown</th>\n",
       "      <th>score.original</th>\n",
       "      <th>score.ai</th>\n",
       "      <th>results.success</th>\n",
       "      <th>results.statusCode</th>\n",
       "      <th>results.cost</th>\n",
       "      <th>results.wordCount</th>\n",
       "      <th>results.totalAIResults.real</th>\n",
       "      <th>results.totalAIResults.fake</th>\n",
       "      <th>results.blocks</th>\n",
       "      <th>results.results.pageID</th>\n",
       "      <th>results.results.url</th>\n",
       "      <th>results.results.statusCode</th>\n",
       "      <th>results.results.aiResults.real</th>\n",
       "      <th>results.results.aiResults.fake</th>\n",
       "      <th>results.results.wordCount</th>\n",
       "      <th>results.results.aiTextBlocks</th>\n",
       "    </tr>\n",
       "  </thead>\n",
       "  <tbody>\n",
       "    <tr>\n",
       "      <th>0</th>\n",
       "      <td>True</td>\n",
       "      <td>https://www.target.com/c/table-lamps-lighting-...</td>\n",
       "      <td>200</td>\n",
       "      <td>4</td>\n",
       "      <td>59157</td>\n",
       "      <td>303</td>\n",
       "      <td>[{'original': 0.9989977478981018, 'ai': 0.0010...</td>\n",
       "      <td>0.998998</td>\n",
       "      <td>0.001002</td>\n",
       "      <td>True</td>\n",
       "      <td>200</td>\n",
       "      <td>4</td>\n",
       "      <td>303</td>\n",
       "      <td>0.998998</td>\n",
       "      <td>0.001002</td>\n",
       "      <td>[{'original': 0.9989977478981018, 'ai': 0.0010...</td>\n",
       "      <td>0</td>\n",
       "      <td>https://www.target.com/c/table-lamps-lighting-...</td>\n",
       "      <td>200</td>\n",
       "      <td>0.998998</td>\n",
       "      <td>0.001002</td>\n",
       "      <td>303</td>\n",
       "      <td>[{'text': ' A bedroom table lamp sets the mood...</td>\n",
       "    </tr>\n",
       "  </tbody>\n",
       "</table>\n",
       "</div>"
      ],
      "text/plain": [
       "   success                                                url  url_code  \\\n",
       "0     True  https://www.target.com/c/table-lamps-lighting-...       200   \n",
       "\n",
       "   credits_used  credits  word_count  \\\n",
       "0             4    59157         303   \n",
       "\n",
       "                                     score_breakdown  score.original  \\\n",
       "0  [{'original': 0.9989977478981018, 'ai': 0.0010...        0.998998   \n",
       "\n",
       "   score.ai  results.success  results.statusCode  results.cost  \\\n",
       "0  0.001002             True                 200             4   \n",
       "\n",
       "   results.wordCount  results.totalAIResults.real  \\\n",
       "0                303                     0.998998   \n",
       "\n",
       "   results.totalAIResults.fake  \\\n",
       "0                     0.001002   \n",
       "\n",
       "                                      results.blocks  results.results.pageID  \\\n",
       "0  [{'original': 0.9989977478981018, 'ai': 0.0010...                       0   \n",
       "\n",
       "                                 results.results.url  \\\n",
       "0  https://www.target.com/c/table-lamps-lighting-...   \n",
       "\n",
       "   results.results.statusCode  results.results.aiResults.real  \\\n",
       "0                         200                        0.998998   \n",
       "\n",
       "   results.results.aiResults.fake  results.results.wordCount  \\\n",
       "0                        0.001002                        303   \n",
       "\n",
       "                        results.results.aiTextBlocks  \n",
       "0  [{'text': ' A bedroom table lamp sets the mood...  "
      ]
     },
     "execution_count": 12,
     "metadata": {},
     "output_type": "execute_result"
    }
   ],
   "source": [
    "# EXAMPLE POST URL SCAN INFO DF\n",
    "\n",
    "df_content_scan = pd.json_normalize(response_5.json())\n",
    "df_content_scan.head()\n"
   ]
  },
  {
   "cell_type": "code",
   "execution_count": null,
   "metadata": {},
   "outputs": [],
   "source": []
  },
  {
   "cell_type": "code",
   "execution_count": null,
   "metadata": {},
   "outputs": [],
   "source": []
  }
 ],
 "metadata": {
  "kernelspec": {
   "display_name": "base",
   "language": "python",
   "name": "python3"
  },
  "language_info": {
   "codemirror_mode": {
    "name": "ipython",
    "version": 3
   },
   "file_extension": ".py",
   "mimetype": "text/x-python",
   "name": "python",
   "nbconvert_exporter": "python",
   "pygments_lexer": "ipython3",
   "version": "3.10.9"
  },
  "orig_nbformat": 4,
  "vscode": {
   "interpreter": {
    "hash": "b9d0320435b592720051846a30c3c35a68bf649ab9728fd60bade915b8884093"
   }
  }
 },
 "nbformat": 4,
 "nbformat_minor": 2
}
