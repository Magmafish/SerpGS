{
 "cells": [
  {
   "cell_type": "code",
   "execution_count": 14,
   "metadata": {},
   "outputs": [],
   "source": [
    "import requests\n",
    "import pandas as pd"
   ]
  },
  {
   "cell_type": "code",
   "execution_count": 15,
   "metadata": {},
   "outputs": [],
   "source": [
    "pd.set_option('display.max_rows', 10)\n",
    "pd.set_option('display.max_columns', 100)"
   ]
  },
  {
   "cell_type": "code",
   "execution_count": 16,
   "metadata": {},
   "outputs": [],
   "source": [
    "def load_api_key(key_path: str='secret/oai_key.txt', key_name: str='api_key') -> None:\n",
    "    key_name = str(key_name)\n",
    "    with open(key_path, 'r') as f:\n",
    "        key_value = f.read().strip()\n",
    "    globals()[key_name] = key_value\n",
    "\n",
    "    print(f\"API key set to global varible '{key_name}'\")"
   ]
  },
  {
   "cell_type": "code",
   "execution_count": 17,
   "metadata": {},
   "outputs": [
    {
     "name": "stdout",
     "output_type": "stream",
     "text": [
      "API key set to global varible 'api_key'\n"
     ]
    }
   ],
   "source": [
    "load_api_key(key_path='secret/oai_key.txt', key_name='api_key')"
   ]
  },
  {
   "cell_type": "code",
   "execution_count": 18,
   "metadata": {},
   "outputs": [],
   "source": [
    "url = 'https://api.originality.ai/api/v1'"
   ]
  },
  {
   "cell_type": "code",
   "execution_count": 19,
   "metadata": {},
   "outputs": [
    {
     "data": {
      "text/plain": [
       "{'balance': 36829}"
      ]
     },
     "execution_count": 19,
     "metadata": {},
     "output_type": "execute_result"
    }
   ],
   "source": [
    "# EXAMPLE GET BALANCE\n",
    "\n",
    "headers={'X-OAI-API-KEY': api_key}\n",
    "response_1 = requests.get(url + '/account/credits/balance', headers=headers)\n",
    "response_1.json()"
   ]
  },
  {
   "cell_type": "code",
   "execution_count": 20,
   "metadata": {},
   "outputs": [
    {
     "data": {
      "text/plain": [
       "100"
      ]
     },
     "execution_count": 20,
     "metadata": {},
     "output_type": "execute_result"
    }
   ],
   "source": [
    "# EXAMPLE GET USAGE \n",
    "\n",
    "headers={'X-OAI-API-KEY': api_key}\n",
    "response_2 = requests.get(url + '/account/credits/content_scan_usage', headers=headers)\n",
    "len(response_2.json()['usage'])\n",
    "#response_2.json()"
   ]
  },
  {
   "cell_type": "code",
   "execution_count": 21,
   "metadata": {},
   "outputs": [
    {
     "data": {
      "text/html": [
       "<div>\n",
       "<style scoped>\n",
       "    .dataframe tbody tr th:only-of-type {\n",
       "        vertical-align: middle;\n",
       "    }\n",
       "\n",
       "    .dataframe tbody tr th {\n",
       "        vertical-align: top;\n",
       "    }\n",
       "\n",
       "    .dataframe thead th {\n",
       "        text-align: right;\n",
       "    }\n",
       "</style>\n",
       "<table border=\"1\" class=\"dataframe\">\n",
       "  <thead>\n",
       "    <tr style=\"text-align: right;\">\n",
       "      <th></th>\n",
       "      <th>contentID</th>\n",
       "      <th>credits_used</th>\n",
       "      <th>date</th>\n",
       "    </tr>\n",
       "  </thead>\n",
       "  <tbody>\n",
       "    <tr>\n",
       "      <th>0</th>\n",
       "      <td>wxiaoy0hs3nmeblr</td>\n",
       "      <td>2</td>\n",
       "      <td>2023-03-27T14:02:37.000000Z</td>\n",
       "    </tr>\n",
       "    <tr>\n",
       "      <th>1</th>\n",
       "      <td>zw0ar9vkqi5oujt1</td>\n",
       "      <td>14</td>\n",
       "      <td>2023-03-24T22:54:55.000000Z</td>\n",
       "    </tr>\n",
       "    <tr>\n",
       "      <th>2</th>\n",
       "      <td>ogml6wj51vq3br0a</td>\n",
       "      <td>2</td>\n",
       "      <td>2023-03-24T22:17:08.000000Z</td>\n",
       "    </tr>\n",
       "    <tr>\n",
       "      <th>3</th>\n",
       "      <td>4ohksl37b52j68dg</td>\n",
       "      <td>2</td>\n",
       "      <td>2023-03-22T18:05:53.000000Z</td>\n",
       "    </tr>\n",
       "    <tr>\n",
       "      <th>4</th>\n",
       "      <td>lh1g78x0ftnevkpy</td>\n",
       "      <td>2</td>\n",
       "      <td>2023-03-22T18:05:01.000000Z</td>\n",
       "    </tr>\n",
       "    <tr>\n",
       "      <th>...</th>\n",
       "      <td>...</td>\n",
       "      <td>...</td>\n",
       "      <td>...</td>\n",
       "    </tr>\n",
       "    <tr>\n",
       "      <th>95</th>\n",
       "      <td>rm1xu9306c4nelt8</td>\n",
       "      <td>22</td>\n",
       "      <td>2023-01-31T17:06:51.000000Z</td>\n",
       "    </tr>\n",
       "    <tr>\n",
       "      <th>96</th>\n",
       "      <td>ix82dnv7hbf463jy</td>\n",
       "      <td>9</td>\n",
       "      <td>2023-01-31T14:59:58.000000Z</td>\n",
       "    </tr>\n",
       "    <tr>\n",
       "      <th>97</th>\n",
       "      <td>5uebrmz90ydavtgh</td>\n",
       "      <td>4</td>\n",
       "      <td>2023-01-30T21:22:47.000000Z</td>\n",
       "    </tr>\n",
       "    <tr>\n",
       "      <th>98</th>\n",
       "      <td>pswdlcvbfguxz1h8</td>\n",
       "      <td>2</td>\n",
       "      <td>2023-01-30T20:56:59.000000Z</td>\n",
       "    </tr>\n",
       "    <tr>\n",
       "      <th>99</th>\n",
       "      <td>nzp4kl0syroqftge</td>\n",
       "      <td>4</td>\n",
       "      <td>2023-01-30T20:50:17.000000Z</td>\n",
       "    </tr>\n",
       "  </tbody>\n",
       "</table>\n",
       "<p>100 rows × 3 columns</p>\n",
       "</div>"
      ],
      "text/plain": [
       "           contentID  credits_used                         date\n",
       "0   wxiaoy0hs3nmeblr             2  2023-03-27T14:02:37.000000Z\n",
       "1   zw0ar9vkqi5oujt1            14  2023-03-24T22:54:55.000000Z\n",
       "2   ogml6wj51vq3br0a             2  2023-03-24T22:17:08.000000Z\n",
       "3   4ohksl37b52j68dg             2  2023-03-22T18:05:53.000000Z\n",
       "4   lh1g78x0ftnevkpy             2  2023-03-22T18:05:01.000000Z\n",
       "..               ...           ...                          ...\n",
       "95  rm1xu9306c4nelt8            22  2023-01-31T17:06:51.000000Z\n",
       "96  ix82dnv7hbf463jy             9  2023-01-31T14:59:58.000000Z\n",
       "97  5uebrmz90ydavtgh             4  2023-01-30T21:22:47.000000Z\n",
       "98  pswdlcvbfguxz1h8             2  2023-01-30T20:56:59.000000Z\n",
       "99  nzp4kl0syroqftge             4  2023-01-30T20:50:17.000000Z\n",
       "\n",
       "[100 rows x 3 columns]"
      ]
     },
     "execution_count": 21,
     "metadata": {},
     "output_type": "execute_result"
    }
   ],
   "source": [
    "# EXAMPLE GET USAGE INTO DF\n",
    "\n",
    "df_usage_info = pd.json_normalize(response_2.json()['usage'])\n",
    "df_usage_info"
   ]
  },
  {
   "cell_type": "code",
   "execution_count": 22,
   "metadata": {},
   "outputs": [
    {
     "data": {
      "text/plain": [
       "{'payments': []}"
      ]
     },
     "execution_count": 22,
     "metadata": {},
     "output_type": "execute_result"
    }
   ],
   "source": [
    "# EXAMPLE GET PAYMENTS\n",
    "\n",
    "headers={'X-OAI-API-KEY': api_key}\n",
    "response_3 = requests.get(url + '/account/credits/payments', headers=headers)\n",
    "response_3.json()"
   ]
  },
  {
   "cell_type": "code",
   "execution_count": 23,
   "metadata": {},
   "outputs": [
    {
     "data": {
      "text/plain": [
       "{'success': True,\n",
       " 'title': 'API Scan',\n",
       " 'score': {'original': 0.58326363563538, 'ai': 0.41673636436462},\n",
       " 'blocks': [{'text': 'Lorem ipsum dolor sit amet, consectetur adipiscing elit. Suspendisse suscipit varius nisi, non eleifend ante volutpat non. Fusce eget rutrum tellus. Duis et dolor dignissim, tincidunt odio et, cursus libero. Donec vitae nunc mollis, rutrum risus a, sodales lectus. Maecenas dapibus auctor egestas. Nunc volutpat justo purus, eu sodales neque sollicitudin id. Quisque ut scelerisque dolor. Suspendisse tincidunt viverra erat a scelerisque. Proin tempor libero sit amet sem consectetur, et elementum tortor lobortis. Ut eleifend fermentum accumsan. Pellentesque mattis nec eros in porta. Nunc aliquam ultricies est vitae euismod. Vestibulum pretium, lorem quis ornare molestie, velit risus posuere enim, sit amet fringilla lorem lectus aliquam dolor.',\n",
       "   'result': {'fake': 0.416736364364624, 'real': 0.583263635635376},\n",
       "   'status': 'success'}],\n",
       " 'credits_used': 2,\n",
       " 'credits': 36827,\n",
       " 'content': 'Lorem ipsum dolor sit amet, consectetur adipiscing elit. Suspendisse suscipit varius nisi, non eleifend ante volutpat non. Fusce eget rutrum tellus. Duis et dolor dignissim, tincidunt odio et, cursus libero. Donec vitae nunc mollis, rutrum risus a, sodales lectus. Maecenas dapibus auctor egestas. Nunc volutpat justo purus, eu sodales neque sollicitudin id. Quisque ut scelerisque dolor. Suspendisse tincidunt viverra erat a scelerisque. Proin tempor libero sit amet sem consectetur, et elementum tortor lobortis. Ut eleifend fermentum accumsan. Pellentesque mattis nec eros in porta. Nunc aliquam ultricies est vitae euismod. Vestibulum pretium, lorem quis ornare molestie, velit risus posuere enim, sit amet fringilla lorem lectus aliquam dolor.'}"
      ]
     },
     "execution_count": 23,
     "metadata": {},
     "output_type": "execute_result"
    }
   ],
   "source": [
    "# EXAMPLE POST CONTENT SCAN\n",
    "\n",
    "headers={'X-OAI-API-KEY': api_key}\n",
    "params={\n",
    "  \"content\": \"Lorem ipsum dolor sit amet, consectetur adipiscing elit. Suspendisse suscipit varius nisi, non eleifend ante volutpat non. Fusce eget rutrum tellus. Duis et dolor dignissim, tincidunt odio et, cursus libero. Donec vitae nunc mollis, rutrum risus a, sodales lectus. Maecenas dapibus auctor egestas. Nunc volutpat justo purus, eu sodales neque sollicitudin id. Quisque ut scelerisque dolor. Suspendisse tincidunt viverra erat a scelerisque. Proin tempor libero sit amet sem consectetur, et elementum tortor lobortis. Ut eleifend fermentum accumsan. Pellentesque mattis nec eros in porta. Nunc aliquam ultricies est vitae euismod. Vestibulum pretium, lorem quis ornare molestie, velit risus posuere enim, sit amet fringilla lorem lectus aliquam dolor.\"\n",
    "}\n",
    "\n",
    "response_4 = requests.post(url + '/scan/ai',headers=headers, params=params)\n",
    "response_4.json()"
   ]
  },
  {
   "cell_type": "code",
   "execution_count": 24,
   "metadata": {},
   "outputs": [
    {
     "data": {
      "text/html": [
       "<div>\n",
       "<style scoped>\n",
       "    .dataframe tbody tr th:only-of-type {\n",
       "        vertical-align: middle;\n",
       "    }\n",
       "\n",
       "    .dataframe tbody tr th {\n",
       "        vertical-align: top;\n",
       "    }\n",
       "\n",
       "    .dataframe thead th {\n",
       "        text-align: right;\n",
       "    }\n",
       "</style>\n",
       "<table border=\"1\" class=\"dataframe\">\n",
       "  <thead>\n",
       "    <tr style=\"text-align: right;\">\n",
       "      <th></th>\n",
       "      <th>success</th>\n",
       "      <th>title</th>\n",
       "      <th>blocks</th>\n",
       "      <th>credits_used</th>\n",
       "      <th>credits</th>\n",
       "      <th>content</th>\n",
       "      <th>score.original</th>\n",
       "      <th>score.ai</th>\n",
       "    </tr>\n",
       "  </thead>\n",
       "  <tbody>\n",
       "    <tr>\n",
       "      <th>0</th>\n",
       "      <td>True</td>\n",
       "      <td>API Scan</td>\n",
       "      <td>[{'text': 'Lorem ipsum dolor sit amet, consect...</td>\n",
       "      <td>2</td>\n",
       "      <td>36827</td>\n",
       "      <td>Lorem ipsum dolor sit amet, consectetur adipis...</td>\n",
       "      <td>0.583264</td>\n",
       "      <td>0.416736</td>\n",
       "    </tr>\n",
       "  </tbody>\n",
       "</table>\n",
       "</div>"
      ],
      "text/plain": [
       "   success     title                                             blocks  \\\n",
       "0     True  API Scan  [{'text': 'Lorem ipsum dolor sit amet, consect...   \n",
       "\n",
       "   credits_used  credits                                            content  \\\n",
       "0             2    36827  Lorem ipsum dolor sit amet, consectetur adipis...   \n",
       "\n",
       "   score.original  score.ai  \n",
       "0        0.583264  0.416736  "
      ]
     },
     "execution_count": 24,
     "metadata": {},
     "output_type": "execute_result"
    }
   ],
   "source": [
    "# EXAMPLE POST CONTENT SCAN INTO DF\n",
    "\n",
    "df_content_scan = pd.json_normalize(response_4.json())\n",
    "df_content_scan.head()"
   ]
  },
  {
   "cell_type": "code",
   "execution_count": 25,
   "metadata": {},
   "outputs": [
    {
     "data": {
      "text/plain": [
       "{'success': True,\n",
       " 'url': 'https://www.target.com/c/table-lamps-lighting-home-decor/-/N-56d7t',\n",
       " 'url_code': 200,\n",
       " 'credits_used': 4,\n",
       " 'credits': 36823,\n",
       " 'word_count': 302,\n",
       " 'score': {'original': 0.9995359182357788, 'ai': 0.00046414980897679925},\n",
       " 'score_breakdown': [{'original': 0.9995359182357788,\n",
       "   'ai': 0.00046414980897679925,\n",
       "   'text': 'A bedroom table lamp sets the mood for your bedroom and illuminates reading and task work. These should be 24&quot;&ndash;27&quot; tall for optimal bedtime reading. Light your living room and create an inviting atmosphere with the right table lamp. The ideal lamp size for a living room table lamp is 24&quot;&ndash;34&quot; tall. Task desk lighting can help bring specific areas into focus, while a taller lamp can brighten a larger area. Desk lamps can range in size from 12&quot;&ndash;30&quot; high. These small (less than 24&quot; tall) lamps soften the overall light in a room and draw attention to objects nearby. They&rsquo;re perfect for entryways or living rooms. Add warmth &amp; light to any space with a table lamp. As easy addition, lamps help set the right ambiance for every type of room. Living rooms require soft lighting to create an inviting atmosphere for your guests. Accent lamps not only brighten up the room but also double up as decor for your living room. The base and shade complement each other making them a great decor accessory. They are perfect for your entryway table or living rooms. Based on your decor style, find a variety of designs, from modern to bohemian, or go rustic with a farmhouse-inspired lamp. If you are looking to mix-n-match, pick your favorite lamp base available in a range of materials, from glass to wood and shiny metallic finishes. The size, material, and shape of the shade also determine the amount of illumination. For bedrooms, the lighting is softer to set the right mood for relaxation or light reading. A table lamp for the bedroom helps illuminate for reading and task work but is softer than a desk lamp. Task desk lamps are great for your study table or work desk as they focus light on a specific area.'}],\n",
       " 'results': {'success': True,\n",
       "  'statusCode': 200,\n",
       "  'cost': 4,\n",
       "  'wordCount': 302,\n",
       "  'totalAIResults': {'real': 0.9995359182357788,\n",
       "   'fake': 0.00046414980897679925},\n",
       "  'blocks': [{'original': 0.9995359182357788,\n",
       "    'ai': 0.00046414980897679925,\n",
       "    'text': 'A bedroom table lamp sets the mood for your bedroom and illuminates reading and task work. These should be 24&quot;&ndash;27&quot; tall for optimal bedtime reading. Light your living room and create an inviting atmosphere with the right table lamp. The ideal lamp size for a living room table lamp is 24&quot;&ndash;34&quot; tall. Task desk lighting can help bring specific areas into focus, while a taller lamp can brighten a larger area. Desk lamps can range in size from 12&quot;&ndash;30&quot; high. These small (less than 24&quot; tall) lamps soften the overall light in a room and draw attention to objects nearby. They&rsquo;re perfect for entryways or living rooms. Add warmth &amp; light to any space with a table lamp. As easy addition, lamps help set the right ambiance for every type of room. Living rooms require soft lighting to create an inviting atmosphere for your guests. Accent lamps not only brighten up the room but also double up as decor for your living room. The base and shade complement each other making them a great decor accessory. They are perfect for your entryway table or living rooms. Based on your decor style, find a variety of designs, from modern to bohemian, or go rustic with a farmhouse-inspired lamp. If you are looking to mix-n-match, pick your favorite lamp base available in a range of materials, from glass to wood and shiny metallic finishes. The size, material, and shape of the shade also determine the amount of illumination. For bedrooms, the lighting is softer to set the right mood for relaxation or light reading. A table lamp for the bedroom helps illuminate for reading and task work but is softer than a desk lamp. Task desk lamps are great for your study table or work desk as they focus light on a specific area.'}],\n",
       "  'results': {'pageID': 0,\n",
       "   'url': 'https://www.target.com/c/table-lamps-lighting-home-decor/-/N-56d7t',\n",
       "   'statusCode': 200,\n",
       "   'aiResults': {'real': 0.9995359182357788, 'fake': 0.00046414980897679925},\n",
       "   'wordCount': 302,\n",
       "   'aiTextBlocks': [{'text': 'A bedroom table lamp sets the mood for your bedroom and illuminates reading and task work. These should be 24&quot;&ndash;27&quot; tall for optimal bedtime reading. Light your living room and create an inviting atmosphere with the right table lamp. The ideal lamp size for a living room table lamp is 24&quot;&ndash;34&quot; tall. Task desk lighting can help bring specific areas into focus, while a taller lamp can brighten a larger area. Desk lamps can range in size from 12&quot;&ndash;30&quot; high. These small (less than 24&quot; tall) lamps soften the overall light in a room and draw attention to objects nearby. They&rsquo;re perfect for entryways or living rooms. Add warmth &amp; light to any space with a table lamp. As easy addition, lamps help set the right ambiance for every type of room. Living rooms require soft lighting to create an inviting atmosphere for your guests. Accent lamps not only brighten up the room but also double up as decor for your living room. The base and shade complement each other making them a great decor accessory. They are perfect for your entryway table or living rooms. Based on your decor style, find a variety of designs, from modern to bohemian, or go rustic with a farmhouse-inspired lamp. If you are looking to mix-n-match, pick your favorite lamp base available in a range of materials, from glass to wood and shiny metallic finishes. The size, material, and shape of the shade also determine the amount of illumination. For bedrooms, the lighting is softer to set the right mood for relaxation or light reading. A table lamp for the bedroom helps illuminate for reading and task work but is softer than a desk lamp. Task desk lamps are great for your study table or work desk as they focus light on a specific area.',\n",
       "     'status': 'success',\n",
       "     'result': {'fake': 0.00046414980897679925,\n",
       "      'real': 0.9995359182357788}}]}}}"
      ]
     },
     "execution_count": 25,
     "metadata": {},
     "output_type": "execute_result"
    }
   ],
   "source": [
    "# EXAMPLE POST URL SCAN\n",
    "\n",
    "headers={'X-OAI-API-KEY': api_key}\n",
    "params={\"url\": \"https://www.target.com/c/table-lamps-lighting-home-decor/-/N-56d7t\"}\n",
    "response_5 = requests.post(url + \"/scan/url\",headers=headers, params=params)\n",
    "response_5.json()"
   ]
  },
  {
   "cell_type": "code",
   "execution_count": 26,
   "metadata": {},
   "outputs": [
    {
     "data": {
      "text/html": [
       "<div>\n",
       "<style scoped>\n",
       "    .dataframe tbody tr th:only-of-type {\n",
       "        vertical-align: middle;\n",
       "    }\n",
       "\n",
       "    .dataframe tbody tr th {\n",
       "        vertical-align: top;\n",
       "    }\n",
       "\n",
       "    .dataframe thead th {\n",
       "        text-align: right;\n",
       "    }\n",
       "</style>\n",
       "<table border=\"1\" class=\"dataframe\">\n",
       "  <thead>\n",
       "    <tr style=\"text-align: right;\">\n",
       "      <th></th>\n",
       "      <th>success</th>\n",
       "      <th>url</th>\n",
       "      <th>url_code</th>\n",
       "      <th>credits_used</th>\n",
       "      <th>credits</th>\n",
       "      <th>word_count</th>\n",
       "      <th>score_breakdown</th>\n",
       "      <th>score.original</th>\n",
       "      <th>score.ai</th>\n",
       "      <th>results.success</th>\n",
       "      <th>results.statusCode</th>\n",
       "      <th>results.cost</th>\n",
       "      <th>results.wordCount</th>\n",
       "      <th>results.totalAIResults.real</th>\n",
       "      <th>results.totalAIResults.fake</th>\n",
       "      <th>results.blocks</th>\n",
       "      <th>results.results.pageID</th>\n",
       "      <th>results.results.url</th>\n",
       "      <th>results.results.statusCode</th>\n",
       "      <th>results.results.aiResults.real</th>\n",
       "      <th>results.results.aiResults.fake</th>\n",
       "      <th>results.results.wordCount</th>\n",
       "      <th>results.results.aiTextBlocks</th>\n",
       "    </tr>\n",
       "  </thead>\n",
       "  <tbody>\n",
       "    <tr>\n",
       "      <th>0</th>\n",
       "      <td>True</td>\n",
       "      <td>https://www.target.com/c/table-lamps-lighting-...</td>\n",
       "      <td>200</td>\n",
       "      <td>4</td>\n",
       "      <td>36823</td>\n",
       "      <td>302</td>\n",
       "      <td>[{'original': 0.9995359182357788, 'ai': 0.0004...</td>\n",
       "      <td>0.999536</td>\n",
       "      <td>0.000464</td>\n",
       "      <td>True</td>\n",
       "      <td>200</td>\n",
       "      <td>4</td>\n",
       "      <td>302</td>\n",
       "      <td>0.999536</td>\n",
       "      <td>0.000464</td>\n",
       "      <td>[{'original': 0.9995359182357788, 'ai': 0.0004...</td>\n",
       "      <td>0</td>\n",
       "      <td>https://www.target.com/c/table-lamps-lighting-...</td>\n",
       "      <td>200</td>\n",
       "      <td>0.999536</td>\n",
       "      <td>0.000464</td>\n",
       "      <td>302</td>\n",
       "      <td>[{'text': 'A bedroom table lamp sets the mood ...</td>\n",
       "    </tr>\n",
       "  </tbody>\n",
       "</table>\n",
       "</div>"
      ],
      "text/plain": [
       "   success                                                url  url_code  \\\n",
       "0     True  https://www.target.com/c/table-lamps-lighting-...       200   \n",
       "\n",
       "   credits_used  credits  word_count  \\\n",
       "0             4    36823         302   \n",
       "\n",
       "                                     score_breakdown  score.original  \\\n",
       "0  [{'original': 0.9995359182357788, 'ai': 0.0004...        0.999536   \n",
       "\n",
       "   score.ai  results.success  results.statusCode  results.cost  \\\n",
       "0  0.000464             True                 200             4   \n",
       "\n",
       "   results.wordCount  results.totalAIResults.real  \\\n",
       "0                302                     0.999536   \n",
       "\n",
       "   results.totalAIResults.fake  \\\n",
       "0                     0.000464   \n",
       "\n",
       "                                      results.blocks  results.results.pageID  \\\n",
       "0  [{'original': 0.9995359182357788, 'ai': 0.0004...                       0   \n",
       "\n",
       "                                 results.results.url  \\\n",
       "0  https://www.target.com/c/table-lamps-lighting-...   \n",
       "\n",
       "   results.results.statusCode  results.results.aiResults.real  \\\n",
       "0                         200                        0.999536   \n",
       "\n",
       "   results.results.aiResults.fake  results.results.wordCount  \\\n",
       "0                        0.000464                        302   \n",
       "\n",
       "                        results.results.aiTextBlocks  \n",
       "0  [{'text': 'A bedroom table lamp sets the mood ...  "
      ]
     },
     "execution_count": 26,
     "metadata": {},
     "output_type": "execute_result"
    }
   ],
   "source": [
    "# EXAMPLE POST URL SCAN INFO DF\n",
    "\n",
    "df_content_scan = pd.json_normalize(response_5.json())\n",
    "df_content_scan.head()\n"
   ]
  },
  {
   "cell_type": "code",
   "execution_count": null,
   "metadata": {},
   "outputs": [],
   "source": []
  },
  {
   "cell_type": "code",
   "execution_count": null,
   "metadata": {},
   "outputs": [],
   "source": []
  }
 ],
 "metadata": {
  "kernelspec": {
   "display_name": "base",
   "language": "python",
   "name": "python3"
  },
  "language_info": {
   "codemirror_mode": {
    "name": "ipython",
    "version": 3
   },
   "file_extension": ".py",
   "mimetype": "text/x-python",
   "name": "python",
   "nbconvert_exporter": "python",
   "pygments_lexer": "ipython3",
   "version": "3.10.9"
  },
  "orig_nbformat": 4,
  "vscode": {
   "interpreter": {
    "hash": "b9d0320435b592720051846a30c3c35a68bf649ab9728fd60bade915b8884093"
   }
  }
 },
 "nbformat": 4,
 "nbformat_minor": 2
}
