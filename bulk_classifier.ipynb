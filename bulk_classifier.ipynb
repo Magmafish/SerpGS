{
 "cells": [
  {
   "cell_type": "code",
   "execution_count": 5,
   "metadata": {},
   "outputs": [],
   "source": [
    "import requests\n",
    "import json\n",
    "import pandas as pd"
   ]
  },
  {
   "cell_type": "code",
   "execution_count": 6,
   "metadata": {},
   "outputs": [
    {
     "data": {
      "text/plain": [
       "'ybwdlevcaq042zrouf6s1pmj9x8gk53n'"
      ]
     },
     "execution_count": 6,
     "metadata": {},
     "output_type": "execute_result"
    }
   ],
   "source": [
    "# fetch api key from file\n",
    "\n",
    "with open('secret/oai_key.txt', 'r') as file:\n",
    "    api_key = file.read()\n",
    "api_key"
   ]
  },
  {
   "cell_type": "code",
   "execution_count": 128,
   "metadata": {},
   "outputs": [],
   "source": [
    "url = 'https://api.originality.ai/api/v1'"
   ]
  },
  {
   "cell_type": "code",
   "execution_count": 88,
   "metadata": {},
   "outputs": [
    {
     "data": {
      "text/plain": [
       "{'balance': 59419}"
      ]
     },
     "execution_count": 88,
     "metadata": {},
     "output_type": "execute_result"
    }
   ],
   "source": [
    "headers={'X-OAI-API-KEY': api_key}\n",
    "response = requests.get(url + \"/account/credits/balance\",headers=headers)\n",
    "response.json()"
   ]
  },
  {
   "cell_type": "code",
   "execution_count": 86,
   "metadata": {},
   "outputs": [
    {
     "data": {
      "text/plain": [
       "1"
      ]
     },
     "execution_count": 86,
     "metadata": {},
     "output_type": "execute_result"
    }
   ],
   "source": [
    "headers={'X-OAI-API-KEY': api_key}\n",
    "response = requests.get(url + \"/account/credits/content_scan_usage\",headers=headers)\n"
   ]
  },
  {
   "cell_type": "code",
   "execution_count": 89,
   "metadata": {},
   "outputs": [
    {
     "data": {
      "text/plain": [
       "{'payments': []}"
      ]
     },
     "execution_count": 89,
     "metadata": {},
     "output_type": "execute_result"
    }
   ],
   "source": [
    "headers={'X-OAI-API-KEY': api_key}\n",
    "response = requests.get(url + \"/account/credits/payments\",headers=headers)\n",
    "response.json()"
   ]
  },
  {
   "cell_type": "code",
   "execution_count": 100,
   "metadata": {},
   "outputs": [
    {
     "data": {
      "text/plain": [
       "{'success': True,\n",
       " 'score': {'original': 0.6211283206939697, 'ai': 0.3788716793060303},\n",
       " 'credits_used': 2,\n",
       " 'credits': 59415,\n",
       " 'content': 'Lorem ipsum dolor sit amet, consectetur adipiscing elit. Suspendisse suscipit varius nisi, non eleifend ante volutpat non. Fusce eget rutrum tellus. Duis et dolor dignissim, tincidunt odio et, cursus libero. Donec vitae nunc mollis, rutrum risus a, sodales lectus. Maecenas dapibus auctor egestas. Nunc volutpat justo purus, eu sodales neque sollicitudin id. Quisque ut scelerisque dolor. Suspendisse tincidunt viverra erat a scelerisque. Proin tempor libero sit amet sem consectetur, et elementum tortor lobortis. Ut eleifend fermentum accumsan. Pellentesque mattis nec eros in porta. Nunc aliquam ultricies est vitae euismod. Vestibulum pretium, lorem quis ornare molestie, velit risus posuere enim, sit amet fringilla lorem lectus aliquam dolor. Suspendisse eget sem rhoncus tellus lacinia porta. In nunc lacus, tempor vel rhoncus a, tincidunt vel justo. Aenean ultrices lacinia nunc vitae dignissim.'}"
      ]
     },
     "execution_count": 100,
     "metadata": {},
     "output_type": "execute_result"
    }
   ],
   "source": [
    "headers={'X-OAI-API-KEY': api_key,}\n",
    "params={\n",
    "  \"content\": \"Lorem ipsum dolor sit amet, consectetur adipiscing elit. Suspendisse suscipit varius nisi, non eleifend ante volutpat non. Fusce eget rutrum tellus. Duis et dolor dignissim, tincidunt odio et, cursus libero. Donec vitae nunc mollis, rutrum risus a, sodales lectus. Maecenas dapibus auctor egestas. Nunc volutpat justo purus, eu sodales neque sollicitudin id. Quisque ut scelerisque dolor. Suspendisse tincidunt viverra erat a scelerisque. Proin tempor libero sit amet sem consectetur, et elementum tortor lobortis. Ut eleifend fermentum accumsan. Pellentesque mattis nec eros in porta. Nunc aliquam ultricies est vitae euismod. Vestibulum pretium, lorem quis ornare molestie, velit risus posuere enim, sit amet fringilla lorem lectus aliquam dolor. Suspendisse eget sem rhoncus tellus lacinia porta. In nunc lacus, tempor vel rhoncus a, tincidunt vel justo. Aenean ultrices lacinia nunc vitae dignissim.\"\n",
    "}\n",
    "response = requests.post(url + \"/scan/ai\",headers=headers, params=params)\n",
    "response.json()"
   ]
  },
  {
   "cell_type": "code",
   "execution_count": 130,
   "metadata": {},
   "outputs": [
    {
     "data": {
      "text/plain": [
       "{'success': True,\n",
       " 'url': 'https://www.target.com/c/table-lamps-lighting-home-decor/-/N-56d7t',\n",
       " 'url_code': 200,\n",
       " 'credits_used': 4,\n",
       " 'credits': 59395,\n",
       " 'word_count': 303,\n",
       " 'score': {'original': 0.9989977478981018, 'ai': 0.0010022532660514116},\n",
       " 'score_breakdown': [{'original': 0.9989977478981018,\n",
       "   'ai': 0.0010022532660514116,\n",
       "   'text': ' A bedroom table lamp sets the mood for your bedroom and illuminates reading and task work. These should be 24\"–27\" tall for optimal bedtime reading. Light your living room and create an inviting atmosphere with the right table lamp. The ideal lamp size for a living room table lamp is 24\"–34\" tall. Task desk lighting can help bring specific areas into focus, while a taller lamp can brighten a larger area. Desk lamps can range in size from 12\"–30\" high. These small (less than 24\" tall) lamps soften the overall light in a room and draw attention to objects nearby. They’re perfect for entryways or living rooms. Add warmth & light to any space with a table lamp. As easy addition, lamps help set the right ambiance for every type of room. Living rooms require soft lighting to create an inviting atmosphere for your guests. Accent lamps not only brighten up the room but also double up as decor for your living room. The base and shade complement each other making them a great decor accessory. They are perfect for your entryway table or living rooms. Based on your decor style, find a variety of designs, from modern to bohemian, or go rustic with a farmhouse-inspired lamp. If you are looking to mix-n-match, pick your favorite lamp base available in a range of materials, from glass to wood and shiny metallic finishes. The size, material, and shape of the shade also determine the amount of illumination. For bedrooms, the lighting is softer to set the right mood for relaxation or light reading. A table lamp for the bedroom helps illuminate for reading and task work but is softer than a desk lamp. Task desk lamps are great for your study table or work desk as they focus light on a specific area.'}],\n",
       " 'results': {'success': True,\n",
       "  'statusCode': 200,\n",
       "  'cost': 4,\n",
       "  'wordCount': 303,\n",
       "  'totalAIResults': {'real': 0.9989977478981018,\n",
       "   'fake': 0.0010022532660514116},\n",
       "  'blocks': [{'original': 0.9989977478981018,\n",
       "    'ai': 0.0010022532660514116,\n",
       "    'text': ' A bedroom table lamp sets the mood for your bedroom and illuminates reading and task work. These should be 24\"–27\" tall for optimal bedtime reading. Light your living room and create an inviting atmosphere with the right table lamp. The ideal lamp size for a living room table lamp is 24\"–34\" tall. Task desk lighting can help bring specific areas into focus, while a taller lamp can brighten a larger area. Desk lamps can range in size from 12\"–30\" high. These small (less than 24\" tall) lamps soften the overall light in a room and draw attention to objects nearby. They’re perfect for entryways or living rooms. Add warmth & light to any space with a table lamp. As easy addition, lamps help set the right ambiance for every type of room. Living rooms require soft lighting to create an inviting atmosphere for your guests. Accent lamps not only brighten up the room but also double up as decor for your living room. The base and shade complement each other making them a great decor accessory. They are perfect for your entryway table or living rooms. Based on your decor style, find a variety of designs, from modern to bohemian, or go rustic with a farmhouse-inspired lamp. If you are looking to mix-n-match, pick your favorite lamp base available in a range of materials, from glass to wood and shiny metallic finishes. The size, material, and shape of the shade also determine the amount of illumination. For bedrooms, the lighting is softer to set the right mood for relaxation or light reading. A table lamp for the bedroom helps illuminate for reading and task work but is softer than a desk lamp. Task desk lamps are great for your study table or work desk as they focus light on a specific area.'}],\n",
       "  'results': {'pageID': 0,\n",
       "   'url': 'https://www.target.com/c/table-lamps-lighting-home-decor/-/N-56d7t',\n",
       "   'statusCode': 200,\n",
       "   'aiResults': {'real': 0.9989977478981018, 'fake': 0.0010022532660514116},\n",
       "   'wordCount': 303,\n",
       "   'aiTextBlocks': [{'text': ' A bedroom table lamp sets the mood for your bedroom and illuminates reading and task work. These should be 24\"–27\" tall for optimal bedtime reading. Light your living room and create an inviting atmosphere with the right table lamp. The ideal lamp size for a living room table lamp is 24\"–34\" tall. Task desk lighting can help bring specific areas into focus, while a taller lamp can brighten a larger area. Desk lamps can range in size from 12\"–30\" high. These small (less than 24\" tall) lamps soften the overall light in a room and draw attention to objects nearby. They’re perfect for entryways or living rooms. Add warmth & light to any space with a table lamp. As easy addition, lamps help set the right ambiance for every type of room. Living rooms require soft lighting to create an inviting atmosphere for your guests. Accent lamps not only brighten up the room but also double up as decor for your living room. The base and shade complement each other making them a great decor accessory. They are perfect for your entryway table or living rooms. Based on your decor style, find a variety of designs, from modern to bohemian, or go rustic with a farmhouse-inspired lamp. If you are looking to mix-n-match, pick your favorite lamp base available in a range of materials, from glass to wood and shiny metallic finishes. The size, material, and shape of the shade also determine the amount of illumination. For bedrooms, the lighting is softer to set the right mood for relaxation or light reading. A table lamp for the bedroom helps illuminate for reading and task work but is softer than a desk lamp. Task desk lamps are great for your study table or work desk as they focus light on a specific area.',\n",
       "     'status': 'success',\n",
       "     'result': {'fake': 0.0010022532660514116, 'real': 0.9989977478981018}}]}}}"
      ]
     },
     "execution_count": 130,
     "metadata": {},
     "output_type": "execute_result"
    }
   ],
   "source": [
    "headers={'X-OAI-API-KEY': api_key,}\n",
    "params={\"url\": \"https://www.target.com/c/table-lamps-lighting-home-decor/-/N-56d7t\"}\n",
    "response = requests.post(url + \"/scan/url\",headers=headers, params=params)\n",
    "response.json()"
   ]
  },
  {
   "cell_type": "code",
   "execution_count": 132,
   "metadata": {},
   "outputs": [],
   "source": []
  },
  {
   "cell_type": "code",
   "execution_count": 133,
   "metadata": {},
   "outputs": [],
   "source": [
    "# scan web page\n",
    "\n",
    "def get_one(url_in): \n",
    "    scan_url='https://api.originality.ai/api/v1/scan/url'\n",
    "    headers={'X-OAI-API-KEY': api_key}\n",
    "    params={\"url\": url_in}\n",
    "    response = requests.post(url=scan_url, headers=headers, params=params)\n",
    "    return(response)"
   ]
  },
  {
   "cell_type": "code",
   "execution_count": 137,
   "metadata": {},
   "outputs": [
    {
     "data": {
      "text/plain": [
       "<Response [200]>"
      ]
     },
     "execution_count": 137,
     "metadata": {},
     "output_type": "execute_result"
    }
   ],
   "source": [
    "url_in = \"https://www.target.com/c/table-lamps-lighting-home-decor/-/N-56d7t\"\n",
    "response  = get_one(url_in)\n",
    "response"
   ]
  },
  {
   "cell_type": "code",
   "execution_count": 139,
   "metadata": {},
   "outputs": [],
   "source": [
    "\n",
    "def extract_scores(response):\n",
    "    data = response['results']['totalAIResults']\n",
    "    data['original'] = response['score']['original']\n",
    "    data['ai'] = response['score']['ai']\n",
    "    df = pd.DataFrame([data], columns=['true', 'fake', 'original', 'ai'])\n",
    "    return df\n"
   ]
  },
  {
   "cell_type": "code",
   "execution_count": 140,
   "metadata": {},
   "outputs": [
    {
     "ename": "TypeError",
     "evalue": "'Response' object is not subscriptable",
     "output_type": "error",
     "traceback": [
      "\u001b[0;31m---------------------------------------------------------------------------\u001b[0m",
      "\u001b[0;31mTypeError\u001b[0m                                 Traceback (most recent call last)",
      "Cell \u001b[0;32mIn[140], line 1\u001b[0m\n\u001b[0;32m----> 1\u001b[0m extract_scores(response)\n",
      "Cell \u001b[0;32mIn[139], line 2\u001b[0m, in \u001b[0;36mextract_scores\u001b[0;34m(response)\u001b[0m\n\u001b[1;32m      1\u001b[0m \u001b[39mdef\u001b[39;00m \u001b[39mextract_scores\u001b[39m(response):\n\u001b[0;32m----> 2\u001b[0m     data \u001b[39m=\u001b[39m response[\u001b[39m'\u001b[39;49m\u001b[39mresults\u001b[39;49m\u001b[39m'\u001b[39;49m][\u001b[39m'\u001b[39m\u001b[39mtotalAIResults\u001b[39m\u001b[39m'\u001b[39m]\n\u001b[1;32m      3\u001b[0m     data[\u001b[39m'\u001b[39m\u001b[39moriginal\u001b[39m\u001b[39m'\u001b[39m] \u001b[39m=\u001b[39m response[\u001b[39m'\u001b[39m\u001b[39mscore\u001b[39m\u001b[39m'\u001b[39m][\u001b[39m'\u001b[39m\u001b[39moriginal\u001b[39m\u001b[39m'\u001b[39m]\n\u001b[1;32m      4\u001b[0m     data[\u001b[39m'\u001b[39m\u001b[39mai\u001b[39m\u001b[39m'\u001b[39m] \u001b[39m=\u001b[39m response[\u001b[39m'\u001b[39m\u001b[39mscore\u001b[39m\u001b[39m'\u001b[39m][\u001b[39m'\u001b[39m\u001b[39mai\u001b[39m\u001b[39m'\u001b[39m]\n",
      "\u001b[0;31mTypeError\u001b[0m: 'Response' object is not subscriptable"
     ]
    }
   ],
   "source": [
    "extract_scores(response)"
   ]
  },
  {
   "cell_type": "code",
   "execution_count": null,
   "metadata": {},
   "outputs": [],
   "source": []
  },
  {
   "cell_type": "code",
   "execution_count": null,
   "metadata": {},
   "outputs": [],
   "source": []
  },
  {
   "cell_type": "code",
   "execution_count": null,
   "metadata": {},
   "outputs": [],
   "source": []
  },
  {
   "cell_type": "code",
   "execution_count": 138,
   "metadata": {},
   "outputs": [
    {
     "data": {
      "text/plain": [
       "{'success': True,\n",
       " 'url': 'https://www.target.com/c/table-lamps-lighting-home-decor/-/N-56d7t',\n",
       " 'url_code': 200,\n",
       " 'credits_used': 4,\n",
       " 'credits': 59383,\n",
       " 'word_count': 303,\n",
       " 'score': {'original': 0.9989977478981018, 'ai': 0.0010022532660514116},\n",
       " 'score_breakdown': [{'original': 0.9989977478981018,\n",
       "   'ai': 0.0010022532660514116,\n",
       "   'text': ' A bedroom table lamp sets the mood for your bedroom and illuminates reading and task work. These should be 24\"–27\" tall for optimal bedtime reading. Light your living room and create an inviting atmosphere with the right table lamp. The ideal lamp size for a living room table lamp is 24\"–34\" tall. Task desk lighting can help bring specific areas into focus, while a taller lamp can brighten a larger area. Desk lamps can range in size from 12\"–30\" high. These small (less than 24\" tall) lamps soften the overall light in a room and draw attention to objects nearby. They’re perfect for entryways or living rooms. Add warmth & light to any space with a table lamp. As easy addition, lamps help set the right ambiance for every type of room. Living rooms require soft lighting to create an inviting atmosphere for your guests. Accent lamps not only brighten up the room but also double up as decor for your living room. The base and shade complement each other making them a great decor accessory. They are perfect for your entryway table or living rooms. Based on your decor style, find a variety of designs, from modern to bohemian, or go rustic with a farmhouse-inspired lamp. If you are looking to mix-n-match, pick your favorite lamp base available in a range of materials, from glass to wood and shiny metallic finishes. The size, material, and shape of the shade also determine the amount of illumination. For bedrooms, the lighting is softer to set the right mood for relaxation or light reading. A table lamp for the bedroom helps illuminate for reading and task work but is softer than a desk lamp. Task desk lamps are great for your study table or work desk as they focus light on a specific area.'}],\n",
       " 'results': {'success': True,\n",
       "  'statusCode': 200,\n",
       "  'cost': 4,\n",
       "  'wordCount': 303,\n",
       "  'totalAIResults': {'real': 0.9989977478981018,\n",
       "   'fake': 0.0010022532660514116},\n",
       "  'blocks': [{'original': 0.9989977478981018,\n",
       "    'ai': 0.0010022532660514116,\n",
       "    'text': ' A bedroom table lamp sets the mood for your bedroom and illuminates reading and task work. These should be 24\"–27\" tall for optimal bedtime reading. Light your living room and create an inviting atmosphere with the right table lamp. The ideal lamp size for a living room table lamp is 24\"–34\" tall. Task desk lighting can help bring specific areas into focus, while a taller lamp can brighten a larger area. Desk lamps can range in size from 12\"–30\" high. These small (less than 24\" tall) lamps soften the overall light in a room and draw attention to objects nearby. They’re perfect for entryways or living rooms. Add warmth & light to any space with a table lamp. As easy addition, lamps help set the right ambiance for every type of room. Living rooms require soft lighting to create an inviting atmosphere for your guests. Accent lamps not only brighten up the room but also double up as decor for your living room. The base and shade complement each other making them a great decor accessory. They are perfect for your entryway table or living rooms. Based on your decor style, find a variety of designs, from modern to bohemian, or go rustic with a farmhouse-inspired lamp. If you are looking to mix-n-match, pick your favorite lamp base available in a range of materials, from glass to wood and shiny metallic finishes. The size, material, and shape of the shade also determine the amount of illumination. For bedrooms, the lighting is softer to set the right mood for relaxation or light reading. A table lamp for the bedroom helps illuminate for reading and task work but is softer than a desk lamp. Task desk lamps are great for your study table or work desk as they focus light on a specific area.'}],\n",
       "  'results': {'pageID': 0,\n",
       "   'url': 'https://www.target.com/c/table-lamps-lighting-home-decor/-/N-56d7t',\n",
       "   'statusCode': 200,\n",
       "   'aiResults': {'real': 0.9989977478981018, 'fake': 0.0010022532660514116},\n",
       "   'wordCount': 303,\n",
       "   'aiTextBlocks': [{'text': ' A bedroom table lamp sets the mood for your bedroom and illuminates reading and task work. These should be 24\"–27\" tall for optimal bedtime reading. Light your living room and create an inviting atmosphere with the right table lamp. The ideal lamp size for a living room table lamp is 24\"–34\" tall. Task desk lighting can help bring specific areas into focus, while a taller lamp can brighten a larger area. Desk lamps can range in size from 12\"–30\" high. These small (less than 24\" tall) lamps soften the overall light in a room and draw attention to objects nearby. They’re perfect for entryways or living rooms. Add warmth & light to any space with a table lamp. As easy addition, lamps help set the right ambiance for every type of room. Living rooms require soft lighting to create an inviting atmosphere for your guests. Accent lamps not only brighten up the room but also double up as decor for your living room. The base and shade complement each other making them a great decor accessory. They are perfect for your entryway table or living rooms. Based on your decor style, find a variety of designs, from modern to bohemian, or go rustic with a farmhouse-inspired lamp. If you are looking to mix-n-match, pick your favorite lamp base available in a range of materials, from glass to wood and shiny metallic finishes. The size, material, and shape of the shade also determine the amount of illumination. For bedrooms, the lighting is softer to set the right mood for relaxation or light reading. A table lamp for the bedroom helps illuminate for reading and task work but is softer than a desk lamp. Task desk lamps are great for your study table or work desk as they focus light on a specific area.',\n",
       "     'status': 'success',\n",
       "     'result': {'fake': 0.0010022532660514116, 'real': 0.9989977478981018}}]}}}"
      ]
     },
     "execution_count": 138,
     "metadata": {},
     "output_type": "execute_result"
    }
   ],
   "source": [
    "response.json()"
   ]
  },
  {
   "cell_type": "code",
   "execution_count": null,
   "metadata": {},
   "outputs": [],
   "source": [
    "headers={'X-OAI-API-KEY': api_key,}\n",
    "params={\"url\": \"https://www.target.com/c/table-lamps-lighting-home-decor/-/N-56d7t\"}\n",
    "response = requests.post(url + \"/scan/url\",headers=headers, params=params)\n",
    "response.json()"
   ]
  },
  {
   "cell_type": "code",
   "execution_count": null,
   "metadata": {},
   "outputs": [],
   "source": []
  },
  {
   "cell_type": "code",
   "execution_count": 123,
   "metadata": {},
   "outputs": [],
   "source": []
  },
  {
   "cell_type": "code",
   "execution_count": 124,
   "metadata": {},
   "outputs": [],
   "source": [
    "url_in = \"https://www.amazon.com/Side-Table-Lamps/s?k=Side+Table+Lamps\"\n"
   ]
  },
  {
   "cell_type": "code",
   "execution_count": 126,
   "metadata": {},
   "outputs": [
    {
     "data": {
      "text/plain": [
       "'https://www.amazon.com/Side-Table-Lamps/s?k=Side+Table+Lamps'"
      ]
     },
     "execution_count": 126,
     "metadata": {},
     "output_type": "execute_result"
    }
   ],
   "source": [
    "url_in"
   ]
  },
  {
   "cell_type": "code",
   "execution_count": 127,
   "metadata": {},
   "outputs": [],
   "source": [
    "response  = get_one(url_in).json()"
   ]
  },
  {
   "cell_type": "code",
   "execution_count": 109,
   "metadata": {},
   "outputs": [
    {
     "data": {
      "text/plain": [
       "{'url': 'https://api.originality.ai/api/v1',\n",
       " 'success': False,\n",
       " 'error': 'unable to process this url. Please check that the url is valid and try again. If the problem persists, please contact Originality.ai support.'}"
      ]
     },
     "execution_count": 109,
     "metadata": {},
     "output_type": "execute_result"
    }
   ],
   "source": [
    "response"
   ]
  },
  {
   "cell_type": "code",
   "execution_count": null,
   "metadata": {},
   "outputs": [],
   "source": []
  }
 ],
 "metadata": {
  "kernelspec": {
   "display_name": "base",
   "language": "python",
   "name": "python3"
  },
  "language_info": {
   "codemirror_mode": {
    "name": "ipython",
    "version": 3
   },
   "file_extension": ".py",
   "mimetype": "text/x-python",
   "name": "python",
   "nbconvert_exporter": "python",
   "pygments_lexer": "ipython3",
   "version": "3.10.9"
  },
  "orig_nbformat": 4,
  "vscode": {
   "interpreter": {
    "hash": "b9d0320435b592720051846a30c3c35a68bf649ab9728fd60bade915b8884093"
   }
  }
 },
 "nbformat": 4,
 "nbformat_minor": 2
}
