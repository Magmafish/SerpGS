{
 "cells": [
  {
   "cell_type": "code",
   "execution_count": 275,
   "metadata": {},
   "outputs": [],
   "source": [
    "import requests\n",
    "import json\n",
    "import pandas as pd\n",
    "import time"
   ]
  },
  {
   "cell_type": "code",
   "execution_count": 281,
   "metadata": {},
   "outputs": [
    {
     "name": "stdout",
     "output_type": "stream",
     "text": [
      "api_key is type str and is 32 characters long\n"
     ]
    }
   ],
   "source": [
    "# fetch api key from file\n",
    "\n",
    "with open('secret/oai_key.txt', 'r') as file:\n",
    "    api_key = file.read()\n",
    "print(f'api_key is type {type(api_key).__name__} and is {len(api_key)} characters long')"
   ]
  },
  {
   "cell_type": "code",
   "execution_count": 128,
   "metadata": {},
   "outputs": [],
   "source": [
    "url = 'https://api.originality.ai/api/v1'"
   ]
  },
  {
   "cell_type": "code",
   "execution_count": 88,
   "metadata": {},
   "outputs": [
    {
     "data": {
      "text/plain": [
       "{'balance': 59419}"
      ]
     },
     "execution_count": 88,
     "metadata": {},
     "output_type": "execute_result"
    }
   ],
   "source": [
    "# EXAMPLE GET BALANCE\n",
    "\n",
    "headers={'X-OAI-API-KEY': api_key}\n",
    "response = requests.get(url + \"/account/credits/balance\",headers=headers)\n",
    "response.json()"
   ]
  },
  {
   "cell_type": "code",
   "execution_count": 86,
   "metadata": {},
   "outputs": [
    {
     "data": {
      "text/plain": [
       "1"
      ]
     },
     "execution_count": 86,
     "metadata": {},
     "output_type": "execute_result"
    }
   ],
   "source": [
    "# EXAMPLE GET USAGE \n",
    "\n",
    "headers={'X-OAI-API-KEY': api_key}\n",
    "response = requests.get(url + \"/account/credits/content_scan_usage\",headers=headers)\n",
    "#response.json()"
   ]
  },
  {
   "cell_type": "code",
   "execution_count": 89,
   "metadata": {},
   "outputs": [
    {
     "data": {
      "text/plain": [
       "{'payments': []}"
      ]
     },
     "execution_count": 89,
     "metadata": {},
     "output_type": "execute_result"
    }
   ],
   "source": [
    "# EXAMPLE GET PAYMENTS\n",
    "\n",
    "headers={'X-OAI-API-KEY': api_key}\n",
    "response = requests.get(url + \"/account/credits/payments\",headers=headers)\n",
    "response.json()"
   ]
  },
  {
   "cell_type": "code",
   "execution_count": 100,
   "metadata": {},
   "outputs": [
    {
     "data": {
      "text/plain": [
       "{'success': True,\n",
       " 'score': {'original': 0.6211283206939697, 'ai': 0.3788716793060303},\n",
       " 'credits_used': 2,\n",
       " 'credits': 59415,\n",
       " 'content': 'Lorem ipsum dolor sit amet, consectetur adipiscing elit. Suspendisse suscipit varius nisi, non eleifend ante volutpat non. Fusce eget rutrum tellus. Duis et dolor dignissim, tincidunt odio et, cursus libero. Donec vitae nunc mollis, rutrum risus a, sodales lectus. Maecenas dapibus auctor egestas. Nunc volutpat justo purus, eu sodales neque sollicitudin id. Quisque ut scelerisque dolor. Suspendisse tincidunt viverra erat a scelerisque. Proin tempor libero sit amet sem consectetur, et elementum tortor lobortis. Ut eleifend fermentum accumsan. Pellentesque mattis nec eros in porta. Nunc aliquam ultricies est vitae euismod. Vestibulum pretium, lorem quis ornare molestie, velit risus posuere enim, sit amet fringilla lorem lectus aliquam dolor. Suspendisse eget sem rhoncus tellus lacinia porta. In nunc lacus, tempor vel rhoncus a, tincidunt vel justo. Aenean ultrices lacinia nunc vitae dignissim.'}"
      ]
     },
     "execution_count": 100,
     "metadata": {},
     "output_type": "execute_result"
    }
   ],
   "source": [
    "# EXAMPLE POST CONTENT SCAN\n",
    "\n",
    "headers={'X-OAI-API-KEY': api_key,}\n",
    "params={\n",
    "  \"content\": \"Lorem ipsum dolor sit amet, consectetur adipiscing elit. Suspendisse suscipit varius nisi, non eleifend ante volutpat non. Fusce eget rutrum tellus. Duis et dolor dignissim, tincidunt odio et, cursus libero. Donec vitae nunc mollis, rutrum risus a, sodales lectus. Maecenas dapibus auctor egestas. Nunc volutpat justo purus, eu sodales neque sollicitudin id. Quisque ut scelerisque dolor. Suspendisse tincidunt viverra erat a scelerisque. Proin tempor libero sit amet sem consectetur, et elementum tortor lobortis. Ut eleifend fermentum accumsan. Pellentesque mattis nec eros in porta. Nunc aliquam ultricies est vitae euismod. Vestibulum pretium, lorem quis ornare molestie, velit risus posuere enim, sit amet fringilla lorem lectus aliquam dolor. Suspendisse eget sem rhoncus tellus lacinia porta. In nunc lacus, tempor vel rhoncus a, tincidunt vel justo. Aenean ultrices lacinia nunc vitae dignissim.\"\n",
    "}\n",
    "response = requests.post(url + \"/scan/ai\",headers=headers, params=params)\n",
    "response.json()"
   ]
  },
  {
   "cell_type": "code",
   "execution_count": 222,
   "metadata": {},
   "outputs": [],
   "source": [
    "# EXAMPLE POST URL SCAN\n",
    "\n",
    "headers={'X-OAI-API-KEY': api_key,}\n",
    "params={\"url\": \"https://www.target.com/c/table-lamps-lighting-home-decor/-/N-56d7t\"}\n",
    "response = requests.post(url + \"/scan/url\",headers=headers, params=params)\n",
    "#response.json()"
   ]
  },
  {
   "cell_type": "code",
   "execution_count": 223,
   "metadata": {},
   "outputs": [],
   "source": [
    "#df = pd.read_json(response.json())"
   ]
  },
  {
   "cell_type": "code",
   "execution_count": 256,
   "metadata": {},
   "outputs": [],
   "source": [
    "# classify web page\n",
    "\n",
    "def classify_url(url_in): \n",
    "    scan_url='https://api.originality.ai/api/v1/scan/url'\n",
    "    headers={'X-OAI-API-KEY': api_key}\n",
    "    params={\"url\": url_in}\n",
    "    response = requests.post(url=scan_url, headers=headers, params=params)\n",
    "    return(response)"
   ]
  },
  {
   "cell_type": "code",
   "execution_count": 267,
   "metadata": {},
   "outputs": [],
   "source": [
    "def extract_score(response):\n",
    "    data = {\n",
    "        'Success': response.json()['success'],\n",
    "        'Percent_Human': round(response.json()['score']['original'] * 100, 1),\n",
    "        'Percent_AI': round(response.json()['score']['ai'] * 100, 1)\n",
    "    }\n",
    "    return pd.DataFrame([data])"
   ]
  },
  {
   "cell_type": "code",
   "execution_count": 274,
   "metadata": {},
   "outputs": [
    {
     "data": {
      "text/html": [
       "<div>\n",
       "<style scoped>\n",
       "    .dataframe tbody tr th:only-of-type {\n",
       "        vertical-align: middle;\n",
       "    }\n",
       "\n",
       "    .dataframe tbody tr th {\n",
       "        vertical-align: top;\n",
       "    }\n",
       "\n",
       "    .dataframe thead th {\n",
       "        text-align: right;\n",
       "    }\n",
       "</style>\n",
       "<table border=\"1\" class=\"dataframe\">\n",
       "  <thead>\n",
       "    <tr style=\"text-align: right;\">\n",
       "      <th></th>\n",
       "      <th>Success</th>\n",
       "      <th>Percent_Human</th>\n",
       "      <th>Percent_AI</th>\n",
       "    </tr>\n",
       "  </thead>\n",
       "  <tbody>\n",
       "    <tr>\n",
       "      <th>0</th>\n",
       "      <td>True</td>\n",
       "      <td>99.9</td>\n",
       "      <td>0.1</td>\n",
       "    </tr>\n",
       "  </tbody>\n",
       "</table>\n",
       "</div>"
      ],
      "text/plain": [
       "   Success  Percent_Human  Percent_AI\n",
       "0     True           99.9         0.1"
      ]
     },
     "execution_count": 274,
     "metadata": {},
     "output_type": "execute_result"
    }
   ],
   "source": [
    "# CLASSIFY ONE WEB PAGE\n",
    "\n",
    "url_in = \"https://www.target.com/c/table-lamps-lighting-home-decor/-/N-56d7t\"\n",
    "response  = classify_url(url_in)\n",
    "df = extract_score(response)\n",
    "df"
   ]
  },
  {
   "cell_type": "code",
   "execution_count": 273,
   "metadata": {},
   "outputs": [
    {
     "data": {
      "text/html": [
       "<div>\n",
       "<style scoped>\n",
       "    .dataframe tbody tr th:only-of-type {\n",
       "        vertical-align: middle;\n",
       "    }\n",
       "\n",
       "    .dataframe tbody tr th {\n",
       "        vertical-align: top;\n",
       "    }\n",
       "\n",
       "    .dataframe thead th {\n",
       "        text-align: right;\n",
       "    }\n",
       "</style>\n",
       "<table border=\"1\" class=\"dataframe\">\n",
       "  <thead>\n",
       "    <tr style=\"text-align: right;\">\n",
       "      <th></th>\n",
       "      <th>Success</th>\n",
       "      <th>Percent_Human</th>\n",
       "      <th>Percent_AI</th>\n",
       "    </tr>\n",
       "  </thead>\n",
       "  <tbody>\n",
       "    <tr>\n",
       "      <th>0</th>\n",
       "      <td>True</td>\n",
       "      <td>99.9</td>\n",
       "      <td>0.1</td>\n",
       "    </tr>\n",
       "  </tbody>\n",
       "</table>\n",
       "</div>"
      ],
      "text/plain": [
       "   Success  Percent_Human  Percent_AI\n",
       "0     True           99.9         0.1"
      ]
     },
     "execution_count": 273,
     "metadata": {},
     "output_type": "execute_result"
    }
   ],
   "source": [
    "df = extract_score(classify_url(url_in))\n",
    "df"
   ]
  },
  {
   "cell_type": "code",
   "execution_count": null,
   "metadata": {},
   "outputs": [],
   "source": [
    "#NOW RUN A HUNDRED A MINUTE THROUGH A LOOP\n",
    "\n"
   ]
  }
 ],
 "metadata": {
  "kernelspec": {
   "display_name": "base",
   "language": "python",
   "name": "python3"
  },
  "language_info": {
   "codemirror_mode": {
    "name": "ipython",
    "version": 3
   },
   "file_extension": ".py",
   "mimetype": "text/x-python",
   "name": "python",
   "nbconvert_exporter": "python",
   "pygments_lexer": "ipython3",
   "version": "3.10.9"
  },
  "orig_nbformat": 4,
  "vscode": {
   "interpreter": {
    "hash": "b9d0320435b592720051846a30c3c35a68bf649ab9728fd60bade915b8884093"
   }
  }
 },
 "nbformat": 4,
 "nbformat_minor": 2
}
