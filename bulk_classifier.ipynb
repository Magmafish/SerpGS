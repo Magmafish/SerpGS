{
 "cells": [
  {
   "cell_type": "code",
   "execution_count": 17,
   "metadata": {},
   "outputs": [],
   "source": [
    "import requests\n",
    "import json\n",
    "import pandas as pd\n",
    "import time\n",
    "import os"
   ]
  },
  {
   "cell_type": "code",
   "execution_count": 2,
   "metadata": {},
   "outputs": [
    {
     "name": "stdout",
     "output_type": "stream",
     "text": [
      "api_key is type str and is 32 characters long\n"
     ]
    }
   ],
   "source": [
    "# fetch api key from file\n",
    "\n",
    "with open('secret/oai_key.txt', 'r') as file:\n",
    "    api_key = file.read()\n",
    "print(f'api_key is type {type(api_key).__name__} and is {len(api_key)} characters long')"
   ]
  },
  {
   "cell_type": "code",
   "execution_count": 3,
   "metadata": {},
   "outputs": [],
   "source": [
    "url = 'https://api.originality.ai/api/v1'"
   ]
  },
  {
   "cell_type": "code",
   "execution_count": 22,
   "metadata": {},
   "outputs": [],
   "source": [
    "# classify web page and return 1response\n",
    "\n",
    "def fetch_url_class(url_in): \n",
    "    scan_url='https://api.originality.ai/api/v1/scan/url'\n",
    "    headers={'X-OAI-API-KEY': api_key}\n",
    "    params={\"url\": url_in}\n",
    "    response = requests.post(url=scan_url, headers=headers, params=params)\n",
    "    return(response)"
   ]
  },
  {
   "cell_type": "code",
   "execution_count": 122,
   "metadata": {},
   "outputs": [],
   "source": [
    "def extract_score(response):\n",
    "    r_json = response.json()\n",
    "    if r_json['success']:\n",
    "        data = {\n",
    "        'Success': [r_json['success']],\n",
    "        'Percent_Human': [round(r_json['score']['original'] * 100, 1)],\n",
    "        'Percent_AI': [round(r_json['score']['ai'] * 100, 1)]\n",
    "        }\n",
    "    else:\n",
    "        data = {\n",
    "            'Success': False,\n",
    "            'Percent_Human': None,\n",
    "            'Percent_AI': None\n",
    "        }\n",
    "    df = pd.DataFrame(data)\n",
    "    return df"
   ]
  },
  {
   "cell_type": "code",
   "execution_count": 120,
   "metadata": {},
   "outputs": [],
   "source": [
    "# def extract_score(response):\n",
    "#     r_json = response.json()\n",
    "#     data = {\n",
    "#         'Success': [r_json['success']],\n",
    "#         'Percent_Human': [round(r_json['score']['original'] * 100, 1)],\n",
    "#         'Percent_AI': [round(r_json['score']['ai'] * 100, 1)]\n",
    "#     }\n",
    "#     df = pd.DataFrame(data)\n",
    "#     return df"
   ]
  },
  {
   "cell_type": "code",
   "execution_count": 123,
   "metadata": {},
   "outputs": [
    {
     "data": {
      "text/html": [
       "<div>\n",
       "<style scoped>\n",
       "    .dataframe tbody tr th:only-of-type {\n",
       "        vertical-align: middle;\n",
       "    }\n",
       "\n",
       "    .dataframe tbody tr th {\n",
       "        vertical-align: top;\n",
       "    }\n",
       "\n",
       "    .dataframe thead th {\n",
       "        text-align: right;\n",
       "    }\n",
       "</style>\n",
       "<table border=\"1\" class=\"dataframe\">\n",
       "  <thead>\n",
       "    <tr style=\"text-align: right;\">\n",
       "      <th></th>\n",
       "      <th>Success</th>\n",
       "      <th>Percent_Human</th>\n",
       "      <th>Percent_AI</th>\n",
       "    </tr>\n",
       "  </thead>\n",
       "  <tbody>\n",
       "    <tr>\n",
       "      <th>0</th>\n",
       "      <td>True</td>\n",
       "      <td>99.9</td>\n",
       "      <td>0.1</td>\n",
       "    </tr>\n",
       "  </tbody>\n",
       "</table>\n",
       "</div>"
      ],
      "text/plain": [
       "   Success  Percent_Human  Percent_AI\n",
       "0     True           99.9         0.1"
      ]
     },
     "execution_count": 123,
     "metadata": {},
     "output_type": "execute_result"
    }
   ],
   "source": [
    "# CLASSIFY ONE WEB PAGE\n",
    "\n",
    "url_in = \"https://www.target.com/c/table-lamps-lighting-home-decor/-/N-56d7t\"\n",
    "response  = fetch_url_class(url_in)\n",
    "df = extract_score(response)\n",
    "df"
   ]
  },
  {
   "cell_type": "code",
   "execution_count": null,
   "metadata": {},
   "outputs": [],
   "source": [
    "# Reunite results with original data\n"
   ]
  },
  {
   "cell_type": "code",
   "execution_count": null,
   "metadata": {},
   "outputs": [],
   "source": []
  },
  {
   "cell_type": "code",
   "execution_count": 9,
   "metadata": {},
   "outputs": [],
   "source": [
    "# NOW RUN A HUNDRED A MINUTE THROUGH A LOOP\n",
    "# load 3 csv files\n",
    "# relaed from csv\n",
    "df_linked_kw_final = pd.read_csv('data/linked_kw_final.csv', header=0)\n",
    "# combine csvs\n",
    "# break 1000 list in batches of 100 and save to csv\n",
    "# re-add other seo info\n",
    "\n"
   ]
  },
  {
   "cell_type": "code",
   "execution_count": 11,
   "metadata": {},
   "outputs": [
    {
     "data": {
      "text/html": [
       "<div>\n",
       "<style scoped>\n",
       "    .dataframe tbody tr th:only-of-type {\n",
       "        vertical-align: middle;\n",
       "    }\n",
       "\n",
       "    .dataframe tbody tr th {\n",
       "        vertical-align: top;\n",
       "    }\n",
       "\n",
       "    .dataframe thead th {\n",
       "        text-align: right;\n",
       "    }\n",
       "</style>\n",
       "<table border=\"1\" class=\"dataframe\">\n",
       "  <thead>\n",
       "    <tr style=\"text-align: right;\">\n",
       "      <th></th>\n",
       "      <th>kw</th>\n",
       "      <th>rank</th>\n",
       "      <th>link</th>\n",
       "    </tr>\n",
       "  </thead>\n",
       "  <tbody>\n",
       "    <tr>\n",
       "      <th>19985</th>\n",
       "      <td>bike bag</td>\n",
       "      <td>16</td>\n",
       "      <td>https://builtbyswift.com/</td>\n",
       "    </tr>\n",
       "    <tr>\n",
       "      <th>19986</th>\n",
       "      <td>bike bag</td>\n",
       "      <td>17</td>\n",
       "      <td>https://frostriver.com/collections/cycling-bik...</td>\n",
       "    </tr>\n",
       "    <tr>\n",
       "      <th>19987</th>\n",
       "      <td>bike bag</td>\n",
       "      <td>18</td>\n",
       "      <td>https://www.basil.com/en/bicycle-bags/</td>\n",
       "    </tr>\n",
       "    <tr>\n",
       "      <th>19988</th>\n",
       "      <td>bike bag</td>\n",
       "      <td>19</td>\n",
       "      <td>https://topodesigns.com/products/bike-bag</td>\n",
       "    </tr>\n",
       "    <tr>\n",
       "      <th>19989</th>\n",
       "      <td>bike bag</td>\n",
       "      <td>20</td>\n",
       "      <td>https://www.duluthpack.com/collections/bike-bags</td>\n",
       "    </tr>\n",
       "  </tbody>\n",
       "</table>\n",
       "</div>"
      ],
      "text/plain": [
       "             kw  rank                                               link\n",
       "19985  bike bag    16                          https://builtbyswift.com/\n",
       "19986  bike bag    17  https://frostriver.com/collections/cycling-bik...\n",
       "19987  bike bag    18             https://www.basil.com/en/bicycle-bags/\n",
       "19988  bike bag    19          https://topodesigns.com/products/bike-bag\n",
       "19989  bike bag    20   https://www.duluthpack.com/collections/bike-bags"
      ]
     },
     "execution_count": 11,
     "metadata": {},
     "output_type": "execute_result"
    }
   ],
   "source": [
    "for link in df_linked_kw_final:\n",
    "    df = extract_score(fetch_url_class(url_in))"
   ]
  },
  {
   "cell_type": "code",
   "execution_count": 58,
   "metadata": {},
   "outputs": [],
   "source": [
    "def make_csv_batches(df, batch_size=5, output_dir='data/batches'):\n",
    "    # Create output directory if it doesn't exist\n",
    "    os.makedirs(output_dir, exist_ok=True)\n",
    "\n",
    "    # Get unique values in the 'kw' column\n",
    "    unique_kw = df['kw'].unique()\n",
    "\n",
    "    # Break up unique values into batches of batch_size\n",
    "    kw_batches = [unique_kw[i:i+batch_size] for i in range(0, len(unique_kw), batch_size)]\n",
    "\n",
    "    # Iterate through kw_batches and create csv files for each batch\n",
    "    filenames = []\n",
    "    for i, batch in enumerate(kw_batches):\n",
    "        # Select rows from df where 'kw' is in the current batch\n",
    "        batch_df = df[df['kw'].isin(batch)]\n",
    "\n",
    "        # Write subset_df to csv\n",
    "        filename = os.path.join(output_dir, f'kw_batch_{i:03d}.csv')\n",
    "        batch_df.to_csv(filename, index=False)\n",
    "        filenames.append(filename)\n",
    "\n",
    "    # Write list of filenames to batch_list.csv\n",
    "    with open(os.path.join(output_dir, 'batch_list.csv'), 'w') as f:\n",
    "        f.write('\\n'.join(filenames))\n",
    "\n",
    "    print(f'{len(kw_batches)} csv files created in {output_dir}')"
   ]
  },
  {
   "cell_type": "code",
   "execution_count": 59,
   "metadata": {},
   "outputs": [
    {
     "name": "stdout",
     "output_type": "stream",
     "text": [
      "200 csv files created in data/batches\n"
     ]
    }
   ],
   "source": [
    "make_csv_batches(df_linked_kw_final)"
   ]
  },
  {
   "cell_type": "code",
   "execution_count": 60,
   "metadata": {},
   "outputs": [],
   "source": [
    "\n",
    "def read_batch_list(path='data/batches'):\n",
    "    batch_list_path = os.path.join(path, 'batch_list.csv')\n",
    "    with open(batch_list_path, 'r') as file:\n",
    "        batch_filenames = [line.strip() for line in file]\n",
    "    return batch_filenames"
   ]
  },
  {
   "cell_type": "code",
   "execution_count": 63,
   "metadata": {},
   "outputs": [
    {
     "data": {
      "text/plain": [
       "['data/batches/kw_batch_089.csv',\n",
       " 'data/batches/kw_batch_090.csv',\n",
       " 'data/batches/kw_batch_091.csv',\n",
       " 'data/batches/kw_batch_092.csv',\n",
       " 'data/batches/kw_batch_093.csv',\n",
       " 'data/batches/kw_batch_094.csv',\n",
       " 'data/batches/kw_batch_095.csv',\n",
       " 'data/batches/kw_batch_096.csv',\n",
       " 'data/batches/kw_batch_097.csv',\n",
       " 'data/batches/kw_batch_098.csv',\n",
       " 'data/batches/kw_batch_099.csv']"
      ]
     },
     "execution_count": 63,
     "metadata": {},
     "output_type": "execute_result"
    }
   ],
   "source": [
    "x = read_batch_list()\n",
    "x[89:100]"
   ]
  },
  {
   "cell_type": "code",
   "execution_count": 18,
   "metadata": {},
   "outputs": [],
   "source": [
    "# PROBABLY BROKE BECAUSE OVER 100 RECORDS\n",
    "\n",
    "# read the df_linked_kw_final DataFrame from file\n",
    "df_linked_kw_final = pd.read_csv('data/linked_kw_final.csv', header=0)\n",
    "\n",
    "# apply the extract_score function to each URL in the 'link' column\n",
    "df_scores = df_linked_kw_final['link'].apply(lambda x: extract_score(classify_url(x)))\n",
    "\n",
    "# merge the scores DataFrame with the original DataFrame\n",
    "df_final = pd.concat([df_linked_kw_final, df_scores], axis=1)\n"
   ]
  },
  {
   "cell_type": "code",
   "execution_count": null,
   "metadata": {},
   "outputs": [],
   "source": []
  }
 ],
 "metadata": {
  "kernelspec": {
   "display_name": "base",
   "language": "python",
   "name": "python3"
  },
  "language_info": {
   "codemirror_mode": {
    "name": "ipython",
    "version": 3
   },
   "file_extension": ".py",
   "mimetype": "text/x-python",
   "name": "python",
   "nbconvert_exporter": "python",
   "pygments_lexer": "ipython3",
   "version": "3.10.9"
  },
  "orig_nbformat": 4,
  "vscode": {
   "interpreter": {
    "hash": "b9d0320435b592720051846a30c3c35a68bf649ab9728fd60bade915b8884093"
   }
  }
 },
 "nbformat": 4,
 "nbformat_minor": 2
}
