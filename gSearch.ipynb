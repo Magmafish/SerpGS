{
 "cells": [
  {
   "cell_type": "code",
   "execution_count": 13,
   "id": "12be3ef9-095a-4019-941c-84c7150eb170",
   "metadata": {},
   "outputs": [],
   "source": [
    "import requests\n",
    "import json"
   ]
  },
  {
   "cell_type": "code",
   "execution_count": 10,
   "id": "fa7806fb-65e3-4826-bcb7-f67fbc168275",
   "metadata": {},
   "outputs": [
    {
     "data": {
      "text/plain": [
       "'c801ef08a40fac752083082acadfefe13ac5bba9'"
      ]
     },
     "execution_count": 10,
     "metadata": {},
     "output_type": "execute_result"
    }
   ],
   "source": [
    "with open('secret/key.txt', 'r') as file:\n",
    "    api_key = file.read()\n",
    "api_key"
   ]
  },
  {
   "cell_type": "code",
   "execution_count": 64,
   "id": "29101e0e-2d19-495a-8b72-0416618b7c38",
   "metadata": {},
   "outputs": [],
   "source": [
    "keywords = [\"swollen ankles\", \"horny goat weed\", \"scalp psoriasis\"]\n",
    "url = \"https://google.serper.dev/search\"\n",
    "location = \"Calgary,Alberta,Canada\"\n",
    "language = \"en\"\n",
    "device = \"desktop\"\n",
    "url = \"https://google.serper.dev/search\""
   ]
  },
  {
   "cell_type": "code",
   "execution_count": 212,
   "id": "fbd82a3c-6021-4a9c-9a63-905862d51405",
   "metadata": {
    "tags": []
   },
   "outputs": [],
   "source": [
    "def search_kw(kw, num=\"10\", url=\"https://google.serper.dev/search\"):\n",
    "    payload = json.dumps({\n",
    "      \"q\": kw,\n",
    "      \"gl\": \"us\",\n",
    "      \"hl\": \"en\",\n",
    "      \"autocorrect\": False,\n",
    "      \"num\": num,\n",
    "    })\n",
    "\n",
    "    headers = {\n",
    "      \"X-API-KEY\": api_key,\n",
    "      \"Content-Type\": \"application/json\",\n",
    "        \n",
    "    }\n",
    "\n",
    "    response = requests.request(\"POST\", url=url, headers=headers, data=payload)\n",
    "    return(response)"
   ]
  },
  {
   "cell_type": "code",
   "execution_count": 213,
   "id": "0b49e19b-9684-4dc7-9d74-7e7502ba40b7",
   "metadata": {},
   "outputs": [],
   "source": [
    "response = search_kw('scalp psoriasis', '10')"
   ]
  },
  {
   "cell_type": "code",
   "execution_count": 214,
   "id": "471f0ab0-1e86-4dfe-8f42-2d34877fa168",
   "metadata": {},
   "outputs": [],
   "source": [
    "def print_response(response):\n",
    "    print (f\"Results for keyword: \\\"{response.json()['searchParameters']['q']}\\\"\")\n",
    "    for rank, result in enumerate(response.json()[\"organic\"], 1):\n",
    "        print(f\"Rank: {rank}, Title: {result['title']}, Link: {result['link']}\")"
   ]
  },
  {
   "cell_type": "code",
   "execution_count": 215,
   "id": "12cff478-3f1c-49a0-93a8-f5a9278edc53",
   "metadata": {},
   "outputs": [
    {
     "name": "stdout",
     "output_type": "stream",
     "text": [
      "Results for keyword: \"scalp psoriasis\"\n",
      "Rank: 1, Title: Scalp Psoriasis: Causes, Symptoms ..., Link: https://www.webmd.com/skin-problems-and-treatments/psoriasis/scalp-psoriasis\n",
      "Rank: 2, Title: What Is Scalp Psoriasis?, Link: https://www.psoriasis.org/scalp/\n",
      "Rank: 3, Title: Scalp psoriasis: Symptoms - American Academy of Dermatology, Link: https://www.aad.org/public/diseases/psoriasis/treatment/genitals/scalp-symptoms\n",
      "Rank: 4, Title: Scalp psoriasis: Symptoms, causes, and treatment - Medical News Today, Link: https://www.medicalnewstoday.com/articles/314731\n",
      "Rank: 5, Title: Treating psoriasis on the scalp, hairline, forehead, behind the ears and back of the neck, Link: https://www.papaa.org/learn-about-psoriasis-and-psoriatic-arthritis/further-resources/scalp-psoriasis/\n",
      "Rank: 6, Title: Scalp psoriasis vs. seborrheic dermatitis: What's the difference? - Mayo Clinic, Link: https://www.mayoclinic.org/diseases-conditions/psoriasis/expert-answers/scalp-psoriasis/faq-20058544\n"
     ]
    }
   ],
   "source": [
    "print_response(response)"
   ]
  },
  {
   "cell_type": "code",
   "execution_count": 208,
   "id": "b3d29cec-ff07-4e85-a77b-de7b9db50f22",
   "metadata": {},
   "outputs": [],
   "source": [
    "def search_kw_list(keywords, num, url=\"https://google.serper.dev/search\"):\n",
    "    results_list = []\n",
    "    for keyword in keywords:\n",
    "        payload = json.dumps({\n",
    "            \"q\": keyword,\n",
    "            \"gl\": \"us\",\n",
    "            \"hl\": \"en\",\n",
    "            \"autocorrect\": False,\n",
    "            \"num\": num,\n",
    "        })\n",
    "        headers = {\n",
    "            'X-API-KEY': api_key,\n",
    "            'Content-Type': 'application/json'\n",
    "        }\n",
    "        response = requests.request(\"POST\", url, headers=headers, data=payload)\n",
    "        if response.status_code == 200:\n",
    "            results_list.append(response.json())\n",
    "        else:\n",
    "            print(f\"Error: Failed to retrieve search results for {keyword}. Status code {response.status_code}\")\n",
    "    return results_list"
   ]
  },
  {
   "cell_type": "code",
   "execution_count": 209,
   "id": "91092f99-f317-4dd0-9893-0ba707ba7186",
   "metadata": {},
   "outputs": [],
   "source": [
    "results_list = search_kw_list(keywords, num_results)"
   ]
  },
  {
   "cell_type": "code",
   "execution_count": 210,
   "id": "0b3f7560-3903-4a77-b150-74e6d8332144",
   "metadata": {},
   "outputs": [],
   "source": [
    "#results_list = search_kw_list(['goat weed'], num_results)"
   ]
  },
  {
   "cell_type": "code",
   "execution_count": 211,
   "id": "0f54cd57-c984-42b1-9d0a-737ef2e3d0e5",
   "metadata": {},
   "outputs": [],
   "source": [
    "def print_results(results_list):\n",
    "    for results in results_list:\n",
    "        print(f\"Results for keyword: {results['searchParameters']['q']}\")\n",
    "        for result in results[\"organic\"]:\n",
    "            print(f\"Rank: {result['position']}\\nTitle: {result['title']}\\nLink: {result['link']}\\n\")"
   ]
  },
  {
   "cell_type": "code",
   "execution_count": 70,
   "id": "3dcaf7cd-ffed-423d-a2be-724e53142eb9",
   "metadata": {},
   "outputs": [
    {
     "name": "stdout",
     "output_type": "stream",
     "text": [
      "Results for keyword: swollen ankles\n",
      "Rank: 1\n",
      "Title: Swollen Ankles and Feet: 8 Known Causes of Foot & Ankle Swelling - WebMD\n",
      "Link: https://www.webmd.com/a-to-z-guides/swollen-ankles-and-feet\n",
      "\n",
      "Rank: 2\n",
      "Title: Foot, leg, and ankle swelling Information | Mount Sinai - New York\n",
      "Link: https://www.mountsinai.org/health-library/symptoms/foot-leg-and-ankle-swelling\n",
      "\n",
      "Rank: 3\n",
      "Title: Foot swelling or leg swelling in adults - Mayo Clinic\n",
      "Link: https://www.mayoclinic.org/symptom-checker/foot-swelling-or-leg-swelling-in-adults-adult/related-factors/itt-20009075\n",
      "\n",
      "Rank: 4\n",
      "Title: Why Are My Feet & Ankles Swollen? | Houston Methodist On Health\n",
      "Link: https://www.houstonmethodist.org/blog/articles/2022/oct/why-are-my-feet-ankles-swollen/\n",
      "\n",
      "Rank: 5\n",
      "Title: Swollen Ankles: 12 causes - Medical News Today\n",
      "Link: https://www.medicalnewstoday.com/articles/324324\n",
      "\n",
      "Rank: 6\n",
      "Title: Swollen feet: 15 causes, treatments, and home remedies - Medical News Today\n",
      "Link: https://www.medicalnewstoday.com/articles/323265\n",
      "\n",
      "Rank: 7\n",
      "Title: 6 Possible Reasons Why You Have Swollen Feet, Ankles or Legs - Keck Medicine of USC\n",
      "Link: https://www.keckmedicine.org/blog/6-possible-reasons-why-you-have-swollen-feet-ankles-or-legs/\n",
      "\n",
      "Rank: 8\n",
      "Title: Edema: Causes, Symptoms & Treatment - Cleveland Clinic\n",
      "Link: https://my.clevelandclinic.org/health/diseases/12564-edema\n",
      "\n",
      "Results for keyword: horny goat weed\n",
      "Rank: 1\n",
      "Title: Horny Goat Weed - Uses, Side Effects, and More - WebMD\n",
      "Link: https://www.webmd.com/vitamins/ai/ingredientmono-699/horny-goat-weed\n",
      "\n",
      "Rank: 2\n",
      "Title: Horny Goat Weed: An Herb for Low Libido, Erectile Dysfunction, ED - WebMD\n",
      "Link: https://www.webmd.com/men/horny-goat-weed-epimedium\n",
      "\n",
      "Rank: 3\n",
      "Title: Horny Goat Weed: MedlinePlus Supplements\n",
      "Link: https://medlineplus.gov/druginfo/natural/699.html\n",
      "\n",
      "Rank: 4\n",
      "Title: Horny Goat Weed — Health benefits, dosage, safety, side-effects, and more | Supplements\n",
      "Link: https://examine.com/supplements/horny-goat-weed/\n",
      "\n",
      "Rank: 5\n",
      "Title: Horny goat weed: Uses, benefits, side effects - Medical News Today\n",
      "Link: https://www.medicalnewstoday.com/articles/317023\n",
      "\n",
      "Rank: 6\n",
      "Title: Horny Goat Weed: Does It Work to Treat Erectile Dysfunction? - Healthline\n",
      "Link: https://www.healthline.com/health/erectile-dysfunction/horny-goat-weed\n",
      "\n",
      "Rank: 7\n",
      "Title: Horny Goat Weed: Uses, Benefits, Side Effects, Dosage - Verywell Health\n",
      "Link: https://www.verywellhealth.com/the-benefits-of-horny-goat-weed-89463\n",
      "\n",
      "Rank: 8\n",
      "Title: Horny Goat Weed - Uses - Kaiser Permanente\n",
      "Link: https://wa.kaiserpermanente.org/kbase/topic.jhtml?docId=hn-4391000\n",
      "\n",
      "Rank: 9\n",
      "Title: Horny Goat Weed: Supplement, Side Effects, Dosages, Interactions, Warnings - RxList\n",
      "Link: https://www.rxlist.com/consumer_horny_goat_weed/drugs-condition.htm\n",
      "\n",
      "Rank: 10\n",
      "Title: Extra Strength Horny Goat Weed Male Enhancement Pills - Boosts Drive Size Stamina and Energy Testosterone Supplement for Men - Amazon.com\n",
      "Link: https://www.amazon.com/Horny-Goat-Weed-Male-Enhancement/dp/B0154O5FYC\n",
      "\n",
      "Results for keyword: scalp psoriasis\n",
      "Rank: 1\n",
      "Title: Scalp Psoriasis: Causes, Symptoms ...\n",
      "Link: https://www.webmd.com/skin-problems-and-treatments/psoriasis/scalp-psoriasis\n",
      "\n",
      "Rank: 2\n",
      "Title: What Is Scalp Psoriasis?\n",
      "Link: https://www.psoriasis.org/scalp/\n",
      "\n",
      "Rank: 3\n",
      "Title: Scalp psoriasis: Symptoms - American Academy of Dermatology\n",
      "Link: https://www.aad.org/public/diseases/psoriasis/treatment/genitals/scalp-symptoms\n",
      "\n",
      "Rank: 4\n",
      "Title: Scalp psoriasis: Symptoms, causes, and treatment - Medical News Today\n",
      "Link: https://www.medicalnewstoday.com/articles/314731\n",
      "\n",
      "Rank: 5\n",
      "Title: Treating psoriasis on the scalp, hairline, forehead, behind the ears and back of the neck\n",
      "Link: https://www.papaa.org/learn-about-psoriasis-and-psoriatic-arthritis/further-resources/scalp-psoriasis/\n",
      "\n",
      "Rank: 6\n",
      "Title: Scalp psoriasis vs. seborrheic dermatitis: What's the difference? - Mayo Clinic\n",
      "Link: https://www.mayoclinic.org/diseases-conditions/psoriasis/expert-answers/scalp-psoriasis/faq-20058544\n",
      "\n"
     ]
    }
   ],
   "source": [
    "print_results(results_list)"
   ]
  },
  {
   "cell_type": "code",
   "execution_count": null,
   "id": "76563eea-9fdc-4287-a917-ffde59339e9b",
   "metadata": {},
   "outputs": [],
   "source": []
  },
  {
   "cell_type": "code",
   "execution_count": 36,
   "id": "23d62300-2a83-4685-b8d6-4be27e7f73d4",
   "metadata": {},
   "outputs": [
    {
     "name": "stdout",
     "output_type": "stream",
     "text": [
      "Rank: 1\n",
      "Title: Swollen Ankles and Feet: 8 Known Causes of Foot & Ankle Swelling - WebMD\n",
      "Link: https://www.webmd.com/a-to-z-guides/swollen-ankles-and-feet\n",
      "\n",
      "Rank: 2\n",
      "Title: Foot, leg, and ankle swelling Information | Mount Sinai - New York\n",
      "Link: https://www.mountsinai.org/health-library/symptoms/foot-leg-and-ankle-swelling\n",
      "\n",
      "Rank: 3\n",
      "Title: Swollen ankles, feet and legs (oedema) - NHS\n",
      "Link: https://www.nhs.uk/conditions/oedema/\n",
      "\n",
      "Rank: 4\n",
      "Title: Foot swelling or leg swelling in adults - Mayo Clinic\n",
      "Link: https://www.mayoclinic.org/symptom-checker/foot-swelling-or-leg-swelling-in-adults-adult/related-factors/itt-20009075\n",
      "\n",
      "Rank: 5\n",
      "Title: Why Are My Feet & Ankles Swollen? | Houston Methodist On Health\n",
      "Link: https://www.houstonmethodist.org/blog/articles/2022/oct/why-are-my-feet-ankles-swollen/\n",
      "\n",
      "Rank: 6\n",
      "Title: Swollen Ankles: 12 causes - Medical News Today\n",
      "Link: https://www.medicalnewstoday.com/articles/324324\n",
      "\n",
      "Rank: 7\n",
      "Title: Swollen feet: 15 causes, treatments, and home remedies - Medical News Today\n",
      "Link: https://www.medicalnewstoday.com/articles/323265\n",
      "\n",
      "Rank: 8\n",
      "Title: 6 Possible Reasons Why You Have Swollen Feet, Ankles or Legs - Keck Medicine of USC\n",
      "Link: https://www.keckmedicine.org/blog/6-possible-reasons-why-you-have-swollen-feet-ankles-or-legs/\n",
      "\n",
      "Rank: 9\n",
      "Title: Edema: Causes, Symptoms & Treatment - Cleveland Clinic\n",
      "Link: https://my.clevelandclinic.org/health/diseases/12564-edema\n",
      "\n",
      "Rank: 10\n",
      "Title: Why Are Your Ankles Swollen? 9 Causes, Danger Signs, Treatment and FAQs - Buoy Health\n",
      "Link: https://www.buoyhealth.com/learn/swollen-ankles\n",
      "\n",
      "Rank: 1\n",
      "Title: Horny Goat Weed - Uses, Side Effects, and More - WebMD\n",
      "Link: https://www.webmd.com/vitamins/ai/ingredientmono-699/horny-goat-weed\n",
      "\n",
      "Rank: 2\n",
      "Title: Horny Goat Weed: An Herb for Low Libido, Erectile Dysfunction, ED - WebMD\n",
      "Link: https://www.webmd.com/men/horny-goat-weed-epimedium\n",
      "\n",
      "Rank: 3\n",
      "Title: Horny Goat Weed: MedlinePlus Supplements\n",
      "Link: https://medlineplus.gov/druginfo/natural/699.html\n",
      "\n",
      "Rank: 4\n",
      "Title: Horny Goat Weed — Health benefits, dosage, safety, side-effects, and more | Supplements\n",
      "Link: https://examine.com/supplements/horny-goat-weed/\n",
      "\n",
      "Rank: 5\n",
      "Title: Horny goat weed: Uses, benefits, side effects - Medical News Today\n",
      "Link: https://www.medicalnewstoday.com/articles/317023\n",
      "\n",
      "Rank: 6\n",
      "Title: Horny Goat Weed: Does It Work to Treat Erectile Dysfunction? - Healthline\n",
      "Link: https://www.healthline.com/health/erectile-dysfunction/horny-goat-weed\n",
      "\n",
      "Rank: 7\n",
      "Title: Horny Goat Weed: Uses, Benefits, Side Effects, Dosage - Verywell Health\n",
      "Link: https://www.verywellhealth.com/the-benefits-of-horny-goat-weed-89463\n",
      "\n",
      "Rank: 8\n",
      "Title: Horny Goat Weed - Uses - Kaiser Permanente\n",
      "Link: https://wa.kaiserpermanente.org/kbase/topic.jhtml?docId=hn-4391000\n",
      "\n",
      "Rank: 9\n",
      "Title: Horny Goat Weed: Supplement, Side Effects, Dosages, Interactions, Warnings - RxList\n",
      "Link: https://www.rxlist.com/consumer_horny_goat_weed/drugs-condition.htm\n",
      "\n",
      "Rank: 10\n",
      "Title: Extra Strength Horny Goat Weed Male Enhancement Pills - Boosts Drive Size Stamina and Energy Testosterone Supplement for Men - Amazon.com\n",
      "Link: https://www.amazon.com/Horny-Goat-Weed-Male-Enhancement/dp/B0154O5FYC\n",
      "\n",
      "Rank: 1\n",
      "Title: Scalp Psoriasis: Causes, Symptoms ...\n",
      "Link: https://www.webmd.com/skin-problems-and-treatments/psoriasis/scalp-psoriasis\n",
      "\n",
      "Rank: 2\n",
      "Title: What Is Scalp Psoriasis?\n",
      "Link: https://www.psoriasis.org/scalp/\n",
      "\n",
      "Rank: 3\n",
      "Title: Scalp psoriasis: Symptoms - American Academy of Dermatology\n",
      "Link: https://www.aad.org/public/diseases/psoriasis/treatment/genitals/scalp-symptoms\n",
      "\n",
      "Rank: 4\n",
      "Title: Scalp psoriasis: Symptoms, causes, and treatment - Medical News Today\n",
      "Link: https://www.medicalnewstoday.com/articles/314731\n",
      "\n",
      "Rank: 5\n",
      "Title: Treating psoriasis on the scalp, hairline, forehead, behind the ears and back of the neck\n",
      "Link: https://www.papaa.org/learn-about-psoriasis-and-psoriatic-arthritis/further-resources/scalp-psoriasis/\n",
      "\n",
      "Rank: 6\n",
      "Title: Scalp psoriasis vs. seborrheic dermatitis: What's the difference? - Mayo Clinic\n",
      "Link: https://www.mayoclinic.org/diseases-conditions/psoriasis/expert-answers/scalp-psoriasis/faq-20058544\n",
      "\n"
     ]
    }
   ],
   "source": [
    "# Print the title and link of each organic search result for each keyword\n",
    "for results in results_list:\n",
    "    for result in results[\"organic\"]:\n",
    "        print(f\"Rank: {result['position']}\\nTitle: {result['title']}\\nLink: {result['link']}\\n\")"
   ]
  },
  {
   "cell_type": "code",
   "execution_count": null,
   "id": "842076f4-3224-403c-aa76-f2879500be59",
   "metadata": {},
   "outputs": [],
   "source": []
  },
  {
   "cell_type": "code",
   "execution_count": null,
   "id": "95e61e21-bf4e-499a-8f30-61d807ac1d6c",
   "metadata": {},
   "outputs": [],
   "source": []
  },
  {
   "cell_type": "code",
   "execution_count": 31,
   "id": "46b91220-0f93-46ce-bba6-f4b2f9435772",
   "metadata": {},
   "outputs": [
    {
     "name": "stdout",
     "output_type": "stream",
     "text": [
      "Keyword: swollen ankles\n",
      "Rank: 1\n",
      "Title: Swollen Ankles and Feet: 8 Known Causes of Foot & Ankle Swelling - WebMD\n",
      "Link: https://www.webmd.com/a-to-z-guides/swollen-ankles-and-feet\n",
      "\n",
      "Rank: 2\n",
      "Title: Foot, leg, and ankle swelling Information | Mount Sinai - New York\n",
      "Link: https://www.mountsinai.org/health-library/symptoms/foot-leg-and-ankle-swelling\n",
      "\n",
      "Rank: 3\n",
      "Title: Swollen ankles, feet and legs (oedema) - NHS\n",
      "Link: https://www.nhs.uk/conditions/oedema/\n",
      "\n",
      "Rank: 4\n",
      "Title: Foot swelling or leg swelling in adults - Mayo Clinic\n",
      "Link: https://www.mayoclinic.org/symptom-checker/foot-swelling-or-leg-swelling-in-adults-adult/related-factors/itt-20009075\n",
      "\n",
      "Rank: 5\n",
      "Title: Why Are My Feet & Ankles Swollen? | Houston Methodist On Health\n",
      "Link: https://www.houstonmethodist.org/blog/articles/2022/oct/why-are-my-feet-ankles-swollen/\n",
      "\n",
      "Rank: 6\n",
      "Title: Swollen Ankles: 12 causes - Medical News Today\n",
      "Link: https://www.medicalnewstoday.com/articles/324324\n",
      "\n",
      "Rank: 7\n",
      "Title: Swollen feet: 15 causes, treatments, and home remedies - Medical News Today\n",
      "Link: https://www.medicalnewstoday.com/articles/323265\n",
      "\n",
      "Rank: 8\n",
      "Title: 6 Possible Reasons Why You Have Swollen Feet, Ankles or Legs - Keck Medicine of USC\n",
      "Link: https://www.keckmedicine.org/blog/6-possible-reasons-why-you-have-swollen-feet-ankles-or-legs/\n",
      "\n",
      "Rank: 9\n",
      "Title: Edema: Causes, Symptoms & Treatment - Cleveland Clinic\n",
      "Link: https://my.clevelandclinic.org/health/diseases/12564-edema\n",
      "\n",
      "Rank: 10\n",
      "Title: Why Are Your Ankles Swollen? 9 Causes, Danger Signs, Treatment and FAQs - Buoy Health\n",
      "Link: https://www.buoyhealth.com/learn/swollen-ankles\n",
      "\n",
      "Keyword: horny goat weed2\n",
      "Rank: 1\n",
      "Title: Horny Goat Weed - Uses, Side Effects, and More - WebMD\n",
      "Link: https://www.webmd.com/vitamins/ai/ingredientmono-699/horny-goat-weed\n",
      "\n",
      "Rank: 2\n",
      "Title: Horny Goat Weed: An Herb for Low Libido, Erectile Dysfunction, ED - WebMD\n",
      "Link: https://www.webmd.com/men/horny-goat-weed-epimedium\n",
      "\n",
      "Rank: 3\n",
      "Title: Horny Goat Weed — Health benefits, dosage, safety, side-effects, and more | Supplements\n",
      "Link: https://examine.com/supplements/horny-goat-weed/\n",
      "\n",
      "Rank: 4\n",
      "Title: Horny Goat Weed: MedlinePlus Supplements\n",
      "Link: https://medlineplus.gov/druginfo/natural/699.html\n",
      "\n",
      "Rank: 5\n",
      "Title: Horny goat weed: Uses, benefits, side effects - Medical News Today\n",
      "Link: https://www.medicalnewstoday.com/articles/317023\n",
      "\n",
      "Rank: 6\n",
      "Title: Horny Goat Weed: Does It Work to Treat Erectile Dysfunction? - Healthline\n",
      "Link: https://www.healthline.com/health/erectile-dysfunction/horny-goat-weed\n",
      "\n",
      "Rank: 7\n",
      "Title: Horny Goat Weed: Uses, Benefits, Side Effects, Dosage - Verywell Health\n",
      "Link: https://www.verywellhealth.com/the-benefits-of-horny-goat-weed-89463\n",
      "\n",
      "Rank: 8\n",
      "Title: Horny Goat Weed - Uses - Kaiser Permanente\n",
      "Link: https://wa.kaiserpermanente.org/kbase/topic.jhtml?docId=hn-4391000\n",
      "\n",
      "Rank: 9\n",
      "Title: Horny Goat Weed: Supplement, Side Effects, Dosages, Interactions, Warnings - RxList\n",
      "Link: https://www.rxlist.com/consumer_horny_goat_weed/drugs-condition.htm\n",
      "\n",
      "Rank: 10\n",
      "Title: Extra Strength Horny Goat Weed Male Enhancement Pills - Boosts Drive Size Stamina and Energy Testosterone Supplement for Men - Amazon.com\n",
      "Link: https://www.amazon.com/Horny-Goat-Weed-Male-Enhancement/dp/B0154O5FYC\n",
      "\n",
      "Keyword: scalp psoriasis\n",
      "Rank: 1\n",
      "Title: Scalp Psoriasis: Causes, Symptoms ...\n",
      "Link: https://www.webmd.com/skin-problems-and-treatments/psoriasis/scalp-psoriasis\n",
      "\n",
      "Rank: 2\n",
      "Title: What Is Scalp Psoriasis?\n",
      "Link: https://www.psoriasis.org/scalp/\n",
      "\n",
      "Rank: 3\n",
      "Title: Scalp psoriasis: Symptoms - American Academy of Dermatology\n",
      "Link: https://www.aad.org/public/diseases/psoriasis/treatment/genitals/scalp-symptoms\n",
      "\n",
      "Rank: 4\n",
      "Title: Scalp psoriasis: Symptoms, causes, and treatment - Medical News Today\n",
      "Link: https://www.medicalnewstoday.com/articles/314731\n",
      "\n",
      "Rank: 5\n",
      "Title: Treating psoriasis on the scalp, hairline, forehead, behind the ears and back of the neck\n",
      "Link: https://www.papaa.org/learn-about-psoriasis-and-psoriatic-arthritis/further-resources/scalp-psoriasis/\n",
      "\n",
      "Rank: 6\n",
      "Title: Scalp psoriasis vs. seborrheic dermatitis: What's the difference? - Mayo Clinic\n",
      "Link: https://www.mayoclinic.org/diseases-conditions/psoriasis/expert-answers/scalp-psoriasis/faq-20058544\n",
      "\n"
     ]
    }
   ],
   "source": [
    "def search_kw_list:\n",
    "    for keyword in keywords:\n",
    "        url = \"https://google.serper.dev/search\"\n",
    "        payload = json.dumps({\n",
    "            \"q\": keyword,\n",
    "            \"gl\": \"us\",\n",
    "            \"hl\": \"en\",\n",
    "            \"num\": 10,\n",
    "            #\"autocorrect\": True\n",
    "        })\n",
    "        headers = {\n",
    "            'X-API-KEY': api_key,\n",
    "            'Content-Type': 'application/json'\n",
    "        }\n",
    "        response = requests.request(\"POST\", url, headers=headers, data=payload)\n",
    "        print(f\"Keyword: {keyword}\")\n",
    "        if response.status_code == 200:\n",
    "            search_results = response.json()\n",
    "            for result in search_results[\"organic\"]:\n",
    "                print(f\"Rank: {result['position']}\\nTitle: {result['title']}\\nLink: {result['link']}\\n\")\n",
    "        else:\n",
    "            print(f\"Error: Failed to retrieve search results for {keyword}.\")"
   ]
  },
  {
   "cell_type": "code",
   "execution_count": null,
   "id": "87d73cc5-dae4-4b62-8771-e2962e0c7cdc",
   "metadata": {},
   "outputs": [],
   "source": []
  },
  {
   "cell_type": "code",
   "execution_count": 21,
   "id": "aeeead44-0867-4bbe-b92f-583103cb3c05",
   "metadata": {},
   "outputs": [
    {
     "data": {
      "text/plain": [
       "'{\"searchParameters\":{\"q\":\"swollen ankles\",\"gl\":\"us\",\"hl\":\"en\",\"autocorrect\":true,\"type\":\"search\"},\"organic\":[{\"title\":\"Swollen Ankles and Feet: 8 Known Causes of Foot & Ankle Swelling - WebMD\",\"link\":\"https://www.webmd.com/a-to-z-guides/swollen-ankles-and-feet\",\"snippet\":\"Swollen ankles and swollen feet are common and usually not cause for concern, particularly if you have been standing or walking a lot.\",\"date\":\"Jan 14, 2021\",\"sitelinks\":[{\"title\":\"Picture of Lymphedema\",\"link\":\"https://www.webmd.com/skin-problems-and-treatments/picture-of-lymphedema\"},{\"title\":\"What Is Lymphedema?\",\"link\":\"https://www.webmd.com/breast-cancer/video/silver-lymphodema-definition\"},{\"title\":\"Chronic Venous Insufficiency\",\"link\":\"https://www.webmd.com/dvt/dvt-venous-insufficiency\"}],\"position\":1},{\"title\":\"Foot, leg, and ankle swelling Information | Mount Sinai - New York\",\"link\":\"https://www.mountsinai.org/health-library/symptoms/foot-leg-and-ankle-swelling\",\"snippet\":\"Abnormal buildup of fluid in the ankles, feet, and legs can cause swelling. This fluid buildup and swelling is called edema.\",\"position\":2},{\"title\":\"Swollen ankles, feet and legs (oedema) - NHS\",\"link\":\"https://www.nhs.uk/conditions/oedema/\",\"snippet\":\"Common causes of swollen ankles, feet and legs · standing or sitting in the same position for too long · eating too much salty food · being overweight · being ...\",\"position\":3},{\"title\":\"Foot swelling or leg swelling in adults - Mayo Clinic\",\"link\":\"https://www.mayoclinic.org/symptom-checker/foot-swelling-or-leg-swelling-in-adults-adult/related-factors/itt-20009075\",\"snippet\":\"Foot swelling or leg swelling in adults ; Pain best described as. Dull or achy; Gradually worsening ; Swelling occurs. Along whole limb; Around ankle or foot\",\"position\":4},{\"title\":\"Why Are My Feet & Ankles Swollen? | Houston Methodist On Health\",\"link\":\"https://www.houstonmethodist.org/blog/articles/2022/oct/why-are-my-feet-ankles-swollen/\",\"snippet\":\"What causes swollen feet and ankles? · Venous insufficiency – when valves in the leg veins are worn down and less effective at sending blood back ...\",\"date\":\"Oct 28, 2022\",\"imageUrl\":\"https://encrypted-tbn0.gstatic.com/images?q=tbn:ANd9GcTMRQ8ztNVM2y0GcqCKAZGDG0qw1Adwo7UyxjvTzr57x2lXeGAnn7UwonQ&s\",\"position\":5},{\"title\":\"Swollen Ankles: 12 causes - Medical News Today\",\"link\":\"https://www.medicalnewstoday.com/articles/324324\",\"snippet\":\"Ankles can become swollen for many different reasons, such as an injury, an infection, heart disease, or pregnancy. In most cases, swelling ...\",\"date\":\"Dec 21, 2021\",\"position\":6},{\"title\":\"Swollen feet: 15 causes, treatments, and home remedies - Medical News Today\",\"link\":\"https://www.medicalnewstoday.com/articles/323265\",\"snippet\":\"Ankles can become swollen for many different reasons, such as an injury, an infection, heart disease, or pregnancy. In most cases, swelling is due to injury or ...\",\"position\":7},{\"title\":\"6 Possible Reasons Why You Have Swollen Feet, Ankles or Legs - Keck Medicine of USC\",\"link\":\"https://www.keckmedicine.org/blog/6-possible-reasons-why-you-have-swollen-feet-ankles-or-legs/\",\"snippet\":\"Occasional swelling of your lower extremities can be caused by everything from salty food to standing too long. Here\\'s how to tell if something ...\",\"date\":\"Sep 25, 2020\",\"imageUrl\":\"https://encrypted-tbn0.gstatic.com/images?q=tbn:ANd9GcR_FuPU563cUp-kDXVf2u4mcaeQEmusDHfMkaSYDULtWCE3syaVm0eBzLE&s\",\"position\":8},{\"title\":\"Edema: Causes, Symptoms & Treatment - Cleveland Clinic\",\"link\":\"https://my.clevelandclinic.org/health/diseases/12564-edema\",\"snippet\":\"Edema is the medical term for swelling caused by fluid trapped in your body\\'s tissues. Edema happens most often in your feet, ankles and legs, ...\",\"date\":\"May 17, 2022\",\"position\":9},{\"title\":\"Why Are Your Ankles Swollen? 9 Causes, Danger Signs, Treatment and FAQs - Buoy Health\",\"link\":\"https://www.buoyhealth.com/learn/swollen-ankles\",\"snippet\":\"A swollen foot may be caused blood vessel blockage, lymphatic blockage, or trauma from an injury. Other causes of swelling in one foot include skin infections ...\",\"imageUrl\":\"https://encrypted-tbn0.gstatic.com/images?q=tbn:ANd9GcRjiNqUcR3310C54mhsWzfOkB5ewLuFkmutUXXlvpSabzZifM4DtsJcUHs&s\",\"position\":10}],\"peopleAlsoAsk\":[{\"question\":\"What are swollen ankles a symptom of?\",\"snippet\":\"Common causes of swollen ankles, feet and legs eating too much salty food. being\\\\noverweight. being pregnant. taking certain medicines – such as some blood\\\\npressure medicines, contraceptive pills, hormone therapy, antidepressants or\\\\nsteroids.\",\"title\":\"Swollen ankles, feet and legs (oedema) - NHS\",\"link\":\"https://www.nhs.uk/conditions/oedema/\"},{\"question\":\"When should I worry about my swollen ankles?\",\"snippet\":\"Get medical care as soon as possible if: You have unexplained, painful swelling\\\\nof your feet or legs, particularly if it\\'s only in one leg. The swollen area\\\\nbecomes warm, red or inflamed. The swelling is accompanied by a fever.\",\"title\":\"Foot swelling or leg swelling in adults - Mayo Clinic\",\"link\":\"https://www.mayoclinic.org/symptom-checker/foot-swelling-or-leg-swelling-in-adults-adult/related-factors/itt-20009075\"},{\"question\":\"Can swollen ankles be serious?\",\"snippet\":\"Although swelling of the feet and ankles can be a minor problem, it can also be\\\\nan indication of more serious illnesses such as heart failure, renal failure, or\\\\nliver failure. The abnormal buildup of fluid in the body is called edema.\",\"title\":\"Foot, leg, and ankle swelling Information | Mount Sinai - New York\",\"link\":\"https://www.mountsinai.org/health-library/symptoms/foot-leg-and-ankle-swelling\"},{\"question\":\"How can I get rid of swollen ankles?\",\"snippet\":\"Tips to reduce ankle and foot swelling She suggested activities such as walking\\\\nand swimming. Other recommendations include: Increasing your overall movement,\\\\nas sitting or standing in one place for too long can increase swelling. Just\\\\nmoving your knees and flexing your ankles may help.\",\"title\":\"Swollen Feet and Ankles: Treatments to Try – Cleveland Clinic\",\"link\":\"https://health.clevelandclinic.org/6-best-ways-relieve-swollen-feet-ankles-home/\"}],\"relatedSearches\":[{\"query\":\"One swollen ankle\"},{\"query\":\"Are swollen feet dangerous\"},{\"query\":\"When should I be concerned about swollen ankles\"},{\"query\":\"How to reduce swelling in feet\"},{\"query\":\"Swollen ankles pictures\"},{\"query\":\"Treatment for swelling in legs and feet\"},{\"query\":\"Left ankle swelling but not right\"},{\"query\":\"What medications can cause swollen ankles\"}]}'"
      ]
     },
     "execution_count": 21,
     "metadata": {},
     "output_type": "execute_result"
    }
   ],
   "source": [
    "response.text"
   ]
  },
  {
   "cell_type": "code",
   "execution_count": 27,
   "id": "62f3a01a-aac1-4989-919d-8e8b940cfce8",
   "metadata": {},
   "outputs": [
    {
     "name": "stdout",
     "output_type": "stream",
     "text": [
      "Rank: 6\n",
      "Title: Scalp psoriasis vs. seborrheic dermatitis: What's the difference? - Mayo Clinic\n",
      "Link: https://www.mayoclinic.org/diseases-conditions/psoriasis/expert-answers/scalp-psoriasis/faq-20058544\n",
      "\n"
     ]
    }
   ],
   "source": [
    "print(f\"Rank: {result['position']}\\nTitle: {result['title']}\\nLink: {result['link']}\\n\")"
   ]
  },
  {
   "cell_type": "code",
   "execution_count": null,
   "id": "f3573feb-770d-4973-9af9-9d41b361476a",
   "metadata": {},
   "outputs": [],
   "source": []
  }
 ],
 "metadata": {
  "kernelspec": {
   "display_name": "Python 3 (ipykernel)",
   "language": "python",
   "name": "python3"
  },
  "language_info": {
   "codemirror_mode": {
    "name": "ipython",
    "version": 3
   },
   "file_extension": ".py",
   "mimetype": "text/x-python",
   "name": "python",
   "nbconvert_exporter": "python",
   "pygments_lexer": "ipython3",
   "version": "3.10.9"
  }
 },
 "nbformat": 4,
 "nbformat_minor": 5
}
