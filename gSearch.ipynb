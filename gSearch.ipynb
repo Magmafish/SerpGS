{
 "cells": [
  {
   "cell_type": "code",
   "execution_count": null,
   "id": "12be3ef9-095a-4019-941c-84c7150eb170",
   "metadata": {},
   "outputs": [],
   "source": [
    "import requests\n",
    "import json\n",
    "import pandas as pd"
   ]
  },
  {
   "cell_type": "code",
   "execution_count": null,
   "id": "c6dde2ae-80d9-4381-bd0a-3263fed2c719",
   "metadata": {},
   "outputs": [],
   "source": [
    "pd.set_option('display.max_rows', 100)\n",
    "pd.set_option('display.max_columns', 10)"
   ]
  },
  {
   "cell_type": "code",
   "execution_count": null,
   "id": "fa7806fb-65e3-4826-bcb7-f67fbc168275",
   "metadata": {},
   "outputs": [],
   "source": [
    "# fetch api key from file\n",
    "\n",
    "with open('secret/key.txt', 'r') as file:\n",
    "    api_key = file.read()\n",
    "#api_key"
   ]
  },
  {
   "cell_type": "code",
   "execution_count": null,
   "id": "29101e0e-2d19-495a-8b72-0416618b7c38",
   "metadata": {},
   "outputs": [],
   "source": [
    "#keywords = [\"swollen ankles\", \"horny goat weed\", \"scalp psoriasis\"]\n",
    "\n",
    "url = \"https://google.serper.dev/search\"\n",
    "location = \"Calgary,Alberta,Canada\"\n",
    "language = \"en\"\n",
    "device = \"desktop\""
   ]
  },
  {
   "cell_type": "code",
   "execution_count": null,
   "id": "fbd82a3c-6021-4a9c-9a63-905862d51405",
   "metadata": {
    "tags": []
   },
   "outputs": [],
   "source": [
    "# peforms a serch on one kw and returns the Xth page of relults\n",
    "\n",
    "def search_kw(kw, page=1, url=\"https://google.serper.dev/search\"):\n",
    "    payload = json.dumps({\n",
    "      \"q\": kw, # keyword to search for\n",
    "      \"gl\": \"us\", # location\n",
    "      \"hl\": \"en\", # language\n",
    "      \"autocorrect\": False,\n",
    "      \"page\": page\n",
    "    })\n",
    "\n",
    "    headers = {\n",
    "      \"X-API-KEY\": api_key,\n",
    "      \"Content-Type\": \"application/json\"\n",
    "    }\n",
    "\n",
    "    response = requests.request(\"POST\", url=url, headers=headers, data=payload)\n",
    "    return(response)"
   ]
  },
  {
   "cell_type": "code",
   "execution_count": null,
   "id": "c7a30714-c211-49d0-97ab-0424d2f6ae7d",
   "metadata": {},
   "outputs": [],
   "source": [
    "# runs search_ky over multiple pages and returns them in a list\n",
    "\n",
    "def get_pages(page_count, kw, url=\"https://google.serper.dev/search\"):\n",
    "    pages = list()\n",
    "    for page in range(1, page_count+1):\n",
    "        pages.append(search_kw(kw, page, url))\n",
    "    return pages"
   ]
  },
  {
   "cell_type": "code",
   "execution_count": null,
   "id": "d71c291f-d95e-4dc7-a475-254857c6b076",
   "metadata": {},
   "outputs": [],
   "source": [
    "# extract kw, page, rank, and link from 1 page of response info and return df\n",
    "\n",
    "def extract_response(response):\n",
    "    df = pd.DataFrame(columns = ['kw', 'page', 'rank','link'])\n",
    "    q = response.json()['searchParameters']['q']\n",
    "    page = response.json()['searchParameters']['page']\n",
    "    for rank, result in enumerate(response.json()[\"organic\"], 1):\n",
    "        link = result['link']\n",
    "        df.loc[len(df)] = [q, page, rank, link]\n",
    "    return(df)"
   ]
  },
  {
   "cell_type": "code",
   "execution_count": null,
   "id": "dacc0296-3913-4043-9ca4-54f31ca7f26a",
   "metadata": {},
   "outputs": [],
   "source": [
    "# takes a list of pages of response, iterates extract_response(), extracts and renumbers responses, returns df of ky, rank, link\n",
    "\n",
    "def collate_pages(pages, max_rank=None):\n",
    "    df = pd.DataFrame()\n",
    "    for response in pages:\n",
    "        data = extract_response(response)\n",
    "        df = pd.concat([df, data], ignore_index=True)\n",
    "    df = df.reset_index(drop=True)\n",
    "    df[\"rank\"] = df.index + 1\n",
    "    if max_rank is not None:\n",
    "        df = df[df['rank'] <= max_rank]\n",
    "    df.drop([\"page\"], axis=1, inplace=True)\n",
    "    return df"
   ]
  },
  {
   "cell_type": "code",
   "execution_count": null,
   "id": "d04526ec-8fe9-406b-8646-19fa32a6b1e6",
   "metadata": {},
   "outputs": [],
   "source": [
    "# accepty a df containing \"Keywords\" and iterates collate_pages() returns df of kw\n",
    "\n",
    "def get_links_for_kws(df_in):\n",
    "    df_out = pd.DataFrame()\n",
    "    keywords = df_in[\"Keyword\"]\n",
    "    for kw in keywords:\n",
    "        kw_pages = get_pages(3, kw) # get 3 pages (<= 30 records) for each kw\n",
    "        df = collate_pages(kw_pages, 20) # colate pages, limit to top 20 records.\n",
    "        df_out = pd.concat([df_out, df], ignore_index=True)\n",
    "    return(df_out)"
   ]
  },
  {
   "cell_type": "code",
   "execution_count": null,
   "id": "e3735e2d-40f9-425b-961e-a8a302e98994",
   "metadata": {},
   "outputs": [],
   "source": [
    "# load kw\n",
    "df_in = pd.read_csv('data/kw_1_000.csv')\n",
    "#df_in = df_in.head() # FOR TESTING PURPOSES ONLY BECAUSE I AM LIMITED BY MY QUERY QUOTA OF 1440\n",
    "#df_in.iloc[400:500]"
   ]
  },
  {
   "cell_type": "code",
   "execution_count": null,
   "id": "59afa4d1-53f9-467c-a0c6-57ce29700ec3",
   "metadata": {},
   "outputs": [],
   "source": [
    "df_400 = df_in.iloc[0:400]\n",
    "df_400_800 = df_in.iloc[400:800]\n",
    "df_800_1000 = df_in.iloc[800:]"
   ]
  },
  {
   "cell_type": "code",
   "execution_count": null,
   "id": "4047d878",
   "metadata": {},
   "outputs": [
    {
     "data": {
      "text/html": [
       "<div>\n",
       "<style scoped>\n",
       "    .dataframe tbody tr th:only-of-type {\n",
       "        vertical-align: middle;\n",
       "    }\n",
       "\n",
       "    .dataframe tbody tr th {\n",
       "        vertical-align: top;\n",
       "    }\n",
       "\n",
       "    .dataframe thead th {\n",
       "        text-align: right;\n",
       "    }\n",
       "</style>\n",
       "<table border=\"1\" class=\"dataframe\">\n",
       "  <thead>\n",
       "    <tr style=\"text-align: right;\">\n",
       "      <th></th>\n",
       "      <th>Keyword</th>\n",
       "      <th>SERP features</th>\n",
       "      <th>Volume</th>\n",
       "      <th>URL</th>\n",
       "    </tr>\n",
       "  </thead>\n",
       "  <tbody>\n",
       "    <tr>\n",
       "      <th>795</th>\n",
       "      <td>tattoo numbing cream</td>\n",
       "      <td>People also ask, Shopping results, Thumbnail</td>\n",
       "      <td>51000</td>\n",
       "      <td>https://www.amazon.com/tattoo-numbing-cream/s?...</td>\n",
       "    </tr>\n",
       "    <tr>\n",
       "      <th>796</th>\n",
       "      <td>adjustable facemask</td>\n",
       "      <td>Sitelinks</td>\n",
       "      <td>12000</td>\n",
       "      <td>https://www.amazon.com/Cloth-Washable-Reusable...</td>\n",
       "    </tr>\n",
       "    <tr>\n",
       "      <th>797</th>\n",
       "      <td>living room office ideas</td>\n",
       "      <td>Image pack, People also ask, Shopping results,...</td>\n",
       "      <td>1200</td>\n",
       "      <td>https://www.thespruce.com/desk-in-living-room-...</td>\n",
       "    </tr>\n",
       "    <tr>\n",
       "      <th>798</th>\n",
       "      <td>orchid cactus</td>\n",
       "      <td>People also ask, Knowledge panel, Shopping res...</td>\n",
       "      <td>11000</td>\n",
       "      <td>https://www.thespruce.com/epiphyllum-5212346</td>\n",
       "    </tr>\n",
       "    <tr>\n",
       "      <th>799</th>\n",
       "      <td>casodex</td>\n",
       "      <td>Thumbnail, People also ask, Knowledge panel, S...</td>\n",
       "      <td>10000</td>\n",
       "      <td>https://www.webmd.com/drugs/2/drug-4510/casode...</td>\n",
       "    </tr>\n",
       "  </tbody>\n",
       "</table>\n",
       "</div>"
      ],
      "text/plain": [
       "                      Keyword  \\\n",
       "795      tattoo numbing cream   \n",
       "796       adjustable facemask   \n",
       "797  living room office ideas   \n",
       "798             orchid cactus   \n",
       "799                   casodex   \n",
       "\n",
       "                                         SERP features  Volume  \\\n",
       "795       People also ask, Shopping results, Thumbnail   51000   \n",
       "796                                          Sitelinks   12000   \n",
       "797  Image pack, People also ask, Shopping results,...    1200   \n",
       "798  People also ask, Knowledge panel, Shopping res...   11000   \n",
       "799  Thumbnail, People also ask, Knowledge panel, S...   10000   \n",
       "\n",
       "                                                   URL  \n",
       "795  https://www.amazon.com/tattoo-numbing-cream/s?...  \n",
       "796  https://www.amazon.com/Cloth-Washable-Reusable...  \n",
       "797  https://www.thespruce.com/desk-in-living-room-...  \n",
       "798       https://www.thespruce.com/epiphyllum-5212346  \n",
       "799  https://www.webmd.com/drugs/2/drug-4510/casode...  "
      ]
     },
     "execution_count": 18,
     "metadata": {},
     "output_type": "execute_result"
    }
   ],
   "source": [
    "#df_400_800.tail()"
   ]
  },
  {
   "cell_type": "code",
   "execution_count": null,
   "id": "6b839dcd",
   "metadata": {},
   "outputs": [],
   "source": [
    "# REMEMBER YOU ARE LIMITED BY A DAILY QUERY QUOTA OF 1440"
   ]
  },
  {
   "cell_type": "code",
   "execution_count": 20,
   "id": "c6038a34-f079-4736-8a5f-60686a21f803",
   "metadata": {},
   "outputs": [],
   "source": [
    "#df = get_links_for_kws(df_400)\n",
    "df = get_links_for_kws(df_400_800)\n",
    "#df = get_links_for_kws(df_800_1000)"
   ]
  },
  {
   "cell_type": "code",
   "execution_count": null,
   "id": "461e9e16-0853-410f-8663-7071e1f9ce3a",
   "metadata": {},
   "outputs": [],
   "source": [
    "#df.to_csv('data/first_400.csv')\n",
    "df.to_csv('data/kw_400_800.csv')"
   ]
  },
  {
   "cell_type": "code",
   "execution_count": null,
   "id": "59754578-12cf-463c-992e-84cf2433491a",
   "metadata": {},
   "outputs": [
    {
     "data": {
      "text/html": [
       "<div>\n",
       "<style scoped>\n",
       "    .dataframe tbody tr th:only-of-type {\n",
       "        vertical-align: middle;\n",
       "    }\n",
       "\n",
       "    .dataframe tbody tr th {\n",
       "        vertical-align: top;\n",
       "    }\n",
       "\n",
       "    .dataframe thead th {\n",
       "        text-align: right;\n",
       "    }\n",
       "</style>\n",
       "<table border=\"1\" class=\"dataframe\">\n",
       "  <thead>\n",
       "    <tr style=\"text-align: right;\">\n",
       "      <th></th>\n",
       "      <th>kw</th>\n",
       "      <th>rank</th>\n",
       "      <th>link</th>\n",
       "    </tr>\n",
       "  </thead>\n",
       "  <tbody>\n",
       "    <tr>\n",
       "      <th>0</th>\n",
       "      <td>side table lamps</td>\n",
       "      <td>1</td>\n",
       "      <td>https://www.target.com/c/table-lamps-lighting-...</td>\n",
       "    </tr>\n",
       "    <tr>\n",
       "      <th>1</th>\n",
       "      <td>side table lamps</td>\n",
       "      <td>2</td>\n",
       "      <td>https://www.amazon.com/Side-Table-Lamps/s?k=Si...</td>\n",
       "    </tr>\n",
       "    <tr>\n",
       "      <th>2</th>\n",
       "      <td>side table lamps</td>\n",
       "      <td>3</td>\n",
       "      <td>https://www.wayfair.com/lighting/sb1/bedside-t...</td>\n",
       "    </tr>\n",
       "    <tr>\n",
       "      <th>3</th>\n",
       "      <td>side table lamps</td>\n",
       "      <td>4</td>\n",
       "      <td>https://www.ikea.com/us/en/cat/table-lamps-10732/</td>\n",
       "    </tr>\n",
       "    <tr>\n",
       "      <th>4</th>\n",
       "      <td>side table lamps</td>\n",
       "      <td>5</td>\n",
       "      <td>https://www.crateandbarrel.com/lighting/table-...</td>\n",
       "    </tr>\n",
       "    <tr>\n",
       "      <th>...</th>\n",
       "      <td>...</td>\n",
       "      <td>...</td>\n",
       "      <td>...</td>\n",
       "    </tr>\n",
       "    <tr>\n",
       "      <th>7985</th>\n",
       "      <td>raisins nutrition</td>\n",
       "      <td>16</td>\n",
       "      <td>https://www.checkyourfood.com/ingredients/ingr...</td>\n",
       "    </tr>\n",
       "    <tr>\n",
       "      <th>7986</th>\n",
       "      <td>raisins nutrition</td>\n",
       "      <td>17</td>\n",
       "      <td>https://healthyeating.sfgate.com/health-benefi...</td>\n",
       "    </tr>\n",
       "    <tr>\n",
       "      <th>7987</th>\n",
       "      <td>raisins nutrition</td>\n",
       "      <td>18</td>\n",
       "      <td>https://www.wellandgood.com/benefits-of-raisins/</td>\n",
       "    </tr>\n",
       "    <tr>\n",
       "      <th>7988</th>\n",
       "      <td>raisins nutrition</td>\n",
       "      <td>19</td>\n",
       "      <td>https://ratinkhosh.com/disadvantages-of-eating...</td>\n",
       "    </tr>\n",
       "    <tr>\n",
       "      <th>7989</th>\n",
       "      <td>raisins nutrition</td>\n",
       "      <td>20</td>\n",
       "      <td>https://tools.myfooddata.com/nutrition-facts/1...</td>\n",
       "    </tr>\n",
       "  </tbody>\n",
       "</table>\n",
       "<p>7990 rows × 3 columns</p>\n",
       "</div>"
      ],
      "text/plain": [
       "                     kw  rank  \\\n",
       "0      side table lamps     1   \n",
       "1      side table lamps     2   \n",
       "2      side table lamps     3   \n",
       "3      side table lamps     4   \n",
       "4      side table lamps     5   \n",
       "...                 ...   ...   \n",
       "7985  raisins nutrition    16   \n",
       "7986  raisins nutrition    17   \n",
       "7987  raisins nutrition    18   \n",
       "7988  raisins nutrition    19   \n",
       "7989  raisins nutrition    20   \n",
       "\n",
       "                                                   link  \n",
       "0     https://www.target.com/c/table-lamps-lighting-...  \n",
       "1     https://www.amazon.com/Side-Table-Lamps/s?k=Si...  \n",
       "2     https://www.wayfair.com/lighting/sb1/bedside-t...  \n",
       "3     https://www.ikea.com/us/en/cat/table-lamps-10732/  \n",
       "4     https://www.crateandbarrel.com/lighting/table-...  \n",
       "...                                                 ...  \n",
       "7985  https://www.checkyourfood.com/ingredients/ingr...  \n",
       "7986  https://healthyeating.sfgate.com/health-benefi...  \n",
       "7987   https://www.wellandgood.com/benefits-of-raisins/  \n",
       "7988  https://ratinkhosh.com/disadvantages-of-eating...  \n",
       "7989  https://tools.myfooddata.com/nutrition-facts/1...  \n",
       "\n",
       "[7990 rows x 3 columns]"
      ]
     },
     "execution_count": 383,
     "metadata": {},
     "output_type": "execute_result"
    }
   ],
   "source": [
    "df"
   ]
  },
  {
   "cell_type": "code",
   "execution_count": null,
   "id": "471f0ab0-1e86-4dfe-8f42-2d34877fa168",
   "metadata": {},
   "outputs": [],
   "source": [
    "# prints the response for 1 keyword\n",
    "\n",
    "def print_response(response):\n",
    "    print (f\"Results for keyword: \\\"{response.json()['searchParameters']['q']}\\\"\")\n",
    "    for rank, result in enumerate(response.json()[\"organic\"], 1):\n",
    "        print(f\"Rank: {rank}, Title: {result['title']}, Link: {result['link']}\")"
   ]
  }
 ],
 "metadata": {
  "kernelspec": {
   "display_name": "base",
   "language": "python",
   "name": "python3"
  },
  "language_info": {
   "codemirror_mode": {
    "name": "ipython",
    "version": 3
   },
   "file_extension": ".py",
   "mimetype": "text/x-python",
   "name": "python",
   "nbconvert_exporter": "python",
   "pygments_lexer": "ipython3",
   "version": "3.10.9"
  },
  "vscode": {
   "interpreter": {
    "hash": "b9d0320435b592720051846a30c3c35a68bf649ab9728fd60bade915b8884093"
   }
  }
 },
 "nbformat": 4,
 "nbformat_minor": 5
}
