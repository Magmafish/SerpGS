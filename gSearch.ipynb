{
 "cells": [
  {
   "cell_type": "code",
   "execution_count": 22,
   "id": "12be3ef9-095a-4019-941c-84c7150eb170",
   "metadata": {},
   "outputs": [],
   "source": [
    "import requests\n",
    "import json\n",
    "import pandas as pd"
   ]
  },
  {
   "cell_type": "code",
   "execution_count": 23,
   "id": "c6dde2ae-80d9-4381-bd0a-3263fed2c719",
   "metadata": {},
   "outputs": [],
   "source": [
    "pd.set_option('display.max_rows', 100)\n",
    "pd.set_option('display.max_columns', 10)"
   ]
  },
  {
   "cell_type": "code",
   "execution_count": 24,
   "id": "fa7806fb-65e3-4826-bcb7-f67fbc168275",
   "metadata": {},
   "outputs": [],
   "source": [
    "# fetch api key from file\n",
    "\n",
    "with open('secret/key.txt', 'r') as file:\n",
    "    api_key = file.read()\n",
    "#api_key"
   ]
  },
  {
   "cell_type": "code",
   "execution_count": 25,
   "id": "29101e0e-2d19-495a-8b72-0416618b7c38",
   "metadata": {},
   "outputs": [],
   "source": [
    "#keywords = [\"swollen ankles\", \"horny goat weed\", \"scalp psoriasis\"]\n",
    "\n",
    "url = \"https://google.serper.dev/search\"\n",
    "location = \"Calgary,Alberta,Canada\"\n",
    "language = \"en\"\n",
    "device = \"desktop\""
   ]
  },
  {
   "cell_type": "code",
   "execution_count": 26,
   "id": "fbd82a3c-6021-4a9c-9a63-905862d51405",
   "metadata": {
    "tags": []
   },
   "outputs": [],
   "source": [
    "# peforms a serch on one kw and returns the Xth page of relults\n",
    "\n",
    "def search_kw(kw, page=1, url=\"https://google.serper.dev/search\"):\n",
    "    payload = json.dumps({\n",
    "      \"q\": kw, # keyword to search for\n",
    "      \"gl\": \"us\", # location\n",
    "      \"hl\": \"en\", # language\n",
    "      \"autocorrect\": False,\n",
    "      \"page\": page\n",
    "    })\n",
    "\n",
    "    headers = {\n",
    "      \"X-API-KEY\": api_key,\n",
    "      \"Content-Type\": \"application/json\"\n",
    "    }\n",
    "\n",
    "    response = requests.request(\"POST\", url=url, headers=headers, data=payload)\n",
    "    return(response)"
   ]
  },
  {
   "cell_type": "code",
   "execution_count": null,
   "id": "738ef467",
   "metadata": {},
   "outputs": [],
   "source": [
    "# prints the response for 1 keyword\n",
    "\n",
    "def print_response(response):\n",
    "    print (f\"Results for keyword: \\\"{response.json()['searchParameters']['q']}\\\"\")\n",
    "    for rank, result in enumerate(response.json()[\"organic\"], 1):\n",
    "        print(f\"Rank: {rank}, Title: {result['title']}, Link: {result['link']}\")"
   ]
  },
  {
   "cell_type": "code",
   "execution_count": 27,
   "id": "c7a30714-c211-49d0-97ab-0424d2f6ae7d",
   "metadata": {},
   "outputs": [],
   "source": [
    "# runs search_kw over multiple pages and returns them in a list\n",
    "\n",
    "def get_pages(page_count, kw, url=\"https://google.serper.dev/search\"):\n",
    "    pages = list()\n",
    "    for page in range(1, page_count+1):\n",
    "        pages.append(search_kw(kw, page, url))\n",
    "    return pages"
   ]
  },
  {
   "cell_type": "code",
   "execution_count": 28,
   "id": "d71c291f-d95e-4dc7-a475-254857c6b076",
   "metadata": {},
   "outputs": [],
   "source": [
    "# extract kw, page, rank, and link from 1 page of response info and return df\n",
    "\n",
    "def extract_response(response):\n",
    "    df = pd.DataFrame(columns = ['kw', 'page', 'rank','link'])\n",
    "    q = response.json()['searchParameters']['q']\n",
    "    page = response.json()['searchParameters']['page']\n",
    "    for rank, result in enumerate(response.json()[\"organic\"], 1):\n",
    "        link = result['link']\n",
    "        df.loc[len(df)] = [q, page, rank, link]\n",
    "    return(df)"
   ]
  },
  {
   "cell_type": "code",
   "execution_count": 29,
   "id": "dacc0296-3913-4043-9ca4-54f31ca7f26a",
   "metadata": {},
   "outputs": [],
   "source": [
    "# takes a list of pages of response, iterates extract_response(), extracts and renumbers responses, returns df of ky, rank, link\n",
    "\n",
    "def collate_pages(pages, max_rank=None):\n",
    "    df = pd.DataFrame()\n",
    "    for response in pages:\n",
    "        data = extract_response(response)\n",
    "        df = pd.concat([df, data], ignore_index=True)\n",
    "    df = df.reset_index(drop=True)\n",
    "    df[\"rank\"] = df.index + 1\n",
    "    if max_rank is not None:\n",
    "        df = df[df['rank'] <= max_rank]\n",
    "    df.drop([\"page\"], axis=1, inplace=True)\n",
    "    return df"
   ]
  },
  {
   "cell_type": "code",
   "execution_count": 30,
   "id": "d04526ec-8fe9-406b-8646-19fa32a6b1e6",
   "metadata": {},
   "outputs": [],
   "source": [
    "# takes df containing \"Keywords\" and iterates collate_pages() returns df of kw\n",
    "\n",
    "def get_links_for_kws(df_in):\n",
    "    df_out = pd.DataFrame()\n",
    "    keywords = df_in[\"Keyword\"]\n",
    "    for kw in keywords:\n",
    "        kw_pages = get_pages(3, kw) # get 3 pages (<= 30 records) for each kw\n",
    "        df = collate_pages(kw_pages, 20) # colate pages, limit to top 20 records.\n",
    "        df_out = pd.concat([df_out, df], ignore_index=True)\n",
    "    return(df_out)"
   ]
  },
  {
   "cell_type": "code",
   "execution_count": 31,
   "id": "e3735e2d-40f9-425b-961e-a8a302e98994",
   "metadata": {},
   "outputs": [],
   "source": [
    "# load kw\n",
    "df_in = pd.read_csv('data/kw_1_000.csv')\n",
    "#df_in = df_in.head() # FOR TESTING PURPOSES ONLY BECAUSE I AM LIMITED BY MY QUERY QUOTA OF 1440\n",
    "#df_in.iloc[400:500]"
   ]
  },
  {
   "cell_type": "code",
   "execution_count": 50,
   "id": "59afa4d1-53f9-467c-a0c6-57ce29700ec3",
   "metadata": {},
   "outputs": [],
   "source": [
    "df_400 = df_in.iloc[0:400]\n",
    "df_400_800 = df_in.iloc[400:800]\n",
    "df_800_1000 = df_in.iloc[800:]"
   ]
  },
  {
   "cell_type": "code",
   "execution_count": 110,
   "id": "b40f868f",
   "metadata": {},
   "outputs": [
    {
     "data": {
      "text/html": [
       "<div>\n",
       "<style scoped>\n",
       "    .dataframe tbody tr th:only-of-type {\n",
       "        vertical-align: middle;\n",
       "    }\n",
       "\n",
       "    .dataframe tbody tr th {\n",
       "        vertical-align: top;\n",
       "    }\n",
       "\n",
       "    .dataframe thead th {\n",
       "        text-align: right;\n",
       "    }\n",
       "</style>\n",
       "<table border=\"1\" class=\"dataframe\">\n",
       "  <thead>\n",
       "    <tr style=\"text-align: right;\">\n",
       "      <th></th>\n",
       "      <th>Keyword</th>\n",
       "      <th>SERP features</th>\n",
       "      <th>Volume</th>\n",
       "      <th>URL</th>\n",
       "    </tr>\n",
       "  </thead>\n",
       "  <tbody>\n",
       "    <tr>\n",
       "      <th>400</th>\n",
       "      <td>basement finishing</td>\n",
       "      <td>Adwords top, Local pack, People also ask, Site...</td>\n",
       "      <td>4400</td>\n",
       "      <td>https://www.thespruce.com/overview-of-basement...</td>\n",
       "    </tr>\n",
       "    <tr>\n",
       "      <th>401</th>\n",
       "      <td>i need to get pregnant this month</td>\n",
       "      <td>Featured snippet, People also ask, Sitelinks</td>\n",
       "      <td>5700</td>\n",
       "      <td>https://www.webmd.com/baby/features/7-tips-get...</td>\n",
       "    </tr>\n",
       "    <tr>\n",
       "      <th>402</th>\n",
       "      <td>breast pain</td>\n",
       "      <td>People also ask, Sitelinks</td>\n",
       "      <td>42000</td>\n",
       "      <td>https://www.webmd.com/women/why-do-my-breasts-...</td>\n",
       "    </tr>\n",
       "    <tr>\n",
       "      <th>403</th>\n",
       "      <td>afrobulk</td>\n",
       "      <td>Sitelinks, Image pack, Video preview</td>\n",
       "      <td>18000</td>\n",
       "      <td>https://www.amazon.com/Harlem-125-Afro-Honey-B...</td>\n",
       "    </tr>\n",
       "    <tr>\n",
       "      <th>404</th>\n",
       "      <td>percocet 10</td>\n",
       "      <td>People also ask</td>\n",
       "      <td>8100</td>\n",
       "      <td>https://www.webmd.com/drugs/2/drug-7277/percoc...</td>\n",
       "    </tr>\n",
       "    <tr>\n",
       "      <th>...</th>\n",
       "      <td>...</td>\n",
       "      <td>...</td>\n",
       "      <td>...</td>\n",
       "      <td>...</td>\n",
       "    </tr>\n",
       "    <tr>\n",
       "      <th>795</th>\n",
       "      <td>tattoo numbing cream</td>\n",
       "      <td>People also ask, Shopping results, Thumbnail</td>\n",
       "      <td>51000</td>\n",
       "      <td>https://www.amazon.com/tattoo-numbing-cream/s?...</td>\n",
       "    </tr>\n",
       "    <tr>\n",
       "      <th>796</th>\n",
       "      <td>adjustable facemask</td>\n",
       "      <td>Sitelinks</td>\n",
       "      <td>12000</td>\n",
       "      <td>https://www.amazon.com/Cloth-Washable-Reusable...</td>\n",
       "    </tr>\n",
       "    <tr>\n",
       "      <th>797</th>\n",
       "      <td>living room office ideas</td>\n",
       "      <td>Image pack, People also ask, Shopping results,...</td>\n",
       "      <td>1200</td>\n",
       "      <td>https://www.thespruce.com/desk-in-living-room-...</td>\n",
       "    </tr>\n",
       "    <tr>\n",
       "      <th>798</th>\n",
       "      <td>orchid cactus</td>\n",
       "      <td>People also ask, Knowledge panel, Shopping res...</td>\n",
       "      <td>11000</td>\n",
       "      <td>https://www.thespruce.com/epiphyllum-5212346</td>\n",
       "    </tr>\n",
       "    <tr>\n",
       "      <th>799</th>\n",
       "      <td>casodex</td>\n",
       "      <td>Thumbnail, People also ask, Knowledge panel, S...</td>\n",
       "      <td>10000</td>\n",
       "      <td>https://www.webmd.com/drugs/2/drug-4510/casode...</td>\n",
       "    </tr>\n",
       "  </tbody>\n",
       "</table>\n",
       "<p>400 rows × 4 columns</p>\n",
       "</div>"
      ],
      "text/plain": [
       "                               Keyword  \\\n",
       "400                 basement finishing   \n",
       "401  i need to get pregnant this month   \n",
       "402                        breast pain   \n",
       "403                           afrobulk   \n",
       "404                        percocet 10   \n",
       "..                                 ...   \n",
       "795               tattoo numbing cream   \n",
       "796                adjustable facemask   \n",
       "797           living room office ideas   \n",
       "798                      orchid cactus   \n",
       "799                            casodex   \n",
       "\n",
       "                                         SERP features  Volume  \\\n",
       "400  Adwords top, Local pack, People also ask, Site...    4400   \n",
       "401       Featured snippet, People also ask, Sitelinks    5700   \n",
       "402                         People also ask, Sitelinks   42000   \n",
       "403               Sitelinks, Image pack, Video preview   18000   \n",
       "404                                    People also ask    8100   \n",
       "..                                                 ...     ...   \n",
       "795       People also ask, Shopping results, Thumbnail   51000   \n",
       "796                                          Sitelinks   12000   \n",
       "797  Image pack, People also ask, Shopping results,...    1200   \n",
       "798  People also ask, Knowledge panel, Shopping res...   11000   \n",
       "799  Thumbnail, People also ask, Knowledge panel, S...   10000   \n",
       "\n",
       "                                                   URL  \n",
       "400  https://www.thespruce.com/overview-of-basement...  \n",
       "401  https://www.webmd.com/baby/features/7-tips-get...  \n",
       "402  https://www.webmd.com/women/why-do-my-breasts-...  \n",
       "403  https://www.amazon.com/Harlem-125-Afro-Honey-B...  \n",
       "404  https://www.webmd.com/drugs/2/drug-7277/percoc...  \n",
       "..                                                 ...  \n",
       "795  https://www.amazon.com/tattoo-numbing-cream/s?...  \n",
       "796  https://www.amazon.com/Cloth-Washable-Reusable...  \n",
       "797  https://www.thespruce.com/desk-in-living-room-...  \n",
       "798       https://www.thespruce.com/epiphyllum-5212346  \n",
       "799  https://www.webmd.com/drugs/2/drug-4510/casode...  \n",
       "\n",
       "[400 rows x 4 columns]"
      ]
     },
     "execution_count": 110,
     "metadata": {},
     "output_type": "execute_result"
    }
   ],
   "source": [
    "df_400_800"
   ]
  },
  {
   "cell_type": "code",
   "execution_count": 111,
   "id": "c6038a34-f079-4736-8a5f-60686a21f803",
   "metadata": {},
   "outputs": [],
   "source": [
    "# ***DANGER*** GETS DATA FROM SERPER.API\n",
    "# REMEMBER YOU ARE LIMITED BY A DAILY QUERY QUOTA OF 1440\n",
    "\n",
    "#df_linked_kw_out_400 = get_links_for_kws(df_400) # DOES 1200 QUERIES\n",
    "#df_linked_kw_out_400_800 = get_links_for_kws(df_400_800) # DOES 1200 QUERIES\n",
    "#df_linked_kw_out_800_1000 = get_links_for_kws(df_800_1000) # DOES 600 QUERIES"
   ]
  },
  {
   "cell_type": "code",
   "execution_count": 132,
   "id": "7a1d852e",
   "metadata": {},
   "outputs": [],
   "source": [
    "# can be removed\n",
    "\n",
    "# df_linked_kw_400 = df_linked_kw_out_400\n",
    "# df_linked_kw_400_800 = df_linked_kw_out_400_800\n",
    "# df_linked_kw_800_1000 = df_linked_kw_out_800_1000"
   ]
  },
  {
   "cell_type": "code",
   "execution_count": 151,
   "id": "35f7e439",
   "metadata": {},
   "outputs": [],
   "source": [
    "def print_dfs_lengths(df_names):\n",
    "    lengths = [len(globals()[df_name]) for df_name in df_names]\n",
    "    \n",
    "    for i, length in enumerate(lengths):\n",
    "        print(f\"DataFrame {i+1} ({df_names[i]}): {length}\")\n",
    "    \n",
    "    total_length = sum(lengths)\n",
    "    print(f\"Total length: {total_length}\")\n",
    "    \n",
    "    return total_length"
   ]
  },
  {
   "cell_type": "code",
   "execution_count": 154,
   "id": "1cf77b12",
   "metadata": {},
   "outputs": [
    {
     "name": "stdout",
     "output_type": "stream",
     "text": [
      "DataFrame 1 (df_linked_kw_400): 7990\n",
      "DataFrame 2 (df_linked_kw_400_800): 8000\n",
      "DataFrame 3 (df_linked_kw_800_1000): 4000\n",
      "Total length: 19990\n"
     ]
    },
    {
     "data": {
      "text/plain": [
       "19990"
      ]
     },
     "execution_count": 154,
     "metadata": {},
     "output_type": "execute_result"
    }
   ],
   "source": [
    "df_names = ['df_linked_kw_400', 'df_linked_kw_400_800', 'df_linked_kw_800_1000']\n",
    "print_dfs_lengths(df_names)"
   ]
  },
  {
   "cell_type": "code",
   "execution_count": 133,
   "id": "ec624277",
   "metadata": {},
   "outputs": [],
   "source": [
    "# SAVE LINKED KW DFs TO CSV \n",
    "df_linked_kw_400.to_csv('data/linked_kw_400.csv', index=False)\n",
    "df_linked_kw_400_800.to_csv('data/linked_kw_400_800.csv', index=False)\n",
    "df_linked_kw_800_1000.to_csv('data/linked_kw_800_1000.csv', index=False)"
   ]
  },
  {
   "cell_type": "code",
   "execution_count": 155,
   "id": "d4c3a04f",
   "metadata": {},
   "outputs": [
    {
     "data": {
      "text/plain": [
       "['data/linked_kw_400.csv',\n",
       " 'data/linked_kw_400_800.csv',\n",
       " 'data/linked_kw_800_1000.csv']"
      ]
     },
     "execution_count": 155,
     "metadata": {},
     "output_type": "execute_result"
    }
   ],
   "source": [
    "files_to_combine = ['data/linked_kw_400.csv', 'data/linked_kw_400_800.csv', 'data/linked_kw_800_1000.csv']\n",
    "files_to_combine"
   ]
  },
  {
   "cell_type": "code",
   "execution_count": 156,
   "id": "b145e8d4",
   "metadata": {},
   "outputs": [],
   "source": [
    "def combine_csvs_in_df(files_to_combine):\n",
    "    combined_df = pd.DataFrame()\n",
    "    for file in files_to_combine:\n",
    "        df = pd.read_csv(file, header=0)\n",
    "        combined_df = pd.concat([combined_df, df], ignore_index=True)\n",
    "    return combined_df"
   ]
  },
  {
   "cell_type": "code",
   "execution_count": 163,
   "id": "196c6853",
   "metadata": {},
   "outputs": [
    {
     "data": {
      "text/html": [
       "<div>\n",
       "<style scoped>\n",
       "    .dataframe tbody tr th:only-of-type {\n",
       "        vertical-align: middle;\n",
       "    }\n",
       "\n",
       "    .dataframe tbody tr th {\n",
       "        vertical-align: top;\n",
       "    }\n",
       "\n",
       "    .dataframe thead th {\n",
       "        text-align: right;\n",
       "    }\n",
       "</style>\n",
       "<table border=\"1\" class=\"dataframe\">\n",
       "  <thead>\n",
       "    <tr style=\"text-align: right;\">\n",
       "      <th></th>\n",
       "      <th>kw</th>\n",
       "      <th>rank</th>\n",
       "      <th>link</th>\n",
       "    </tr>\n",
       "  </thead>\n",
       "  <tbody>\n",
       "    <tr>\n",
       "      <th>19985</th>\n",
       "      <td>bike bag</td>\n",
       "      <td>16</td>\n",
       "      <td>https://builtbyswift.com/</td>\n",
       "    </tr>\n",
       "    <tr>\n",
       "      <th>19986</th>\n",
       "      <td>bike bag</td>\n",
       "      <td>17</td>\n",
       "      <td>https://frostriver.com/collections/cycling-bik...</td>\n",
       "    </tr>\n",
       "    <tr>\n",
       "      <th>19987</th>\n",
       "      <td>bike bag</td>\n",
       "      <td>18</td>\n",
       "      <td>https://www.basil.com/en/bicycle-bags/</td>\n",
       "    </tr>\n",
       "    <tr>\n",
       "      <th>19988</th>\n",
       "      <td>bike bag</td>\n",
       "      <td>19</td>\n",
       "      <td>https://topodesigns.com/products/bike-bag</td>\n",
       "    </tr>\n",
       "    <tr>\n",
       "      <th>19989</th>\n",
       "      <td>bike bag</td>\n",
       "      <td>20</td>\n",
       "      <td>https://www.duluthpack.com/collections/bike-bags</td>\n",
       "    </tr>\n",
       "  </tbody>\n",
       "</table>\n",
       "</div>"
      ],
      "text/plain": [
       "             kw  rank                                               link\n",
       "19985  bike bag    16                          https://builtbyswift.com/\n",
       "19986  bike bag    17  https://frostriver.com/collections/cycling-bik...\n",
       "19987  bike bag    18             https://www.basil.com/en/bicycle-bags/\n",
       "19988  bike bag    19          https://topodesigns.com/products/bike-bag\n",
       "19989  bike bag    20   https://www.duluthpack.com/collections/bike-bags"
      ]
     },
     "execution_count": 163,
     "metadata": {},
     "output_type": "execute_result"
    }
   ],
   "source": [
    "df_linked_kw_final = combine_csvs_in_df(files_to_combine)\n",
    "df_linked_kw_final.tail()"
   ]
  },
  {
   "cell_type": "code",
   "execution_count": 164,
   "id": "1f065018",
   "metadata": {},
   "outputs": [],
   "source": [
    "# save to csv\n",
    "df_linked_kw_final.to_csv('data/linked_kw_final.csv', index=False)"
   ]
  },
  {
   "cell_type": "code",
   "execution_count": 165,
   "id": "3b10c644",
   "metadata": {},
   "outputs": [],
   "source": [
    "# relaed from csv\n",
    "df_linked_kw_final = pd.read_csv('data/linked_kw_final.csv', header=0)"
   ]
  },
  {
   "cell_type": "code",
   "execution_count": 167,
   "id": "77985406",
   "metadata": {},
   "outputs": [
    {
     "data": {
      "text/html": [
       "<div>\n",
       "<style scoped>\n",
       "    .dataframe tbody tr th:only-of-type {\n",
       "        vertical-align: middle;\n",
       "    }\n",
       "\n",
       "    .dataframe tbody tr th {\n",
       "        vertical-align: top;\n",
       "    }\n",
       "\n",
       "    .dataframe thead th {\n",
       "        text-align: right;\n",
       "    }\n",
       "</style>\n",
       "<table border=\"1\" class=\"dataframe\">\n",
       "  <thead>\n",
       "    <tr style=\"text-align: right;\">\n",
       "      <th></th>\n",
       "      <th>kw</th>\n",
       "      <th>rank</th>\n",
       "      <th>link</th>\n",
       "    </tr>\n",
       "  </thead>\n",
       "  <tbody>\n",
       "    <tr>\n",
       "      <th>19985</th>\n",
       "      <td>bike bag</td>\n",
       "      <td>16</td>\n",
       "      <td>https://builtbyswift.com/</td>\n",
       "    </tr>\n",
       "    <tr>\n",
       "      <th>19986</th>\n",
       "      <td>bike bag</td>\n",
       "      <td>17</td>\n",
       "      <td>https://frostriver.com/collections/cycling-bik...</td>\n",
       "    </tr>\n",
       "    <tr>\n",
       "      <th>19987</th>\n",
       "      <td>bike bag</td>\n",
       "      <td>18</td>\n",
       "      <td>https://www.basil.com/en/bicycle-bags/</td>\n",
       "    </tr>\n",
       "    <tr>\n",
       "      <th>19988</th>\n",
       "      <td>bike bag</td>\n",
       "      <td>19</td>\n",
       "      <td>https://topodesigns.com/products/bike-bag</td>\n",
       "    </tr>\n",
       "    <tr>\n",
       "      <th>19989</th>\n",
       "      <td>bike bag</td>\n",
       "      <td>20</td>\n",
       "      <td>https://www.duluthpack.com/collections/bike-bags</td>\n",
       "    </tr>\n",
       "  </tbody>\n",
       "</table>\n",
       "</div>"
      ],
      "text/plain": [
       "             kw  rank                                               link\n",
       "19985  bike bag    16                          https://builtbyswift.com/\n",
       "19986  bike bag    17  https://frostriver.com/collections/cycling-bik...\n",
       "19987  bike bag    18             https://www.basil.com/en/bicycle-bags/\n",
       "19988  bike bag    19          https://topodesigns.com/products/bike-bag\n",
       "19989  bike bag    20   https://www.duluthpack.com/collections/bike-bags"
      ]
     },
     "execution_count": 167,
     "metadata": {},
     "output_type": "execute_result"
    }
   ],
   "source": [
    "df_linked_kw_final.tail()"
   ]
  },
  {
   "cell_type": "code",
   "execution_count": 169,
   "id": "bf0d70af",
   "metadata": {},
   "outputs": [],
   "source": [
    "kw_counts = df_linked_kw_final['kw'].value_counts()\n",
    "kw_less_than_20 = kw_counts[kw_counts < 20].index.tolist()"
   ]
  },
  {
   "cell_type": "code",
   "execution_count": 170,
   "id": "df5f6b0b",
   "metadata": {},
   "outputs": [
    {
     "name": "stdout",
     "output_type": "stream",
     "text": [
      "['xel 3a cardholder cases']\n"
     ]
    }
   ],
   "source": [
    "# this is the one with only ten links\n",
    "\n",
    "print(kw_less_than_20)"
   ]
  },
  {
   "cell_type": "code",
   "execution_count": null,
   "id": "59754578-12cf-463c-992e-84cf2433491a",
   "metadata": {},
   "outputs": [],
   "source": []
  },
  {
   "cell_type": "code",
   "execution_count": 101,
   "id": "0cb3ea13",
   "metadata": {},
   "outputs": [],
   "source": []
  },
  {
   "cell_type": "code",
   "execution_count": null,
   "id": "bdff9e9c",
   "metadata": {},
   "outputs": [],
   "source": []
  }
 ],
 "metadata": {
  "kernelspec": {
   "display_name": "base",
   "language": "python",
   "name": "python3"
  },
  "language_info": {
   "codemirror_mode": {
    "name": "ipython",
    "version": 3
   },
   "file_extension": ".py",
   "mimetype": "text/x-python",
   "name": "python",
   "nbconvert_exporter": "python",
   "pygments_lexer": "ipython3",
   "version": "3.10.9"
  },
  "vscode": {
   "interpreter": {
    "hash": "b9d0320435b592720051846a30c3c35a68bf649ab9728fd60bade915b8884093"
   }
  }
 },
 "nbformat": 4,
 "nbformat_minor": 5
}
