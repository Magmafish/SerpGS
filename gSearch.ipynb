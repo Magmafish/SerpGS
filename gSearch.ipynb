{
 "cells": [
  {
   "cell_type": "code",
   "execution_count": null,
   "id": "12be3ef9-095a-4019-941c-84c7150eb170",
   "metadata": {},
   "outputs": [],
   "source": [
    "import requests\n",
    "import json\n",
    "import pandas as pd"
   ]
  },
  {
   "cell_type": "code",
   "execution_count": null,
   "id": "c6dde2ae-80d9-4381-bd0a-3263fed2c719",
   "metadata": {},
   "outputs": [],
   "source": [
    "pd.set_option('display.max_rows', 100)\n",
    "pd.set_option('display.max_columns', 10)"
   ]
  },
  {
   "cell_type": "code",
   "execution_count": null,
   "id": "fa7806fb-65e3-4826-bcb7-f67fbc168275",
   "metadata": {},
   "outputs": [
    {
     "data": {
      "text/plain": [
       "'c801ef08a40fac752083082acadfefe13ac5bba9'"
      ]
     },
     "execution_count": 10,
     "metadata": {},
     "output_type": "execute_result"
    }
   ],
   "source": [
    "# fetch api key from file\n",
    "\n",
    "with open('secret/key.txt', 'r') as file:\n",
    "    api_key = file.read()\n",
    "#api_key"
   ]
  },
  {
   "cell_type": "code",
   "execution_count": 64,
   "id": "29101e0e-2d19-495a-8b72-0416618b7c38",
   "metadata": {},
   "outputs": [],
   "source": [
    "#keywords = [\"swollen ankles\", \"horny goat weed\", \"scalp psoriasis\"]\n",
    "\n",
    "url = \"https://google.serper.dev/search\"\n",
    "location = \"Calgary,Alberta,Canada\"\n",
    "language = \"en\"\n",
    "device = \"desktop\""
   ]
  },
  {
   "cell_type": "code",
   "execution_count": 229,
   "id": "fbd82a3c-6021-4a9c-9a63-905862d51405",
   "metadata": {
    "tags": []
   },
   "outputs": [],
   "source": [
    "# peforms a serch on one kw and returns the Xth page of relults\n",
    "\n",
    "def search_kw(kw, page=1, url=\"https://google.serper.dev/search\"):\n",
    "    payload = json.dumps({\n",
    "      \"q\": kw, # keyword to search for\n",
    "      \"gl\": \"us\", # location\n",
    "      \"hl\": \"en\", # language\n",
    "      \"autocorrect\": False,\n",
    "      \"page\": page\n",
    "    })\n",
    "\n",
    "    headers = {\n",
    "      \"X-API-KEY\": api_key,\n",
    "      \"Content-Type\": \"application/json\"\n",
    "    }\n",
    "\n",
    "    response = requests.request(\"POST\", url=url, headers=headers, data=payload)\n",
    "    return(response)"
   ]
  },
  {
   "cell_type": "code",
   "execution_count": 320,
   "id": "c7a30714-c211-49d0-97ab-0424d2f6ae7d",
   "metadata": {},
   "outputs": [],
   "source": [
    "# runs search_ky over multiple pages and returns them in a list\n",
    "\n",
    "def get_pages(page_count, kw, url=\"https://google.serper.dev/search\"):\n",
    "    pages = list()\n",
    "    for page in range(1, page_count+1):\n",
    "        pages.append(search_kw(kw, page, url))\n",
    "    return pages"
   ]
  },
  {
   "cell_type": "code",
   "execution_count": 302,
   "id": "d71c291f-d95e-4dc7-a475-254857c6b076",
   "metadata": {},
   "outputs": [],
   "source": [
    "# extract kw, page, rank, and link from 1 page of response info and return df\n",
    "\n",
    "def extract_response(response):\n",
    "    df = pd.DataFrame(columns = ['kw', 'page', 'rank','link'])\n",
    "    q = response.json()['searchParameters']['q']\n",
    "    page = response.json()['searchParameters']['page']\n",
    "    for rank, result in enumerate(response.json()[\"organic\"], 1):\n",
    "        link = result['link']\n",
    "        df.loc[len(df)] = [q, page, rank, link]\n",
    "    return(df)"
   ]
  },
  {
   "cell_type": "code",
   "execution_count": 347,
   "id": "dacc0296-3913-4043-9ca4-54f31ca7f26a",
   "metadata": {},
   "outputs": [],
   "source": [
    "# takes a list of pages of response, iterates extract_response(), extracts and renumbers responses, returns df of ky, rank, link\n",
    "\n",
    "def collate_pages(pages, max_rank=None):\n",
    "    df = pd.DataFrame()\n",
    "    for response in pages:\n",
    "        data = extract_response(response)\n",
    "        df = pd.concat([df, data], ignore_index=True)\n",
    "    df = df.reset_index(drop=True)\n",
    "    df[\"rank\"] = df.index + 1\n",
    "    if max_rank is not None:\n",
    "        df = df[df['rank'] <= max_rank]\n",
    "    df.drop([\"page\"], axis=1, inplace=True)\n",
    "    return df"
   ]
  },
  {
   "cell_type": "code",
   "execution_count": 370,
   "id": "d04526ec-8fe9-406b-8646-19fa32a6b1e6",
   "metadata": {},
   "outputs": [],
   "source": [
    "# accepty a df containing \"Keywords\" and iterates collate_pages() returns df of kw\n",
    "\n",
    "def process_kws(df_in):\n",
    "    df_out = pd.DataFrame()\n",
    "    keywords = df_in[\"Keyword\"]\n",
    "    for kw in keywords:\n",
    "        kw_pages = get_pages(3, kw) # get 3 pages (<= 30 records) for each kw\n",
    "        df = collate_pages(kw_pages, 20) # colate pages, limit to top 20 records.\n",
    "        df_out = pd.concat([df_out, df], ignore_index=True)\n",
    "    return(df_out)"
   ]
  },
  {
   "cell_type": "code",
   "execution_count": 378,
   "id": "e3735e2d-40f9-425b-961e-a8a302e98994",
   "metadata": {},
   "outputs": [
    {
     "data": {
      "text/html": [
       "<div>\n",
       "<style scoped>\n",
       "    .dataframe tbody tr th:only-of-type {\n",
       "        vertical-align: middle;\n",
       "    }\n",
       "\n",
       "    .dataframe tbody tr th {\n",
       "        vertical-align: top;\n",
       "    }\n",
       "\n",
       "    .dataframe thead th {\n",
       "        text-align: right;\n",
       "    }\n",
       "</style>\n",
       "<table border=\"1\" class=\"dataframe\">\n",
       "  <thead>\n",
       "    <tr style=\"text-align: right;\">\n",
       "      <th></th>\n",
       "      <th>Keyword</th>\n",
       "      <th>SERP features</th>\n",
       "      <th>Volume</th>\n",
       "      <th>URL</th>\n",
       "    </tr>\n",
       "  </thead>\n",
       "  <tbody>\n",
       "    <tr>\n",
       "      <th>0</th>\n",
       "      <td>side table lamps</td>\n",
       "      <td>Image pack, Thumbnail, Shopping results, Sitel...</td>\n",
       "      <td>2100</td>\n",
       "      <td>https://www.thespruce.com/how-to-pick-a-bedsid...</td>\n",
       "    </tr>\n",
       "    <tr>\n",
       "      <th>1</th>\n",
       "      <td>bell's palsy causes</td>\n",
       "      <td>Featured snippet, People also ask, Sitelinks, ...</td>\n",
       "      <td>12000</td>\n",
       "      <td>https://www.webmd.com/brain/understanding-bell...</td>\n",
       "    </tr>\n",
       "    <tr>\n",
       "      <th>2</th>\n",
       "      <td>snap in dentures</td>\n",
       "      <td>Sitelinks, People also ask, Video preview</td>\n",
       "      <td>7600</td>\n",
       "      <td>https://www.webmd.com/oral-health/what-to-know...</td>\n",
       "    </tr>\n",
       "    <tr>\n",
       "      <th>3</th>\n",
       "      <td>hoodies for men</td>\n",
       "      <td>Shopping results, Thumbnail, People also ask</td>\n",
       "      <td>38000</td>\n",
       "      <td>https://www.amazon.com/Mens-Fashion-Hoodies-Sw...</td>\n",
       "    </tr>\n",
       "    <tr>\n",
       "      <th>4</th>\n",
       "      <td>blushing philodendron</td>\n",
       "      <td>People also ask, Sitelinks, Knowledge panel, S...</td>\n",
       "      <td>2300</td>\n",
       "      <td>https://www.thespruce.com/grow-phildendron-eru...</td>\n",
       "    </tr>\n",
       "    <tr>\n",
       "      <th>...</th>\n",
       "      <td>...</td>\n",
       "      <td>...</td>\n",
       "      <td>...</td>\n",
       "      <td>...</td>\n",
       "    </tr>\n",
       "    <tr>\n",
       "      <th>995</th>\n",
       "      <td>paint colors that go with beige walls</td>\n",
       "      <td>Featured snippet, People also ask, Sitelinks, ...</td>\n",
       "      <td>1000</td>\n",
       "      <td>https://www.thespruce.com/colors-that-go-with-...</td>\n",
       "    </tr>\n",
       "    <tr>\n",
       "      <th>996</th>\n",
       "      <td>prime days</td>\n",
       "      <td>Sitelinks, People also ask</td>\n",
       "      <td>15000</td>\n",
       "      <td>https://www.amazon.com/primeday</td>\n",
       "    </tr>\n",
       "    <tr>\n",
       "      <th>997</th>\n",
       "      <td>what is fingering</td>\n",
       "      <td>Featured snippet, Sitelinks</td>\n",
       "      <td>7100</td>\n",
       "      <td>https://www.webmd.com/sex/what-is-fingering</td>\n",
       "    </tr>\n",
       "    <tr>\n",
       "      <th>998</th>\n",
       "      <td>zinus bed frame</td>\n",
       "      <td>Adwords top, Adwords sitelink, Sitelinks, Shop...</td>\n",
       "      <td>16000</td>\n",
       "      <td>https://www.amazon.com/Beds-Frames-Bases-Zinus...</td>\n",
       "    </tr>\n",
       "    <tr>\n",
       "      <th>999</th>\n",
       "      <td>bike bag</td>\n",
       "      <td>Shopping results, Thumbnail, Sitelinks</td>\n",
       "      <td>8100</td>\n",
       "      <td>https://www.amazon.com/bike-bags/s?k=bike+bags</td>\n",
       "    </tr>\n",
       "  </tbody>\n",
       "</table>\n",
       "<p>1000 rows × 4 columns</p>\n",
       "</div>"
      ],
      "text/plain": [
       "                                   Keyword  \\\n",
       "0                         side table lamps   \n",
       "1                      bell's palsy causes   \n",
       "2                         snap in dentures   \n",
       "3                          hoodies for men   \n",
       "4                    blushing philodendron   \n",
       "..                                     ...   \n",
       "995  paint colors that go with beige walls   \n",
       "996                             prime days   \n",
       "997                      what is fingering   \n",
       "998                        zinus bed frame   \n",
       "999                               bike bag   \n",
       "\n",
       "                                         SERP features  Volume  \\\n",
       "0    Image pack, Thumbnail, Shopping results, Sitel...    2100   \n",
       "1    Featured snippet, People also ask, Sitelinks, ...   12000   \n",
       "2            Sitelinks, People also ask, Video preview    7600   \n",
       "3         Shopping results, Thumbnail, People also ask   38000   \n",
       "4    People also ask, Sitelinks, Knowledge panel, S...    2300   \n",
       "..                                                 ...     ...   \n",
       "995  Featured snippet, People also ask, Sitelinks, ...    1000   \n",
       "996                         Sitelinks, People also ask   15000   \n",
       "997                        Featured snippet, Sitelinks    7100   \n",
       "998  Adwords top, Adwords sitelink, Sitelinks, Shop...   16000   \n",
       "999             Shopping results, Thumbnail, Sitelinks    8100   \n",
       "\n",
       "                                                   URL  \n",
       "0    https://www.thespruce.com/how-to-pick-a-bedsid...  \n",
       "1    https://www.webmd.com/brain/understanding-bell...  \n",
       "2    https://www.webmd.com/oral-health/what-to-know...  \n",
       "3    https://www.amazon.com/Mens-Fashion-Hoodies-Sw...  \n",
       "4    https://www.thespruce.com/grow-phildendron-eru...  \n",
       "..                                                 ...  \n",
       "995  https://www.thespruce.com/colors-that-go-with-...  \n",
       "996                    https://www.amazon.com/primeday  \n",
       "997        https://www.webmd.com/sex/what-is-fingering  \n",
       "998  https://www.amazon.com/Beds-Frames-Bases-Zinus...  \n",
       "999     https://www.amazon.com/bike-bags/s?k=bike+bags  \n",
       "\n",
       "[1000 rows x 4 columns]"
      ]
     },
     "execution_count": 378,
     "metadata": {},
     "output_type": "execute_result"
    }
   ],
   "source": [
    "# load kw\n",
    "df_in = pd.read_csv('data/kw_1_000.csv')\n",
    "#df_in = df_in.head() # FOR TESTING PRUPOSES ONLY BECAUSE I AM LIMITED BY MY QUERY QUOTA OF 1440\n",
    "df_in"
   ]
  },
  {
   "cell_type": "code",
   "execution_count": 380,
   "id": "59afa4d1-53f9-467c-a0c6-57ce29700ec3",
   "metadata": {},
   "outputs": [],
   "source": [
    "df_400 = df_in.iloc[0:400]"
   ]
  },
  {
   "cell_type": "code",
   "execution_count": 381,
   "id": "c6038a34-f079-4736-8a5f-60686a21f803",
   "metadata": {},
   "outputs": [],
   "source": [
    "df = process_kws(df_400)"
   ]
  },
  {
   "cell_type": "code",
   "execution_count": 382,
   "id": "461e9e16-0853-410f-8663-7071e1f9ce3a",
   "metadata": {},
   "outputs": [],
   "source": [
    "df.to_csv('data/first_400.csv')"
   ]
  },
  {
   "cell_type": "code",
   "execution_count": 383,
   "id": "59754578-12cf-463c-992e-84cf2433491a",
   "metadata": {},
   "outputs": [
    {
     "data": {
      "text/html": [
       "<div>\n",
       "<style scoped>\n",
       "    .dataframe tbody tr th:only-of-type {\n",
       "        vertical-align: middle;\n",
       "    }\n",
       "\n",
       "    .dataframe tbody tr th {\n",
       "        vertical-align: top;\n",
       "    }\n",
       "\n",
       "    .dataframe thead th {\n",
       "        text-align: right;\n",
       "    }\n",
       "</style>\n",
       "<table border=\"1\" class=\"dataframe\">\n",
       "  <thead>\n",
       "    <tr style=\"text-align: right;\">\n",
       "      <th></th>\n",
       "      <th>kw</th>\n",
       "      <th>rank</th>\n",
       "      <th>link</th>\n",
       "    </tr>\n",
       "  </thead>\n",
       "  <tbody>\n",
       "    <tr>\n",
       "      <th>0</th>\n",
       "      <td>side table lamps</td>\n",
       "      <td>1</td>\n",
       "      <td>https://www.target.com/c/table-lamps-lighting-...</td>\n",
       "    </tr>\n",
       "    <tr>\n",
       "      <th>1</th>\n",
       "      <td>side table lamps</td>\n",
       "      <td>2</td>\n",
       "      <td>https://www.amazon.com/Side-Table-Lamps/s?k=Si...</td>\n",
       "    </tr>\n",
       "    <tr>\n",
       "      <th>2</th>\n",
       "      <td>side table lamps</td>\n",
       "      <td>3</td>\n",
       "      <td>https://www.wayfair.com/lighting/sb1/bedside-t...</td>\n",
       "    </tr>\n",
       "    <tr>\n",
       "      <th>3</th>\n",
       "      <td>side table lamps</td>\n",
       "      <td>4</td>\n",
       "      <td>https://www.ikea.com/us/en/cat/table-lamps-10732/</td>\n",
       "    </tr>\n",
       "    <tr>\n",
       "      <th>4</th>\n",
       "      <td>side table lamps</td>\n",
       "      <td>5</td>\n",
       "      <td>https://www.crateandbarrel.com/lighting/table-...</td>\n",
       "    </tr>\n",
       "    <tr>\n",
       "      <th>...</th>\n",
       "      <td>...</td>\n",
       "      <td>...</td>\n",
       "      <td>...</td>\n",
       "    </tr>\n",
       "    <tr>\n",
       "      <th>7985</th>\n",
       "      <td>raisins nutrition</td>\n",
       "      <td>16</td>\n",
       "      <td>https://www.checkyourfood.com/ingredients/ingr...</td>\n",
       "    </tr>\n",
       "    <tr>\n",
       "      <th>7986</th>\n",
       "      <td>raisins nutrition</td>\n",
       "      <td>17</td>\n",
       "      <td>https://healthyeating.sfgate.com/health-benefi...</td>\n",
       "    </tr>\n",
       "    <tr>\n",
       "      <th>7987</th>\n",
       "      <td>raisins nutrition</td>\n",
       "      <td>18</td>\n",
       "      <td>https://www.wellandgood.com/benefits-of-raisins/</td>\n",
       "    </tr>\n",
       "    <tr>\n",
       "      <th>7988</th>\n",
       "      <td>raisins nutrition</td>\n",
       "      <td>19</td>\n",
       "      <td>https://ratinkhosh.com/disadvantages-of-eating...</td>\n",
       "    </tr>\n",
       "    <tr>\n",
       "      <th>7989</th>\n",
       "      <td>raisins nutrition</td>\n",
       "      <td>20</td>\n",
       "      <td>https://tools.myfooddata.com/nutrition-facts/1...</td>\n",
       "    </tr>\n",
       "  </tbody>\n",
       "</table>\n",
       "<p>7990 rows × 3 columns</p>\n",
       "</div>"
      ],
      "text/plain": [
       "                     kw  rank  \\\n",
       "0      side table lamps     1   \n",
       "1      side table lamps     2   \n",
       "2      side table lamps     3   \n",
       "3      side table lamps     4   \n",
       "4      side table lamps     5   \n",
       "...                 ...   ...   \n",
       "7985  raisins nutrition    16   \n",
       "7986  raisins nutrition    17   \n",
       "7987  raisins nutrition    18   \n",
       "7988  raisins nutrition    19   \n",
       "7989  raisins nutrition    20   \n",
       "\n",
       "                                                   link  \n",
       "0     https://www.target.com/c/table-lamps-lighting-...  \n",
       "1     https://www.amazon.com/Side-Table-Lamps/s?k=Si...  \n",
       "2     https://www.wayfair.com/lighting/sb1/bedside-t...  \n",
       "3     https://www.ikea.com/us/en/cat/table-lamps-10732/  \n",
       "4     https://www.crateandbarrel.com/lighting/table-...  \n",
       "...                                                 ...  \n",
       "7985  https://www.checkyourfood.com/ingredients/ingr...  \n",
       "7986  https://healthyeating.sfgate.com/health-benefi...  \n",
       "7987   https://www.wellandgood.com/benefits-of-raisins/  \n",
       "7988  https://ratinkhosh.com/disadvantages-of-eating...  \n",
       "7989  https://tools.myfooddata.com/nutrition-facts/1...  \n",
       "\n",
       "[7990 rows x 3 columns]"
      ]
     },
     "execution_count": 383,
     "metadata": {},
     "output_type": "execute_result"
    }
   ],
   "source": [
    "df"
   ]
  },
  {
   "cell_type": "code",
   "execution_count": 236,
   "id": "471f0ab0-1e86-4dfe-8f42-2d34877fa168",
   "metadata": {},
   "outputs": [],
   "source": [
    "# print response\n",
    "def print_response(response):\n",
    "    print (f\"Results for keyword: \\\"{response.json()['searchParameters']['q']}\\\"\")\n",
    "    for rank, result in enumerate(response.json()[\"organic\"], 1):\n",
    "        print(f\"Rank: {rank}, Title: {result['title']}, Link: {result['link']}\")"
   ]
  },
  {
   "cell_type": "code",
   "execution_count": 208,
   "id": "b3d29cec-ff07-4e85-a77b-de7b9db50f22",
   "metadata": {},
   "outputs": [],
   "source": [
    "# OLD DEPRICATED\n",
    "\n",
    "def search_kw_list(keywords, page=1, url=\"https://google.serper.dev/search\"):\n",
    "    results_list = []\n",
    "    for keyword in keywords:\n",
    "        payload = json.dumps({\n",
    "            \"q\": keyword,\n",
    "            \"gl\": \"us\",\n",
    "            \"hl\": \"en\",\n",
    "            \"autocorrect\": False,\n",
    "            \"page\": page\n",
    "        })\n",
    "        headers = {\n",
    "            'X-API-KEY': api_key,\n",
    "            'Content-Type': 'application/json'\n",
    "        }\n",
    "        response = requests.request(\"POST\", url, headers=headers, data=payload)\n",
    "        if response.status_code == 200:\n",
    "            results_list.append(response.json())\n",
    "        else:\n",
    "            print(f\"Error: Failed to retrieve search results for {keyword}. Status code {response.status_code}\")\n",
    "    return results_list"
   ]
  },
  {
   "cell_type": "code",
   "execution_count": 209,
   "id": "91092f99-f317-4dd0-9893-0ba707ba7186",
   "metadata": {},
   "outputs": [],
   "source": [
    "results_list = search_kw_list(keywords, num_results)"
   ]
  },
  {
   "cell_type": "code",
   "execution_count": 211,
   "id": "0f54cd57-c984-42b1-9d0a-737ef2e3d0e5",
   "metadata": {},
   "outputs": [],
   "source": [
    "# OLD DEPRICTED\n",
    "\n",
    "def print_results(results_list):\n",
    "    for results in results_list:\n",
    "        print(f\"Results for keyword: {results['searchParameters']['q']}\")\n",
    "        for result in results[\"organic\"]:\n",
    "            print(f\"Rank: {result['position']}\\nTitle: {result['title']}\\nLink: {result['link']}\\n\")"
   ]
  },
  {
   "cell_type": "code",
   "execution_count": null,
   "id": "3dcaf7cd-ffed-423d-a2be-724e53142eb9",
   "metadata": {},
   "outputs": [],
   "source": []
  },
  {
   "cell_type": "code",
   "execution_count": null,
   "id": "76563eea-9fdc-4287-a917-ffde59339e9b",
   "metadata": {},
   "outputs": [],
   "source": []
  },
  {
   "cell_type": "code",
   "execution_count": 354,
   "id": "23d62300-2a83-4685-b8d6-4be27e7f73d4",
   "metadata": {},
   "outputs": [],
   "source": [
    "# Print the title and link of each organic search result for each keyword\n",
    "#for results in results_list:\n",
    "#    for result in results[\"organic\"]:\n",
    "#        print(f\"Rank: {result['position']}\\nTitle: {result['title']}\\nLink: {result['link']}\\n\")"
   ]
  },
  {
   "cell_type": "code",
   "execution_count": null,
   "id": "842076f4-3224-403c-aa76-f2879500be59",
   "metadata": {},
   "outputs": [],
   "source": []
  },
  {
   "cell_type": "code",
   "execution_count": null,
   "id": "95e61e21-bf4e-499a-8f30-61d807ac1d6c",
   "metadata": {},
   "outputs": [],
   "source": []
  },
  {
   "cell_type": "code",
   "execution_count": 356,
   "id": "46b91220-0f93-46ce-bba6-f4b2f9435772",
   "metadata": {},
   "outputs": [],
   "source": [
    "# OLD DEPRICATED?????????\n",
    "\n",
    "def search_kw_list():\n",
    "    for keyword in keywords:\n",
    "        url = \"https://google.serper.dev/search\"\n",
    "        payload = json.dumps({\n",
    "            \"q\": keyword,\n",
    "            \"gl\": \"us\",\n",
    "            \"hl\": \"en\",\n",
    "            \"num\": 10,\n",
    "            #\"autocorrect\": True\n",
    "        })\n",
    "        headers = {\n",
    "            'X-API-KEY': api_key,\n",
    "            'Content-Type': 'application/json'\n",
    "        }\n",
    "        response = requests.request(\"POST\", url, headers=headers, data=payload)\n",
    "        print(f\"Keyword: {keyword}\")\n",
    "        if response.status_code == 200:\n",
    "            search_results = response.json()\n",
    "            for result in search_results[\"organic\"]:\n",
    "                print(f\"Rank: {result['position']}\\nTitle: {result['title']}\\nLink: {result['link']}\\n\")\n",
    "        else:\n",
    "            print(f\"Error: Failed to retrieve search results for {keyword}.\")"
   ]
  },
  {
   "cell_type": "code",
   "execution_count": null,
   "id": "87d73cc5-dae4-4b62-8771-e2962e0c7cdc",
   "metadata": {},
   "outputs": [],
   "source": []
  },
  {
   "cell_type": "code",
   "execution_count": null,
   "id": "aeeead44-0867-4bbe-b92f-583103cb3c05",
   "metadata": {},
   "outputs": [],
   "source": []
  },
  {
   "cell_type": "code",
   "execution_count": 27,
   "id": "62f3a01a-aac1-4989-919d-8e8b940cfce8",
   "metadata": {},
   "outputs": [
    {
     "name": "stdout",
     "output_type": "stream",
     "text": [
      "Rank: 6\n",
      "Title: Scalp psoriasis vs. seborrheic dermatitis: What's the difference? - Mayo Clinic\n",
      "Link: https://www.mayoclinic.org/diseases-conditions/psoriasis/expert-answers/scalp-psoriasis/faq-20058544\n",
      "\n"
     ]
    }
   ],
   "source": [
    "print(f\"Rank: {result['position']}\\nTitle: {result['title']}\\nLink: {result['link']}\\n\")"
   ]
  },
  {
   "cell_type": "code",
   "execution_count": null,
   "id": "f3573feb-770d-4973-9af9-9d41b361476a",
   "metadata": {},
   "outputs": [],
   "source": []
  }
 ],
 "metadata": {
  "kernelspec": {
   "display_name": "Python 3 (ipykernel)",
   "language": "python",
   "name": "python3"
  },
  "language_info": {
   "codemirror_mode": {
    "name": "ipython",
    "version": 3
   },
   "file_extension": ".py",
   "mimetype": "text/x-python",
   "name": "python",
   "nbconvert_exporter": "python",
   "pygments_lexer": "ipython3",
   "version": "3.10.9"
  }
 },
 "nbformat": 4,
 "nbformat_minor": 5
}
