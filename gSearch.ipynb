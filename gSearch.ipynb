{
 "cells": [
  {
   "cell_type": "code",
   "execution_count": 22,
   "id": "12be3ef9-095a-4019-941c-84c7150eb170",
   "metadata": {},
   "outputs": [],
   "source": [
    "import requests\n",
    "import json\n",
    "import pandas as pd"
   ]
  },
  {
   "cell_type": "code",
   "execution_count": 23,
   "id": "c6dde2ae-80d9-4381-bd0a-3263fed2c719",
   "metadata": {},
   "outputs": [],
   "source": [
    "pd.set_option('display.max_rows', 100)\n",
    "pd.set_option('display.max_columns', 10)"
   ]
  },
  {
   "cell_type": "code",
   "execution_count": 24,
   "id": "fa7806fb-65e3-4826-bcb7-f67fbc168275",
   "metadata": {},
   "outputs": [],
   "source": [
    "# fetch api key from file\n",
    "\n",
    "with open('secret/key.txt', 'r') as file:\n",
    "    api_key = file.read()\n",
    "#api_key"
   ]
  },
  {
   "cell_type": "code",
   "execution_count": 25,
   "id": "29101e0e-2d19-495a-8b72-0416618b7c38",
   "metadata": {},
   "outputs": [],
   "source": [
    "#keywords = [\"swollen ankles\", \"horny goat weed\", \"scalp psoriasis\"]\n",
    "\n",
    "url = \"https://google.serper.dev/search\"\n",
    "location = \"Calgary,Alberta,Canada\"\n",
    "language = \"en\"\n",
    "device = \"desktop\""
   ]
  },
  {
   "cell_type": "code",
   "execution_count": 26,
   "id": "fbd82a3c-6021-4a9c-9a63-905862d51405",
   "metadata": {
    "tags": []
   },
   "outputs": [],
   "source": [
    "# peforms a serch on one kw and returns the Xth page of relults\n",
    "\n",
    "def search_kw(kw, page=1, url=\"https://google.serper.dev/search\"):\n",
    "    payload = json.dumps({\n",
    "      \"q\": kw, # keyword to search for\n",
    "      \"gl\": \"us\", # location\n",
    "      \"hl\": \"en\", # language\n",
    "      \"autocorrect\": False,\n",
    "      \"page\": page\n",
    "    })\n",
    "\n",
    "    headers = {\n",
    "      \"X-API-KEY\": api_key,\n",
    "      \"Content-Type\": \"application/json\"\n",
    "    }\n",
    "\n",
    "    response = requests.request(\"POST\", url=url, headers=headers, data=payload)\n",
    "    return(response)"
   ]
  },
  {
   "cell_type": "code",
   "execution_count": 27,
   "id": "c7a30714-c211-49d0-97ab-0424d2f6ae7d",
   "metadata": {},
   "outputs": [],
   "source": [
    "# runs search_kw over multiple pages and returns them in a list\n",
    "\n",
    "def get_pages(page_count, kw, url=\"https://google.serper.dev/search\"):\n",
    "    pages = list()\n",
    "    for page in range(1, page_count+1):\n",
    "        pages.append(search_kw(kw, page, url))\n",
    "    return pages"
   ]
  },
  {
   "cell_type": "code",
   "execution_count": 28,
   "id": "d71c291f-d95e-4dc7-a475-254857c6b076",
   "metadata": {},
   "outputs": [],
   "source": [
    "# extract kw, page, rank, and link from 1 page of response info and return df\n",
    "\n",
    "def extract_response(response):\n",
    "    df = pd.DataFrame(columns = ['kw', 'page', 'rank','link'])\n",
    "    q = response.json()['searchParameters']['q']\n",
    "    page = response.json()['searchParameters']['page']\n",
    "    for rank, result in enumerate(response.json()[\"organic\"], 1):\n",
    "        link = result['link']\n",
    "        df.loc[len(df)] = [q, page, rank, link]\n",
    "    return(df)"
   ]
  },
  {
   "cell_type": "code",
   "execution_count": 29,
   "id": "dacc0296-3913-4043-9ca4-54f31ca7f26a",
   "metadata": {},
   "outputs": [],
   "source": [
    "# takes a list of pages of response, iterates extract_response(), extracts and renumbers responses, returns df of ky, rank, link\n",
    "\n",
    "def collate_pages(pages, max_rank=None):\n",
    "    df = pd.DataFrame()\n",
    "    for response in pages:\n",
    "        data = extract_response(response)\n",
    "        df = pd.concat([df, data], ignore_index=True)\n",
    "    df = df.reset_index(drop=True)\n",
    "    df[\"rank\"] = df.index + 1\n",
    "    if max_rank is not None:\n",
    "        df = df[df['rank'] <= max_rank]\n",
    "    df.drop([\"page\"], axis=1, inplace=True)\n",
    "    return df"
   ]
  },
  {
   "cell_type": "code",
   "execution_count": 30,
   "id": "d04526ec-8fe9-406b-8646-19fa32a6b1e6",
   "metadata": {},
   "outputs": [],
   "source": [
    "# takes df containing \"Keywords\" and iterates collate_pages() returns df of kw\n",
    "\n",
    "def get_links_for_kws(df_in):\n",
    "    df_out = pd.DataFrame()\n",
    "    keywords = df_in[\"Keyword\"]\n",
    "    for kw in keywords:\n",
    "        kw_pages = get_pages(3, kw) # get 3 pages (<= 30 records) for each kw\n",
    "        df = collate_pages(kw_pages, 20) # colate pages, limit to top 20 records.\n",
    "        df_out = pd.concat([df_out, df], ignore_index=True)\n",
    "    return(df_out)"
   ]
  },
  {
   "cell_type": "code",
   "execution_count": 31,
   "id": "e3735e2d-40f9-425b-961e-a8a302e98994",
   "metadata": {},
   "outputs": [],
   "source": [
    "# load kw\n",
    "df_in = pd.read_csv('data/kw_1_000.csv')\n",
    "#df_in = df_in.head() # FOR TESTING PURPOSES ONLY BECAUSE I AM LIMITED BY MY QUERY QUOTA OF 1440\n",
    "#df_in.iloc[400:500]"
   ]
  },
  {
   "cell_type": "code",
   "execution_count": 50,
   "id": "59afa4d1-53f9-467c-a0c6-57ce29700ec3",
   "metadata": {},
   "outputs": [],
   "source": [
    "df_400 = df_in.iloc[0:400]\n",
    "df_400_800 = df_in.iloc[400:800]\n",
    "df_800_1000 = df_in.iloc[800:]"
   ]
  },
  {
   "cell_type": "code",
   "execution_count": 51,
   "id": "c6038a34-f079-4736-8a5f-60686a21f803",
   "metadata": {},
   "outputs": [],
   "source": [
    "# ***DANGER*** GETS DATA FROM SERPER.API\n",
    "# REMEMBER YOU ARE LIMITED BY A DAILY QUERY QUOTA OF 1440\n",
    "\n",
    "#df_out_400 = get_links_for_kws(df_400) # DOES 1200 QUERIES\n",
    "#df_out_400_800 = get_links_for_kws(df_400_800) # DOES 1200 QUERIES\n",
    "#df_out_800_1000 = get_links_for_kws(df_800_1000) # DOES 600 QUERIES"
   ]
  },
  {
   "cell_type": "code",
   "execution_count": 46,
   "id": "ec624277",
   "metadata": {},
   "outputs": [],
   "source": [
    "# SAVE kw_first_400.csv\n",
    "\n",
    "df_out_400.to_csv('data/kw_first_400_out.csv', index=False)"
   ]
  },
  {
   "cell_type": "code",
   "execution_count": 47,
   "id": "f9734345",
   "metadata": {},
   "outputs": [],
   "source": [
    "# SAVE kw_400_800.csv\n",
    "\n",
    "df_out_400_800.to_csv('data/kw_400_800_out.csv', index=False)"
   ]
  },
  {
   "cell_type": "code",
   "execution_count": 60,
   "id": "86a5a08e",
   "metadata": {},
   "outputs": [
    {
     "data": {
      "text/html": [
       "<div>\n",
       "<style scoped>\n",
       "    .dataframe tbody tr th:only-of-type {\n",
       "        vertical-align: middle;\n",
       "    }\n",
       "\n",
       "    .dataframe tbody tr th {\n",
       "        vertical-align: top;\n",
       "    }\n",
       "\n",
       "    .dataframe thead th {\n",
       "        text-align: right;\n",
       "    }\n",
       "</style>\n",
       "<table border=\"1\" class=\"dataframe\">\n",
       "  <thead>\n",
       "    <tr style=\"text-align: right;\">\n",
       "      <th></th>\n",
       "      <th>kw</th>\n",
       "      <th>rank</th>\n",
       "      <th>link</th>\n",
       "    </tr>\n",
       "  </thead>\n",
       "  <tbody>\n",
       "    <tr>\n",
       "      <th>0</th>\n",
       "      <td>elderberry bush</td>\n",
       "      <td>1</td>\n",
       "      <td>https://www.fs.usda.gov/wildflowers/plant-of-t...</td>\n",
       "    </tr>\n",
       "    <tr>\n",
       "      <th>1</th>\n",
       "      <td>elderberry bush</td>\n",
       "      <td>2</td>\n",
       "      <td>https://www.thespruce.com/what-is-elderberry-h...</td>\n",
       "    </tr>\n",
       "    <tr>\n",
       "      <th>2</th>\n",
       "      <td>elderberry bush</td>\n",
       "      <td>3</td>\n",
       "      <td>https://www.thespruce.com/american-elderberry-...</td>\n",
       "    </tr>\n",
       "    <tr>\n",
       "      <th>3</th>\n",
       "      <td>elderberry bush</td>\n",
       "      <td>4</td>\n",
       "      <td>https://www.starkbros.com/products/berry-plant...</td>\n",
       "    </tr>\n",
       "    <tr>\n",
       "      <th>4</th>\n",
       "      <td>elderberry bush</td>\n",
       "      <td>5</td>\n",
       "      <td>https://gardenerspath.com/plants/fruit/best-el...</td>\n",
       "    </tr>\n",
       "  </tbody>\n",
       "</table>\n",
       "</div>"
      ],
      "text/plain": [
       "                kw  rank                                               link\n",
       "0  elderberry bush     1  https://www.fs.usda.gov/wildflowers/plant-of-t...\n",
       "1  elderberry bush     2  https://www.thespruce.com/what-is-elderberry-h...\n",
       "2  elderberry bush     3  https://www.thespruce.com/american-elderberry-...\n",
       "3  elderberry bush     4  https://www.starkbros.com/products/berry-plant...\n",
       "4  elderberry bush     5  https://gardenerspath.com/plants/fruit/best-el..."
      ]
     },
     "execution_count": 60,
     "metadata": {},
     "output_type": "execute_result"
    }
   ],
   "source": [
    "\n",
    "df_out_800_1000.head()"
   ]
  },
  {
   "cell_type": "code",
   "execution_count": 53,
   "id": "09c21942",
   "metadata": {},
   "outputs": [],
   "source": [
    "# SAVE kw_800_1000\n",
    "\n",
    "df_out_800_1000.to_csv('data/kw_800_1000_out.csv', index=False)"
   ]
  },
  {
   "cell_type": "code",
   "execution_count": 71,
   "id": "d4c3a04f",
   "metadata": {},
   "outputs": [
    {
     "data": {
      "text/plain": [
       "['data/kw_first_400_out.csv', 'data/kw_800_1000_out.csv']"
      ]
     },
     "execution_count": 71,
     "metadata": {},
     "output_type": "execute_result"
    }
   ],
   "source": [
    "files_to_combine = ['data/kw_first_400_out.csv', 'data/kw_800_1000_out.csv'] # temp version\n",
    "#files_to_combine = ['data/kw_first_400_out.csv', 'data/kw_400_800_out.csv', 'data/kw_800_1000_out.csv'] # final version\n",
    "files_to_combine"
   ]
  },
  {
   "cell_type": "code",
   "execution_count": 81,
   "id": "a7180037",
   "metadata": {},
   "outputs": [],
   "source": [
    "def combine_csv_files(files_to_combine):\n",
    "    column_names = ['kw', 'rank', 'link']\n",
    "    #combined_df = pd.DataFrame(columns=column_names)\n",
    "    combined_df = pd.DataFrame(columns=column_names)\n",
    "    for file in files_to_combine:\n",
    "        df = pd.read_csv(file, header=None)\n",
    "        combined_df = pd.concat([combined_df, df], ignore_index=True)\n",
    "    return combined_df"
   ]
  },
  {
   "cell_type": "code",
   "execution_count": 82,
   "id": "196c6853",
   "metadata": {},
   "outputs": [
    {
     "data": {
      "text/html": [
       "<div>\n",
       "<style scoped>\n",
       "    .dataframe tbody tr th:only-of-type {\n",
       "        vertical-align: middle;\n",
       "    }\n",
       "\n",
       "    .dataframe tbody tr th {\n",
       "        vertical-align: top;\n",
       "    }\n",
       "\n",
       "    .dataframe thead th {\n",
       "        text-align: right;\n",
       "    }\n",
       "</style>\n",
       "<table border=\"1\" class=\"dataframe\">\n",
       "  <thead>\n",
       "    <tr style=\"text-align: right;\">\n",
       "      <th></th>\n",
       "      <th>0</th>\n",
       "      <th>1</th>\n",
       "      <th>2</th>\n",
       "    </tr>\n",
       "  </thead>\n",
       "  <tbody>\n",
       "    <tr>\n",
       "      <th>0</th>\n",
       "      <td>kw</td>\n",
       "      <td>rank</td>\n",
       "      <td>link</td>\n",
       "    </tr>\n",
       "    <tr>\n",
       "      <th>1</th>\n",
       "      <td>side table lamps</td>\n",
       "      <td>1</td>\n",
       "      <td>https://www.target.com/c/table-lamps-lighting-...</td>\n",
       "    </tr>\n",
       "    <tr>\n",
       "      <th>2</th>\n",
       "      <td>side table lamps</td>\n",
       "      <td>2</td>\n",
       "      <td>https://www.amazon.com/Side-Table-Lamps/s?k=Si...</td>\n",
       "    </tr>\n",
       "    <tr>\n",
       "      <th>3</th>\n",
       "      <td>side table lamps</td>\n",
       "      <td>3</td>\n",
       "      <td>https://www.wayfair.com/lighting/sb1/bedside-t...</td>\n",
       "    </tr>\n",
       "    <tr>\n",
       "      <th>4</th>\n",
       "      <td>side table lamps</td>\n",
       "      <td>4</td>\n",
       "      <td>https://www.ikea.com/us/en/cat/table-lamps-10732/</td>\n",
       "    </tr>\n",
       "    <tr>\n",
       "      <th>...</th>\n",
       "      <td>...</td>\n",
       "      <td>...</td>\n",
       "      <td>...</td>\n",
       "    </tr>\n",
       "    <tr>\n",
       "      <th>11987</th>\n",
       "      <td>bike bag</td>\n",
       "      <td>16</td>\n",
       "      <td>https://builtbyswift.com/</td>\n",
       "    </tr>\n",
       "    <tr>\n",
       "      <th>11988</th>\n",
       "      <td>bike bag</td>\n",
       "      <td>17</td>\n",
       "      <td>https://frostriver.com/collections/cycling-bik...</td>\n",
       "    </tr>\n",
       "    <tr>\n",
       "      <th>11989</th>\n",
       "      <td>bike bag</td>\n",
       "      <td>18</td>\n",
       "      <td>https://www.basil.com/en/bicycle-bags/</td>\n",
       "    </tr>\n",
       "    <tr>\n",
       "      <th>11990</th>\n",
       "      <td>bike bag</td>\n",
       "      <td>19</td>\n",
       "      <td>https://topodesigns.com/products/bike-bag</td>\n",
       "    </tr>\n",
       "    <tr>\n",
       "      <th>11991</th>\n",
       "      <td>bike bag</td>\n",
       "      <td>20</td>\n",
       "      <td>https://roadrunnerbags.us/products/burrito-han...</td>\n",
       "    </tr>\n",
       "  </tbody>\n",
       "</table>\n",
       "<p>11992 rows × 3 columns</p>\n",
       "</div>"
      ],
      "text/plain": [
       "                      0     1  \\\n",
       "0                    kw  rank   \n",
       "1      side table lamps     1   \n",
       "2      side table lamps     2   \n",
       "3      side table lamps     3   \n",
       "4      side table lamps     4   \n",
       "...                 ...   ...   \n",
       "11987          bike bag    16   \n",
       "11988          bike bag    17   \n",
       "11989          bike bag    18   \n",
       "11990          bike bag    19   \n",
       "11991          bike bag    20   \n",
       "\n",
       "                                                       2  \n",
       "0                                                   link  \n",
       "1      https://www.target.com/c/table-lamps-lighting-...  \n",
       "2      https://www.amazon.com/Side-Table-Lamps/s?k=Si...  \n",
       "3      https://www.wayfair.com/lighting/sb1/bedside-t...  \n",
       "4      https://www.ikea.com/us/en/cat/table-lamps-10732/  \n",
       "...                                                  ...  \n",
       "11987                          https://builtbyswift.com/  \n",
       "11988  https://frostriver.com/collections/cycling-bik...  \n",
       "11989             https://www.basil.com/en/bicycle-bags/  \n",
       "11990          https://topodesigns.com/products/bike-bag  \n",
       "11991  https://roadrunnerbags.us/products/burrito-han...  \n",
       "\n",
       "[11992 rows x 3 columns]"
      ]
     },
     "execution_count": 82,
     "metadata": {},
     "output_type": "execute_result"
    }
   ],
   "source": [
    "df_final = combine_csv_files(files_to_combine)\n",
    "df_final"
   ]
  },
  {
   "cell_type": "code",
   "execution_count": 83,
   "id": "1f065018",
   "metadata": {},
   "outputs": [],
   "source": [
    "df_final.to_csv('data/kw_final.csv', index=False)"
   ]
  },
  {
   "cell_type": "code",
   "execution_count": 92,
   "id": "3b10c644",
   "metadata": {},
   "outputs": [],
   "source": [
    "df_final = pd.read_csv('data/kw_final.csv', header=None, names=['kw', 'rank', 'link'])"
   ]
  },
  {
   "cell_type": "code",
   "execution_count": 93,
   "id": "77985406",
   "metadata": {},
   "outputs": [
    {
     "data": {
      "text/html": [
       "<div>\n",
       "<style scoped>\n",
       "    .dataframe tbody tr th:only-of-type {\n",
       "        vertical-align: middle;\n",
       "    }\n",
       "\n",
       "    .dataframe tbody tr th {\n",
       "        vertical-align: top;\n",
       "    }\n",
       "\n",
       "    .dataframe thead th {\n",
       "        text-align: right;\n",
       "    }\n",
       "</style>\n",
       "<table border=\"1\" class=\"dataframe\">\n",
       "  <thead>\n",
       "    <tr style=\"text-align: right;\">\n",
       "      <th></th>\n",
       "      <th>kw</th>\n",
       "      <th>rank</th>\n",
       "      <th>link</th>\n",
       "    </tr>\n",
       "  </thead>\n",
       "  <tbody>\n",
       "    <tr>\n",
       "      <th>0</th>\n",
       "      <td>side table lamps</td>\n",
       "      <td>1</td>\n",
       "      <td>https://www.target.com/c/table-lamps-lighting-...</td>\n",
       "    </tr>\n",
       "    <tr>\n",
       "      <th>1</th>\n",
       "      <td>side table lamps</td>\n",
       "      <td>2</td>\n",
       "      <td>https://www.amazon.com/Side-Table-Lamps/s?k=Si...</td>\n",
       "    </tr>\n",
       "    <tr>\n",
       "      <th>2</th>\n",
       "      <td>side table lamps</td>\n",
       "      <td>3</td>\n",
       "      <td>https://www.wayfair.com/lighting/sb1/bedside-t...</td>\n",
       "    </tr>\n",
       "    <tr>\n",
       "      <th>3</th>\n",
       "      <td>side table lamps</td>\n",
       "      <td>4</td>\n",
       "      <td>https://www.ikea.com/us/en/cat/table-lamps-10732/</td>\n",
       "    </tr>\n",
       "    <tr>\n",
       "      <th>4</th>\n",
       "      <td>side table lamps</td>\n",
       "      <td>5</td>\n",
       "      <td>https://www.crateandbarrel.com/lighting/table-...</td>\n",
       "    </tr>\n",
       "    <tr>\n",
       "      <th>...</th>\n",
       "      <td>...</td>\n",
       "      <td>...</td>\n",
       "      <td>...</td>\n",
       "    </tr>\n",
       "    <tr>\n",
       "      <th>11985</th>\n",
       "      <td>bike bag</td>\n",
       "      <td>16</td>\n",
       "      <td>https://builtbyswift.com/</td>\n",
       "    </tr>\n",
       "    <tr>\n",
       "      <th>11986</th>\n",
       "      <td>bike bag</td>\n",
       "      <td>17</td>\n",
       "      <td>https://frostriver.com/collections/cycling-bik...</td>\n",
       "    </tr>\n",
       "    <tr>\n",
       "      <th>11987</th>\n",
       "      <td>bike bag</td>\n",
       "      <td>18</td>\n",
       "      <td>https://www.basil.com/en/bicycle-bags/</td>\n",
       "    </tr>\n",
       "    <tr>\n",
       "      <th>11988</th>\n",
       "      <td>bike bag</td>\n",
       "      <td>19</td>\n",
       "      <td>https://topodesigns.com/products/bike-bag</td>\n",
       "    </tr>\n",
       "    <tr>\n",
       "      <th>11989</th>\n",
       "      <td>bike bag</td>\n",
       "      <td>20</td>\n",
       "      <td>https://roadrunnerbags.us/products/burrito-han...</td>\n",
       "    </tr>\n",
       "  </tbody>\n",
       "</table>\n",
       "<p>11990 rows × 3 columns</p>\n",
       "</div>"
      ],
      "text/plain": [
       "                     kw  rank  \\\n",
       "0      side table lamps     1   \n",
       "1      side table lamps     2   \n",
       "2      side table lamps     3   \n",
       "3      side table lamps     4   \n",
       "4      side table lamps     5   \n",
       "...                 ...   ...   \n",
       "11985          bike bag    16   \n",
       "11986          bike bag    17   \n",
       "11987          bike bag    18   \n",
       "11988          bike bag    19   \n",
       "11989          bike bag    20   \n",
       "\n",
       "                                                    link  \n",
       "0      https://www.target.com/c/table-lamps-lighting-...  \n",
       "1      https://www.amazon.com/Side-Table-Lamps/s?k=Si...  \n",
       "2      https://www.wayfair.com/lighting/sb1/bedside-t...  \n",
       "3      https://www.ikea.com/us/en/cat/table-lamps-10732/  \n",
       "4      https://www.crateandbarrel.com/lighting/table-...  \n",
       "...                                                  ...  \n",
       "11985                          https://builtbyswift.com/  \n",
       "11986  https://frostriver.com/collections/cycling-bik...  \n",
       "11987             https://www.basil.com/en/bicycle-bags/  \n",
       "11988          https://topodesigns.com/products/bike-bag  \n",
       "11989  https://roadrunnerbags.us/products/burrito-han...  \n",
       "\n",
       "[11990 rows x 3 columns]"
      ]
     },
     "execution_count": 93,
     "metadata": {},
     "output_type": "execute_result"
    }
   ],
   "source": [
    "df_final"
   ]
  },
  {
   "cell_type": "code",
   "execution_count": 94,
   "id": "bf0d70af",
   "metadata": {},
   "outputs": [],
   "source": [
    "kw_counts = df_final['kw'].value_counts()\n",
    "kw_less_than_20 = kw_counts[kw_counts < 20].index.tolist()"
   ]
  },
  {
   "cell_type": "code",
   "execution_count": 97,
   "id": "df5f6b0b",
   "metadata": {},
   "outputs": [
    {
     "name": "stdout",
     "output_type": "stream",
     "text": [
      "['xel 3a cardholder cases']\n"
     ]
    }
   ],
   "source": [
    "print(kw_less_than_20)"
   ]
  },
  {
   "cell_type": "code",
   "execution_count": 100,
   "id": "59754578-12cf-463c-992e-84cf2433491a",
   "metadata": {},
   "outputs": [
    {
     "data": {
      "text/html": [
       "<div>\n",
       "<style scoped>\n",
       "    .dataframe tbody tr th:only-of-type {\n",
       "        vertical-align: middle;\n",
       "    }\n",
       "\n",
       "    .dataframe tbody tr th {\n",
       "        vertical-align: top;\n",
       "    }\n",
       "\n",
       "    .dataframe thead th {\n",
       "        text-align: right;\n",
       "    }\n",
       "</style>\n",
       "<table border=\"1\" class=\"dataframe\">\n",
       "  <thead>\n",
       "    <tr style=\"text-align: right;\">\n",
       "      <th></th>\n",
       "      <th>Keyword</th>\n",
       "    </tr>\n",
       "  </thead>\n",
       "  <tbody>\n",
       "    <tr>\n",
       "      <th>0</th>\n",
       "      <td>xel 3a cardholder cases</td>\n",
       "    </tr>\n",
       "  </tbody>\n",
       "</table>\n",
       "</div>"
      ],
      "text/plain": [
       "                   Keyword\n",
       "0  xel 3a cardholder cases"
      ]
     },
     "execution_count": 100,
     "metadata": {},
     "output_type": "execute_result"
    }
   ],
   "source": [
    "df_x = pd.DataFrame({'Keyword': ['xel 3a cardholder cases']})\n",
    "df_x"
   ]
  },
  {
   "cell_type": "code",
   "execution_count": 101,
   "id": "0cb3ea13",
   "metadata": {},
   "outputs": [],
   "source": [
    "def get_links_for_kws2(df_in):\n",
    "    df_out = pd.DataFrame()\n",
    "    keywords = df_in[\"Keyword\"]\n",
    "    for kw in keywords:\n",
    "        kw_pages = get_pages(4, kw) # get 3 pages (<= 30 records) for each kw\n",
    "        df = collate_pages(kw_pages, 20) # colate pages, limit to top 20 records.\n",
    "        df_out = pd.concat([df_out, df], ignore_index=True)\n",
    "    return(df_out)"
   ]
  },
  {
   "cell_type": "code",
   "execution_count": 102,
   "id": "6bf64615",
   "metadata": {},
   "outputs": [
    {
     "data": {
      "text/html": [
       "<div>\n",
       "<style scoped>\n",
       "    .dataframe tbody tr th:only-of-type {\n",
       "        vertical-align: middle;\n",
       "    }\n",
       "\n",
       "    .dataframe tbody tr th {\n",
       "        vertical-align: top;\n",
       "    }\n",
       "\n",
       "    .dataframe thead th {\n",
       "        text-align: right;\n",
       "    }\n",
       "</style>\n",
       "<table border=\"1\" class=\"dataframe\">\n",
       "  <thead>\n",
       "    <tr style=\"text-align: right;\">\n",
       "      <th></th>\n",
       "      <th>kw</th>\n",
       "      <th>rank</th>\n",
       "      <th>link</th>\n",
       "    </tr>\n",
       "  </thead>\n",
       "  <tbody>\n",
       "    <tr>\n",
       "      <th>0</th>\n",
       "      <td>xel 3a cardholder cases</td>\n",
       "      <td>1</td>\n",
       "      <td>https://www.amazon.co.jp/-/en/Notebook-Smartph...</td>\n",
       "    </tr>\n",
       "    <tr>\n",
       "      <th>1</th>\n",
       "      <td>xel 3a cardholder cases</td>\n",
       "      <td>2</td>\n",
       "      <td>https://www.uspto.gov/sites/default/files/trad...</td>\n",
       "    </tr>\n",
       "    <tr>\n",
       "      <th>2</th>\n",
       "      <td>xel 3a cardholder cases</td>\n",
       "      <td>3</td>\n",
       "      <td>https://www.infrastructurereportcard.org/wp-co...</td>\n",
       "    </tr>\n",
       "    <tr>\n",
       "      <th>3</th>\n",
       "      <td>xel 3a cardholder cases</td>\n",
       "      <td>4</td>\n",
       "      <td>https://www.ojp.gov/pdffiles1/Digitization/472...</td>\n",
       "    </tr>\n",
       "    <tr>\n",
       "      <th>4</th>\n",
       "      <td>xel 3a cardholder cases</td>\n",
       "      <td>5</td>\n",
       "      <td>http://www.stern.nyu.edu/~adamodar/pc/datasets...</td>\n",
       "    </tr>\n",
       "    <tr>\n",
       "      <th>5</th>\n",
       "      <td>xel 3a cardholder cases</td>\n",
       "      <td>6</td>\n",
       "      <td>https://www.walmart.com/sitemap_itp_03_3426.xm...</td>\n",
       "    </tr>\n",
       "    <tr>\n",
       "      <th>6</th>\n",
       "      <td>xel 3a cardholder cases</td>\n",
       "      <td>7</td>\n",
       "      <td>https://www.knightcraft.com/wp-content/uploads...</td>\n",
       "    </tr>\n",
       "    <tr>\n",
       "      <th>7</th>\n",
       "      <td>xel 3a cardholder cases</td>\n",
       "      <td>8</td>\n",
       "      <td>https://www.sec.gov/Archives/edgar/data/147126...</td>\n",
       "    </tr>\n",
       "    <tr>\n",
       "      <th>8</th>\n",
       "      <td>xel 3a cardholder cases</td>\n",
       "      <td>9</td>\n",
       "      <td>https://web.mit.edu/adamrose/Public/googlelist</td>\n",
       "    </tr>\n",
       "    <tr>\n",
       "      <th>9</th>\n",
       "      <td>xel 3a cardholder cases</td>\n",
       "      <td>10</td>\n",
       "      <td>https://coronatestzentrum-celle.de/army-gtrac....</td>\n",
       "    </tr>\n",
       "  </tbody>\n",
       "</table>\n",
       "</div>"
      ],
      "text/plain": [
       "                        kw  rank  \\\n",
       "0  xel 3a cardholder cases     1   \n",
       "1  xel 3a cardholder cases     2   \n",
       "2  xel 3a cardholder cases     3   \n",
       "3  xel 3a cardholder cases     4   \n",
       "4  xel 3a cardholder cases     5   \n",
       "5  xel 3a cardholder cases     6   \n",
       "6  xel 3a cardholder cases     7   \n",
       "7  xel 3a cardholder cases     8   \n",
       "8  xel 3a cardholder cases     9   \n",
       "9  xel 3a cardholder cases    10   \n",
       "\n",
       "                                                link  \n",
       "0  https://www.amazon.co.jp/-/en/Notebook-Smartph...  \n",
       "1  https://www.uspto.gov/sites/default/files/trad...  \n",
       "2  https://www.infrastructurereportcard.org/wp-co...  \n",
       "3  https://www.ojp.gov/pdffiles1/Digitization/472...  \n",
       "4  http://www.stern.nyu.edu/~adamodar/pc/datasets...  \n",
       "5  https://www.walmart.com/sitemap_itp_03_3426.xm...  \n",
       "6  https://www.knightcraft.com/wp-content/uploads...  \n",
       "7  https://www.sec.gov/Archives/edgar/data/147126...  \n",
       "8     https://web.mit.edu/adamrose/Public/googlelist  \n",
       "9  https://coronatestzentrum-celle.de/army-gtrac....  "
      ]
     },
     "execution_count": 102,
     "metadata": {},
     "output_type": "execute_result"
    }
   ],
   "source": [
    "get_links_for_kws2(df_x)"
   ]
  },
  {
   "cell_type": "code",
   "execution_count": 105,
   "id": "c2eb62ba",
   "metadata": {},
   "outputs": [],
   "source": [
    "p1 = search_kw('xel 3a cardholder cases', page=1, url=\"https://google.serper.dev/search\")"
   ]
  },
  {
   "cell_type": "code",
   "execution_count": 107,
   "id": "36a2e81f",
   "metadata": {},
   "outputs": [],
   "source": [
    "p2 = search_kw('xel 3a cardholder cases', page=2, url=\"https://google.serper.dev/search\")"
   ]
  },
  {
   "cell_type": "code",
   "execution_count": 35,
   "id": "471f0ab0-1e86-4dfe-8f42-2d34877fa168",
   "metadata": {},
   "outputs": [],
   "source": [
    "# prints the response for 1 keyword\n",
    "\n",
    "def print_response(response):\n",
    "    print (f\"Results for keyword: \\\"{response.json()['searchParameters']['q']}\\\"\")\n",
    "    for rank, result in enumerate(response.json()[\"organic\"], 1):\n",
    "        print(f\"Rank: {rank}, Title: {result['title']}, Link: {result['link']}\")"
   ]
  },
  {
   "cell_type": "code",
   "execution_count": 106,
   "id": "5dda8483",
   "metadata": {},
   "outputs": [
    {
     "name": "stdout",
     "output_type": "stream",
     "text": [
      "Results for keyword: \"xel 3a cardholder cases\"\n",
      "Rank: 1, Title: Pixel 3a XL Sumato Case, 3aXL, Card Holder, Gift ... - Amazon.co.jp, Link: https://www.amazon.co.jp/-/en/Notebook-Smartphone-Horizontal-Function-Magnetic/dp/B081Q1HZFW\n",
      "Rank: 2, Title: [DOC] Case - USPTO, Link: https://www.uspto.gov/sites/default/files/trademarks/Table_of_Fraud_Cases.doc\n",
      "Rank: 3, Title: [PDF] UTAH's INFRASTRUCTURE REPORT CARD G.P.A. C+, Link: https://www.infrastructurereportcard.org/wp-content/uploads/2015/02/UTAH-REPORT-CARD-BROCHURE-2.18.15-FINAL.pdf\n",
      "Rank: 4, Title: [PDF] consumer credit protection act! - Office of Justice Programs, Link: https://www.ojp.gov/pdffiles1/Digitization/47227NCJRS.pdf\n",
      "Rank: 5, Title: [XLS] highpastepsgrowth.xls - NYU Stern, Link: http://www.stern.nyu.edu/~adamodar/pc/datasets/invphil/highpastepsgrowth.xls\n",
      "Rank: 6, Title: Untitled, Link: https://www.walmart.com/sitemap_itp_03_3426.xml.gz\n",
      "Rank: 7, Title: [PDF] PCI DSS Compliance for HP NonStop Servers - Knightcraft Technology, Link: https://www.knightcraft.com/wp-content/uploads/downloads/2014/10/PCI-DSS-Compliance-for-the-HP-NonStop-Server-v3.0.03-A4-Format.pdf\n",
      "Rank: 8, Title: 0001193125-16-563845.txt - SEC.gov, Link: https://www.sec.gov/Archives/edgar/data/1471265/000119312516563845/0001193125-16-563845.txt\n",
      "Rank: 9, Title: the of and to a in for is on s that by this with i you it not - Massachusetts Institute of Technology, Link: https://web.mit.edu/adamrose/Public/googlelist\n"
     ]
    }
   ],
   "source": [
    "print_response(p1)"
   ]
  },
  {
   "cell_type": "code",
   "execution_count": 108,
   "id": "6e8f40fb",
   "metadata": {},
   "outputs": [
    {
     "name": "stdout",
     "output_type": "stream",
     "text": [
      "Results for keyword: \"xel 3a cardholder cases\"\n",
      "Rank: 1, Title: Army Gtrac - Coronatestzentrum Celle, Link: https://coronatestzentrum-celle.de/army-gtrac.html\n",
      "Rank: 2, Title: Untitled, Link: http://www.all-inkl.com/?sek=link&open=out&u=neyspedevamglosat.gq/143wwwall-inklcomalbm651\n"
     ]
    }
   ],
   "source": [
    "print_response(p2)"
   ]
  },
  {
   "cell_type": "code",
   "execution_count": 109,
   "id": "a11e8bb1",
   "metadata": {},
   "outputs": [
    {
     "ename": "AttributeError",
     "evalue": "'list' object has no attribute 'json'",
     "output_type": "error",
     "traceback": [
      "\u001b[0;31m---------------------------------------------------------------------------\u001b[0m",
      "\u001b[0;31mAttributeError\u001b[0m                            Traceback (most recent call last)",
      "Cell \u001b[0;32mIn[109], line 1\u001b[0m\n\u001b[0;32m----> 1\u001b[0m df_x2 \u001b[39m=\u001b[39m extract_response([p1, p2])\n",
      "Cell \u001b[0;32mIn[28], line 5\u001b[0m, in \u001b[0;36mextract_response\u001b[0;34m(response)\u001b[0m\n\u001b[1;32m      3\u001b[0m \u001b[39mdef\u001b[39;00m \u001b[39mextract_response\u001b[39m(response):\n\u001b[1;32m      4\u001b[0m     df \u001b[39m=\u001b[39m pd\u001b[39m.\u001b[39mDataFrame(columns \u001b[39m=\u001b[39m [\u001b[39m'\u001b[39m\u001b[39mkw\u001b[39m\u001b[39m'\u001b[39m, \u001b[39m'\u001b[39m\u001b[39mpage\u001b[39m\u001b[39m'\u001b[39m, \u001b[39m'\u001b[39m\u001b[39mrank\u001b[39m\u001b[39m'\u001b[39m,\u001b[39m'\u001b[39m\u001b[39mlink\u001b[39m\u001b[39m'\u001b[39m])\n\u001b[0;32m----> 5\u001b[0m     q \u001b[39m=\u001b[39m response\u001b[39m.\u001b[39;49mjson()[\u001b[39m'\u001b[39m\u001b[39msearchParameters\u001b[39m\u001b[39m'\u001b[39m][\u001b[39m'\u001b[39m\u001b[39mq\u001b[39m\u001b[39m'\u001b[39m]\n\u001b[1;32m      6\u001b[0m     page \u001b[39m=\u001b[39m response\u001b[39m.\u001b[39mjson()[\u001b[39m'\u001b[39m\u001b[39msearchParameters\u001b[39m\u001b[39m'\u001b[39m][\u001b[39m'\u001b[39m\u001b[39mpage\u001b[39m\u001b[39m'\u001b[39m]\n\u001b[1;32m      7\u001b[0m     \u001b[39mfor\u001b[39;00m rank, result \u001b[39min\u001b[39;00m \u001b[39menumerate\u001b[39m(response\u001b[39m.\u001b[39mjson()[\u001b[39m\"\u001b[39m\u001b[39morganic\u001b[39m\u001b[39m\"\u001b[39m], \u001b[39m1\u001b[39m):\n",
      "\u001b[0;31mAttributeError\u001b[0m: 'list' object has no attribute 'json'"
     ]
    }
   ],
   "source": [
    "df_x2 = extract_response([p1, p2])"
   ]
  },
  {
   "cell_type": "code",
   "execution_count": null,
   "id": "bdff9e9c",
   "metadata": {},
   "outputs": [],
   "source": []
  }
 ],
 "metadata": {
  "kernelspec": {
   "display_name": "base",
   "language": "python",
   "name": "python3"
  },
  "language_info": {
   "codemirror_mode": {
    "name": "ipython",
    "version": 3
   },
   "file_extension": ".py",
   "mimetype": "text/x-python",
   "name": "python",
   "nbconvert_exporter": "python",
   "pygments_lexer": "ipython3",
   "version": "3.10.9"
  },
  "vscode": {
   "interpreter": {
    "hash": "b9d0320435b592720051846a30c3c35a68bf649ab9728fd60bade915b8884093"
   }
  }
 },
 "nbformat": 4,
 "nbformat_minor": 5
}
