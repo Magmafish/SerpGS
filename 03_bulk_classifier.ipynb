{
 "cells": [
  {
   "attachments": {},
   "cell_type": "markdown",
   "metadata": {},
   "source": [
    "### This notebook used to scan each of the records in the dataset"
   ]
  },
  {
   "cell_type": "code",
   "execution_count": 24,
   "metadata": {},
   "outputs": [],
   "source": [
    "import requests\n",
    "import pandas as pd\n",
    "import time\n",
    "import os"
   ]
  },
  {
   "attachments": {},
   "cell_type": "markdown",
   "metadata": {},
   "source": [
    "### Functions"
   ]
  },
  {
   "cell_type": "code",
   "execution_count": 25,
   "metadata": {},
   "outputs": [],
   "source": [
    "def load_api_key(key_name: str = \"oai_key.txt\", path: str = \"secret/\") -> None:\n",
    "    \"\"\"\n",
    "    Load the OpenAI API key from a text file.\n",
    "\n",
    "    Args:\n",
    "        key_name (str): The name of the file containing the API key. Default is \"oai_key.txt\".\n",
    "        path (str): The path to the directory containing the API key file. Default is \"secret/\".\n",
    "\n",
    "    Returns:\n",
    "        None.\n",
    "\n",
    "    \"\"\"\n",
    "    global api_key\n",
    "    api_key_path = path + key_name\n",
    "    with open(api_key_path, \"r\") as file:\n",
    "        api_key = file.read()\n",
    "    print(f'api_key loaded as global variable (is type {type(api_key).__name__} and {len(api_key)} characters long)')"
   ]
  },
  {
   "cell_type": "code",
   "execution_count": 26,
   "metadata": {},
   "outputs": [],
   "source": [
    "# THIS NEED TO BE HERE OR FUNCTIONS WILL ERROR EVEN BEFORE CALLED\n",
    "\n",
    "#load_api_key()"
   ]
  },
  {
   "cell_type": "code",
   "execution_count": 27,
   "metadata": {},
   "outputs": [],
   "source": [
    "def get_balance(api_key: str = api_key) -> requests.Response:\n",
    "    \"\"\"\n",
    "    Get the account balance (in credits) for the OpenAI API.\n",
    "\n",
    "    Args:\n",
    "        api_key (str): The API key to use for the request. Default is the global variable `api_key`.\n",
    "\n",
    "    Returns:\n",
    "        A `requests.Response` object representing the HTTP response from the API.\n",
    "\n",
    "    Raises:\n",
    "        requests.exceptions.RequestException: If there was an error making the HTTP request.\n",
    "\n",
    "    \"\"\"\n",
    "    headers = {'X-OAI-API-KEY': api_key}\n",
    "    response = requests.get('https://api.originality.ai/api/v1/account/credits/balance', headers=headers)\n",
    "    response.raise_for_status()\n",
    "    return response"
   ]
  },
  {
   "cell_type": "code",
   "execution_count": 28,
   "metadata": {},
   "outputs": [],
   "source": [
    "# CLASSIFY 1 WEB PAGE AND RETURN RESPONSE\n",
    "\n",
    "def scan_webpage(url_in, api_key=api_key): \n",
    "    scan_url='https://api.originality.ai/api/v1/scan/url'\n",
    "    headers={'X-OAI-API-KEY': api_key}\n",
    "    params={\"url\": url_in}\n",
    "    response = requests.post(url=scan_url, headers=headers, params=params)\n",
    "    return(response)"
   ]
  },
  {
   "cell_type": "code",
   "execution_count": 20,
   "metadata": {},
   "outputs": [],
   "source": [
    "# def scan_webpage(url_in: str, api_key: str = api_key) -> requests.Response:\n",
    "#     \"\"\"\n",
    "#     Submit a URL to the OpenAI API for webpage scanning.\n",
    "\n",
    "#     Args:\n",
    "#         url_in (str): The URL of the webpage to scan.\n",
    "#         api_key (str): The API key to use for the request. Default is the global variable `api_key`.\n",
    "\n",
    "#     Returns:\n",
    "#         A `requests.Response` object representing the HTTP response from the API.\n",
    "\n",
    "#     Raises:\n",
    "#         requests.exceptions.RequestException: If there was an error making the HTTP request.\n",
    "\n",
    "#     \"\"\"\n",
    "#     scan_url = 'https://api.originality.ai/api/v1/scan/url'\n",
    "#     headers = {'X-OAI-API-KEY': api_key}\n",
    "#     params = {'url': url_in}\n",
    "#     response = requests.post(url=scan_url, headers=headers, params=params)\n",
    "#     response.raise_for_status()\n",
    "#     return response"
   ]
  },
  {
   "cell_type": "code",
   "execution_count": 29,
   "metadata": {},
   "outputs": [],
   "source": [
    "# EXTRACT AI/HUMAN SCORE FROM 1 RESPONSE AND RETURN DF\n",
    "\n",
    "def extract_score(response):\n",
    "    r_json = response.json()\n",
    "    if r_json['success']:\n",
    "        data = {\n",
    "                'Success': [r_json['success']],\n",
    "                'word_count': [r_json['word_count']],\n",
    "                'Percent_Human': [r_json['score']['original'] * 100],\n",
    "                'Percent_AI': [r_json['score']['ai'] * 100]\n",
    "                # probably shoudn't round yet\n",
    "                #'Percent_Human': [round(r_json['score']['original'] * 100, 1)],\n",
    "                #'Percent_AI': [round(r_json['score']['ai'] * 100, 1)]\n",
    "        }\n",
    "        if len(r_json['score_breakdown']) > 0:\n",
    "            data['text'] = [r_json['score_breakdown'][0]['text']]\n",
    "            \n",
    "        else:\n",
    "            data['text'] = ['']\n",
    "\n",
    "    else:\n",
    "        data = {\n",
    "            'Success': False,\n",
    "            'word_count': None,\n",
    "            'Percent_Human': None,\n",
    "            'Percent_AI': None,\n",
    "            'text': ['']\n",
    "        }\n",
    "    df = pd.DataFrame(data)\n",
    "    return df"
   ]
  },
  {
   "cell_type": "code",
   "execution_count": 30,
   "metadata": {},
   "outputs": [],
   "source": [
    "# DEPRICATED\n",
    "\n",
    "# FAILS IF score_breakdown list is empty\n",
    "\n",
    "# def extract_score(response):\n",
    "#     r_json = response.json()\n",
    "#     if r_json['success']:\n",
    "#         data = {\n",
    "#         'Success': [r_json['success']],\n",
    "#         'word_count': [r_json['word_count']],\n",
    "#         'Percent_Human': [round(r_json['score']['original'] * 100, 1)],\n",
    "#         'Percent_AI': [round(r_json['score']['ai'] * 100, 1)],\n",
    "#         'text': [r_json['score_breakdown'][0]['text']]\n",
    "#         }\n",
    "#     else:\n",
    "#         data = {\n",
    "#             'Success': [False],\n",
    "#             'word_count': [None],\n",
    "#             'Percent_Human': [None],\n",
    "#             'Percent_AI': [None],\n",
    "#             'text': ['']\n",
    "#         }\n",
    "#     df = pd.DataFrame(data)\n",
    "#     return df"
   ]
  },
  {
   "cell_type": "code",
   "execution_count": 31,
   "metadata": {},
   "outputs": [],
   "source": [
    "# DEPRICATED\n",
    "\n",
    "# def extract_score(response):\n",
    "#     r_json = response.json()\n",
    "#     data = {\n",
    "#         'Success': [r_json['success']],\n",
    "#         'Percent_Human': [round(r_json['score']['original'] * 100, 1)],\n",
    "#         'Percent_AI': [round(r_json['score']['ai'] * 100, 1)]\n",
    "#     }\n",
    "#     df = pd.DataFrame(data)\n",
    "#     return df"
   ]
  },
  {
   "cell_type": "code",
   "execution_count": 32,
   "metadata": {},
   "outputs": [],
   "source": [
    "# TAKES A DF OF KW AND BREAKS IT UP INTO BATCHES OF 100 CSV FILES\n",
    "# ASSUMES THERE ARE NO MORE THAN 20 OF EACH KW\n",
    "\n",
    "def make_csv_batches(df, batch_size=5, output_dir='data/batches'):\n",
    "    # Create output directory if it doesn't exist\n",
    "    os.makedirs(output_dir, exist_ok=True)\n",
    "\n",
    "    # Get unique values in the 'kw' column\n",
    "    unique_kw = df['kw'].unique()\n",
    "\n",
    "    # Break up unique values into batches of batch_size\n",
    "    kw_batches = [unique_kw[i:i+batch_size] for i in range(0, len(unique_kw), batch_size)]\n",
    "\n",
    "    # Iterate through kw_batches and create csv files for each batch\n",
    "    filenames = []\n",
    "    for i, batch in enumerate(kw_batches):\n",
    "        # Select rows from df where 'kw' is in the current batch\n",
    "        batch_df = df[df['kw'].isin(batch)]\n",
    "\n",
    "        # Write subset_df to csv\n",
    "        filename = f'kw_batch_{i:03d}.csv'\n",
    "        filepath = os.path.join(output_dir, filename)\n",
    "        batch_df.to_csv(filepath, index=False)\n",
    "        filenames.append(filename)\n",
    "\n",
    "    #Write list of filenames to batch_list.csv\n",
    "    with open(os.path.join(output_dir, 'batch_list.csv'), 'w') as f:\n",
    "        f.write('\\n'.join(filenames))\n",
    "\n",
    "    print(f'{len(kw_batches)} csv files created in {output_dir}')"
   ]
  },
  {
   "cell_type": "code",
   "execution_count": 33,
   "metadata": {},
   "outputs": [],
   "source": [
    "# READS THE FILE CONTAINING BATCH FILENAMES AND RETURNS LIST\n",
    "\n",
    "def read_batch_list(read_path='data/batches'):\n",
    "    batch_list_path = os.path.join(read_path, 'batch_list.csv')\n",
    "    with open(batch_list_path, 'r') as file:\n",
    "        batch_filenames = [line.strip() for line in file]\n",
    "    return batch_filenames"
   ]
  },
  {
   "cell_type": "code",
   "execution_count": 34,
   "metadata": {},
   "outputs": [],
   "source": [
    "# TAKES DF AND APPENDS EACH ROW WITH CLASSIFCATION INFO EXTRACTED FROM RESPONSE\n",
    "\n",
    "def classify_batch(df):\n",
    "    results = []\n",
    "    for url in df['link']:\n",
    "        response = scan_webpage(url)\n",
    "        if response.status_code == 200:\n",
    "            score_df = extract_score(response)\n",
    "            success = score_df['Success'][0]\n",
    "            word_count = score_df['word_count'][0]\n",
    "            human = score_df['Percent_Human'][0]\n",
    "            ai = score_df['Percent_AI'][0]\n",
    "            # text = score_df['text'][0]\n",
    "            #results.append({'link': url, 'success': success, 'word_count': word_count, 'percent_human': human, 'percent_ai': ai, 'text': text})\n",
    "            results.append({'link': url, 'success': success, 'word_count': word_count, 'percent_human': human, 'percent_ai': ai})\n",
    "            delay = 10 # WHEN PROCESSING ACTUALLY NEEDS TO BE DONE DELAY IS HIGHER\n",
    "        else:\n",
    "            print(f'RC error code: {response.status_code}, URL: {url}')\n",
    "            #results.append({'link': url, 'success': False, 'percent_human': None, 'percent_ai': None, 'text': 'none'})\n",
    "            results.append({'link': url, 'success': False, 'percent_human': None, 'percent_ai': None})\n",
    "            delay = 2 # WHEN NO PROCESSING IS REQUIRED DELAY IS 2\n",
    "        time.sleep(delay)  # wait for 1 second between requests\n",
    "    return pd.DataFrame(results)"
   ]
  },
  {
   "cell_type": "code",
   "execution_count": 35,
   "metadata": {},
   "outputs": [],
   "source": [
    "# NOT DOING THIS FOR NOW - TOO MANY FILES TO HANDLE\n",
    "\n",
    "# SAVE RESPONSE FILES\n",
    "\n",
    "#def save_response(response):\n",
    "    \n",
    "#    print('response saved')"
   ]
  },
  {
   "cell_type": "code",
   "execution_count": 36,
   "metadata": {},
   "outputs": [],
   "source": [
    "# CLASSIFIES ALL BATCHES\n",
    "\n",
    "def classify_all_batches():\n",
    "    # LOAD CSV PATHS INTO LIST\n",
    "    read_dir = 'data/batches/'\n",
    "    save_dir = 'data/batches_classified'\n",
    "    batches = read_batch_list()\n",
    "    \n",
    "    for batch_name in batches:\n",
    "\n",
    "        # check for sufficent credits\n",
    "        credits = get_balance().json()['balance']\n",
    "        #if balance is not None and json.loads(balance) > 1600:\n",
    "        if credits > 1600:\n",
    "\n",
    "            # START TIMER \n",
    "            # start_time = time.time() # NOT CURRENTLY NEEDED BECAUSE EACH RECORD TAKES MORE THAT A MINUTE TO PROCESS\n",
    "            print(f'Credits = {credits}, Classifying: {batch_name}')\n",
    "\n",
    "            # LOAD CSV BATCH INTO DF\n",
    "            df_in = pd.read_csv(f'{read_dir}{batch_name}', header=0)\n",
    "            \n",
    "            # CLASSIFY BATCH\n",
    "            df_out = classify_batch(df_in)\n",
    "\n",
    "            # CONCAT DFS\n",
    "            df = pd.concat([df_in, df_out], axis=1, join='outer')\n",
    "\n",
    "            # SAVE DF OF CLASSIFIED BATCH\n",
    "            if not os.path.exists(save_dir):\n",
    "                os.makedirs(save_dir)\n",
    "            save_path = os.path.join(save_dir, batch_name)\n",
    "            df.to_csv(save_path, index=False)\n",
    "\n",
    "            # WAIT FOR TIMER TO REACH 1 MINUTE\n",
    "            # elapsed_time = time.time() - start_time\n",
    "            # if elapsed_time < 60:\n",
    "            #     time.sleep(60 - elapsed_time)\n",
    "        else:\n",
    "            print(f\"*** INSUFFICENT CREDITS *** YOU HAVE: {credits} CREDITS. GO BEG CONNOR FOR MORE\")\n",
    "            break"
   ]
  },
  {
   "cell_type": "code",
   "execution_count": 37,
   "metadata": {},
   "outputs": [],
   "source": [
    "def scheduled_batches():\n",
    "    # LOAD CSV PATHS INTO LIST\n",
    "    read_dir = 'data/batches/'\n",
    "    save_dir = 'data/batches_classified'\n",
    "    batches = read_batch_list()\n",
    "    first = batches[0]\n",
    "    last = batches[-1]\n",
    "    count = len(batches)\n",
    "    print(f'There are {count} batches scheduled for processing')\n",
    "    print(f'First scheduled batch: {first}\\nLast scheduled batch: {last}')"
   ]
  },
  {
   "cell_type": "markdown",
   "metadata": {},
   "source": [
    "### Execution Examples"
   ]
  },
  {
   "cell_type": "code",
   "execution_count": 38,
   "metadata": {},
   "outputs": [
    {
     "name": "stdout",
     "output_type": "stream",
     "text": [
      "api_key loaded as global variable (is type str and 32 characters long)\n"
     ]
    }
   ],
   "source": [
    "load_api_key()"
   ]
  },
  {
   "cell_type": "code",
   "execution_count": 39,
   "metadata": {},
   "outputs": [
    {
     "data": {
      "text/plain": [
       "36911"
      ]
     },
     "execution_count": 39,
     "metadata": {},
     "output_type": "execute_result"
    }
   ],
   "source": [
    "get_balance().json()['balance']"
   ]
  },
  {
   "cell_type": "code",
   "execution_count": null,
   "metadata": {},
   "outputs": [],
   "source": []
  },
  {
   "cell_type": "code",
   "execution_count": 45,
   "metadata": {},
   "outputs": [
    {
     "data": {
      "text/html": [
       "<div>\n",
       "<style scoped>\n",
       "    .dataframe tbody tr th:only-of-type {\n",
       "        vertical-align: middle;\n",
       "    }\n",
       "\n",
       "    .dataframe tbody tr th {\n",
       "        vertical-align: top;\n",
       "    }\n",
       "\n",
       "    .dataframe thead th {\n",
       "        text-align: right;\n",
       "    }\n",
       "</style>\n",
       "<table border=\"1\" class=\"dataframe\">\n",
       "  <thead>\n",
       "    <tr style=\"text-align: right;\">\n",
       "      <th></th>\n",
       "      <th>Success</th>\n",
       "      <th>word_count</th>\n",
       "      <th>Percent_Human</th>\n",
       "      <th>Percent_AI</th>\n",
       "      <th>text</th>\n",
       "    </tr>\n",
       "  </thead>\n",
       "  <tbody>\n",
       "    <tr>\n",
       "      <th>0</th>\n",
       "      <td>False</td>\n",
       "      <td>None</td>\n",
       "      <td>None</td>\n",
       "      <td>None</td>\n",
       "      <td></td>\n",
       "    </tr>\n",
       "  </tbody>\n",
       "</table>\n",
       "</div>"
      ],
      "text/plain": [
       "   Success word_count Percent_Human Percent_AI text\n",
       "0    False       None          None       None     "
      ]
     },
     "execution_count": 45,
     "metadata": {},
     "output_type": "execute_result"
    }
   ],
   "source": [
    "# EXAMPLE TO CLASSIFY ONE WEB PAGE AND EXTRACT RESPONSE\n",
    "\n",
    "url_in = \"https://originality.ai/grammarly-plagiarism-checker-review/\"\n",
    "response  = scan_webpage(url_in)\n",
    "df = extract_score(response)\n",
    "df"
   ]
  },
  {
   "cell_type": "code",
   "execution_count": 46,
   "metadata": {},
   "outputs": [
    {
     "data": {
      "text/plain": [
       "{'url': 'https://originality.ai/grammarly-plagiarism-checker-review/',\n",
       " 'success': False,\n",
       " 'error': 'unable to process this url. Please check that the url is valid and try again. If the problem persists, please contact Originality.ai support.'}"
      ]
     },
     "execution_count": 46,
     "metadata": {},
     "output_type": "execute_result"
    }
   ],
   "source": [
    "response.json()"
   ]
  },
  {
   "cell_type": "code",
   "execution_count": 41,
   "metadata": {},
   "outputs": [
    {
     "data": {
      "text/html": [
       "<div>\n",
       "<style scoped>\n",
       "    .dataframe tbody tr th:only-of-type {\n",
       "        vertical-align: middle;\n",
       "    }\n",
       "\n",
       "    .dataframe tbody tr th {\n",
       "        vertical-align: top;\n",
       "    }\n",
       "\n",
       "    .dataframe thead th {\n",
       "        text-align: right;\n",
       "    }\n",
       "</style>\n",
       "<table border=\"1\" class=\"dataframe\">\n",
       "  <thead>\n",
       "    <tr style=\"text-align: right;\">\n",
       "      <th></th>\n",
       "      <th>kw</th>\n",
       "      <th>link</th>\n",
       "      <th>Success</th>\n",
       "      <th>word_count</th>\n",
       "      <th>Percent_Human</th>\n",
       "      <th>Percent_AI</th>\n",
       "      <th>text</th>\n",
       "    </tr>\n",
       "  </thead>\n",
       "  <tbody>\n",
       "    <tr>\n",
       "      <th>0</th>\n",
       "      <td>blah</td>\n",
       "      <td>https://www.target.com/c/table-lamps-lighting-...</td>\n",
       "      <td>False</td>\n",
       "      <td>None</td>\n",
       "      <td>None</td>\n",
       "      <td>None</td>\n",
       "      <td></td>\n",
       "    </tr>\n",
       "  </tbody>\n",
       "</table>\n",
       "</div>"
      ],
      "text/plain": [
       "     kw                                               link  Success  \\\n",
       "0  blah  https://www.target.com/c/table-lamps-lighting-...    False   \n",
       "\n",
       "  word_count Percent_Human Percent_AI text  \n",
       "0       None          None       None       "
      ]
     },
     "execution_count": 41,
     "metadata": {},
     "output_type": "execute_result"
    }
   ],
   "source": [
    "# EXAMPLE TO CLASSIFY ONE WEB PAGE AND ADD RESUTLS TO KW AND LINK\n",
    "\n",
    "dfx = pd.DataFrame({'kw': ['blah'], 'link': ['https://www.target.com/c/table-lamps-lighting-home-decor/-/N-56d7t']})\n",
    "url_in = \"https://www.target.com/c/table-lamps-lighting-home-decor/-/N-56d7t\"\n",
    "response  = scan_webpage(url_in)\n",
    "df = extract_score(response)\n",
    "result = pd.concat([dfx, df], axis=1)\n",
    "result"
   ]
  },
  {
   "cell_type": "code",
   "execution_count": 15,
   "metadata": {},
   "outputs": [
    {
     "data": {
      "text/html": [
       "<div>\n",
       "<style scoped>\n",
       "    .dataframe tbody tr th:only-of-type {\n",
       "        vertical-align: middle;\n",
       "    }\n",
       "\n",
       "    .dataframe tbody tr th {\n",
       "        vertical-align: top;\n",
       "    }\n",
       "\n",
       "    .dataframe thead th {\n",
       "        text-align: right;\n",
       "    }\n",
       "</style>\n",
       "<table border=\"1\" class=\"dataframe\">\n",
       "  <thead>\n",
       "    <tr style=\"text-align: right;\">\n",
       "      <th></th>\n",
       "      <th>kw</th>\n",
       "      <th>link</th>\n",
       "      <th>Success</th>\n",
       "      <th>word_count</th>\n",
       "      <th>Percent_Human</th>\n",
       "      <th>Percent_AI</th>\n",
       "      <th>text</th>\n",
       "    </tr>\n",
       "  </thead>\n",
       "  <tbody>\n",
       "    <tr>\n",
       "      <th>0</th>\n",
       "      <td>blah</td>\n",
       "      <td>https://www.target.com/c/table-lamps-lighting-...</td>\n",
       "      <td>True</td>\n",
       "      <td>303</td>\n",
       "      <td>99.899775</td>\n",
       "      <td>0.100225</td>\n",
       "      <td>A bedroom table lamp sets the mood for your b...</td>\n",
       "    </tr>\n",
       "  </tbody>\n",
       "</table>\n",
       "</div>"
      ],
      "text/plain": [
       "     kw                                               link  Success  \\\n",
       "0  blah  https://www.target.com/c/table-lamps-lighting-...     True   \n",
       "\n",
       "   word_count  Percent_Human  Percent_AI  \\\n",
       "0         303      99.899775    0.100225   \n",
       "\n",
       "                                                text  \n",
       "0   A bedroom table lamp sets the mood for your b...  "
      ]
     },
     "execution_count": 15,
     "metadata": {},
     "output_type": "execute_result"
    }
   ],
   "source": [
    "# EXAMPLE TO CLASSIFY ONE WEB PAGE AND ADD RESUTLS\n",
    "\n",
    "url_in = \"https://www.target.com/c/table-lamps-lighting-home-decor/-/N-56d7t\"\n",
    "response  = scan_webpage(url_in)\n",
    "df = extract_score(response)\n",
    "result = pd.concat([dfx, df], axis=1)\n",
    "result"
   ]
  },
  {
   "cell_type": "code",
   "execution_count": null,
   "metadata": {},
   "outputs": [],
   "source": [
    "# EXAMPLE TO READ IN ONE BATCH AND RUN IT\n",
    "\n",
    "path = 'data/batches/kw_batch_089.csv'\n",
    "dfxxx = pd.read_csv(path, header=0)\n",
    "for link in dfxxx['link']:\n",
    "    df_link = extract_score(scan_webpage(url))\n",
    "    pd.concat([dfxxx, df_link], axis=1)\n",
    "dfxxx"
   ]
  },
  {
   "cell_type": "code",
   "execution_count": null,
   "metadata": {},
   "outputs": [],
   "source": [
    "# TEST RUN ONE BATCH AND ADD ALL THE OTHER DEETS\n",
    "\n",
    "df_in = pd.read_csv('data/batches/' + 'kw_batch_000.csv')\n",
    "df_out = classify_batch(dfx)\n",
    "\n",
    "df_out = pd.concat([df_in, df_out], axis=1, join='outer')\n",
    "df_out"
   ]
  },
  {
   "cell_type": "code",
   "execution_count": null,
   "metadata": {},
   "outputs": [],
   "source": [
    "# *** CODE SECTION *** REALLY THIS IS ALL YOU NEED"
   ]
  },
  {
   "cell_type": "code",
   "execution_count": 36,
   "metadata": {},
   "outputs": [
    {
     "data": {
      "text/plain": [
       "36951"
      ]
     },
     "execution_count": 36,
     "metadata": {},
     "output_type": "execute_result"
    }
   ],
   "source": [
    "# CHECK TO SEE IF ACCOUNT HAS CREDIT AVAILABLE\n",
    "\n",
    "credits = get_balance()\n",
    "credits.json()['balance']"
   ]
  },
  {
   "cell_type": "code",
   "execution_count": null,
   "metadata": {},
   "outputs": [],
   "source": [
    "# LOAD KW AND LINK DATA CREATED IN GSEARCH.IPYNB \n",
    "\n",
    "#df = pd.read_csv('data/linked_kw_final.csv', header=0)"
   ]
  },
  {
   "cell_type": "code",
   "execution_count": null,
   "metadata": {},
   "outputs": [],
   "source": [
    "# DIVIDE DATA INTO BATCHES OF 100 RECORDS SO THAT WHEN IT FAILS I DON'T NEED TO START FROM BEGINING\n",
    "\n",
    "# make_csv_batches(df_linked_kw_final)"
   ]
  },
  {
   "cell_type": "code",
   "execution_count": 34,
   "metadata": {},
   "outputs": [
    {
     "name": "stdout",
     "output_type": "stream",
     "text": [
      "There are 5 batches scheduled for processing\n",
      "First scheduled batch: kw_batch_195.csv\n",
      "Last scheduled batch: kw_batch_199.csv\n"
     ]
    }
   ],
   "source": [
    "scheduled_batches()\n"
   ]
  },
  {
   "cell_type": "code",
   "execution_count": 22,
   "metadata": {},
   "outputs": [],
   "source": [
    "# Start saving the response files"
   ]
  },
  {
   "cell_type": "code",
   "execution_count": 35,
   "metadata": {},
   "outputs": [
    {
     "name": "stdout",
     "output_type": "stream",
     "text": [
      "Credits = 43392, Classifying: kw_batch_195.csv\n",
      "RC error code: 422, URL: https://www.homedepot.com/b/Bath-Toilets-Composting-Toilets/N-5yc1vZcb8q\n",
      "RC error code: 422, URL: https://youtube.com/watch?v=0ya3uBj-uKg\n",
      "RC error code: 422, URL: https://www.dreamstime.com/photos-images/skin-growths.html\n",
      "RC error code: 422, URL: https://www.ediblearrangements.com/birthday-balloons\n",
      "RC error code: 422, URL: https://www.kroger.com/q/birthday+balloon\n",
      "RC error code: 422, URL: https://www.ralphs.com/q/birthday+balloon\n",
      "RC error code: 422, URL: https://www.aocd.org/page/Accutane\n",
      "RC error code: 422, URL: https://www.pinterest.com/pin/181551428704505009/\n",
      "Credits = 41944, Classifying: kw_batch_196.csv\n",
      "RC error code: 422, URL: https://www.houzz.com/photos/blue-bathroom-ideas-phbr1-bp~t_712~a_88-6\n",
      "RC error code: 422, URL: https://www.pinterest.com/BathroominaBox/blue-bathroom-ideas/\n",
      "RC error code: 422, URL: https://www.pinterest.com/squarefrank/blue-bathroom/\n",
      "RC error code: 422, URL: https://www.soulandlane.com/blue-bathroom-decor-ideas-2349/\n",
      "RC error code: 422, URL: https://www.homedepot.com/collection/bathroom/classic-blue-bathroom/id-39280\n",
      "RC error code: 422, URL: https://www.target.com/s/blue+bathroom+decor\n",
      "RC error code: 422, URL: https://www.target.com/s/100+cotton+sheets\n",
      "RC error code: 422, URL: https://www.macys.com/shop/b/cotton-sheets?id=75019\n",
      "RC error code: 422, URL: https://www.overstock.com/c/bed-sheets-pillowcases/bed-sheet-sets?t=9&a1003=3233\n",
      "RC error code: 422, URL: https://www.jcpenney.com/g/bed-and-bath/sheets?id=cat100250068\n",
      "RC error code: 422, URL: https://www.nordstromrack.com/shop/Home/Bedding/Sheet%20Sets\n",
      "RC error code: 422, URL: https://www.potterybarn.com/shop/bedding/cotton+sheet-sets/furniturematerial-m-fabric-ff000f1a-1/\n",
      "RC error code: 422, URL: https://www.sciencedirect.com/topics/agricultural-and-biological-sciences/castor-oil\n",
      "RC error code: 422, URL: https://www.goodrx.com/well-being/alternative-treatments/castor-oil-benefits\n",
      "RC error code: 422, URL: https://www.cvs.com/shop/cvs-health-castor-oil-prodid-209437\n",
      "RC error code: 422, URL: https://www.target.com/s/castor+oil\n",
      "RC error code: 422, URL: https://www.bestbuy.com/site/searchpage.jsp?id=pcat17071&st=usb+camera\n",
      "Credits = 40309, Classifying: kw_batch_197.csv\n",
      "RC error code: 422, URL: https://www.target.com/p/monopoly-board-game/-/A-52117861\n",
      "RC error code: 422, URL: https://boardgamegeek.com/boardgame/1406/monopoly\n",
      "RC error code: 422, URL: https://www.gamestop.com/toys-games/board-games/products/monopoly-board-game/11144968.html\n",
      "RC error code: 422, URL: https://www.reproductivefacts.org/news-and-publications/patient-fact-sheets-and-booklets/documents/fact-sheets-and-info-booklets/gestational-carrier-surrogate/\n",
      "RC error code: 422, URL: https://www.collinsdictionary.com/dictionary/english/surrogacy\n",
      "RC error code: 422, URL: https://www.pinterest.com/mikecostanzi/antherium/\n",
      "RC error code: 422, URL: https://youtube.com/watch?v=8iC4VXQnq8E\n",
      "RC error code: 422, URL: https://www.shutterstock.com/search/antherium\n",
      "RC error code: 422, URL: https://www.flowersbyanthony.com/anthur100.html\n",
      "RC error code: 422, URL: https://sabrinasflowers.com/antherium-plant.html\n",
      "RC error code: 422, URL: https://bismarckflowershop.com/antherium-plant.html\n",
      "RC error code: 422, URL: https://mpflorals.com/antherium-planter.html\n",
      "RC error code: 422, URL: https://dengarden.com/gardening/How-to-Grow-Anthurium\n",
      "RC error code: 422, URL: https://www.amazon.com/David-Austin-English-Roses/s?k=David+Austin+English+Roses\n",
      "RC error code: 422, URL: https://southwoodgardencenter.com/product-category/roses/english-roses/\n",
      "RC error code: 422, URL: https://www.psycom.net/adhd-bipolar-disorder-difference\n",
      "Credits = 38990, Classifying: kw_batch_198.csv\n",
      "RC error code: 422, URL: https://www.brilliantearth.com/news/matching-wedding-rings/\n",
      "RC error code: 422, URL: https://youtube.com/watch?v=t4cWO8W45EY\n",
      "RC error code: 422, URL: https://www.pinterest.com/pin/323837029429798740/\n",
      "RC error code: 422, URL: https://www.homedepot.com/c/ah/how-to-install-a-hanging-light-fixture/9ba683603be9fa5395fab90dfe160d4\n",
      "RC error code: 422, URL: https://www.homedepot.com/c/ah/how-to-install-recessed-lighting/9ba683603be9fa5395fab909357ed4d\n",
      "RC error code: 422, URL: https://www.pinterest.com/pin/610519293217660945/\n",
      "RC error code: 422, URL: https://www.lowes.com/l/install/lighting-and-ceiling-fans\n",
      "RC error code: 422, URL: https://www.amazon.com/Womens-Athletic-Skorts-Plus-Size/s?keywords=Women%27s+Athletic+Skorts&rh=n%3A2211990011%2Cp_n_shoe_width_browse-vebin%3A492379011&c=ts&ts_id=2211990011\n",
      "RC error code: 422, URL: https://www.dickssportinggoods.com/f/womens-plus-size-skorts\n",
      "RC error code: 422, URL: https://www.macys.com/shop/plus-size-clothing/plus-size-shorts/Short_style/Skort?id=37000\n",
      "RC error code: 422, URL: https://www.target.com/s/plus+size+skorts\n",
      "RC error code: 422, URL: https://www.jcpenney.com/g/women/shorts?item_type=skorts&size_range=plus+size&id=cat100250098\n",
      "RC error code: 422, URL: https://www.forever21.com/us/2000448627.html\n",
      "RC error code: 422, URL: https://www.lowes.com/n/how-to/refinish-bathtub\n",
      "RC error code: 422, URL: https://youtube.com/watch?v=zTJyusT0XcQ\n",
      "RC error code: 422, URL: https://youtube.com/watch?v=dGL4r3gLMs4\n",
      "Credits = 37993, Classifying: kw_batch_199.csv\n",
      "RC error code: 422, URL: https://homedecorbliss.com/24-colors-that-go-with-beige-room-color-scheme-ideas/\n",
      "RC error code: 422, URL: https://homedecorbliss.com/what-color-accent-wall-goes-with-beige/\n",
      "RC error code: 422, URL: https://www.pinterest.com/pin/371335931748813185/\n",
      "RC error code: 422, URL: https://www.pinterest.com/pin/94575660910735135/\n",
      "RC error code: 422, URL: https://designingidea.com/colors-that-go-with-beige/\n",
      "RC error code: 422, URL: https://www.thehealthyjournal.com/faq/what-color-sheets-for-beige-walls\n",
      "RC error code: 422, URL: https://www.aboutamazon.com/prime-day-2022\n",
      "RC error code: 422, URL: https://www.urbandictionary.com/define.php?term=fingering\n",
      "RC error code: 422, URL: https://www.homedepot.com/b/Furniture-Bedroom-Furniture-Beds-Bed-Frames/Zinus/N-5yc1vZc7ohZgde\n",
      "RC error code: 422, URL: https://www.overstock.com/Home-Garden/Bed-Frames/Zinus,/brand,/22394/subcat.html\n",
      "RC error code: 422, URL: https://www.costco.com/bedroom-furniture-beds.html?refine=mfName_ntk_cs%253A%2522ZINUS%2BINC.%2522\n",
      "RC error code: 422, URL: https://facebook.com/marketplace/item/940724326736604/\n",
      "RC error code: 422, URL: https://www.pinterest.com/zinus/everybody-loves-zinus/\n",
      "RC error code: 422, URL: https://youtube.com/watch?v=O7_shPvx0yA\n"
     ]
    }
   ],
   "source": [
    "# PROCESSES ALL RECORDS IN BATCHES OF 100\n",
    "\n",
    "classify_all_batches()"
   ]
  },
  {
   "cell_type": "code",
   "execution_count": null,
   "metadata": {},
   "outputs": [],
   "source": [
    "# classify_batch(df) should handle connection reset?"
   ]
  },
  {
   "cell_type": "code",
   "execution_count": null,
   "metadata": {},
   "outputs": [],
   "source": []
  }
 ],
 "metadata": {
  "kernelspec": {
   "display_name": "base",
   "language": "python",
   "name": "python3"
  },
  "language_info": {
   "codemirror_mode": {
    "name": "ipython",
    "version": 3
   },
   "file_extension": ".py",
   "mimetype": "text/x-python",
   "name": "python",
   "nbconvert_exporter": "python",
   "pygments_lexer": "ipython3",
   "version": "3.10.9"
  },
  "orig_nbformat": 4,
  "vscode": {
   "interpreter": {
    "hash": "b9d0320435b592720051846a30c3c35a68bf649ab9728fd60bade915b8884093"
   }
  }
 },
 "nbformat": 4,
 "nbformat_minor": 2
}
