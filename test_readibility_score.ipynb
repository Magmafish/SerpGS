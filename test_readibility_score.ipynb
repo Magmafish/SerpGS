{
 "cells": [
  {
   "attachments": {},
   "cell_type": "markdown",
   "metadata": {},
   "source": [
    "### Purpose:\n",
    "The purpose of this notebook is to test the API response of the readibility tool in the staging area"
   ]
  },
  {
   "cell_type": "markdown",
   "metadata": {},
   "source": [
    "### Dependancies:"
   ]
  },
  {
   "cell_type": "code",
   "execution_count": 37,
   "metadata": {},
   "outputs": [],
   "source": [
    "import requests\n",
    "import json\n",
    "import pandas as pd\n",
    "from typing import List, Optional\n",
    "pd.set_option('display.max_rows', 100)\n",
    "pd.set_option('display.max_columns', 10)"
   ]
  },
  {
   "cell_type": "markdown",
   "metadata": {},
   "source": [
    "### Functions:"
   ]
  },
  {
   "cell_type": "code",
   "execution_count": 38,
   "metadata": {},
   "outputs": [],
   "source": [
    "def search_text(text: str, url: str = \"https://staging-originalityai-originstg.kinsta.cloud/tool-readability/src/API/TextHighlighter-api.php\") -> requests.Response:\n",
    "    \n",
    "    payload = json.dumps({\"text\": text})\n",
    "    response = requests.request(\"POST\", url=url, data=payload)\n",
    "\n",
    "    print(f\"Request sent to {url}\")\n",
    "    if response.status_code == 200:\n",
    "        print(f\"Response successfully recieved\")\n",
    "    else:\n",
    "       print(f\"Error response recieved\") \n",
    "    print(f\"Response code: {response.status_code}\")\n",
    "    return response"
   ]
  },
  {
   "cell_type": "markdown",
   "metadata": {},
   "source": [
    "### Code Execution:"
   ]
  },
  {
   "cell_type": "code",
   "execution_count": 39,
   "metadata": {},
   "outputs": [
    {
     "name": "stdout",
     "output_type": "stream",
     "text": [
      "Request sent to https://originality.ai/readability-checker/src/API/TextHighlighter-api.php\n",
      "Error response recieved\n",
      "Response code 404\n"
     ]
    }
   ],
   "source": [
    "response = search_text(text=\"Far out in the ocean, where the water is as blue as the prettiest cornflower, and as clear as crystal, it is very, very deep; so deep, indeed, that no cable could fathom it: many church steeples, piled one upon another, would not reach from the ground beneath to the surface of the water above. There dwell the Sea King and his subjects. We must not imagine that there is nothing at the bottom of the sea but bare yellow sand. No, indeed; the most singular flowers and plants grow there; the leaves and stems of which are so pliant, that the slightest agitation of the water causes them to stir as if they had life.\", url=\"https://originality.ai/readability-checker/src/API/TextHighlighter-api.php\")"
   ]
  },
  {
   "cell_type": "code",
   "execution_count": 40,
   "metadata": {},
   "outputs": [
    {
     "name": "stdout",
     "output_type": "stream",
     "text": [
      "Request sent to https://staging-originalityai-originstg.kinsta.cloud/tool-readability/src/API/TextHighlighter-api.php\n",
      "Response successfully recieved\n",
      "Response code 200\n"
     ]
    }
   ],
   "source": [
    "response = search_text(\"Far out in the ocean, where the water is as blue as the prettiest cornflower, and as clear as crystal, it is very, very deep; so deep, indeed, that no cable could fathom it: many church steeples, piled one upon another, would not reach from the ground beneath to the surface of the water above. There dwell the Sea King and his subjects. We must not imagine that there is nothing at the bottom of the sea but bare yellow sand. No, indeed; the most singular flowers and plants grow there; the leaves and stems of which are so pliant, that the slightest agitation of the water causes them to stir as if they had life.\")"
   ]
  },
  {
   "cell_type": "code",
   "execution_count": 41,
   "metadata": {},
   "outputs": [
    {
     "data": {
      "text/plain": [
       "{'text': 'Far out in the ocean, where the water is as blue as the prettiest cornflower, and as clear as crystal, it is very, very deep; so deep, indeed, that no cable could fathom it: many church steeples, piled one upon another, would not reach from the ground beneath to the surface of the water above. There dwell the Sea King and his subjects. We must not imagine that there is nothing at the bottom of the sea but bare yellow sand. No, indeed; the most singular flowers and plants grow there; the leaves and stems of which are so pliant, that the slightest agitation of the water causes them to stir as if they had life.',\n",
       " 'smogScore': 10.3,\n",
       " 'colemanScore': 8.7,\n",
       " 'automatedReadabilityScore': 12,\n",
       " 'daleScore': 3.1,\n",
       " 'powersSumnerKearlScore': 6.4,\n",
       " 'forcastScore': 11.5,\n",
       " 'spacheScore': 5,\n",
       " 'gunningFogScore': 13.7,\n",
       " 'fleschGrade': 11.4,\n",
       " 'fleschScore': 65.1}"
      ]
     },
     "execution_count": 41,
     "metadata": {},
     "output_type": "execute_result"
    }
   ],
   "source": [
    "response.json()"
   ]
  },
  {
   "cell_type": "code",
   "execution_count": 43,
   "metadata": {},
   "outputs": [
    {
     "name": "stdout",
     "output_type": "stream",
     "text": [
      "{\"text\":\"Far out in the ocean, where the water is as blue as the prettiest cornflower, and as clear as crystal, it is very, very deep; so deep, indeed, that no cable could fathom it: many church steeples, piled one upon another, would not reach from the ground beneath to the surface of the water above. There dwell the Sea King and his subjects. We must not imagine that there is nothing at the bottom of the sea but bare yellow sand. No, indeed; the most singular flowers and plants grow there; the leaves and stems of which are so pliant, that the slightest agitation of the water causes them to stir as if they had life.\",\"smogScore\":10.300000000000001,\"colemanScore\":8.6999999999999993,\"automatedReadabilityScore\":12,\"daleScore\":3.1000000000000001,\"powersSumnerKearlScore\":6.4000000000000004,\"forcastScore\":11.5,\"spacheScore\":5,\"gunningFogScore\":13.699999999999999,\"fleschGrade\":11.4,\"fleschScore\":65.099999999999994}\n"
     ]
    }
   ],
   "source": [
    "print(response.text)"
   ]
  },
  {
   "cell_type": "code",
   "execution_count": 48,
   "metadata": {},
   "outputs": [
    {
     "name": "stdout",
     "output_type": "stream",
     "text": [
      "Far out in the ocean, where the water is as blue as the prettiest cornflower, and as clear as crystal, it is very, very deep; so deep, indeed, that no cable could fathom it: many church steeples, piled one upon another, would not reach from the ground beneath to the surface of the water above. There dwell the Sea King and his subjects. We must not imagine that there is nothing at the bottom of the sea but bare yellow sand. No, indeed; the most singular flowers and plants grow there; the leaves and stems of which are so pliant, that the slightest agitation of the water causes them to stir as if they had life.\n"
     ]
    }
   ],
   "source": [
    "print(response.json()['text'])"
   ]
  },
  {
   "cell_type": "code",
   "execution_count": null,
   "metadata": {},
   "outputs": [],
   "source": [
    "https://www.target.com/c/table-lamps-lighting-home-decor/-/N-56d7t"
   ]
  },
  {
   "cell_type": "code",
   "execution_count": 52,
   "metadata": {},
   "outputs": [
    {
     "ename": "SyntaxError",
     "evalue": "invalid syntax (3934745945.py, line 1)",
     "output_type": "error",
     "traceback": [
      "\u001b[0;36m  Cell \u001b[0;32mIn[52], line 1\u001b[0;36m\u001b[0m\n\u001b[0;31m    response = search_text(https://www.target.com/c/table-lamps-lighting-home-decor/)\u001b[0m\n\u001b[0m                                ^\u001b[0m\n\u001b[0;31mSyntaxError\u001b[0m\u001b[0;31m:\u001b[0m invalid syntax\n"
     ]
    }
   ],
   "source": [
    "response = search_text(https://www.target.com/c/table-lamps-lighting-home-decor/)"
   ]
  },
  {
   "cell_type": "code",
   "execution_count": 51,
   "metadata": {},
   "outputs": [
    {
     "data": {
      "text/plain": [
       "{'text': 'https://www.target.com/c/table-lamps-lighting-home-decor/-/N-56d7t',\n",
       " 'smogScore': 3.3,\n",
       " 'colemanScore': 7.7,\n",
       " 'automatedReadabilityScore': 0,\n",
       " 'daleScore': 9.4,\n",
       " 'powersSumnerKearlScore': -1.2,\n",
       " 'forcastScore': 19.2,\n",
       " 'spacheScore': 1.8,\n",
       " 'gunningFogScore': 1.6,\n",
       " 'fleschGrade': 1.7,\n",
       " 'fleschScore': 90}"
      ]
     },
     "execution_count": 51,
     "metadata": {},
     "output_type": "execute_result"
    }
   ],
   "source": [
    "response.json()"
   ]
  },
  {
   "cell_type": "code",
   "execution_count": null,
   "metadata": {},
   "outputs": [],
   "source": []
  }
 ],
 "metadata": {
  "kernelspec": {
   "display_name": "base",
   "language": "python",
   "name": "python3"
  },
  "language_info": {
   "codemirror_mode": {
    "name": "ipython",
    "version": 3
   },
   "file_extension": ".py",
   "mimetype": "text/x-python",
   "name": "python",
   "nbconvert_exporter": "python",
   "pygments_lexer": "ipython3",
   "version": "3.10.9"
  },
  "orig_nbformat": 4,
  "vscode": {
   "interpreter": {
    "hash": "b9d0320435b592720051846a30c3c35a68bf649ab9728fd60bade915b8884093"
   }
  }
 },
 "nbformat": 4,
 "nbformat_minor": 2
}
