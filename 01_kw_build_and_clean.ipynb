{
 "cells": [
  {
   "attachments": {},
   "cell_type": "markdown",
   "id": "49002e32",
   "metadata": {},
   "source": [
    "### This notebook used to build, explore, and clean the keyword dataset\n",
    "* Removal of non-ASCII kw\n",
    "* Removal of offensive kw and URLs\n",
    "* Identify and quintify duplicte records\n",
    "* Dropping of all columns except kw"
   ]
  },
  {
   "cell_type": "code",
   "execution_count": 88,
   "id": "957282c5-6895-4174-ae51-d3419a158c20",
   "metadata": {},
   "outputs": [],
   "source": [
    "import pandas as pd\n",
    "from typing import List, Dict, Optional\n",
    "import inspect\n",
    "pd.set_option('display.max_rows', 10)\n",
    "pd.set_option('display.max_columns', 100)"
   ]
  },
  {
   "attachments": {},
   "cell_type": "markdown",
   "id": "9d61e641",
   "metadata": {},
   "source": [
    "### Functions"
   ]
  },
  {
   "cell_type": "code",
   "execution_count": 89,
   "id": "d34f2861",
   "metadata": {},
   "outputs": [],
   "source": [
    "def remove_non_ascii_kw(df: pd.DataFrame) -> pd.DataFrame:\n",
    "    \"\"\"\n",
    "    Removes rows from a DataFrame where the \"Keyword\" column contains non-ASCII characters.\n",
    "    \n",
    "    Args:\n",
    "        df (pandas.DataFrame): The DataFrame to process.\n",
    "    \n",
    "    Returns:\n",
    "        pandas.DataFrame: The modified DataFrame with rows removed.\n",
    "    \"\"\"\n",
    "    # Remove rows where \"Keyword\" contains non-ASCII characters\n",
    "    df_start_len = len(df)\n",
    "    df = df[df['kw'].apply(lambda x: all(ord(c) < 128 for c in x))]\n",
    "    \n",
    "    # Print some statistics\n",
    "    print(f\"df start length: {df_start_len}\")\n",
    "    print(f\"df final length: {len(df)}\")\n",
    "    print(f\"records removed: {df_start_len - len(df)}\")\n",
    "    \n",
    "    # Return the modified DataFrame\n",
    "    return df"
   ]
  },
  {
   "cell_type": "code",
   "execution_count": 90,
   "id": "d1f71948",
   "metadata": {},
   "outputs": [],
   "source": [
    "def fix_nan(df: pd.DataFrame) -> pd.DataFrame:\n",
    "    \"\"\"\n",
    "    Replaces NaN values in the \"SERP features\" and \"CPC\" columns of a pandas DataFrame with appropriate default values.\n",
    "    \n",
    "    Args:\n",
    "        df (pandas.DataFrame): The DataFrame to process.\n",
    "    \n",
    "    Returns:\n",
    "        pandas.DataFrame: The modified DataFrame with NaN values replaced.\n",
    "    \"\"\"\n",
    "    # Count NaN values in \"SERP features\" and \"CPC\" columns\n",
    "    serp_nan = df['SERP features'].isna().sum()\n",
    "    cpc_nan = df['CPC'].isna().sum()\n",
    "    \n",
    "    # Replace NaN values with appropriate default values\n",
    "    df['SERP features'] = df['SERP features'].fillna('none')\n",
    "    df['CPC'] = df['CPC'].fillna(0)\n",
    "    \n",
    "    # Print some statistics\n",
    "    print(f\"SERP features `NaN` records replaced with `None`: {serp_nan}\")\n",
    "    print(f\"CPC `NaN` records replaced with `0`: {cpc_nan}\")\n",
    "    \n",
    "    # Return the modified DataFrame\n",
    "    return df"
   ]
  },
  {
   "cell_type": "code",
   "execution_count": 91,
   "id": "23d81003",
   "metadata": {},
   "outputs": [],
   "source": [
    "def remove_blocklist_kw(df: pd.DataFrame, kw_blocklist: List[str]) -> pd.DataFrame:\n",
    "    \"\"\"\n",
    "    Removes rows from a pandas DataFrame where the \"Keyword\" column contains any of the keywords in a blocklist.\n",
    "\n",
    "    Args:\n",
    "        df (pandas.DataFrame): The DataFrame to process.\n",
    "        kw_blocklist (List[str]): A list of keywords to remove from the DataFrame.\n",
    "\n",
    "    Returns:\n",
    "        pandas.DataFrame: The modified DataFrame with the specified keywords removed.\n",
    "    \"\"\"\n",
    "    # Get the length of the input DataFrame\n",
    "    df_start_len = len(df)\n",
    "\n",
    "    # Create a regular expression pattern from the blocklist\n",
    "    kw_pattern = '|'.join(kw_blocklist)\n",
    "\n",
    "    # Create a mask for rows containing keywords in the blocklist\n",
    "    kw_mask = df['kw'].str.contains(kw_pattern, case=False)\n",
    "\n",
    "    # Use the mask to remove the specified keywords from the DataFrame\n",
    "    df = df[~kw_mask]\n",
    "\n",
    "    # Print some statistics\n",
    "    print(f\"df start length: {df_start_len}\")\n",
    "    print(f\"df final length: {len(df)}\")\n",
    "    print(f\"records removed: {df_start_len - len(df)}\")\n",
    "\n",
    "    # Return the modified DataFrame\n",
    "    return df"
   ]
  },
  {
   "cell_type": "code",
   "execution_count": 92,
   "id": "c994b23f",
   "metadata": {},
   "outputs": [],
   "source": [
    "def remove_blocklist_url(df: pd.DataFrame, url_blocklist: List[str]) -> pd.DataFrame:\n",
    "    \"\"\"\n",
    "    Removes rows from a pandas DataFrame where the \"URL\" column contains any of the URLs in a blocklist.\n",
    "\n",
    "    Args:\n",
    "        df (pandas.DataFrame): The DataFrame to process.\n",
    "        url_blocklist (List[str]): A list of URLs to remove from the DataFrame.\n",
    "\n",
    "    Returns:\n",
    "        pandas.DataFrame: The modified DataFrame with the specified URLs removed.\n",
    "    \"\"\"\n",
    "    # Get the length of the input DataFrame\n",
    "    df_start_len = len(df)\n",
    "\n",
    "    # Create a regular expression pattern from the blocklist\n",
    "    url_pattern = '|'.join(url_blocklist)\n",
    "\n",
    "    # Create a mask for rows containing URLs in the blocklist\n",
    "    url_mask = df['url'].str.contains(url_pattern, case=False)\n",
    "\n",
    "    # Use the mask to remove the specified URLs from the DataFrame\n",
    "    df = df[~url_mask]\n",
    "\n",
    "    # Print some statistics\n",
    "    print(f\"df start length: {df_start_len}\")\n",
    "    print(f\"df final length: {len(df)}\")\n",
    "    print(f\"records removed: {df_start_len - len(df)}\")\n",
    "\n",
    "    # Return the modified DataFrame\n",
    "    return df"
   ]
  },
  {
   "cell_type": "code",
   "execution_count": 93,
   "id": "13722a84",
   "metadata": {},
   "outputs": [],
   "source": [
    "def show_df_info(df: pd.DataFrame) -> pd.DataFrame:\n",
    "    \"\"\"\n",
    "    Prints information about a DataFrame, including column names, data types, and non-null counts.\n",
    "    \n",
    "    Args:\n",
    "        df (pandas.DataFrame): The DataFrame to process.\n",
    "        \n",
    "    Returns:\n",
    "        pandas.DataFrame: A DataFrame containing the column names, data types, and non-null counts, and null counts of the input DataFrame.\n",
    "    \"\"\"\n",
    "    col_names = df.columns.to_list()\n",
    "    col_dtypes = df.dtypes.to_list()\n",
    "    non_null_counts = df.count().to_list()\n",
    "    null_counts = df.isnull().sum().to_list()\n",
    "    info_df = pd.DataFrame({'column_name': col_names, 'dtype': col_dtypes, 'non_null_count': non_null_counts, 'null_count': null_counts})\n",
    "\n",
    "    caller_frame = inspect.currentframe().f_back\n",
    "    df_name = [var_name for var_name, var_val in caller_frame.f_locals.items() if var_val is df][0]\n",
    "\n",
    "    print(f\"DataFrame '{df_name}' has {len(df)} rows and {len(df.columns)} columns.\")\n",
    "    print(\"Here is a summary of the column names, data types and null counts:\")\n",
    "    return info_df"
   ]
  },
  {
   "cell_type": "code",
   "execution_count": 94,
   "id": "9572cb53",
   "metadata": {},
   "outputs": [],
   "source": [
    "def find_duplicate_uid(df: pd.DataFrame) -> pd.DataFrame:\n",
    "    \"\"\"\n",
    "    Given a DataFrame, finds and returns a new DataFrame containing only rows with duplicate 'uid' values.\n",
    "\n",
    "    Parameters:\n",
    "    df : pandas.DataFrame Input DataFrame with at least one column named 'uid'.\n",
    "\n",
    "    Returns:\n",
    "    pandas.DataFrame A new DataFrame containing only rows with duplicate 'uid' values.\n",
    "    \"\"\"\n",
    "    # Get a boolean Series indicating which rows have a duplicate uid\n",
    "    duplicates_mask = df.duplicated(subset=['uid'], keep=False)\n",
    "    \n",
    "    # Use the boolean mask to select the rows with duplicate uids\n",
    "    duplicate_df = df[duplicates_mask]\n",
    "    \n",
    "    # Return the new DataFrame with only the duplicate rows\n",
    "    return duplicate_df"
   ]
  },
  {
   "cell_type": "code",
   "execution_count": 95,
   "id": "986db55e",
   "metadata": {},
   "outputs": [],
   "source": [
    "def check_for_duplicate_uid(df: pd.DataFrame,) -> bool:\n",
    "    test = df.duplicated(subset=['uid']).any()\n",
    "    if test is True:\n",
    "        print('*** Dataset has duplicate uid ***')\n",
    "    else:\n",
    "        print('Dataset has no duplicate uid')\n",
    "    return test"
   ]
  },
  {
   "cell_type": "code",
   "execution_count": 96,
   "id": "260fa096",
   "metadata": {},
   "outputs": [],
   "source": [
    "def group_by_url_count(df: pd.DataFrame) -> pd.DataFrame:\n",
    "    \"\"\"\n",
    "    Groups the input DataFrame by the count of each unique URL, sorts the resulting DataFrame by 'url_count' in descending order, and sets 'url' as the index column.\n",
    "\n",
    "    Parameters:\n",
    "    df : pandas.DataFrame A DataFrame containing at least one column named 'url' that contains URLs.\n",
    "\n",
    "    Returns:\n",
    "    pandas.DataFrame A DataFrame with unique URLs as the index column and the count of each URL as a column named 'url_count'. The DataFrame is sorted in descending order by 'url_count'.\n",
    "    \"\"\"\n",
    "    \n",
    "    # Group the DataFrame by the count of each unique URL\n",
    "    grouped_df = df.groupby('url').size().reset_index(name='url_count')\n",
    "    \n",
    "    # Sort the DataFrame by 'url_count' in descending order\n",
    "    sorted_df = grouped_df.sort_values(by='url_count', ascending=False)\n",
    "    \n",
    "    # Reset the index and make 'url' the index column\n",
    "    sorted_df = sorted_df.set_index('url').reset_index()\n",
    "    \n",
    "    # Return the sorted DataFrame\n",
    "    return sorted_df"
   ]
  },
  {
   "cell_type": "code",
   "execution_count": 97,
   "id": "3bb768c7",
   "metadata": {},
   "outputs": [],
   "source": [
    "def group_by_kw_count(df: pd.DataFrame) -> pd.DataFrame:\n",
    "    \"\"\"\n",
    "    This function takes a pandas DataFrame as input and groups it by the count of each unique value in the 'kw' column. It then sorts the resulting DataFrame by the count of each unique value in descending order and resets the index, making the 'kw' column the index. Finally, it returns the sorted DataFrame.\n",
    "\n",
    "    Parameters:\n",
    "    df: a pandas DataFrame with a 'kw' column.\n",
    "    \n",
    "    Returns:\n",
    "    sorted_df: a pandas DataFrame sorted by the count of each unique value in the 'kw' column in descending order, with 'kw' as the index.\n",
    "\n",
    "    Example usage:\n",
    "    # Create a sample DataFrame\n",
    "    df = pd.DataFrame({\n",
    "        'kw': ['apple', 'banana', 'apple', 'cherry', 'banana', 'banana'],\n",
    "        'count': [1, 2, 3, 4, 5, 6]\n",
    "    })\n",
    "\n",
    "    # Call the function to group by keyword count\n",
    "    sorted_df = group_by_kw_count(df)\n",
    "\n",
    "    # Print the resulting DataFrame\n",
    "    print(sorted_df)\n",
    "    \n",
    "    This would output:\n",
    "\n",
    "        kw      kw_count\n",
    "    0  banana         3\n",
    "    1   apple         2\n",
    "    2  cherry         1\n",
    "    \"\"\"\n",
    "\n",
    "    # Group the DataFrame by the count of each unique URL\n",
    "    grouped_df = df.groupby('kw').size().reset_index(name='kw_count')\n",
    "    \n",
    "    # Sort the DataFrame by 'url_count' in descending order\n",
    "    sorted_df = grouped_df.sort_values(by='kw_count', ascending=False)\n",
    "    \n",
    "    # Reset the index and make 'url' the index column\n",
    "    sorted_df = sorted_df.set_index('kw').reset_index()\n",
    "    \n",
    "    # Return the sorted DataFrame\n",
    "    return sorted_df"
   ]
  },
  {
   "cell_type": "code",
   "execution_count": 98,
   "id": "dce9ab46",
   "metadata": {},
   "outputs": [],
   "source": [
    "def add_count_repeats(df: pd.DataFrame, column: str) -> pd.DataFrame:\n",
    "    \"\"\"\n",
    "    Counts the number of unique values in the specified column of a pandas DataFrame\n",
    "    and adds a new column \"counts_\" + column to the DataFrame with the counts.\n",
    "    \n",
    "    Args:\n",
    "        df (pandas.DataFrame): The DataFrame to operate on.\n",
    "        column (str): The name of the column to count the unique values in.\n",
    "        \n",
    "    Returns:\n",
    "        pandas.DataFrame: The modified DataFrame with the new count column.\n",
    "    \"\"\"\n",
    "    # Count the number of unique values in the specified column\n",
    "    counts = df[column].value_counts()\n",
    "    \n",
    "    # Create a new column with the counts\n",
    "    new_col_name = \"dup_count_\" + column\n",
    "    df[new_col_name] = df[column].map(counts)\n",
    "    \n",
    "    return df"
   ]
  },
  {
   "cell_type": "code",
   "execution_count": 99,
   "id": "94087ce3",
   "metadata": {},
   "outputs": [],
   "source": [
    "def summarize_duplicates(df: pd.DataFrame, colums: List[str]) -> pd.DataFrame:\n",
    "    \"\"\"\n",
    "    Counts the number of unique values, non-duplicate values (where count == 1), and duplicate values (where count > 1) in the specified columns of a pandas DataFrame as well as the minimum and maximum counts of values that are repeated.\n",
    "\n",
    "    Args:\n",
    "        df (pandas.DataFrame): The DataFrame to operate on.\n",
    "        column_names (List[str]): A list of column names to summarize.\n",
    "        \n",
    "    Returns:\n",
    "        pandas.DataFrame: A DataFrame summarizing counts of the number of unique values, non-duplicate values (where count == 1), and duplicate values (where count > 1) in the specified columns of a pandas DataFrame as well as the minimum and maximum counts of values that are repeated.\n",
    "    \"\"\"\n",
    "    # Create an empty list to store the summary DataFrames\n",
    "    summary = []\n",
    "    \n",
    "    # Iterate over the specified columns\n",
    "    for column in colums:\n",
    "        # Count the duplicates and non-duplicates in the column\n",
    "        dup_counts = df[column].duplicated(keep=False)\n",
    "        count_non_dup = (~dup_counts).sum()\n",
    "        count_dup = dup_counts.sum()\n",
    "        count_unique_dup = (dup_counts & (~df[column].duplicated())).sum()\n",
    "        count_min_dup = df[column].duplicated(keep=False).groupby(df[column]).sum().loc[lambda x: x > 1].min()\n",
    "        count_max_dup = df[column].duplicated(keep=False).groupby(df[column]).sum().max()\n",
    "        \n",
    "        # Count the unique values in the column\n",
    "        count_unique = df[column].nunique()\n",
    "        \n",
    "        # Add a row to the summary DataFrame with the counts\n",
    "        summary.append(pd.DataFrame({\n",
    "            \"column_name\": [column],\n",
    "            \"count_unique\": [count_unique],\n",
    "            \"count_non_dup\": [count_non_dup],\n",
    "            \"count_dup\": [count_dup],\n",
    "            \"count_unique_dup\": [count_unique_dup],\n",
    "            \"count_min_dup\": [count_min_dup if count_dup > 0 else 0],\n",
    "            \"count_max_dup\": [count_max_dup],\n",
    "        }))\n",
    "    \n",
    "    print(f\"number of records: {len(df)}\")\n",
    "    # Combine the summary DataFrames into a single DataFrame\n",
    "    summary = pd.concat(summary, ignore_index=True)\n",
    "    \n",
    "    return summary"
   ]
  },
  {
   "attachments": {},
   "cell_type": "markdown",
   "id": "8013cdb2",
   "metadata": {},
   "source": [
    "### Code Execution"
   ]
  },
  {
   "cell_type": "code",
   "execution_count": 100,
   "id": "651e6bae-9ff3-4cd1-bb45-f0ee293d82cd",
   "metadata": {},
   "outputs": [],
   "source": [
    "df1 = pd.read_csv('data/webmd.csv')\n",
    "df2 = pd.read_csv('data/thespruce.csv')\n",
    "df3 = pd.read_csv('data/amazon.csv')\n",
    "df = pd.concat([df1, df2, df3])\n",
    "df = df.reset_index(drop=True)\n",
    "df = df.copy(deep=True)\n",
    "drop_columns = ['Current position', 'Current URL inside', 'Updated']\n",
    "df = df.drop(drop_columns, axis=1)\n",
    "df = df.rename(columns={'Current URL': 'url'})\n",
    "df = df.rename(columns={'Keyword': 'kw'})\n",
    "df = df.copy(deep=True)"
   ]
  },
  {
   "cell_type": "code",
   "execution_count": 101,
   "id": "e92c744d",
   "metadata": {},
   "outputs": [
    {
     "data": {
      "text/html": [
       "<div>\n",
       "<style scoped>\n",
       "    .dataframe tbody tr th:only-of-type {\n",
       "        vertical-align: middle;\n",
       "    }\n",
       "\n",
       "    .dataframe tbody tr th {\n",
       "        vertical-align: top;\n",
       "    }\n",
       "\n",
       "    .dataframe thead th {\n",
       "        text-align: right;\n",
       "    }\n",
       "</style>\n",
       "<table border=\"1\" class=\"dataframe\">\n",
       "  <thead>\n",
       "    <tr style=\"text-align: right;\">\n",
       "      <th></th>\n",
       "      <th>kw</th>\n",
       "      <th>SERP features</th>\n",
       "      <th>Volume</th>\n",
       "      <th>KD</th>\n",
       "      <th>CPC</th>\n",
       "      <th>Traffic</th>\n",
       "      <th>url</th>\n",
       "    </tr>\n",
       "  </thead>\n",
       "  <tbody>\n",
       "    <tr>\n",
       "      <th>0</th>\n",
       "      <td>horny goat weed</td>\n",
       "      <td>Knowledge panel</td>\n",
       "      <td>76000</td>\n",
       "      <td>61</td>\n",
       "      <td>0.37</td>\n",
       "      <td>70591</td>\n",
       "      <td>https://www.webmd.com/vitamins/ai/ingredientmo...</td>\n",
       "    </tr>\n",
       "  </tbody>\n",
       "</table>\n",
       "</div>"
      ],
      "text/plain": [
       "                kw    SERP features  Volume  KD   CPC  Traffic  \\\n",
       "0  horny goat weed  Knowledge panel   76000  61  0.37    70591   \n",
       "\n",
       "                                                 url  \n",
       "0  https://www.webmd.com/vitamins/ai/ingredientmo...  "
      ]
     },
     "execution_count": 101,
     "metadata": {},
     "output_type": "execute_result"
    }
   ],
   "source": [
    "df.head(1)"
   ]
  },
  {
   "cell_type": "code",
   "execution_count": 102,
   "id": "a4dc71c6",
   "metadata": {},
   "outputs": [
    {
     "name": "stdout",
     "output_type": "stream",
     "text": [
      "DataFrame 'df' has 90000 rows and 7 columns.\n",
      "Here is a summary of the column names, data types and null counts:\n"
     ]
    },
    {
     "data": {
      "text/html": [
       "<div>\n",
       "<style scoped>\n",
       "    .dataframe tbody tr th:only-of-type {\n",
       "        vertical-align: middle;\n",
       "    }\n",
       "\n",
       "    .dataframe tbody tr th {\n",
       "        vertical-align: top;\n",
       "    }\n",
       "\n",
       "    .dataframe thead th {\n",
       "        text-align: right;\n",
       "    }\n",
       "</style>\n",
       "<table border=\"1\" class=\"dataframe\">\n",
       "  <thead>\n",
       "    <tr style=\"text-align: right;\">\n",
       "      <th></th>\n",
       "      <th>column_name</th>\n",
       "      <th>dtype</th>\n",
       "      <th>non_null_count</th>\n",
       "      <th>null_count</th>\n",
       "    </tr>\n",
       "  </thead>\n",
       "  <tbody>\n",
       "    <tr>\n",
       "      <th>0</th>\n",
       "      <td>kw</td>\n",
       "      <td>object</td>\n",
       "      <td>90000</td>\n",
       "      <td>0</td>\n",
       "    </tr>\n",
       "    <tr>\n",
       "      <th>1</th>\n",
       "      <td>SERP features</td>\n",
       "      <td>object</td>\n",
       "      <td>89313</td>\n",
       "      <td>687</td>\n",
       "    </tr>\n",
       "    <tr>\n",
       "      <th>2</th>\n",
       "      <td>Volume</td>\n",
       "      <td>int64</td>\n",
       "      <td>90000</td>\n",
       "      <td>0</td>\n",
       "    </tr>\n",
       "    <tr>\n",
       "      <th>3</th>\n",
       "      <td>KD</td>\n",
       "      <td>int64</td>\n",
       "      <td>90000</td>\n",
       "      <td>0</td>\n",
       "    </tr>\n",
       "    <tr>\n",
       "      <th>4</th>\n",
       "      <td>CPC</td>\n",
       "      <td>float64</td>\n",
       "      <td>76574</td>\n",
       "      <td>13426</td>\n",
       "    </tr>\n",
       "    <tr>\n",
       "      <th>5</th>\n",
       "      <td>Traffic</td>\n",
       "      <td>int64</td>\n",
       "      <td>90000</td>\n",
       "      <td>0</td>\n",
       "    </tr>\n",
       "    <tr>\n",
       "      <th>6</th>\n",
       "      <td>url</td>\n",
       "      <td>object</td>\n",
       "      <td>90000</td>\n",
       "      <td>0</td>\n",
       "    </tr>\n",
       "  </tbody>\n",
       "</table>\n",
       "</div>"
      ],
      "text/plain": [
       "     column_name    dtype  non_null_count  null_count\n",
       "0             kw   object           90000           0\n",
       "1  SERP features   object           89313         687\n",
       "2         Volume    int64           90000           0\n",
       "3             KD    int64           90000           0\n",
       "4            CPC  float64           76574       13426\n",
       "5        Traffic    int64           90000           0\n",
       "6            url   object           90000           0"
      ]
     },
     "execution_count": 102,
     "metadata": {},
     "output_type": "execute_result"
    }
   ],
   "source": [
    "show_df_info(df)"
   ]
  },
  {
   "cell_type": "code",
   "execution_count": 103,
   "id": "01d14337",
   "metadata": {},
   "outputs": [
    {
     "name": "stdout",
     "output_type": "stream",
     "text": [
      "number of records: 90000\n"
     ]
    },
    {
     "data": {
      "text/html": [
       "<div>\n",
       "<style scoped>\n",
       "    .dataframe tbody tr th:only-of-type {\n",
       "        vertical-align: middle;\n",
       "    }\n",
       "\n",
       "    .dataframe tbody tr th {\n",
       "        vertical-align: top;\n",
       "    }\n",
       "\n",
       "    .dataframe thead th {\n",
       "        text-align: right;\n",
       "    }\n",
       "</style>\n",
       "<table border=\"1\" class=\"dataframe\">\n",
       "  <thead>\n",
       "    <tr style=\"text-align: right;\">\n",
       "      <th></th>\n",
       "      <th>column_name</th>\n",
       "      <th>count_unique</th>\n",
       "      <th>count_non_dup</th>\n",
       "      <th>count_dup</th>\n",
       "      <th>count_unique_dup</th>\n",
       "      <th>count_min_dup</th>\n",
       "      <th>count_max_dup</th>\n",
       "    </tr>\n",
       "  </thead>\n",
       "  <tbody>\n",
       "    <tr>\n",
       "      <th>0</th>\n",
       "      <td>url</td>\n",
       "      <td>41220</td>\n",
       "      <td>27397</td>\n",
       "      <td>62603</td>\n",
       "      <td>13823</td>\n",
       "      <td>2</td>\n",
       "      <td>118</td>\n",
       "    </tr>\n",
       "    <tr>\n",
       "      <th>1</th>\n",
       "      <td>kw</td>\n",
       "      <td>88947</td>\n",
       "      <td>87895</td>\n",
       "      <td>2105</td>\n",
       "      <td>1052</td>\n",
       "      <td>2</td>\n",
       "      <td>3</td>\n",
       "    </tr>\n",
       "  </tbody>\n",
       "</table>\n",
       "</div>"
      ],
      "text/plain": [
       "  column_name  count_unique  count_non_dup  count_dup  count_unique_dup  \\\n",
       "0         url         41220          27397      62603             13823   \n",
       "1          kw         88947          87895       2105              1052   \n",
       "\n",
       "   count_min_dup  count_max_dup  \n",
       "0              2            118  \n",
       "1              2              3  "
      ]
     },
     "execution_count": 103,
     "metadata": {},
     "output_type": "execute_result"
    }
   ],
   "source": [
    "summarize_duplicates(df, ['url', 'kw'])"
   ]
  },
  {
   "cell_type": "code",
   "execution_count": 104,
   "id": "46a04030",
   "metadata": {},
   "outputs": [
    {
     "data": {
      "text/html": [
       "<div>\n",
       "<style scoped>\n",
       "    .dataframe tbody tr th:only-of-type {\n",
       "        vertical-align: middle;\n",
       "    }\n",
       "\n",
       "    .dataframe tbody tr th {\n",
       "        vertical-align: top;\n",
       "    }\n",
       "\n",
       "    .dataframe thead th {\n",
       "        text-align: right;\n",
       "    }\n",
       "</style>\n",
       "<table border=\"1\" class=\"dataframe\">\n",
       "  <thead>\n",
       "    <tr style=\"text-align: right;\">\n",
       "      <th></th>\n",
       "      <th>url</th>\n",
       "      <th>url_count</th>\n",
       "    </tr>\n",
       "  </thead>\n",
       "  <tbody>\n",
       "    <tr>\n",
       "      <th>0</th>\n",
       "      <td>https://www.webmd.com/covid/coronavirus-incuba...</td>\n",
       "      <td>118</td>\n",
       "    </tr>\n",
       "    <tr>\n",
       "      <th>1</th>\n",
       "      <td>https://www.thespruce.com/budget-friendly-kids...</td>\n",
       "      <td>84</td>\n",
       "    </tr>\n",
       "    <tr>\n",
       "      <th>2</th>\n",
       "      <td>https://www.webmd.com/skin-problems-and-treatm...</td>\n",
       "      <td>79</td>\n",
       "    </tr>\n",
       "    <tr>\n",
       "      <th>3</th>\n",
       "      <td>https://www.thespruce.com/best-outdoor-solar-l...</td>\n",
       "      <td>79</td>\n",
       "    </tr>\n",
       "    <tr>\n",
       "      <th>4</th>\n",
       "      <td>https://www.webmd.com/allergies/ss/slideshow-p...</td>\n",
       "      <td>68</td>\n",
       "    </tr>\n",
       "  </tbody>\n",
       "</table>\n",
       "</div>"
      ],
      "text/plain": [
       "                                                 url  url_count\n",
       "0  https://www.webmd.com/covid/coronavirus-incuba...        118\n",
       "1  https://www.thespruce.com/budget-friendly-kids...         84\n",
       "2  https://www.webmd.com/skin-problems-and-treatm...         79\n",
       "3  https://www.thespruce.com/best-outdoor-solar-l...         79\n",
       "4  https://www.webmd.com/allergies/ss/slideshow-p...         68"
      ]
     },
     "execution_count": 104,
     "metadata": {},
     "output_type": "execute_result"
    }
   ],
   "source": [
    "url_counts = group_by_url_count(df)\n",
    "url_counts.head()"
   ]
  },
  {
   "cell_type": "code",
   "execution_count": 105,
   "id": "10ceb7c1",
   "metadata": {},
   "outputs": [
    {
     "name": "stdout",
     "output_type": "stream",
     "text": [
      "df start length: 90000\n",
      "df final length: 89917\n",
      "records removed: 83\n"
     ]
    }
   ],
   "source": [
    "df = remove_non_ascii_kw(df)"
   ]
  },
  {
   "cell_type": "code",
   "execution_count": 106,
   "id": "54595db9-fe6b-4ed9-8e91-664d37768c44",
   "metadata": {},
   "outputs": [],
   "source": [
    "kw_block_list = [\"penis\", \"vagina\", \"sex\", \"slut\", \"dick\", \"fuck\", \"milf\", \"cum \", \"cunt\", \"rape\", \"porn\", \"boner\", \"cock\", \"whore\", \"bitch\", \"futa\", \"wet dreams\", \"cowgirl position\",  \"reverse cowgirl\", \"girl squirt\", \"girls squirt\", \"squirting-orgasm\", \" squirt pee\", \"girl's body\", \"dildo\", \"butt-plug\", \"good head\", \"smells bad down there\", \"xxx\", \"wormwood\", \"fetish\",  \"vibrator\", \"sandalias de mujer\"]"
   ]
  },
  {
   "cell_type": "code",
   "execution_count": 107,
   "id": "32a23abe-6771-44f5-9942-1f2eef0599f9",
   "metadata": {},
   "outputs": [
    {
     "name": "stdout",
     "output_type": "stream",
     "text": [
      "df start length: 89917\n",
      "df final length: 88842\n",
      "records removed: 1075\n"
     ]
    }
   ],
   "source": [
    "df = remove_blocklist_kw(df, kw_block_list)"
   ]
  },
  {
   "cell_type": "code",
   "execution_count": 108,
   "id": "c0e39e45-a2f2-4723-8663-cfd2278815f3",
   "metadata": {},
   "outputs": [],
   "source": [
    "url_blocklist = [\"aws.amazon\", \"www.amazon.com/kindle-dbs\", \"squirting-orgasm\"]"
   ]
  },
  {
   "cell_type": "code",
   "execution_count": 109,
   "id": "8fe32d90-588b-4599-9acd-89694e6a596e",
   "metadata": {},
   "outputs": [
    {
     "name": "stdout",
     "output_type": "stream",
     "text": [
      "df start length: 88842\n",
      "df final length: 88704\n",
      "records removed: 138\n"
     ]
    }
   ],
   "source": [
    "df = remove_blocklist_url(df, url_blocklist)"
   ]
  },
  {
   "cell_type": "code",
   "execution_count": 110,
   "id": "8516cc3d",
   "metadata": {},
   "outputs": [
    {
     "name": "stdout",
     "output_type": "stream",
     "text": [
      "SERP features `NaN` records replaced with `None`: 602\n",
      "CPC `NaN` records replaced with `0`: 13180\n"
     ]
    }
   ],
   "source": [
    "df = fix_nan(df)"
   ]
  },
  {
   "cell_type": "code",
   "execution_count": 111,
   "id": "7d6fd6b6",
   "metadata": {},
   "outputs": [
    {
     "data": {
      "text/html": [
       "<div>\n",
       "<style scoped>\n",
       "    .dataframe tbody tr th:only-of-type {\n",
       "        vertical-align: middle;\n",
       "    }\n",
       "\n",
       "    .dataframe tbody tr th {\n",
       "        vertical-align: top;\n",
       "    }\n",
       "\n",
       "    .dataframe thead th {\n",
       "        text-align: right;\n",
       "    }\n",
       "</style>\n",
       "<table border=\"1\" class=\"dataframe\">\n",
       "  <thead>\n",
       "    <tr style=\"text-align: right;\">\n",
       "      <th></th>\n",
       "      <th>kw</th>\n",
       "      <th>SERP features</th>\n",
       "      <th>Volume</th>\n",
       "      <th>KD</th>\n",
       "      <th>CPC</th>\n",
       "      <th>Traffic</th>\n",
       "      <th>url</th>\n",
       "    </tr>\n",
       "  </thead>\n",
       "  <tbody>\n",
       "    <tr>\n",
       "      <th>0</th>\n",
       "      <td>horny goat weed</td>\n",
       "      <td>Knowledge panel</td>\n",
       "      <td>76000</td>\n",
       "      <td>61</td>\n",
       "      <td>0.37</td>\n",
       "      <td>70591</td>\n",
       "      <td>https://www.webmd.com/vitamins/ai/ingredientmo...</td>\n",
       "    </tr>\n",
       "  </tbody>\n",
       "</table>\n",
       "</div>"
      ],
      "text/plain": [
       "                kw    SERP features  Volume  KD   CPC  Traffic  \\\n",
       "0  horny goat weed  Knowledge panel   76000  61  0.37    70591   \n",
       "\n",
       "                                                 url  \n",
       "0  https://www.webmd.com/vitamins/ai/ingredientmo...  "
      ]
     },
     "execution_count": 111,
     "metadata": {},
     "output_type": "execute_result"
    }
   ],
   "source": [
    "df.head(1)"
   ]
  },
  {
   "cell_type": "code",
   "execution_count": 112,
   "id": "35d98498",
   "metadata": {},
   "outputs": [
    {
     "name": "stdout",
     "output_type": "stream",
     "text": [
      "DataFrame 'df' has 88704 rows and 7 columns.\n",
      "Here is a summary of the column names, data types and null counts:\n"
     ]
    },
    {
     "data": {
      "text/html": [
       "<div>\n",
       "<style scoped>\n",
       "    .dataframe tbody tr th:only-of-type {\n",
       "        vertical-align: middle;\n",
       "    }\n",
       "\n",
       "    .dataframe tbody tr th {\n",
       "        vertical-align: top;\n",
       "    }\n",
       "\n",
       "    .dataframe thead th {\n",
       "        text-align: right;\n",
       "    }\n",
       "</style>\n",
       "<table border=\"1\" class=\"dataframe\">\n",
       "  <thead>\n",
       "    <tr style=\"text-align: right;\">\n",
       "      <th></th>\n",
       "      <th>column_name</th>\n",
       "      <th>dtype</th>\n",
       "      <th>non_null_count</th>\n",
       "      <th>null_count</th>\n",
       "    </tr>\n",
       "  </thead>\n",
       "  <tbody>\n",
       "    <tr>\n",
       "      <th>0</th>\n",
       "      <td>kw</td>\n",
       "      <td>object</td>\n",
       "      <td>88704</td>\n",
       "      <td>0</td>\n",
       "    </tr>\n",
       "    <tr>\n",
       "      <th>1</th>\n",
       "      <td>SERP features</td>\n",
       "      <td>object</td>\n",
       "      <td>88704</td>\n",
       "      <td>0</td>\n",
       "    </tr>\n",
       "    <tr>\n",
       "      <th>2</th>\n",
       "      <td>Volume</td>\n",
       "      <td>int64</td>\n",
       "      <td>88704</td>\n",
       "      <td>0</td>\n",
       "    </tr>\n",
       "    <tr>\n",
       "      <th>3</th>\n",
       "      <td>KD</td>\n",
       "      <td>int64</td>\n",
       "      <td>88704</td>\n",
       "      <td>0</td>\n",
       "    </tr>\n",
       "    <tr>\n",
       "      <th>4</th>\n",
       "      <td>CPC</td>\n",
       "      <td>float64</td>\n",
       "      <td>88704</td>\n",
       "      <td>0</td>\n",
       "    </tr>\n",
       "    <tr>\n",
       "      <th>5</th>\n",
       "      <td>Traffic</td>\n",
       "      <td>int64</td>\n",
       "      <td>88704</td>\n",
       "      <td>0</td>\n",
       "    </tr>\n",
       "    <tr>\n",
       "      <th>6</th>\n",
       "      <td>url</td>\n",
       "      <td>object</td>\n",
       "      <td>88704</td>\n",
       "      <td>0</td>\n",
       "    </tr>\n",
       "  </tbody>\n",
       "</table>\n",
       "</div>"
      ],
      "text/plain": [
       "     column_name    dtype  non_null_count  null_count\n",
       "0             kw   object           88704           0\n",
       "1  SERP features   object           88704           0\n",
       "2         Volume    int64           88704           0\n",
       "3             KD    int64           88704           0\n",
       "4            CPC  float64           88704           0\n",
       "5        Traffic    int64           88704           0\n",
       "6            url   object           88704           0"
      ]
     },
     "execution_count": 112,
     "metadata": {},
     "output_type": "execute_result"
    }
   ],
   "source": [
    "show_df_info(df)"
   ]
  },
  {
   "cell_type": "code",
   "execution_count": 113,
   "id": "a2ec0cde",
   "metadata": {},
   "outputs": [
    {
     "name": "stdout",
     "output_type": "stream",
     "text": [
      "number of records: 88704\n"
     ]
    },
    {
     "data": {
      "text/html": [
       "<div>\n",
       "<style scoped>\n",
       "    .dataframe tbody tr th:only-of-type {\n",
       "        vertical-align: middle;\n",
       "    }\n",
       "\n",
       "    .dataframe tbody tr th {\n",
       "        vertical-align: top;\n",
       "    }\n",
       "\n",
       "    .dataframe thead th {\n",
       "        text-align: right;\n",
       "    }\n",
       "</style>\n",
       "<table border=\"1\" class=\"dataframe\">\n",
       "  <thead>\n",
       "    <tr style=\"text-align: right;\">\n",
       "      <th></th>\n",
       "      <th>column_name</th>\n",
       "      <th>count_unique</th>\n",
       "      <th>count_non_dup</th>\n",
       "      <th>count_dup</th>\n",
       "      <th>count_unique_dup</th>\n",
       "      <th>count_min_dup</th>\n",
       "      <th>count_max_dup</th>\n",
       "    </tr>\n",
       "  </thead>\n",
       "  <tbody>\n",
       "    <tr>\n",
       "      <th>0</th>\n",
       "      <td>url</td>\n",
       "      <td>40750</td>\n",
       "      <td>27114</td>\n",
       "      <td>61590</td>\n",
       "      <td>13636</td>\n",
       "      <td>2</td>\n",
       "      <td>118</td>\n",
       "    </tr>\n",
       "    <tr>\n",
       "      <th>1</th>\n",
       "      <td>kw</td>\n",
       "      <td>87664</td>\n",
       "      <td>86625</td>\n",
       "      <td>2079</td>\n",
       "      <td>1039</td>\n",
       "      <td>2</td>\n",
       "      <td>3</td>\n",
       "    </tr>\n",
       "  </tbody>\n",
       "</table>\n",
       "</div>"
      ],
      "text/plain": [
       "  column_name  count_unique  count_non_dup  count_dup  count_unique_dup  \\\n",
       "0         url         40750          27114      61590             13636   \n",
       "1          kw         87664          86625       2079              1039   \n",
       "\n",
       "   count_min_dup  count_max_dup  \n",
       "0              2            118  \n",
       "1              2              3  "
      ]
     },
     "execution_count": 113,
     "metadata": {},
     "output_type": "execute_result"
    }
   ],
   "source": [
    "summarize_duplicates(df, ['url', 'kw'])"
   ]
  },
  {
   "cell_type": "code",
   "execution_count": 116,
   "id": "d5a64a23-6dcc-48e6-843e-8fd03f5d6397",
   "metadata": {},
   "outputs": [],
   "source": [
    "df.to_csv('data/combined.csv', index=False)"
   ]
  },
  {
   "cell_type": "code",
   "execution_count": 117,
   "id": "cacf27bd-eaa5-4076-97fb-3afa0d5947e4",
   "metadata": {},
   "outputs": [],
   "source": [
    "df_10_000 = df.sample(n=10000, random_state=42)\n",
    "df_10_000.to_csv('data/kw_10_000.csv', index=False)"
   ]
  },
  {
   "cell_type": "code",
   "execution_count": 118,
   "id": "a5d9feb4-ba07-4e32-88e6-2f9959aadac0",
   "metadata": {},
   "outputs": [],
   "source": [
    "df_1_000 = df_10_000.sample(n=1000, random_state=42)\n",
    "df_1_000.to_csv('data/kw_1_000.csv', index=False)"
   ]
  },
  {
   "cell_type": "code",
   "execution_count": 119,
   "id": "6e80a000",
   "metadata": {},
   "outputs": [
    {
     "name": "stdout",
     "output_type": "stream",
     "text": [
      "number of records: 1000\n"
     ]
    },
    {
     "data": {
      "text/html": [
       "<div>\n",
       "<style scoped>\n",
       "    .dataframe tbody tr th:only-of-type {\n",
       "        vertical-align: middle;\n",
       "    }\n",
       "\n",
       "    .dataframe tbody tr th {\n",
       "        vertical-align: top;\n",
       "    }\n",
       "\n",
       "    .dataframe thead th {\n",
       "        text-align: right;\n",
       "    }\n",
       "</style>\n",
       "<table border=\"1\" class=\"dataframe\">\n",
       "  <thead>\n",
       "    <tr style=\"text-align: right;\">\n",
       "      <th></th>\n",
       "      <th>column_name</th>\n",
       "      <th>count_unique</th>\n",
       "      <th>count_non_dup</th>\n",
       "      <th>count_dup</th>\n",
       "      <th>count_unique_dup</th>\n",
       "      <th>count_min_dup</th>\n",
       "      <th>count_max_dup</th>\n",
       "    </tr>\n",
       "  </thead>\n",
       "  <tbody>\n",
       "    <tr>\n",
       "      <th>0</th>\n",
       "      <td>kw</td>\n",
       "      <td>1000</td>\n",
       "      <td>1000</td>\n",
       "      <td>0</td>\n",
       "      <td>0</td>\n",
       "      <td>0</td>\n",
       "      <td>0</td>\n",
       "    </tr>\n",
       "    <tr>\n",
       "      <th>1</th>\n",
       "      <td>url</td>\n",
       "      <td>966</td>\n",
       "      <td>934</td>\n",
       "      <td>66</td>\n",
       "      <td>32</td>\n",
       "      <td>2</td>\n",
       "      <td>3</td>\n",
       "    </tr>\n",
       "  </tbody>\n",
       "</table>\n",
       "</div>"
      ],
      "text/plain": [
       "  column_name  count_unique  count_non_dup  count_dup  count_unique_dup  \\\n",
       "0          kw          1000           1000          0                 0   \n",
       "1         url           966            934         66                32   \n",
       "\n",
       "   count_min_dup  count_max_dup  \n",
       "0              0              0  \n",
       "1              2              3  "
      ]
     },
     "execution_count": 119,
     "metadata": {},
     "output_type": "execute_result"
    }
   ],
   "source": [
    "summarize_duplicates(df_1_000, ['kw', 'url'])"
   ]
  },
  {
   "cell_type": "code",
   "execution_count": 120,
   "id": "8119f7b9",
   "metadata": {},
   "outputs": [
    {
     "data": {
      "text/plain": [
       "kw               1000\n",
       "SERP features     413\n",
       "Volume            154\n",
       "KD                 90\n",
       "CPC               298\n",
       "Traffic           723\n",
       "url               966\n",
       "dtype: int64"
      ]
     },
     "execution_count": 120,
     "metadata": {},
     "output_type": "execute_result"
    }
   ],
   "source": [
    "df_1_000.nunique()"
   ]
  },
  {
   "cell_type": "code",
   "execution_count": 121,
   "id": "98b2e4f2",
   "metadata": {},
   "outputs": [
    {
     "data": {
      "text/html": [
       "<div>\n",
       "<style scoped>\n",
       "    .dataframe tbody tr th:only-of-type {\n",
       "        vertical-align: middle;\n",
       "    }\n",
       "\n",
       "    .dataframe tbody tr th {\n",
       "        vertical-align: top;\n",
       "    }\n",
       "\n",
       "    .dataframe thead th {\n",
       "        text-align: right;\n",
       "    }\n",
       "</style>\n",
       "<table border=\"1\" class=\"dataframe\">\n",
       "  <thead>\n",
       "    <tr style=\"text-align: right;\">\n",
       "      <th></th>\n",
       "      <th>kw</th>\n",
       "    </tr>\n",
       "  </thead>\n",
       "  <tbody>\n",
       "    <tr>\n",
       "      <th>48569</th>\n",
       "      <td>stone for fireplace</td>\n",
       "    </tr>\n",
       "    <tr>\n",
       "      <th>46767</th>\n",
       "      <td>country french decor</td>\n",
       "    </tr>\n",
       "    <tr>\n",
       "      <th>14576</th>\n",
       "      <td>infant fever</td>\n",
       "    </tr>\n",
       "    <tr>\n",
       "      <th>71185</th>\n",
       "      <td>uglies</td>\n",
       "    </tr>\n",
       "    <tr>\n",
       "      <th>22373</th>\n",
       "      <td>why are my ears ringing</td>\n",
       "    </tr>\n",
       "    <tr>\n",
       "      <th>...</th>\n",
       "      <td>...</td>\n",
       "    </tr>\n",
       "    <tr>\n",
       "      <th>58572</th>\n",
       "      <td>underbed storage drawers</td>\n",
       "    </tr>\n",
       "    <tr>\n",
       "      <th>63385</th>\n",
       "      <td>weight scale</td>\n",
       "    </tr>\n",
       "    <tr>\n",
       "      <th>78884</th>\n",
       "      <td>yperx cloud core</td>\n",
       "    </tr>\n",
       "    <tr>\n",
       "      <th>55310</th>\n",
       "      <td>magnolia kobus</td>\n",
       "    </tr>\n",
       "    <tr>\n",
       "      <th>59866</th>\n",
       "      <td>cabinet pulls and knobs</td>\n",
       "    </tr>\n",
       "  </tbody>\n",
       "</table>\n",
       "<p>1000 rows × 1 columns</p>\n",
       "</div>"
      ],
      "text/plain": [
       "                             kw\n",
       "48569       stone for fireplace\n",
       "46767      country french decor\n",
       "14576              infant fever\n",
       "71185                    uglies\n",
       "22373   why are my ears ringing\n",
       "...                         ...\n",
       "58572  underbed storage drawers\n",
       "63385              weight scale\n",
       "78884          yperx cloud core\n",
       "55310            magnolia kobus\n",
       "59866   cabinet pulls and knobs\n",
       "\n",
       "[1000 rows x 1 columns]"
      ]
     },
     "execution_count": 121,
     "metadata": {},
     "output_type": "execute_result"
    }
   ],
   "source": [
    "df_1_000 = df_1_000.drop(['SERP features', 'Volume', 'KD', 'CPC', 'Traffic', 'url'], axis=1)\n",
    "df_1_000"
   ]
  },
  {
   "cell_type": "code",
   "execution_count": 122,
   "id": "2c99cdd2",
   "metadata": {},
   "outputs": [],
   "source": [
    "df_1_000 = df_10_000.sample(n=1000, random_state=42)\n",
    "df_1_000.to_csv('data/kw_1_000.csv', index=False)"
   ]
  }
 ],
 "metadata": {
  "kernelspec": {
   "display_name": "Python 3",
   "language": "python",
   "name": "python3"
  },
  "language_info": {
   "codemirror_mode": {
    "name": "ipython",
    "version": 3
   },
   "file_extension": ".py",
   "mimetype": "text/x-python",
   "name": "python",
   "nbconvert_exporter": "python",
   "pygments_lexer": "ipython3",
   "version": "3.10.9"
  },
  "vscode": {
   "interpreter": {
    "hash": "916dbcbb3f70747c44a77c7bcd40155683ae19c65e1c03b4aa3499c5328201f1"
   }
  }
 },
 "nbformat": 4,
 "nbformat_minor": 5
}
