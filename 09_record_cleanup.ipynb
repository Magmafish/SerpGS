{
 "cells": [
  {
   "attachments": {},
   "cell_type": "markdown",
   "metadata": {},
   "source": [
    "### Purpose:\n",
    "The purpose of this notebook is to clean that data gathered from the readibility API"
   ]
  },
  {
   "attachments": {},
   "cell_type": "markdown",
   "metadata": {},
   "source": [
    "### Dependancies:"
   ]
  },
  {
   "cell_type": "code",
   "execution_count": 79,
   "metadata": {},
   "outputs": [],
   "source": [
    "import pandas as pd\n",
    "import requests\n",
    "from bs4 import BeautifulSoup\n",
    "import re\n",
    "import os\n",
    "import csv\n",
    "import json\n",
    "import time\n",
    "from IPython.display import clear_output\n",
    "from urllib3.exceptions import NewConnectionError, MaxRetryError\n",
    "from socket import gaierror\n",
    "import json\n",
    "import string"
   ]
  },
  {
   "cell_type": "code",
   "execution_count": 80,
   "metadata": {},
   "outputs": [],
   "source": [
    "def get_json_data(directory):\n",
    "    \"\"\"\n",
    "    Recursively flattens all dictionaries in a given directory.\n",
    "    \"\"\"\n",
    "    flattened_list = []\n",
    "    for filename in os.listdir(directory):\n",
    "        filepath = os.path.join(directory, filename)\n",
    "        with open(filepath, \"r\") as f:\n",
    "            try:\n",
    "                d = json.load(f)\n",
    "                flattened = flatten_dict(d)\n",
    "                flattened_list.append(flattened)\n",
    "            except json.JSONDecodeError:\n",
    "                # Skip over any files that contain invalid JSON data\n",
    "                print(f\"Skipping file {filename}: invalid JSON data\")\n",
    "                pass\n",
    "    return flattened_list"
   ]
  },
  {
   "cell_type": "code",
   "execution_count": 81,
   "metadata": {},
   "outputs": [],
   "source": [
    "def load_csv(filepath: str) -> dict:\n",
    "    \"\"\"\n",
    "    Load a CSV file and return a dictionary with the link as the key and the cleaned text as the value.\n",
    "\n",
    "    Parameters:\n",
    "    filepath (str): The path to the CSV file to load.\n",
    "\n",
    "    Returns:\n",
    "    dict: A dictionary with the link as the key and the cleaned text as the value.\n",
    "    \"\"\"\n",
    "    # Increase the field size limit to the maximum possible value\n",
    "    csv.field_size_limit(2**31-1)\n",
    "\n",
    "    data = {}\n",
    "    with open(filepath, encoding=\"utf-8\") as f:\n",
    "        reader = csv.DictReader(f)\n",
    "        for row in reader:\n",
    "            link = row[\"Link\"]\n",
    "            text = row[\"Text\"]\n",
    "            cleaned_text = clean_text(text)\n",
    "            data[link] = cleaned_text\n",
    "    return data"
   ]
  },
  {
   "cell_type": "code",
   "execution_count": 82,
   "metadata": {},
   "outputs": [],
   "source": [
    "def clean_text(text: str) -> str:\n",
    "    \"\"\"\n",
    "    Clean up text by replacing tabs and newlines with spaces, and replacing multiple spaces with single spaces.\n",
    "\n",
    "    Parameters:\n",
    "    text (str): The text to clean up.\n",
    "\n",
    "    Returns:\n",
    "    str: The cleaned up text.\n",
    "    \"\"\"\n",
    "    # Replace all tabs with a space\n",
    "    text = re.sub(\"\\t\", \" \", text)\n",
    "\n",
    "    # Replace all newlines with a space\n",
    "    text = re.sub(\"\\n\", \" \", text)\n",
    "\n",
    "    # Replace all double spaces with a single space\n",
    "    text = re.sub(\"  +\", \" \", text)\n",
    "\n",
    "    text = text.strip()\n",
    "    return text"
   ]
  },
  {
   "cell_type": "code",
   "execution_count": 83,
   "metadata": {},
   "outputs": [],
   "source": [
    "def flatten_dict(d):\n",
    "    \"\"\"\n",
    "    Recursively flattens a dictionary with nested keys.\n",
    "    \"\"\"\n",
    "    items = {}\n",
    "    for key, value in d.items():\n",
    "        #try:\n",
    "        #if isinstance(value, dict):\n",
    "        if type(value) == dict:\n",
    "            flattened = flatten_dict(value)\n",
    "            for subkey, subvalue in flattened.items():\n",
    "                items[subkey] = subvalue\n",
    "        else:\n",
    "            items[key] = value\n",
    "        #except:\n",
    "        #    print(\"somthing bad happened\")\n",
    "    \n",
    "    new_dict = {k: v for k, v in items.items()}\n",
    "    return new_dict"
   ]
  },
  {
   "cell_type": "code",
   "execution_count": 84,
   "metadata": {},
   "outputs": [],
   "source": [
    "def evaluate_readability(text: str, url: str = \"https://staging-originalityai-originstg.kinsta.cloud/tool-readability/src/API/TextHighlighter-api.php\") -> requests.Response:\n",
    "    \"\"\"\n",
    "    Evaluate the readability of a given text using an API endpoint.\n",
    "\n",
    "    Parameters:\n",
    "    text (str): The text to evaluate.\n",
    "    url (str): The URL of the API endpoint to use. Defaults to \"https://staging-originalityai-originstg.kinsta.cloud/tool-readability/src/API/TextHighlighter-api.php\".\n",
    "\n",
    "    Returns:\n",
    "    requests.Response: The response from the API endpoint.\n",
    "    \"\"\"\n",
    "    payload = json.dumps({\"text\": text})\n",
    "    response = requests.request(\"POST\", url=url, data=payload)\n",
    "    \n",
    "    #clear_output(wait=True)\n",
    "    print(f\"Request sent to {url}\")\n",
    "    if response.status_code == 200:\n",
    "        print(f\"Response successfully received\")\n",
    "    else:\n",
    "       print(f\"Error response received\") \n",
    "    print(f\"Response code: {response.status_code}\")\n",
    "    return response"
   ]
  },
  {
   "cell_type": "markdown",
   "metadata": {},
   "source": [
    "### Functions:"
   ]
  },
  {
   "cell_type": "markdown",
   "metadata": {},
   "source": [
    "### Code Execution"
   ]
  },
  {
   "cell_type": "code",
   "execution_count": 85,
   "metadata": {},
   "outputs": [],
   "source": [
    "x = get_json_data(\"data/json\")"
   ]
  },
  {
   "cell_type": "code",
   "execution_count": 86,
   "metadata": {},
   "outputs": [
    {
     "data": {
      "text/plain": [
       "13588"
      ]
     },
     "execution_count": 86,
     "metadata": {},
     "output_type": "execute_result"
    }
   ],
   "source": [
    "len(x)"
   ]
  },
  {
   "cell_type": "code",
   "execution_count": 87,
   "metadata": {},
   "outputs": [],
   "source": [
    "# data/responses/03944.csv to data/responses/03949.csv had invalid characters and needed repair"
   ]
  },
  {
   "cell_type": "code",
   "execution_count": 88,
   "metadata": {},
   "outputs": [
    {
     "data": {
      "text/plain": [
       "{'https://www.arducam.com/product-category/uvc-usb-camera-module/usb-uvc-cameras-low-light/': \"Low Light USB Cameras Archives - Arducam Toggle Navigation Solutions TinyML UDOO KEYPico4MLRaspberry Pi PicoUltra Low-Power Cameras for Nano 33 BLE SenseMachine Learning on MCUs (TinyML) with VisionFor Your Platform Raspberry PiRaspberry Pi PicoJetson Nano/Xavier NXArduino and other MicrocontrollersFor Your Application Multispectral/Hyperspectral ImagingSync Multiple MIPI Cameras with CamarrayUSB 3.0 Camera Dev Kit for CMOS SensorsEmbedded Spatial AI and 3D LocalizationLens Selection in Optical TestingFor Image Sensor IMX477OV2640HM01B0/HM0360Products FPD-Link III CamerasArducam MegaRaspberry Pi Camera ToF Camera for RPi64MP Camera for Pi16MP Camera for PiIMX708 Camera Module 3Native Pi CamerasPivariety CamerasIndustrial Board CamerasGlobal Shutter CameraPTZ CameraMultiple CamerasUltra Low Light CameraAutofocusHDRNVIDIA Jetson Cameras NVIDIA Jetson Orin CamerasOpenCV AI KitMicrocontroller Camera Arduino CamerasSTM32 Camera ModulesESP32/ESP8266 CameraRaspberry Pi Pico CameraBBC micro:bit CamerasUSB 3 Camera Dev KitUSB Webcam (UVC Camera)Camera Breakout BoardOEM/Compact Camera ModulesLensesOptical FiltersOCamApplicationsDiscuss BlogsForumDocs Raspberry Pi CameraJetson Nano CameraUSB Camera ShieldArduino/SPI CameraRaspberry Pi PicoSee AllContact Us For Product and ServiceAbout UsSocial YouTubeTwitterFacebookLinkedInBuy DistributorsCustomization ServicesAmazon Storefront (US) Search for: Low Light USB CamerasHome\\xa0/\\xa0UVC USB Camera Module\\xa0/\\xa0Low Light USB Cameras Showing all 10 results Default sortingSort by popularitySort by latestSort by price: low to highSort by price: high to low Search for: Search Resolution2MP (4)Form Factor38 x 38 (2)Enclosed (2)Focus TypeFixed (3)Manual (1)IR sensitivityVisible Light (4)InterfaceUSB (4)Filter byLow Light (6)Wide Angle (3)with Microphone (1) Low Light USB Cameras , USB Board Cameras w/ Enclosures (UVC-Compliant) 1080P Low Light Low Distortion USB Camera Module with Mini Metal Case, 2MP CMOS IMX323 Mini UVC USB2.0 Webcam Board with Microphones, 3.3ft/1m Cable for Windows, Linux, Android, and Mac OS-Arducam Buy Now Low Light USB Cameras , USB Board Cameras w/ Enclosures (UVC-Compliant) Arducam Fisheye Low Light USB Camera with Mini Metal Case, 2MP 1080P IMX291 Wide Angle Mini H.264 UVC Video Camera Board with Microphone for Computer, Laptop, and Desktop Buy Now Low Light USB Cameras , USB Board Cameras w/ Enclosures (UVC-Compliant) Manual Focus Lens USB Camera with 1/2.8″ IMX291 Image Sensor, Low Illumination Webcam with 4mm CCTV Video Lens for Android, Linux, Windows-Arducam Buy Now Low Light USB Cameras , UVC USB Camera Module 1080P Low Light Low Distortion USB Camera Module with Microphone, 2MP IMX323 Mini Webcam Buy Now\\xa0HD Resolution and Low Light: This camera adopts the SONY 2MP IMX323 Color COMS sensor, can capture the minimum illumination 0.01 [email\\xa0protected]Low Distortion: This camera module has 68°(H) Low-Distortion (<3%) M12 Lens, which minimizes the … Low Light USB Cameras , UVC USB Camera Module Arducam 1080P Low Light WDR Ultra Wide Angle USB Camera Module for Computer, 2MP CMOS IMX291 160 Degree Fisheye Mini UVC USB2.0 Spy Webcam Board with Microphone, 3.3ft Cable for Windows Linux Mac OS Buy Now\\xa0HD Resolution and Low Light: This camera adopts the 2MP 1/2.8” IMX291 Color COMS sensor with an 80dB wide dynamic range, can capture the minimum illumination 0.001Lux.Ultra Wide Angle: High quality 160 degree super wide … Low Light USB Cameras , UVC USB Camera Module 1080P Low Light Wide Angle USB Camera Module with Microphone for Computer, 2MP 1/2.8″ CMOS IMX291 100 Degree Mini UVC USB2.0 Webcam Buy Now\\xa0HD Resolution and Low Light: This camera adopts the SONY 2MP IMX291 Color COMS sensor with an 80dB wide dynamic range, can capture the minimum illumination 0.001Lux.Wide … Low Light USB Cameras , UVC USB Camera Module Arducam 1080P Low Light WDR USB Camera Module for Computer, 2MP 1/2.8” CMOS IMX291 120 Degree Wide Angle Mini UVC Webcam Board with Microphone Buy Now\\xa0HD Resolution and Low Light: This camera adopts the SONY 2MP IMX291 Color COMS sensor with an 80dB wide dynamic range, can capture the minimum illumination 0.001Lux.Wide Angle: High quality 120 degree wide view angle … Low Light USB Cameras , USB Board Cameras w/ Enclosures (UVC-Compliant) Arducam 1080P Low Light WDR USB Camera Module with Metal Case and Tripod, 2MP 1/2.8″ CMOS IMX291 160 Degree Ultra Wide Angle Mini UVC Webcam Board with Microphone, 3.3ft/1m Cable for Windows Linux Mac OS Buy Now\\xa0The new version of B020201 Low Light USB Cameras , USB Board Cameras w/ Enclosures (UVC-Compliant) Arducam 1080P Low Light WDR USB Camera Module with Metal Case, 2MP 1/2.8″ CMOS IMX291 160 Degree Ultra Wide Angle Mini UVC Webcam Board with Microphones Buy Now\\xa0HD Resolution and Low Light: This camera adopts the SONY 2MP 1/2.8” IMX291 Color COMS sensor with an 80dB wide dynamic range, can capture the minimum illumination 0.001Lux.Ultra Wide Angle: High quality 160 degree super … Low Light USB Cameras , UVC USB Camera Module Arducam Fisheye Low Light USB Camera for Computer, 2MP 1080P IMX291 Wide Angle Mini H.264 UVC Video Camera Board with Microphone Buy Now\\xa0HD and Low Light: This camera adopts the 2MP 1/2.8” IMX291 Color COMS sensor with an 80DB wide dynamic range, can capture the minimum illumination 0.001Lux.Real Fisheye: Mounted a high quality 175°(D) wide-angle … InformationContact UsPrivacy PolicyShipping & TrackingFocal Length CalculatorAbout UsDocumentationCamera for Raspberry PiJetson CamerasSPI CameraUSB Industrial CameraUVC CameraOptics & LensesContact UsTechnical SupportOrder IssuesWebsite IssuesCustomizationAny Other Issues © 2023 Arducam, All Rights Reserved Subscribe for more techs on embedded cameras, sensors, and systems 0 Your Cart Your Cart is empty!It looks like you haven't added any items to your cart yet. Browse Products CLOSE Welcome to the Arducam Forum. \\xa0Here are our forum rules to comply with if you want to post a new topic:Arducam posting rulesThe posting rules aim to help you better articulate your questions and be descriptive enough to get help.\\xa0Any topic that fails to comply with the posting rules will be unapproved starting from 11/11/2020.This forum is public. If you prefer a private conversation with Arducam, go to our Contact Center.If you need help with the Arducam products you’ve purchased, please include the following questions in your post and answer them to help us better understand your needs.Which seller did you purchase the product(s) from? (Is it Amazon, UCTRONICS, or other Arducam distributors?)What’s the Model number of the product(s) you’ve purchased? (If you don’t know the model number, show us the link to the product.)Which Platform are you using the product(s) on? (Is it a Raspberry Pi 3B+/4B, Arduino UNO R3, Jetson Nano B01, or another host?)Which instruction are you following? (Is it our paper instruction manual, online documentation, or video tutorial? A link will Help.)Has your product ever worked properly? (Never worked, quit working, or work intermittently)What problems are you experiencing? (pictures and error codes will help a lot)What attempts at troubleshooting have you already made?How would you like us to help you? × × Subscription to Our Newsletter\\xa0 ×\"}"
      ]
     },
     "execution_count": 88,
     "metadata": {},
     "output_type": "execute_result"
    }
   ],
   "source": [
    "dict = load_csv('data/responses/03949.csv')\n",
    "dict"
   ]
  },
  {
   "cell_type": "code",
   "execution_count": 89,
   "metadata": {},
   "outputs": [
    {
     "name": "stdout",
     "output_type": "stream",
     "text": [
      "Invalid JSON characters found, removing...\n",
      "Cleaned string:\n",
      "Low Light USB Cameras Archives - Arducam Toggle Navigation Solutions TinyML UDOO KEYPico4MLRaspberry Pi PicoUltra Low-Power Cameras for Nano 33 BLE SenseMachine Learning on MCUs (TinyML) with VisionFor Your Platform Raspberry PiRaspberry Pi PicoJetson Nano/Xavier NXArduino and other MicrocontrollersFor Your Application Multispectral/Hyperspectral ImagingSync Multiple MIPI Cameras with CamarrayUSB 3.0 Camera Dev Kit for CMOS SensorsEmbedded Spatial AI and 3D LocalizationLens Selection in Optical TestingFor Image Sensor IMX477OV2640HM01B0/HM0360Products FPD-Link III CamerasArducam MegaRaspberry Pi Camera ToF Camera for RPi64MP Camera for Pi16MP Camera for PiIMX708 Camera Module 3Native Pi CamerasPivariety CamerasIndustrial Board CamerasGlobal Shutter CameraPTZ CameraMultiple CamerasUltra Low Light CameraAutofocusHDRNVIDIA Jetson Cameras NVIDIA Jetson Orin CamerasOpenCV AI KitMicrocontroller Camera Arduino CamerasSTM32 Camera ModulesESP32/ESP8266 CameraRaspberry Pi Pico CameraBBC micro:bit CamerasUSB 3 Camera Dev KitUSB Webcam (UVC Camera)Camera Breakout BoardOEM/Compact Camera ModulesLensesOptical FiltersOCamApplicationsDiscuss BlogsForumDocs Raspberry Pi CameraJetson Nano CameraUSB Camera ShieldArduino/SPI CameraRaspberry Pi PicoSee AllContact Us For Product and ServiceAbout UsSocial YouTubeTwitterFacebookLinkedInBuy DistributorsCustomization ServicesAmazon Storefront (US) Search for: Low Light USB CamerasHome / UVC USB Camera Module / Low Light USB Cameras Showing all 10 results Default sortingSort by popularitySort by latestSort by price: low to highSort by price: high to low Search for: Search Resolution2MP (4)Form Factor38 x 38 (2)Enclosed (2)Focus TypeFixed (3)Manual (1)IR sensitivityVisible Light (4)InterfaceUSB (4)Filter byLow Light (6)Wide Angle (3)with Microphone (1) Low Light USB Cameras , USB Board Cameras w/ Enclosures (UVC-Compliant) 1080P Low Light Low Distortion USB Camera Module with Mini Metal Case, 2MP CMOS IMX323 Mini UVC USB2.0 Webcam Board with Microphones, 3.3ft/1m Cable for Windows, Linux, Android, and Mac OS-Arducam Buy Now Low Light USB Cameras , USB Board Cameras w/ Enclosures (UVC-Compliant) Arducam Fisheye Low Light USB Camera with Mini Metal Case, 2MP 1080P IMX291 Wide Angle Mini H.264 UVC Video Camera Board with Microphone for Computer, Laptop, and Desktop Buy Now Low Light USB Cameras , USB Board Cameras w/ Enclosures (UVC-Compliant) Manual Focus Lens USB Camera with 1/2.8 IMX291 Image Sensor, Low Illumination Webcam with 4mm CCTV Video Lens for Android, Linux, Windows-Arducam Buy Now Low Light USB Cameras , UVC USB Camera Module 1080P Low Light Low Distortion USB Camera Module with Microphone, 2MP IMX323 Mini Webcam Buy Now HD Resolution and Low Light: This camera adopts the SONY 2MP IMX323 Color COMS sensor, can capture the minimum illumination 0.01 [email protected]Low Distortion: This camera module has 68(H) Low-Distortion (<3%) M12 Lens, which minimizes the  Low Light USB Cameras , UVC USB Camera Module Arducam 1080P Low Light WDR Ultra Wide Angle USB Camera Module for Computer, 2MP CMOS IMX291 160 Degree Fisheye Mini UVC USB2.0 Spy Webcam Board with Microphone, 3.3ft Cable for Windows Linux Mac OS Buy Now HD Resolution and Low Light: This camera adopts the 2MP 1/2.8 IMX291 Color COMS sensor with an 80dB wide dynamic range, can capture the minimum illumination 0.001Lux.Ultra Wide Angle: High quality 160 degree super wide  Low Light USB Cameras , UVC USB Camera Module 1080P Low Light Wide Angle USB Camera Module with Microphone for Computer, 2MP 1/2.8 CMOS IMX291 100 Degree Mini UVC USB2.0 Webcam Buy Now HD Resolution and Low Light: This camera adopts the SONY 2MP IMX291 Color COMS sensor with an 80dB wide dynamic range, can capture the minimum illumination 0.001Lux.Wide  Low Light USB Cameras , UVC USB Camera Module Arducam 1080P Low Light WDR USB Camera Module for Computer, 2MP 1/2.8 CMOS IMX291 120 Degree Wide Angle Mini UVC Webcam Board with Microphone Buy Now HD Resolution and Low Light: This camera adopts the SONY 2MP IMX291 Color COMS sensor with an 80dB wide dynamic range, can capture the minimum illumination 0.001Lux.Wide Angle: High quality 120 degree wide view angle  Low Light USB Cameras , USB Board Cameras w/ Enclosures (UVC-Compliant) Arducam 1080P Low Light WDR USB Camera Module with Metal Case and Tripod, 2MP 1/2.8 CMOS IMX291 160 Degree Ultra Wide Angle Mini UVC Webcam Board with Microphone, 3.3ft/1m Cable for Windows Linux Mac OS Buy Now The new version of B020201 Low Light USB Cameras , USB Board Cameras w/ Enclosures (UVC-Compliant) Arducam 1080P Low Light WDR USB Camera Module with Metal Case, 2MP 1/2.8 CMOS IMX291 160 Degree Ultra Wide Angle Mini UVC Webcam Board with Microphones Buy Now HD Resolution and Low Light: This camera adopts the SONY 2MP 1/2.8 IMX291 Color COMS sensor with an 80dB wide dynamic range, can capture the minimum illumination 0.001Lux.Ultra Wide Angle: High quality 160 degree super  Low Light USB Cameras , UVC USB Camera Module Arducam Fisheye Low Light USB Camera for Computer, 2MP 1080P IMX291 Wide Angle Mini H.264 UVC Video Camera Board with Microphone Buy Now HD and Low Light: This camera adopts the 2MP 1/2.8 IMX291 Color COMS sensor with an 80DB wide dynamic range, can capture the minimum illumination 0.001Lux.Real Fisheye: Mounted a high quality 175(D) wide-angle  InformationContact UsPrivacy PolicyShipping & TrackingFocal Length CalculatorAbout UsDocumentationCamera for Raspberry PiJetson CamerasSPI CameraUSB Industrial CameraUVC CameraOptics & LensesContact UsTechnical SupportOrder IssuesWebsite IssuesCustomizationAny Other Issues  2023 Arducam, All Rights Reserved Subscribe for more techs on embedded cameras, sensors, and systems 0 Your Cart Your Cart is empty!It looks like you haven't added any items to your cart yet. Browse Products CLOSE Welcome to the Arducam Forum. Here are our forum rules to comply with if you want to post a new topic:Arducam posting rulesThe posting rules aim to help you better articulate your questions and be descriptive enough to get help. Any topic that fails to comply with the posting rules will be unapproved starting from 11/11/2020.This forum is public. If you prefer a private conversation with Arducam, go to our Contact Center.If you need help with the Arducam products youve purchased, please include the following questions in your post and answer them to help us better understand your needs.Which seller did you purchase the product(s) from? (Is it Amazon, UCTRONICS, or other Arducam distributors?)Whats the Model number of the product(s) youve purchased? (If you dont know the model number, show us the link to the product.)Which Platform are you using the product(s) on? (Is it a Raspberry Pi 3B+/4B, Arduino UNO R3, Jetson Nano B01, or another host?)Which instruction are you following? (Is it our paper instruction manual, online documentation, or video tutorial? A link will Help.)Has your product ever worked properly? (Never worked, quit working, or work intermittently)What problems are you experiencing? (pictures and error codes will help a lot)What attempts at troubleshooting have you already made?How would you like us to help you?   Subscription to Our Newsletter \n",
      "Low Light USB Cameras Archives - Arducam Toggle Navigation Solutions TinyML UDOO KEYPico4MLRaspberry Pi PicoUltra Low-Power Cameras for Nano 33 BLE SenseMachine Learning on MCUs (TinyML) with VisionFor Your Platform Raspberry PiRaspberry Pi PicoJetson Nano/Xavier NXArduino and other MicrocontrollersFor Your Application Multispectral/Hyperspectral ImagingSync Multiple MIPI Cameras with CamarrayUSB 3.0 Camera Dev Kit for CMOS SensorsEmbedded Spatial AI and 3D LocalizationLens Selection in Optical TestingFor Image Sensor IMX477OV2640HM01B0/HM0360Products FPD-Link III CamerasArducam MegaRaspberry Pi Camera ToF Camera for RPi64MP Camera for Pi16MP Camera for PiIMX708 Camera Module 3Native Pi CamerasPivariety CamerasIndustrial Board CamerasGlobal Shutter CameraPTZ CameraMultiple CamerasUltra Low Light CameraAutofocusHDRNVIDIA Jetson Cameras NVIDIA Jetson Orin CamerasOpenCV AI KitMicrocontroller Camera Arduino CamerasSTM32 Camera ModulesESP32/ESP8266 CameraRaspberry Pi Pico CameraBBC micro:bit CamerasUSB 3 Camera Dev KitUSB Webcam (UVC Camera)Camera Breakout BoardOEM/Compact Camera ModulesLensesOptical FiltersOCamApplicationsDiscuss BlogsForumDocs Raspberry Pi CameraJetson Nano CameraUSB Camera ShieldArduino/SPI CameraRaspberry Pi PicoSee AllContact Us For Product and ServiceAbout UsSocial YouTubeTwitterFacebookLinkedInBuy DistributorsCustomization ServicesAmazon Storefront (US) Search for: Low Light USB CamerasHome / UVC USB Camera Module / Low Light USB Cameras Showing all 10 results Default sortingSort by popularitySort by latestSort by price: low to highSort by price: high to low Search for: Search Resolution2MP (4)Form Factor38 x 38 (2)Enclosed (2)Focus TypeFixed (3)Manual (1)IR sensitivityVisible Light (4)InterfaceUSB (4)Filter byLow Light (6)Wide Angle (3)with Microphone (1) Low Light USB Cameras , USB Board Cameras w/ Enclosures (UVC-Compliant) 1080P Low Light Low Distortion USB Camera Module with Mini Metal Case, 2MP CMOS IMX323 Mini UVC USB2.0 Webcam Board with Microphones, 3.3ft/1m Cable for Windows, Linux, Android, and Mac OS-Arducam Buy Now Low Light USB Cameras , USB Board Cameras w/ Enclosures (UVC-Compliant) Arducam Fisheye Low Light USB Camera with Mini Metal Case, 2MP 1080P IMX291 Wide Angle Mini H.264 UVC Video Camera Board with Microphone for Computer, Laptop, and Desktop Buy Now Low Light USB Cameras , USB Board Cameras w/ Enclosures (UVC-Compliant) Manual Focus Lens USB Camera with 1/2.8″ IMX291 Image Sensor, Low Illumination Webcam with 4mm CCTV Video Lens for Android, Linux, Windows-Arducam Buy Now Low Light USB Cameras , UVC USB Camera Module 1080P Low Light Low Distortion USB Camera Module with Microphone, 2MP IMX323 Mini Webcam Buy Now HD Resolution and Low Light: This camera adopts the SONY 2MP IMX323 Color COMS sensor, can capture the minimum illumination 0.01 [email protected]Low Distortion: This camera module has 68°(H) Low-Distortion (<3%) M12 Lens, which minimizes the … Low Light USB Cameras , UVC USB Camera Module Arducam 1080P Low Light WDR Ultra Wide Angle USB Camera Module for Computer, 2MP CMOS IMX291 160 Degree Fisheye Mini UVC USB2.0 Spy Webcam Board with Microphone, 3.3ft Cable for Windows Linux Mac OS Buy Now HD Resolution and Low Light: This camera adopts the 2MP 1/2.8” IMX291 Color COMS sensor with an 80dB wide dynamic range, can capture the minimum illumination 0.001Lux.Ultra Wide Angle: High quality 160 degree super wide … Low Light USB Cameras , UVC USB Camera Module 1080P Low Light Wide Angle USB Camera Module with Microphone for Computer, 2MP 1/2.8″ CMOS IMX291 100 Degree Mini UVC USB2.0 Webcam Buy Now HD Resolution and Low Light: This camera adopts the SONY 2MP IMX291 Color COMS sensor with an 80dB wide dynamic range, can capture the minimum illumination 0.001Lux.Wide … Low Light USB Cameras , UVC USB Camera Module Arducam 1080P Low Light WDR USB Camera Module for Computer, 2MP 1/2.8” CMOS IMX291 120 Degree Wide Angle Mini UVC Webcam Board with Microphone Buy Now HD Resolution and Low Light: This camera adopts the SONY 2MP IMX291 Color COMS sensor with an 80dB wide dynamic range, can capture the minimum illumination 0.001Lux.Wide Angle: High quality 120 degree wide view angle … Low Light USB Cameras , USB Board Cameras w/ Enclosures (UVC-Compliant) Arducam 1080P Low Light WDR USB Camera Module with Metal Case and Tripod, 2MP 1/2.8″ CMOS IMX291 160 Degree Ultra Wide Angle Mini UVC Webcam Board with Microphone, 3.3ft/1m Cable for Windows Linux Mac OS Buy Now The new version of B020201 Low Light USB Cameras , USB Board Cameras w/ Enclosures (UVC-Compliant) Arducam 1080P Low Light WDR USB Camera Module with Metal Case, 2MP 1/2.8″ CMOS IMX291 160 Degree Ultra Wide Angle Mini UVC Webcam Board with Microphones Buy Now HD Resolution and Low Light: This camera adopts the SONY 2MP 1/2.8” IMX291 Color COMS sensor with an 80dB wide dynamic range, can capture the minimum illumination 0.001Lux.Ultra Wide Angle: High quality 160 degree super … Low Light USB Cameras , UVC USB Camera Module Arducam Fisheye Low Light USB Camera for Computer, 2MP 1080P IMX291 Wide Angle Mini H.264 UVC Video Camera Board with Microphone Buy Now HD and Low Light: This camera adopts the 2MP 1/2.8” IMX291 Color COMS sensor with an 80DB wide dynamic range, can capture the minimum illumination 0.001Lux.Real Fisheye: Mounted a high quality 175°(D) wide-angle … InformationContact UsPrivacy PolicyShipping & TrackingFocal Length CalculatorAbout UsDocumentationCamera for Raspberry PiJetson CamerasSPI CameraUSB Industrial CameraUVC CameraOptics & LensesContact UsTechnical SupportOrder IssuesWebsite IssuesCustomizationAny Other Issues © 2023 Arducam, All Rights Reserved Subscribe for more techs on embedded cameras, sensors, and systems 0 Your Cart Your Cart is empty!It looks like you haven't added any items to your cart yet. Browse Products CLOSE Welcome to the Arducam Forum. Here are our forum rules to comply with if you want to post a new topic:Arducam posting rulesThe posting rules aim to help you better articulate your questions and be descriptive enough to get help. Any topic that fails to comply with the posting rules will be unapproved starting from 11/11/2020.This forum is public. If you prefer a private conversation with Arducam, go to our Contact Center.If you need help with the Arducam products you’ve purchased, please include the following questions in your post and answer them to help us better understand your needs.Which seller did you purchase the product(s) from? (Is it Amazon, UCTRONICS, or other Arducam distributors?)What’s the Model number of the product(s) you’ve purchased? (If you don’t know the model number, show us the link to the product.)Which Platform are you using the product(s) on? (Is it a Raspberry Pi 3B+/4B, Arduino UNO R3, Jetson Nano B01, or another host?)Which instruction are you following? (Is it our paper instruction manual, online documentation, or video tutorial? A link will Help.)Has your product ever worked properly? (Never worked, quit working, or work intermittently)What problems are you experiencing? (pictures and error codes will help a lot)What attempts at troubleshooting have you already made?How would you like us to help you? × × Subscription to Our Newsletter ×\n"
     ]
    }
   ],
   "source": [
    "for k, v in dict.items():\n",
    "    v = v.strip()\n",
    "v = re.sub(r'\\s+', ' ', v)\n",
    "\n",
    "try:\n",
    "    json.loads(v)\n",
    "except ValueError as e:\n",
    "    print(\"Invalid JSON characters found, removing...\")\n",
    "    cleaned_str = ''.join(filter(lambda x: x in string.printable, v))\n",
    "    print(\"Cleaned string:\")\n",
    "    print(cleaned_str)\n",
    "print(v)"
   ]
  },
  {
   "cell_type": "code",
   "execution_count": 90,
   "metadata": {},
   "outputs": [
    {
     "name": "stdout",
     "output_type": "stream",
     "text": [
      "Request sent to https://staging-originalityai-originstg.kinsta.cloud/tool-readability/src/API/TextHighlighter-api.php\n",
      "Response successfully received\n",
      "Response code: 200\n"
     ]
    }
   ],
   "source": [
    "v = evaluate_readability(v)"
   ]
  },
  {
   "cell_type": "code",
   "execution_count": 91,
   "metadata": {},
   "outputs": [
    {
     "data": {
      "text/plain": [
       "{'text': \"Low Light USB Cameras Archives - Arducam Toggle Navigation Solutions TinyML UDOO KEYPico4MLRaspberry Pi PicoUltra Low-Power Cameras for Nano 33 BLE SenseMachine Learning on MCUs (TinyML) with VisionFor Your Platform Raspberry PiRaspberry Pi PicoJetson Nano/Xavier NXArduino and other MicrocontrollersFor Your Application Multispectral/Hyperspectral ImagingSync Multiple MIPI Cameras with CamarrayUSB 3.0 Camera Dev Kit for CMOS SensorsEmbedded Spatial AI and 3D LocalizationLens Selection in Optical TestingFor Image Sensor IMX477OV2640HM01B0/HM0360Products FPD-Link III CamerasArducam MegaRaspberry Pi Camera ToF Camera for RPi64MP Camera for Pi16MP Camera for PiIMX708 Camera Module 3Native Pi CamerasPivariety CamerasIndustrial Board CamerasGlobal Shutter CameraPTZ CameraMultiple CamerasUltra Low Light CameraAutofocusHDRNVIDIA Jetson Cameras NVIDIA Jetson Orin CamerasOpenCV AI KitMicrocontroller Camera Arduino CamerasSTM32 Camera ModulesESP32/ESP8266 CameraRaspberry Pi Pico CameraBBC micro:bit CamerasUSB 3 Camera Dev KitUSB Webcam (UVC Camera)Camera Breakout BoardOEM/Compact Camera ModulesLensesOptical FiltersOCamApplicationsDiscuss BlogsForumDocs Raspberry Pi CameraJetson Nano CameraUSB Camera ShieldArduino/SPI CameraRaspberry Pi PicoSee AllContact Us For Product and ServiceAbout UsSocial YouTubeTwitterFacebookLinkedInBuy DistributorsCustomization ServicesAmazon Storefront (US) Search for: Low Light USB CamerasHome / UVC USB Camera Module / Low Light USB Cameras Showing all 10 results Default sortingSort by popularitySort by latestSort by price: low to highSort by price: high to low Search for: Search Resolution2MP (4)Form Factor38 x 38 (2)Enclosed (2)Focus TypeFixed (3)Manual (1)IR sensitivityVisible Light (4)InterfaceUSB (4)Filter byLow Light (6)Wide Angle (3)with Microphone (1) Low Light USB Cameras , USB Board Cameras w/ Enclosures (UVC-Compliant) 1080P Low Light Low Distortion USB Camera Module with Mini Metal Case, 2MP CMOS IMX323 Mini UVC USB2.0 Webcam Board with Microphones, 3.3ft/1m Cable for Windows, Linux, Android, and Mac OS-Arducam Buy Now Low Light USB Cameras , USB Board Cameras w/ Enclosures (UVC-Compliant) Arducam Fisheye Low Light USB Camera with Mini Metal Case, 2MP 1080P IMX291 Wide Angle Mini H.264 UVC Video Camera Board with Microphone for Computer, Laptop, and Desktop Buy Now Low Light USB Cameras , USB Board Cameras w/ Enclosures (UVC-Compliant) Manual Focus Lens USB Camera with 1/2.8″ IMX291 Image Sensor, Low Illumination Webcam with 4mm CCTV Video Lens for Android, Linux, Windows-Arducam Buy Now Low Light USB Cameras , UVC USB Camera Module 1080P Low Light Low Distortion USB Camera Module with Microphone, 2MP IMX323 Mini Webcam Buy Now HD Resolution and Low Light: This camera adopts the SONY 2MP IMX323 Color COMS sensor, can capture the minimum illumination 0.01 [email protected]Low Distortion: This camera module has 68°(H) Low-Distortion (<3%) M12 Lens, which minimizes the … Low Light USB Cameras , UVC USB Camera Module Arducam 1080P Low Light WDR Ultra Wide Angle USB Camera Module for Computer, 2MP CMOS IMX291 160 Degree Fisheye Mini UVC USB2.0 Spy Webcam Board with Microphone, 3.3ft Cable for Windows Linux Mac OS Buy Now HD Resolution and Low Light: This camera adopts the 2MP 1/2.8” IMX291 Color COMS sensor with an 80dB wide dynamic range, can capture the minimum illumination 0.001Lux.Ultra Wide Angle: High quality 160 degree super wide … Low Light USB Cameras , UVC USB Camera Module 1080P Low Light Wide Angle USB Camera Module with Microphone for Computer, 2MP 1/2.8″ CMOS IMX291 100 Degree Mini UVC USB2.0 Webcam Buy Now HD Resolution and Low Light: This camera adopts the SONY 2MP IMX291 Color COMS sensor with an 80dB wide dynamic range, can capture the minimum illumination 0.001Lux.Wide … Low Light USB Cameras , UVC USB Camera Module Arducam 1080P Low Light WDR USB Camera Module for Computer, 2MP 1/2.8” CMOS IMX291 120 Degree Wide Angle Mini UVC Webcam Board with Microphone Buy Now HD Resolution and Low Light: This camera adopts the SONY 2MP IMX291 Color COMS sensor with an 80dB wide dynamic range, can capture the minimum illumination 0.001Lux.Wide Angle: High quality 120 degree wide view angle … Low Light USB Cameras , USB Board Cameras w/ Enclosures (UVC-Compliant) Arducam 1080P Low Light WDR USB Camera Module with Metal Case and Tripod, 2MP 1/2.8″ CMOS IMX291 160 Degree Ultra Wide Angle Mini UVC Webcam Board with Microphone, 3.3ft/1m Cable for Windows Linux Mac OS Buy Now The new version of B020201 Low Light USB Cameras , USB Board Cameras w/ Enclosures (UVC-Compliant) Arducam 1080P Low Light WDR USB Camera Module with Metal Case, 2MP 1/2.8″ CMOS IMX291 160 Degree Ultra Wide Angle Mini UVC Webcam Board with Microphones Buy Now HD Resolution and Low Light: This camera adopts the SONY 2MP 1/2.8” IMX291 Color COMS sensor with an 80dB wide dynamic range, can capture the minimum illumination 0.001Lux.Ultra Wide Angle: High quality 160 degree super … Low Light USB Cameras , UVC USB Camera Module Arducam Fisheye Low Light USB Camera for Computer, 2MP 1080P IMX291 Wide Angle Mini H.264 UVC Video Camera Board with Microphone Buy Now HD and Low Light: This camera adopts the 2MP 1/2.8” IMX291 Color COMS sensor with an 80DB wide dynamic range, can capture the minimum illumination 0.001Lux.Real Fisheye: Mounted a high quality 175°(D) wide-angle … InformationContact UsPrivacy PolicyShipping & TrackingFocal Length CalculatorAbout UsDocumentationCamera for Raspberry PiJetson CamerasSPI CameraUSB Industrial CameraUVC CameraOptics & LensesContact UsTechnical SupportOrder IssuesWebsite IssuesCustomizationAny Other Issues © 2023 Arducam, All Rights Reserved Subscribe for more techs on embedded cameras, sensors, and systems 0 Your Cart Your Cart is empty!It looks like you haven't added any items to your cart yet. Browse Products CLOSE Welcome to the Arducam Forum. Here are our forum rules to comply with if you want to post a new topic:Arducam posting rulesThe posting rules aim to help you better articulate your questions and be descriptive enough to get help. Any topic that fails to comply with the posting rules will be unapproved starting from 11/11/2020.This forum is public. If you prefer a private conversation with Arducam, go to our Contact Center.If you need help with the Arducam products you’ve purchased, please include the following questions in your post and answer them to help us better understand your needs.Which seller did you purchase the product(s) from? (Is it Amazon, UCTRONICS, or other Arducam distributors?)What’s the Model number of the product(s) you’ve purchased? (If you don’t know the model number, show us the link to the product.)Which Platform are you using the product(s) on? (Is it a Raspberry Pi 3B+/4B, Arduino UNO R3, Jetson Nano B01, or another host?)Which instruction are you following? (Is it our paper instruction manual, online documentation, or video tutorial? A link will Help.)Has your product ever worked properly? (Never worked, quit working, or work intermittently)What problems are you experiencing? (pictures and error codes will help a lot)What attempts at troubleshooting have you already made?How would you like us to help you? × × Subscription to Our Newsletter ×\",\n",
       " 'smogScore': 12,\n",
       " 'colemanScore': 12,\n",
       " 'automatedReadabilityScore': 12,\n",
       " 'daleScore': 10,\n",
       " 'powersSumnerKearlScore': 16.8,\n",
       " 'forcastScore': 15.6,\n",
       " 'spacheScore': 5,\n",
       " 'gunningFogScore': 19,\n",
       " 'fleschGrade': 12,\n",
       " 'fleschScore': 0}"
      ]
     },
     "execution_count": 91,
     "metadata": {},
     "output_type": "execute_result"
    }
   ],
   "source": [
    "v.json()"
   ]
  },
  {
   "cell_type": "code",
   "execution_count": 92,
   "metadata": {},
   "outputs": [
    {
     "ename": "TypeError",
     "evalue": "expected string or bytes-like object",
     "output_type": "error",
     "traceback": [
      "\u001b[0;31m---------------------------------------------------------------------------\u001b[0m",
      "\u001b[0;31mTypeError\u001b[0m                                 Traceback (most recent call last)",
      "Cell \u001b[0;32mIn[92], line 1\u001b[0m\n\u001b[0;32m----> 1\u001b[0m v \u001b[39m=\u001b[39m re\u001b[39m.\u001b[39;49msub(\u001b[39m'\u001b[39;49m\u001b[39m’\u001b[39;49m\u001b[39m'\u001b[39;49m, \u001b[39m'\u001b[39;49m\u001b[39m\"\u001b[39;49m\u001b[39m'\u001b[39;49m, v)\n",
      "File \u001b[0;32m~/miniconda3/lib/python3.10/re.py:209\u001b[0m, in \u001b[0;36msub\u001b[0;34m(pattern, repl, string, count, flags)\u001b[0m\n\u001b[1;32m    202\u001b[0m \u001b[39mdef\u001b[39;00m \u001b[39msub\u001b[39m(pattern, repl, string, count\u001b[39m=\u001b[39m\u001b[39m0\u001b[39m, flags\u001b[39m=\u001b[39m\u001b[39m0\u001b[39m):\n\u001b[1;32m    203\u001b[0m     \u001b[39m\"\"\"Return the string obtained by replacing the leftmost\u001b[39;00m\n\u001b[1;32m    204\u001b[0m \u001b[39m    non-overlapping occurrences of the pattern in string by the\u001b[39;00m\n\u001b[1;32m    205\u001b[0m \u001b[39m    replacement repl.  repl can be either a string or a callable;\u001b[39;00m\n\u001b[1;32m    206\u001b[0m \u001b[39m    if a string, backslash escapes in it are processed.  If it is\u001b[39;00m\n\u001b[1;32m    207\u001b[0m \u001b[39m    a callable, it's passed the Match object and must return\u001b[39;00m\n\u001b[1;32m    208\u001b[0m \u001b[39m    a replacement string to be used.\"\"\"\u001b[39;00m\n\u001b[0;32m--> 209\u001b[0m     \u001b[39mreturn\u001b[39;00m _compile(pattern, flags)\u001b[39m.\u001b[39;49msub(repl, string, count)\n",
      "\u001b[0;31mTypeError\u001b[0m: expected string or bytes-like object"
     ]
    }
   ],
   "source": [
    "v = re.sub('’', '\"', v)"
   ]
  },
  {
   "cell_type": "code",
   "execution_count": null,
   "metadata": {},
   "outputs": [],
   "source": [
    "v = re.sub('[“”]', '/\"', v)"
   ]
  },
  {
   "cell_type": "code",
   "execution_count": null,
   "metadata": {},
   "outputs": [],
   "source": [
    "v"
   ]
  }
 ],
 "metadata": {
  "kernelspec": {
   "display_name": "base",
   "language": "python",
   "name": "python3"
  },
  "language_info": {
   "codemirror_mode": {
    "name": "ipython",
    "version": 3
   },
   "file_extension": ".py",
   "mimetype": "text/x-python",
   "name": "python",
   "nbconvert_exporter": "python",
   "pygments_lexer": "ipython3",
   "version": "3.10.9"
  },
  "orig_nbformat": 4
 },
 "nbformat": 4,
 "nbformat_minor": 2
}
